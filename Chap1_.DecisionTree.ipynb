{
 "cells": [
  {
   "cell_type": "markdown",
   "metadata": {},
   "source": [
    "# Chap1 决策树"
   ]
  },
  {
   "cell_type": "markdown",
   "metadata": {},
   "source": [
    "## 1.概述——sklearn中的决策树"
   ]
  },
  {
   "cell_type": "markdown",
   "metadata": {},
   "source": [
    "## 2.DecisionTreeClassifier与红酒数据"
   ]
  },
  {
   "cell_type": "code",
   "execution_count": 44,
   "metadata": {},
   "outputs": [],
   "source": [
    "from sklearn import tree\n",
    "from sklearn.datasets import load_wine \n",
    "from sklearn.model_selection import train_test_split\n",
    "\n",
    "# .datasets 中有很多著名的数据\n",
    "# train_test_split 对训练集和测试集进行分类"
   ]
  },
  {
   "cell_type": "code",
   "execution_count": 45,
   "metadata": {},
   "outputs": [],
   "source": [
    "wine = load_wine()"
   ]
  },
  {
   "cell_type": "code",
   "execution_count": 46,
   "metadata": {},
   "outputs": [
    {
     "data": {
      "text/plain": [
       "{'data': array([[1.423e+01, 1.710e+00, 2.430e+00, ..., 1.040e+00, 3.920e+00,\n",
       "         1.065e+03],\n",
       "        [1.320e+01, 1.780e+00, 2.140e+00, ..., 1.050e+00, 3.400e+00,\n",
       "         1.050e+03],\n",
       "        [1.316e+01, 2.360e+00, 2.670e+00, ..., 1.030e+00, 3.170e+00,\n",
       "         1.185e+03],\n",
       "        ...,\n",
       "        [1.327e+01, 4.280e+00, 2.260e+00, ..., 5.900e-01, 1.560e+00,\n",
       "         8.350e+02],\n",
       "        [1.317e+01, 2.590e+00, 2.370e+00, ..., 6.000e-01, 1.620e+00,\n",
       "         8.400e+02],\n",
       "        [1.413e+01, 4.100e+00, 2.740e+00, ..., 6.100e-01, 1.600e+00,\n",
       "         5.600e+02]]),\n",
       " 'target': array([0, 0, 0, 0, 0, 0, 0, 0, 0, 0, 0, 0, 0, 0, 0, 0, 0, 0, 0, 0, 0, 0,\n",
       "        0, 0, 0, 0, 0, 0, 0, 0, 0, 0, 0, 0, 0, 0, 0, 0, 0, 0, 0, 0, 0, 0,\n",
       "        0, 0, 0, 0, 0, 0, 0, 0, 0, 0, 0, 0, 0, 0, 0, 1, 1, 1, 1, 1, 1, 1,\n",
       "        1, 1, 1, 1, 1, 1, 1, 1, 1, 1, 1, 1, 1, 1, 1, 1, 1, 1, 1, 1, 1, 1,\n",
       "        1, 1, 1, 1, 1, 1, 1, 1, 1, 1, 1, 1, 1, 1, 1, 1, 1, 1, 1, 1, 1, 1,\n",
       "        1, 1, 1, 1, 1, 1, 1, 1, 1, 1, 1, 1, 1, 1, 1, 1, 1, 1, 1, 1, 2, 2,\n",
       "        2, 2, 2, 2, 2, 2, 2, 2, 2, 2, 2, 2, 2, 2, 2, 2, 2, 2, 2, 2, 2, 2,\n",
       "        2, 2, 2, 2, 2, 2, 2, 2, 2, 2, 2, 2, 2, 2, 2, 2, 2, 2, 2, 2, 2, 2,\n",
       "        2, 2]),\n",
       " 'frame': None,\n",
       " 'target_names': array(['class_0', 'class_1', 'class_2'], dtype='<U7'),\n",
       " 'DESCR': '.. _wine_dataset:\\n\\nWine recognition dataset\\n------------------------\\n\\n**Data Set Characteristics:**\\n\\n    :Number of Instances: 178 (50 in each of three classes)\\n    :Number of Attributes: 13 numeric, predictive attributes and the class\\n    :Attribute Information:\\n \\t\\t- Alcohol\\n \\t\\t- Malic acid\\n \\t\\t- Ash\\n\\t\\t- Alcalinity of ash  \\n \\t\\t- Magnesium\\n\\t\\t- Total phenols\\n \\t\\t- Flavanoids\\n \\t\\t- Nonflavanoid phenols\\n \\t\\t- Proanthocyanins\\n\\t\\t- Color intensity\\n \\t\\t- Hue\\n \\t\\t- OD280/OD315 of diluted wines\\n \\t\\t- Proline\\n\\n    - class:\\n            - class_0\\n            - class_1\\n            - class_2\\n\\t\\t\\n    :Summary Statistics:\\n    \\n    ============================= ==== ===== ======= =====\\n                                   Min   Max   Mean     SD\\n    ============================= ==== ===== ======= =====\\n    Alcohol:                      11.0  14.8    13.0   0.8\\n    Malic Acid:                   0.74  5.80    2.34  1.12\\n    Ash:                          1.36  3.23    2.36  0.27\\n    Alcalinity of Ash:            10.6  30.0    19.5   3.3\\n    Magnesium:                    70.0 162.0    99.7  14.3\\n    Total Phenols:                0.98  3.88    2.29  0.63\\n    Flavanoids:                   0.34  5.08    2.03  1.00\\n    Nonflavanoid Phenols:         0.13  0.66    0.36  0.12\\n    Proanthocyanins:              0.41  3.58    1.59  0.57\\n    Colour Intensity:              1.3  13.0     5.1   2.3\\n    Hue:                          0.48  1.71    0.96  0.23\\n    OD280/OD315 of diluted wines: 1.27  4.00    2.61  0.71\\n    Proline:                       278  1680     746   315\\n    ============================= ==== ===== ======= =====\\n\\n    :Missing Attribute Values: None\\n    :Class Distribution: class_0 (59), class_1 (71), class_2 (48)\\n    :Creator: R.A. Fisher\\n    :Donor: Michael Marshall (MARSHALL%PLU@io.arc.nasa.gov)\\n    :Date: July, 1988\\n\\nThis is a copy of UCI ML Wine recognition datasets.\\nhttps://archive.ics.uci.edu/ml/machine-learning-databases/wine/wine.data\\n\\nThe data is the results of a chemical analysis of wines grown in the same\\nregion in Italy by three different cultivators. There are thirteen different\\nmeasurements taken for different constituents found in the three types of\\nwine.\\n\\nOriginal Owners: \\n\\nForina, M. et al, PARVUS - \\nAn Extendible Package for Data Exploration, Classification and Correlation. \\nInstitute of Pharmaceutical and Food Analysis and Technologies,\\nVia Brigata Salerno, 16147 Genoa, Italy.\\n\\nCitation:\\n\\nLichman, M. (2013). UCI Machine Learning Repository\\n[https://archive.ics.uci.edu/ml]. Irvine, CA: University of California,\\nSchool of Information and Computer Science. \\n\\n.. topic:: References\\n\\n  (1) S. Aeberhard, D. Coomans and O. de Vel, \\n  Comparison of Classifiers in High Dimensional Settings, \\n  Tech. Rep. no. 92-02, (1992), Dept. of Computer Science and Dept. of  \\n  Mathematics and Statistics, James Cook University of North Queensland. \\n  (Also submitted to Technometrics). \\n\\n  The data was used with many others for comparing various \\n  classifiers. The classes are separable, though only RDA \\n  has achieved 100% correct classification. \\n  (RDA : 100%, QDA 99.4%, LDA 98.9%, 1NN 96.1% (z-transformed data)) \\n  (All results using the leave-one-out technique) \\n\\n  (2) S. Aeberhard, D. Coomans and O. de Vel, \\n  \"THE CLASSIFICATION PERFORMANCE OF RDA\" \\n  Tech. Rep. no. 92-01, (1992), Dept. of Computer Science and Dept. of \\n  Mathematics and Statistics, James Cook University of North Queensland. \\n  (Also submitted to Journal of Chemometrics).\\n',\n",
       " 'feature_names': ['alcohol',\n",
       "  'malic_acid',\n",
       "  'ash',\n",
       "  'alcalinity_of_ash',\n",
       "  'magnesium',\n",
       "  'total_phenols',\n",
       "  'flavanoids',\n",
       "  'nonflavanoid_phenols',\n",
       "  'proanthocyanins',\n",
       "  'color_intensity',\n",
       "  'hue',\n",
       "  'od280/od315_of_diluted_wines',\n",
       "  'proline']}"
      ]
     },
     "execution_count": 46,
     "metadata": {},
     "output_type": "execute_result"
    }
   ],
   "source": [
    "wine"
   ]
  },
  {
   "cell_type": "code",
   "execution_count": 47,
   "metadata": {},
   "outputs": [
    {
     "data": {
      "text/plain": [
       "(178, 13)"
      ]
     },
     "execution_count": 47,
     "metadata": {},
     "output_type": "execute_result"
    }
   ],
   "source": [
    "wine.data.shape # 获取数据大小\n",
    "\n",
    "# 12个特征 178条数据"
   ]
  },
  {
   "cell_type": "code",
   "execution_count": 48,
   "metadata": {},
   "outputs": [
    {
     "data": {
      "text/html": [
       "<div>\n",
       "<style scoped>\n",
       "    .dataframe tbody tr th:only-of-type {\n",
       "        vertical-align: middle;\n",
       "    }\n",
       "\n",
       "    .dataframe tbody tr th {\n",
       "        vertical-align: top;\n",
       "    }\n",
       "\n",
       "    .dataframe thead th {\n",
       "        text-align: right;\n",
       "    }\n",
       "</style>\n",
       "<table border=\"1\" class=\"dataframe\">\n",
       "  <thead>\n",
       "    <tr style=\"text-align: right;\">\n",
       "      <th></th>\n",
       "      <th>0</th>\n",
       "      <th>1</th>\n",
       "      <th>2</th>\n",
       "      <th>3</th>\n",
       "      <th>4</th>\n",
       "      <th>5</th>\n",
       "      <th>6</th>\n",
       "      <th>7</th>\n",
       "      <th>8</th>\n",
       "      <th>9</th>\n",
       "      <th>10</th>\n",
       "      <th>11</th>\n",
       "      <th>12</th>\n",
       "      <th>0</th>\n",
       "    </tr>\n",
       "  </thead>\n",
       "  <tbody>\n",
       "    <tr>\n",
       "      <th>0</th>\n",
       "      <td>14.23</td>\n",
       "      <td>1.71</td>\n",
       "      <td>2.43</td>\n",
       "      <td>15.6</td>\n",
       "      <td>127.0</td>\n",
       "      <td>2.80</td>\n",
       "      <td>3.06</td>\n",
       "      <td>0.28</td>\n",
       "      <td>2.29</td>\n",
       "      <td>5.64</td>\n",
       "      <td>1.04</td>\n",
       "      <td>3.92</td>\n",
       "      <td>1065.0</td>\n",
       "      <td>0</td>\n",
       "    </tr>\n",
       "    <tr>\n",
       "      <th>1</th>\n",
       "      <td>13.20</td>\n",
       "      <td>1.78</td>\n",
       "      <td>2.14</td>\n",
       "      <td>11.2</td>\n",
       "      <td>100.0</td>\n",
       "      <td>2.65</td>\n",
       "      <td>2.76</td>\n",
       "      <td>0.26</td>\n",
       "      <td>1.28</td>\n",
       "      <td>4.38</td>\n",
       "      <td>1.05</td>\n",
       "      <td>3.40</td>\n",
       "      <td>1050.0</td>\n",
       "      <td>0</td>\n",
       "    </tr>\n",
       "    <tr>\n",
       "      <th>2</th>\n",
       "      <td>13.16</td>\n",
       "      <td>2.36</td>\n",
       "      <td>2.67</td>\n",
       "      <td>18.6</td>\n",
       "      <td>101.0</td>\n",
       "      <td>2.80</td>\n",
       "      <td>3.24</td>\n",
       "      <td>0.30</td>\n",
       "      <td>2.81</td>\n",
       "      <td>5.68</td>\n",
       "      <td>1.03</td>\n",
       "      <td>3.17</td>\n",
       "      <td>1185.0</td>\n",
       "      <td>0</td>\n",
       "    </tr>\n",
       "    <tr>\n",
       "      <th>3</th>\n",
       "      <td>14.37</td>\n",
       "      <td>1.95</td>\n",
       "      <td>2.50</td>\n",
       "      <td>16.8</td>\n",
       "      <td>113.0</td>\n",
       "      <td>3.85</td>\n",
       "      <td>3.49</td>\n",
       "      <td>0.24</td>\n",
       "      <td>2.18</td>\n",
       "      <td>7.80</td>\n",
       "      <td>0.86</td>\n",
       "      <td>3.45</td>\n",
       "      <td>1480.0</td>\n",
       "      <td>0</td>\n",
       "    </tr>\n",
       "    <tr>\n",
       "      <th>4</th>\n",
       "      <td>13.24</td>\n",
       "      <td>2.59</td>\n",
       "      <td>2.87</td>\n",
       "      <td>21.0</td>\n",
       "      <td>118.0</td>\n",
       "      <td>2.80</td>\n",
       "      <td>2.69</td>\n",
       "      <td>0.39</td>\n",
       "      <td>1.82</td>\n",
       "      <td>4.32</td>\n",
       "      <td>1.04</td>\n",
       "      <td>2.93</td>\n",
       "      <td>735.0</td>\n",
       "      <td>0</td>\n",
       "    </tr>\n",
       "    <tr>\n",
       "      <th>...</th>\n",
       "      <td>...</td>\n",
       "      <td>...</td>\n",
       "      <td>...</td>\n",
       "      <td>...</td>\n",
       "      <td>...</td>\n",
       "      <td>...</td>\n",
       "      <td>...</td>\n",
       "      <td>...</td>\n",
       "      <td>...</td>\n",
       "      <td>...</td>\n",
       "      <td>...</td>\n",
       "      <td>...</td>\n",
       "      <td>...</td>\n",
       "      <td>...</td>\n",
       "    </tr>\n",
       "    <tr>\n",
       "      <th>173</th>\n",
       "      <td>13.71</td>\n",
       "      <td>5.65</td>\n",
       "      <td>2.45</td>\n",
       "      <td>20.5</td>\n",
       "      <td>95.0</td>\n",
       "      <td>1.68</td>\n",
       "      <td>0.61</td>\n",
       "      <td>0.52</td>\n",
       "      <td>1.06</td>\n",
       "      <td>7.70</td>\n",
       "      <td>0.64</td>\n",
       "      <td>1.74</td>\n",
       "      <td>740.0</td>\n",
       "      <td>2</td>\n",
       "    </tr>\n",
       "    <tr>\n",
       "      <th>174</th>\n",
       "      <td>13.40</td>\n",
       "      <td>3.91</td>\n",
       "      <td>2.48</td>\n",
       "      <td>23.0</td>\n",
       "      <td>102.0</td>\n",
       "      <td>1.80</td>\n",
       "      <td>0.75</td>\n",
       "      <td>0.43</td>\n",
       "      <td>1.41</td>\n",
       "      <td>7.30</td>\n",
       "      <td>0.70</td>\n",
       "      <td>1.56</td>\n",
       "      <td>750.0</td>\n",
       "      <td>2</td>\n",
       "    </tr>\n",
       "    <tr>\n",
       "      <th>175</th>\n",
       "      <td>13.27</td>\n",
       "      <td>4.28</td>\n",
       "      <td>2.26</td>\n",
       "      <td>20.0</td>\n",
       "      <td>120.0</td>\n",
       "      <td>1.59</td>\n",
       "      <td>0.69</td>\n",
       "      <td>0.43</td>\n",
       "      <td>1.35</td>\n",
       "      <td>10.20</td>\n",
       "      <td>0.59</td>\n",
       "      <td>1.56</td>\n",
       "      <td>835.0</td>\n",
       "      <td>2</td>\n",
       "    </tr>\n",
       "    <tr>\n",
       "      <th>176</th>\n",
       "      <td>13.17</td>\n",
       "      <td>2.59</td>\n",
       "      <td>2.37</td>\n",
       "      <td>20.0</td>\n",
       "      <td>120.0</td>\n",
       "      <td>1.65</td>\n",
       "      <td>0.68</td>\n",
       "      <td>0.53</td>\n",
       "      <td>1.46</td>\n",
       "      <td>9.30</td>\n",
       "      <td>0.60</td>\n",
       "      <td>1.62</td>\n",
       "      <td>840.0</td>\n",
       "      <td>2</td>\n",
       "    </tr>\n",
       "    <tr>\n",
       "      <th>177</th>\n",
       "      <td>14.13</td>\n",
       "      <td>4.10</td>\n",
       "      <td>2.74</td>\n",
       "      <td>24.5</td>\n",
       "      <td>96.0</td>\n",
       "      <td>2.05</td>\n",
       "      <td>0.76</td>\n",
       "      <td>0.56</td>\n",
       "      <td>1.35</td>\n",
       "      <td>9.20</td>\n",
       "      <td>0.61</td>\n",
       "      <td>1.60</td>\n",
       "      <td>560.0</td>\n",
       "      <td>2</td>\n",
       "    </tr>\n",
       "  </tbody>\n",
       "</table>\n",
       "<p>178 rows × 14 columns</p>\n",
       "</div>"
      ],
      "text/plain": [
       "        0     1     2     3      4     5     6     7     8      9     10  \\\n",
       "0    14.23  1.71  2.43  15.6  127.0  2.80  3.06  0.28  2.29   5.64  1.04   \n",
       "1    13.20  1.78  2.14  11.2  100.0  2.65  2.76  0.26  1.28   4.38  1.05   \n",
       "2    13.16  2.36  2.67  18.6  101.0  2.80  3.24  0.30  2.81   5.68  1.03   \n",
       "3    14.37  1.95  2.50  16.8  113.0  3.85  3.49  0.24  2.18   7.80  0.86   \n",
       "4    13.24  2.59  2.87  21.0  118.0  2.80  2.69  0.39  1.82   4.32  1.04   \n",
       "..     ...   ...   ...   ...    ...   ...   ...   ...   ...    ...   ...   \n",
       "173  13.71  5.65  2.45  20.5   95.0  1.68  0.61  0.52  1.06   7.70  0.64   \n",
       "174  13.40  3.91  2.48  23.0  102.0  1.80  0.75  0.43  1.41   7.30  0.70   \n",
       "175  13.27  4.28  2.26  20.0  120.0  1.59  0.69  0.43  1.35  10.20  0.59   \n",
       "176  13.17  2.59  2.37  20.0  120.0  1.65  0.68  0.53  1.46   9.30  0.60   \n",
       "177  14.13  4.10  2.74  24.5   96.0  2.05  0.76  0.56  1.35   9.20  0.61   \n",
       "\n",
       "       11      12  0   \n",
       "0    3.92  1065.0   0  \n",
       "1    3.40  1050.0   0  \n",
       "2    3.17  1185.0   0  \n",
       "3    3.45  1480.0   0  \n",
       "4    2.93   735.0   0  \n",
       "..    ...     ...  ..  \n",
       "173  1.74   740.0   2  \n",
       "174  1.56   750.0   2  \n",
       "175  1.56   835.0   2  \n",
       "176  1.62   840.0   2  \n",
       "177  1.60   560.0   2  \n",
       "\n",
       "[178 rows x 14 columns]"
      ]
     },
     "execution_count": 48,
     "metadata": {},
     "output_type": "execute_result"
    }
   ],
   "source": [
    "import pandas as pd\n",
    "pd.concat([pd.DataFrame(wine.data),pd.DataFrame(wine.target)],axis=1)\n",
    "# 在水平方向上实现数据拼接"
   ]
  },
  {
   "cell_type": "code",
   "execution_count": 49,
   "metadata": {},
   "outputs": [
    {
     "data": {
      "text/plain": [
       "['alcohol',\n",
       " 'malic_acid',\n",
       " 'ash',\n",
       " 'alcalinity_of_ash',\n",
       " 'magnesium',\n",
       " 'total_phenols',\n",
       " 'flavanoids',\n",
       " 'nonflavanoid_phenols',\n",
       " 'proanthocyanins',\n",
       " 'color_intensity',\n",
       " 'hue',\n",
       " 'od280/od315_of_diluted_wines',\n",
       " 'proline']"
      ]
     },
     "execution_count": 49,
     "metadata": {},
     "output_type": "execute_result"
    }
   ],
   "source": [
    "wine.feature_names # 查询数据集特征的名字\n",
    "\n",
    "# 便于生成决策树"
   ]
  },
  {
   "cell_type": "code",
   "execution_count": 50,
   "metadata": {},
   "outputs": [
    {
     "data": {
      "text/plain": [
       "array(['class_0', 'class_1', 'class_2'], dtype='<U7')"
      ]
     },
     "execution_count": 50,
     "metadata": {},
     "output_type": "execute_result"
    }
   ],
   "source": [
    "wine.target_names"
   ]
  },
  {
   "cell_type": "code",
   "execution_count": 51,
   "metadata": {},
   "outputs": [],
   "source": [
    "# 把数据分成 训练集和测试集\n",
    "\n",
    "Xtrain, Xtest, Ytrain, Ytest = train_test_split(wine.data,wine.target,test_size=0.3)\n",
    "\n",
    "# 注意输出的顺序 把30%的数据划分为test"
   ]
  },
  {
   "cell_type": "code",
   "execution_count": 52,
   "metadata": {},
   "outputs": [
    {
     "data": {
      "text/plain": [
       "(124, 13)"
      ]
     },
     "execution_count": 52,
     "metadata": {},
     "output_type": "execute_result"
    }
   ],
   "source": [
    "Xtrain.shape"
   ]
  },
  {
   "cell_type": "code",
   "execution_count": 53,
   "metadata": {},
   "outputs": [
    {
     "data": {
      "text/plain": [
       "array([1, 2, 2, 2, 2, 0, 2, 0, 1, 0, 1, 2, 0, 0, 1, 1, 2, 1, 1, 1, 0, 0,\n",
       "       1, 0, 2, 1, 0, 2, 0, 1, 0, 1, 0, 0, 1, 2, 1, 1, 0, 0, 2, 1, 1, 2,\n",
       "       2, 0, 2, 1, 0, 0, 2, 2, 1, 0])"
      ]
     },
     "execution_count": 53,
     "metadata": {},
     "output_type": "execute_result"
    }
   ],
   "source": [
    "Ytest"
   ]
  },
  {
   "cell_type": "markdown",
   "metadata": {},
   "source": [
    "### 2.1重要参数\n",
    "\n",
    "1. criterion\n",
    "2. random_state & splitter\n",
    "3. 剪枝参数\n",
    "4. 目标权重参数\n"
   ]
  },
  {
   "cell_type": "markdown",
   "metadata": {},
   "source": [
    "**sklearn建模三部曲**\n",
    "\n",
    "- 实例化\n",
    "- fit\n",
    "- 导入test集 得到结果\n",
    "\n",
    "```\n",
    "clf = tree.DecisionTreeClassifier(criterion='entropy')\n",
    "clf = clf.fit(Xtrain,Ytrain)\n",
    "score = clf.score(Xtest, Ytest)\n",
    "```"
   ]
  },
  {
   "cell_type": "markdown",
   "metadata": {},
   "source": [
    "#### 2.1.1 criterion\n",
    "\n",
    "不纯度\n",
    "\n",
    "- gini 默认\n",
    "- entropy 更加敏感 决策树生长更加精细 计算较慢"
   ]
  },
  {
   "cell_type": "code",
   "execution_count": 54,
   "metadata": {},
   "outputs": [],
   "source": [
    "# clf --> 分类器\n",
    "clf = tree.DecisionTreeClassifier(criterion='entropy')\n",
    "clf = clf.fit(Xtrain,Ytrain)\n",
    "score = clf.score(Xtest, Ytest)"
   ]
  },
  {
   "cell_type": "code",
   "execution_count": 55,
   "metadata": {},
   "outputs": [
    {
     "data": {
      "text/plain": [
       "0.9444444444444444"
      ]
     },
     "execution_count": 55,
     "metadata": {},
     "output_type": "execute_result"
    }
   ],
   "source": [
    "score"
   ]
  },
  {
   "cell_type": "code",
   "execution_count": 56,
   "metadata": {},
   "outputs": [
    {
     "name": "stdout",
     "output_type": "stream",
     "text": [
      "Looking in indexes: https://pypi.tuna.tsinghua.edu.cn/simple\n",
      "Requirement already satisfied: graphviz in c:\\users\\hp\\python\\python310\\lib\\site-packages (0.20.1)\n"
     ]
    },
    {
     "name": "stderr",
     "output_type": "stream",
     "text": [
      "WARNING: You are using pip version 21.3.1; however, version 22.2.2 is available.\n",
      "You should consider upgrading via the 'C:\\Users\\HP\\Python\\Python310\\python.exe -m pip install --upgrade pip' command.\n"
     ]
    }
   ],
   "source": [
    "# 画一课决策树 \n",
    "\n",
    "# 导入库\n",
    "!pip install -i https://pypi.tuna.tsinghua.edu.cn/simple --trusted-host pypi.tuna.tsinghua.edu.cn graphviz"
   ]
  },
  {
   "cell_type": "code",
   "execution_count": 57,
   "metadata": {},
   "outputs": [],
   "source": [
    "import graphviz"
   ]
  },
  {
   "cell_type": "code",
   "execution_count": 58,
   "metadata": {},
   "outputs": [
    {
     "data": {
      "image/svg+xml": "<?xml version=\"1.0\" encoding=\"UTF-8\" standalone=\"no\"?>\n<!DOCTYPE svg PUBLIC \"-//W3C//DTD SVG 1.1//EN\"\n \"http://www.w3.org/Graphics/SVG/1.1/DTD/svg11.dtd\">\n<!-- Generated by graphviz version 5.0.0 (20220707.1540)\n -->\n<!-- Title: Tree Pages: 1 -->\n<svg width=\"818pt\" height=\"552pt\"\n viewBox=\"0.00 0.00 818.00 552.00\" xmlns=\"http://www.w3.org/2000/svg\" xmlns:xlink=\"http://www.w3.org/1999/xlink\">\n<g id=\"graph0\" class=\"graph\" transform=\"scale(1 1) rotate(0) translate(4 548)\">\n<title>Tree</title>\n<polygon fill=\"white\" stroke=\"transparent\" points=\"-4,4 -4,-548 814,-548 814,4 -4,4\"/>\n<!-- 0 -->\n<g id=\"node1\" class=\"node\">\n<title>0</title>\n<path fill=\"#e3fbed\" stroke=\"black\" d=\"M334,-544C334,-544 221,-544 221,-544 215,-544 209,-538 209,-532 209,-532 209,-473 209,-473 209,-467 215,-461 221,-461 221,-461 334,-461 334,-461 340,-461 346,-467 346,-473 346,-473 346,-532 346,-532 346,-538 340,-544 334,-544\"/>\n<text text-anchor=\"middle\" x=\"277.5\" y=\"-528.8\" font-family=\"Helvetica,sans-Serif\" font-size=\"14.00\">类黄酮 &lt;= 1.575</text>\n<text text-anchor=\"middle\" x=\"277.5\" y=\"-513.8\" font-family=\"Helvetica,sans-Serif\" font-size=\"14.00\">entropy = 1.557</text>\n<text text-anchor=\"middle\" x=\"277.5\" y=\"-498.8\" font-family=\"Helvetica,sans-Serif\" font-size=\"14.00\">samples = 124</text>\n<text text-anchor=\"middle\" x=\"277.5\" y=\"-483.8\" font-family=\"Helvetica,sans-Serif\" font-size=\"14.00\">value = [40, 52, 32]</text>\n<text text-anchor=\"middle\" x=\"277.5\" y=\"-468.8\" font-family=\"Helvetica,sans-Serif\" font-size=\"14.00\">class = 雪梨</text>\n</g>\n<!-- 1 -->\n<g id=\"node2\" class=\"node\">\n<title>1</title>\n<path fill=\"#a877ed\" stroke=\"black\" d=\"M259.5,-425C259.5,-425 143.5,-425 143.5,-425 137.5,-425 131.5,-419 131.5,-413 131.5,-413 131.5,-354 131.5,-354 131.5,-348 137.5,-342 143.5,-342 143.5,-342 259.5,-342 259.5,-342 265.5,-342 271.5,-348 271.5,-354 271.5,-354 271.5,-413 271.5,-413 271.5,-419 265.5,-425 259.5,-425\"/>\n<text text-anchor=\"middle\" x=\"201.5\" y=\"-409.8\" font-family=\"Helvetica,sans-Serif\" font-size=\"14.00\">颜色强度 &lt;= 3.825</text>\n<text text-anchor=\"middle\" x=\"201.5\" y=\"-394.8\" font-family=\"Helvetica,sans-Serif\" font-size=\"14.00\">entropy = 0.792</text>\n<text text-anchor=\"middle\" x=\"201.5\" y=\"-379.8\" font-family=\"Helvetica,sans-Serif\" font-size=\"14.00\">samples = 42</text>\n<text text-anchor=\"middle\" x=\"201.5\" y=\"-364.8\" font-family=\"Helvetica,sans-Serif\" font-size=\"14.00\">value = [0, 10, 32]</text>\n<text text-anchor=\"middle\" x=\"201.5\" y=\"-349.8\" font-family=\"Helvetica,sans-Serif\" font-size=\"14.00\">class = 贝尔摩德</text>\n</g>\n<!-- 0&#45;&gt;1 -->\n<g id=\"edge1\" class=\"edge\">\n<title>0&#45;&gt;1</title>\n<path fill=\"none\" stroke=\"black\" d=\"M251.13,-460.91C245.41,-452.1 239.31,-442.7 233.4,-433.61\"/>\n<polygon fill=\"black\" stroke=\"black\" points=\"236.2,-431.5 227.82,-425.02 230.33,-435.31 236.2,-431.5\"/>\n<text text-anchor=\"middle\" x=\"222.63\" y=\"-445.78\" font-family=\"Helvetica,sans-Serif\" font-size=\"14.00\">True</text>\n</g>\n<!-- 6 -->\n<g id=\"node7\" class=\"node\">\n<title>6</title>\n<path fill=\"#f6fef9\" stroke=\"black\" d=\"M461,-425C461,-425 356,-425 356,-425 350,-425 344,-419 344,-413 344,-413 344,-354 344,-354 344,-348 350,-342 356,-342 356,-342 461,-342 461,-342 467,-342 473,-348 473,-354 473,-354 473,-413 473,-413 473,-419 467,-425 461,-425\"/>\n<text text-anchor=\"middle\" x=\"408.5\" y=\"-409.8\" font-family=\"Helvetica,sans-Serif\" font-size=\"14.00\">脯氨酸 &lt;= 720.0</text>\n<text text-anchor=\"middle\" x=\"408.5\" y=\"-394.8\" font-family=\"Helvetica,sans-Serif\" font-size=\"14.00\">entropy = 1.0</text>\n<text text-anchor=\"middle\" x=\"408.5\" y=\"-379.8\" font-family=\"Helvetica,sans-Serif\" font-size=\"14.00\">samples = 82</text>\n<text text-anchor=\"middle\" x=\"408.5\" y=\"-364.8\" font-family=\"Helvetica,sans-Serif\" font-size=\"14.00\">value = [40, 42, 0]</text>\n<text text-anchor=\"middle\" x=\"408.5\" y=\"-349.8\" font-family=\"Helvetica,sans-Serif\" font-size=\"14.00\">class = 雪梨</text>\n</g>\n<!-- 0&#45;&gt;6 -->\n<g id=\"edge6\" class=\"edge\">\n<title>0&#45;&gt;6</title>\n<path fill=\"none\" stroke=\"black\" d=\"M322.95,-460.91C333.42,-451.56 344.64,-441.54 355.4,-431.93\"/>\n<polygon fill=\"black\" stroke=\"black\" points=\"358,-434.29 363.13,-425.02 353.34,-429.07 358,-434.29\"/>\n<text text-anchor=\"middle\" x=\"361.72\" y=\"-446.28\" font-family=\"Helvetica,sans-Serif\" font-size=\"14.00\">False</text>\n</g>\n<!-- 2 -->\n<g id=\"node3\" class=\"node\">\n<title>2</title>\n<path fill=\"#39e581\" stroke=\"black\" d=\"M101,-298.5C101,-298.5 12,-298.5 12,-298.5 6,-298.5 0,-292.5 0,-286.5 0,-286.5 0,-242.5 0,-242.5 0,-236.5 6,-230.5 12,-230.5 12,-230.5 101,-230.5 101,-230.5 107,-230.5 113,-236.5 113,-242.5 113,-242.5 113,-286.5 113,-286.5 113,-292.5 107,-298.5 101,-298.5\"/>\n<text text-anchor=\"middle\" x=\"56.5\" y=\"-283.3\" font-family=\"Helvetica,sans-Serif\" font-size=\"14.00\">entropy = 0.0</text>\n<text text-anchor=\"middle\" x=\"56.5\" y=\"-268.3\" font-family=\"Helvetica,sans-Serif\" font-size=\"14.00\">samples = 9</text>\n<text text-anchor=\"middle\" x=\"56.5\" y=\"-253.3\" font-family=\"Helvetica,sans-Serif\" font-size=\"14.00\">value = [0, 9, 0]</text>\n<text text-anchor=\"middle\" x=\"56.5\" y=\"-238.3\" font-family=\"Helvetica,sans-Serif\" font-size=\"14.00\">class = 雪梨</text>\n</g>\n<!-- 1&#45;&gt;2 -->\n<g id=\"edge2\" class=\"edge\">\n<title>1&#45;&gt;2</title>\n<path fill=\"none\" stroke=\"black\" d=\"M151.19,-341.91C136.42,-329.99 120.29,-316.98 105.6,-305.12\"/>\n<polygon fill=\"black\" stroke=\"black\" points=\"107.58,-302.22 97.6,-298.67 103.19,-307.67 107.58,-302.22\"/>\n</g>\n<!-- 3 -->\n<g id=\"node4\" class=\"node\">\n<title>3</title>\n<path fill=\"#853fe6\" stroke=\"black\" d=\"M259.5,-306C259.5,-306 143.5,-306 143.5,-306 137.5,-306 131.5,-300 131.5,-294 131.5,-294 131.5,-235 131.5,-235 131.5,-229 137.5,-223 143.5,-223 143.5,-223 259.5,-223 259.5,-223 265.5,-223 271.5,-229 271.5,-235 271.5,-235 271.5,-294 271.5,-294 271.5,-300 265.5,-306 259.5,-306\"/>\n<text text-anchor=\"middle\" x=\"201.5\" y=\"-290.8\" font-family=\"Helvetica,sans-Serif\" font-size=\"14.00\">灰的碱性 &lt;= 17.15</text>\n<text text-anchor=\"middle\" x=\"201.5\" y=\"-275.8\" font-family=\"Helvetica,sans-Serif\" font-size=\"14.00\">entropy = 0.196</text>\n<text text-anchor=\"middle\" x=\"201.5\" y=\"-260.8\" font-family=\"Helvetica,sans-Serif\" font-size=\"14.00\">samples = 33</text>\n<text text-anchor=\"middle\" x=\"201.5\" y=\"-245.8\" font-family=\"Helvetica,sans-Serif\" font-size=\"14.00\">value = [0, 1, 32]</text>\n<text text-anchor=\"middle\" x=\"201.5\" y=\"-230.8\" font-family=\"Helvetica,sans-Serif\" font-size=\"14.00\">class = 贝尔摩德</text>\n</g>\n<!-- 1&#45;&gt;3 -->\n<g id=\"edge3\" class=\"edge\">\n<title>1&#45;&gt;3</title>\n<path fill=\"none\" stroke=\"black\" d=\"M201.5,-341.91C201.5,-333.65 201.5,-324.86 201.5,-316.3\"/>\n<polygon fill=\"black\" stroke=\"black\" points=\"205,-316.02 201.5,-306.02 198,-316.02 205,-316.02\"/>\n</g>\n<!-- 4 -->\n<g id=\"node5\" class=\"node\">\n<title>4</title>\n<path fill=\"#39e581\" stroke=\"black\" d=\"M107,-179.5C107,-179.5 18,-179.5 18,-179.5 12,-179.5 6,-173.5 6,-167.5 6,-167.5 6,-123.5 6,-123.5 6,-117.5 12,-111.5 18,-111.5 18,-111.5 107,-111.5 107,-111.5 113,-111.5 119,-117.5 119,-123.5 119,-123.5 119,-167.5 119,-167.5 119,-173.5 113,-179.5 107,-179.5\"/>\n<text text-anchor=\"middle\" x=\"62.5\" y=\"-164.3\" font-family=\"Helvetica,sans-Serif\" font-size=\"14.00\">entropy = 0.0</text>\n<text text-anchor=\"middle\" x=\"62.5\" y=\"-149.3\" font-family=\"Helvetica,sans-Serif\" font-size=\"14.00\">samples = 1</text>\n<text text-anchor=\"middle\" x=\"62.5\" y=\"-134.3\" font-family=\"Helvetica,sans-Serif\" font-size=\"14.00\">value = [0, 1, 0]</text>\n<text text-anchor=\"middle\" x=\"62.5\" y=\"-119.3\" font-family=\"Helvetica,sans-Serif\" font-size=\"14.00\">class = 雪梨</text>\n</g>\n<!-- 3&#45;&gt;4 -->\n<g id=\"edge4\" class=\"edge\">\n<title>3&#45;&gt;4</title>\n<path fill=\"none\" stroke=\"black\" d=\"M153.27,-222.91C139.12,-210.99 123.65,-197.98 109.57,-186.12\"/>\n<polygon fill=\"black\" stroke=\"black\" points=\"111.81,-183.43 101.9,-179.67 107.3,-188.78 111.81,-183.43\"/>\n</g>\n<!-- 5 -->\n<g id=\"node6\" class=\"node\">\n<title>5</title>\n<path fill=\"#8139e5\" stroke=\"black\" d=\"M253.5,-179.5C253.5,-179.5 149.5,-179.5 149.5,-179.5 143.5,-179.5 137.5,-173.5 137.5,-167.5 137.5,-167.5 137.5,-123.5 137.5,-123.5 137.5,-117.5 143.5,-111.5 149.5,-111.5 149.5,-111.5 253.5,-111.5 253.5,-111.5 259.5,-111.5 265.5,-117.5 265.5,-123.5 265.5,-123.5 265.5,-167.5 265.5,-167.5 265.5,-173.5 259.5,-179.5 253.5,-179.5\"/>\n<text text-anchor=\"middle\" x=\"201.5\" y=\"-164.3\" font-family=\"Helvetica,sans-Serif\" font-size=\"14.00\">entropy = 0.0</text>\n<text text-anchor=\"middle\" x=\"201.5\" y=\"-149.3\" font-family=\"Helvetica,sans-Serif\" font-size=\"14.00\">samples = 32</text>\n<text text-anchor=\"middle\" x=\"201.5\" y=\"-134.3\" font-family=\"Helvetica,sans-Serif\" font-size=\"14.00\">value = [0, 0, 32]</text>\n<text text-anchor=\"middle\" x=\"201.5\" y=\"-119.3\" font-family=\"Helvetica,sans-Serif\" font-size=\"14.00\">class = 贝尔摩德</text>\n</g>\n<!-- 3&#45;&gt;5 -->\n<g id=\"edge5\" class=\"edge\">\n<title>3&#45;&gt;5</title>\n<path fill=\"none\" stroke=\"black\" d=\"M201.5,-222.91C201.5,-212.2 201.5,-200.62 201.5,-189.78\"/>\n<polygon fill=\"black\" stroke=\"black\" points=\"205,-189.67 201.5,-179.67 198,-189.67 205,-189.67\"/>\n</g>\n<!-- 7 -->\n<g id=\"node8\" class=\"node\">\n<title>7</title>\n<path fill=\"#3ee684\" stroke=\"black\" d=\"M459,-306C459,-306 358,-306 358,-306 352,-306 346,-300 346,-294 346,-294 346,-235 346,-235 346,-229 352,-223 358,-223 358,-223 459,-223 459,-223 465,-223 471,-229 471,-235 471,-235 471,-294 471,-294 471,-300 465,-306 459,-306\"/>\n<text text-anchor=\"middle\" x=\"408.5\" y=\"-290.8\" font-family=\"Helvetica,sans-Serif\" font-size=\"14.00\">脯氨酸 &lt;= 679.0</text>\n<text text-anchor=\"middle\" x=\"408.5\" y=\"-275.8\" font-family=\"Helvetica,sans-Serif\" font-size=\"14.00\">entropy = 0.165</text>\n<text text-anchor=\"middle\" x=\"408.5\" y=\"-260.8\" font-family=\"Helvetica,sans-Serif\" font-size=\"14.00\">samples = 41</text>\n<text text-anchor=\"middle\" x=\"408.5\" y=\"-245.8\" font-family=\"Helvetica,sans-Serif\" font-size=\"14.00\">value = [1, 40, 0]</text>\n<text text-anchor=\"middle\" x=\"408.5\" y=\"-230.8\" font-family=\"Helvetica,sans-Serif\" font-size=\"14.00\">class = 雪梨</text>\n</g>\n<!-- 6&#45;&gt;7 -->\n<g id=\"edge7\" class=\"edge\">\n<title>6&#45;&gt;7</title>\n<path fill=\"none\" stroke=\"black\" d=\"M408.5,-341.91C408.5,-333.65 408.5,-324.86 408.5,-316.3\"/>\n<polygon fill=\"black\" stroke=\"black\" points=\"412,-316.02 408.5,-306.02 405,-316.02 412,-316.02\"/>\n</g>\n<!-- 12 -->\n<g id=\"node13\" class=\"node\">\n<title>12</title>\n<path fill=\"#e68743\" stroke=\"black\" d=\"M672.5,-306C672.5,-306 556.5,-306 556.5,-306 550.5,-306 544.5,-300 544.5,-294 544.5,-294 544.5,-235 544.5,-235 544.5,-229 550.5,-223 556.5,-223 556.5,-223 672.5,-223 672.5,-223 678.5,-223 684.5,-229 684.5,-235 684.5,-235 684.5,-294 684.5,-294 684.5,-300 678.5,-306 672.5,-306\"/>\n<text text-anchor=\"middle\" x=\"614.5\" y=\"-290.8\" font-family=\"Helvetica,sans-Serif\" font-size=\"14.00\">颜色强度 &lt;= 3.365</text>\n<text text-anchor=\"middle\" x=\"614.5\" y=\"-275.8\" font-family=\"Helvetica,sans-Serif\" font-size=\"14.00\">entropy = 0.281</text>\n<text text-anchor=\"middle\" x=\"614.5\" y=\"-260.8\" font-family=\"Helvetica,sans-Serif\" font-size=\"14.00\">samples = 41</text>\n<text text-anchor=\"middle\" x=\"614.5\" y=\"-245.8\" font-family=\"Helvetica,sans-Serif\" font-size=\"14.00\">value = [39, 2, 0]</text>\n<text text-anchor=\"middle\" x=\"614.5\" y=\"-230.8\" font-family=\"Helvetica,sans-Serif\" font-size=\"14.00\">class = 琴酒</text>\n</g>\n<!-- 6&#45;&gt;12 -->\n<g id=\"edge12\" class=\"edge\">\n<title>6&#45;&gt;12</title>\n<path fill=\"none\" stroke=\"black\" d=\"M473.11,-345.8C492.94,-334.54 514.97,-322.03 535.64,-310.29\"/>\n<polygon fill=\"black\" stroke=\"black\" points=\"537.43,-313.3 544.4,-305.31 533.97,-307.21 537.43,-313.3\"/>\n</g>\n<!-- 8 -->\n<g id=\"node9\" class=\"node\">\n<title>8</title>\n<path fill=\"#39e581\" stroke=\"black\" d=\"M393,-179.5C393,-179.5 296,-179.5 296,-179.5 290,-179.5 284,-173.5 284,-167.5 284,-167.5 284,-123.5 284,-123.5 284,-117.5 290,-111.5 296,-111.5 296,-111.5 393,-111.5 393,-111.5 399,-111.5 405,-117.5 405,-123.5 405,-123.5 405,-167.5 405,-167.5 405,-173.5 399,-179.5 393,-179.5\"/>\n<text text-anchor=\"middle\" x=\"344.5\" y=\"-164.3\" font-family=\"Helvetica,sans-Serif\" font-size=\"14.00\">entropy = 0.0</text>\n<text text-anchor=\"middle\" x=\"344.5\" y=\"-149.3\" font-family=\"Helvetica,sans-Serif\" font-size=\"14.00\">samples = 38</text>\n<text text-anchor=\"middle\" x=\"344.5\" y=\"-134.3\" font-family=\"Helvetica,sans-Serif\" font-size=\"14.00\">value = [0, 38, 0]</text>\n<text text-anchor=\"middle\" x=\"344.5\" y=\"-119.3\" font-family=\"Helvetica,sans-Serif\" font-size=\"14.00\">class = 雪梨</text>\n</g>\n<!-- 7&#45;&gt;8 -->\n<g id=\"edge8\" class=\"edge\">\n<title>7&#45;&gt;8</title>\n<path fill=\"none\" stroke=\"black\" d=\"M386.3,-222.91C380.26,-211.87 373.71,-199.9 367.62,-188.77\"/>\n<polygon fill=\"black\" stroke=\"black\" points=\"370.51,-186.76 362.64,-179.67 364.37,-190.12 370.51,-186.76\"/>\n</g>\n<!-- 9 -->\n<g id=\"node10\" class=\"node\">\n<title>9</title>\n<path fill=\"#9cf2c0\" stroke=\"black\" d=\"M527.5,-187C527.5,-187 435.5,-187 435.5,-187 429.5,-187 423.5,-181 423.5,-175 423.5,-175 423.5,-116 423.5,-116 423.5,-110 429.5,-104 435.5,-104 435.5,-104 527.5,-104 527.5,-104 533.5,-104 539.5,-110 539.5,-116 539.5,-116 539.5,-175 539.5,-175 539.5,-181 533.5,-187 527.5,-187\"/>\n<text text-anchor=\"middle\" x=\"481.5\" y=\"-171.8\" font-family=\"Helvetica,sans-Serif\" font-size=\"14.00\">灰 &lt;= 2.375</text>\n<text text-anchor=\"middle\" x=\"481.5\" y=\"-156.8\" font-family=\"Helvetica,sans-Serif\" font-size=\"14.00\">entropy = 0.918</text>\n<text text-anchor=\"middle\" x=\"481.5\" y=\"-141.8\" font-family=\"Helvetica,sans-Serif\" font-size=\"14.00\">samples = 3</text>\n<text text-anchor=\"middle\" x=\"481.5\" y=\"-126.8\" font-family=\"Helvetica,sans-Serif\" font-size=\"14.00\">value = [1, 2, 0]</text>\n<text text-anchor=\"middle\" x=\"481.5\" y=\"-111.8\" font-family=\"Helvetica,sans-Serif\" font-size=\"14.00\">class = 雪梨</text>\n</g>\n<!-- 7&#45;&gt;9 -->\n<g id=\"edge9\" class=\"edge\">\n<title>7&#45;&gt;9</title>\n<path fill=\"none\" stroke=\"black\" d=\"M433.83,-222.91C439.32,-214.1 445.19,-204.7 450.86,-195.61\"/>\n<polygon fill=\"black\" stroke=\"black\" points=\"453.89,-197.36 456.22,-187.02 447.95,-193.65 453.89,-197.36\"/>\n</g>\n<!-- 10 -->\n<g id=\"node11\" class=\"node\">\n<title>10</title>\n<path fill=\"#e58139\" stroke=\"black\" d=\"M461,-68C461,-68 372,-68 372,-68 366,-68 360,-62 360,-56 360,-56 360,-12 360,-12 360,-6 366,0 372,0 372,0 461,0 461,0 467,0 473,-6 473,-12 473,-12 473,-56 473,-56 473,-62 467,-68 461,-68\"/>\n<text text-anchor=\"middle\" x=\"416.5\" y=\"-52.8\" font-family=\"Helvetica,sans-Serif\" font-size=\"14.00\">entropy = 0.0</text>\n<text text-anchor=\"middle\" x=\"416.5\" y=\"-37.8\" font-family=\"Helvetica,sans-Serif\" font-size=\"14.00\">samples = 1</text>\n<text text-anchor=\"middle\" x=\"416.5\" y=\"-22.8\" font-family=\"Helvetica,sans-Serif\" font-size=\"14.00\">value = [1, 0, 0]</text>\n<text text-anchor=\"middle\" x=\"416.5\" y=\"-7.8\" font-family=\"Helvetica,sans-Serif\" font-size=\"14.00\">class = 琴酒</text>\n</g>\n<!-- 9&#45;&gt;10 -->\n<g id=\"edge10\" class=\"edge\">\n<title>9&#45;&gt;10</title>\n<path fill=\"none\" stroke=\"black\" d=\"M457.3,-103.73C452.1,-94.97 446.6,-85.7 441.38,-76.91\"/>\n<polygon fill=\"black\" stroke=\"black\" points=\"444.38,-75.11 436.27,-68.3 438.36,-78.69 444.38,-75.11\"/>\n</g>\n<!-- 11 -->\n<g id=\"node12\" class=\"node\">\n<title>11</title>\n<path fill=\"#39e581\" stroke=\"black\" d=\"M592,-68C592,-68 503,-68 503,-68 497,-68 491,-62 491,-56 491,-56 491,-12 491,-12 491,-6 497,0 503,0 503,0 592,0 592,0 598,0 604,-6 604,-12 604,-12 604,-56 604,-56 604,-62 598,-68 592,-68\"/>\n<text text-anchor=\"middle\" x=\"547.5\" y=\"-52.8\" font-family=\"Helvetica,sans-Serif\" font-size=\"14.00\">entropy = 0.0</text>\n<text text-anchor=\"middle\" x=\"547.5\" y=\"-37.8\" font-family=\"Helvetica,sans-Serif\" font-size=\"14.00\">samples = 2</text>\n<text text-anchor=\"middle\" x=\"547.5\" y=\"-22.8\" font-family=\"Helvetica,sans-Serif\" font-size=\"14.00\">value = [0, 2, 0]</text>\n<text text-anchor=\"middle\" x=\"547.5\" y=\"-7.8\" font-family=\"Helvetica,sans-Serif\" font-size=\"14.00\">class = 雪梨</text>\n</g>\n<!-- 9&#45;&gt;11 -->\n<g id=\"edge11\" class=\"edge\">\n<title>9&#45;&gt;11</title>\n<path fill=\"none\" stroke=\"black\" d=\"M506.08,-103.73C511.35,-94.97 516.94,-85.7 522.24,-76.91\"/>\n<polygon fill=\"black\" stroke=\"black\" points=\"525.26,-78.67 527.43,-68.3 519.27,-75.06 525.26,-78.67\"/>\n</g>\n<!-- 13 -->\n<g id=\"node14\" class=\"node\">\n<title>13</title>\n<path fill=\"#39e581\" stroke=\"black\" d=\"M659,-179.5C659,-179.5 570,-179.5 570,-179.5 564,-179.5 558,-173.5 558,-167.5 558,-167.5 558,-123.5 558,-123.5 558,-117.5 564,-111.5 570,-111.5 570,-111.5 659,-111.5 659,-111.5 665,-111.5 671,-117.5 671,-123.5 671,-123.5 671,-167.5 671,-167.5 671,-173.5 665,-179.5 659,-179.5\"/>\n<text text-anchor=\"middle\" x=\"614.5\" y=\"-164.3\" font-family=\"Helvetica,sans-Serif\" font-size=\"14.00\">entropy = 0.0</text>\n<text text-anchor=\"middle\" x=\"614.5\" y=\"-149.3\" font-family=\"Helvetica,sans-Serif\" font-size=\"14.00\">samples = 2</text>\n<text text-anchor=\"middle\" x=\"614.5\" y=\"-134.3\" font-family=\"Helvetica,sans-Serif\" font-size=\"14.00\">value = [0, 2, 0]</text>\n<text text-anchor=\"middle\" x=\"614.5\" y=\"-119.3\" font-family=\"Helvetica,sans-Serif\" font-size=\"14.00\">class = 雪梨</text>\n</g>\n<!-- 12&#45;&gt;13 -->\n<g id=\"edge13\" class=\"edge\">\n<title>12&#45;&gt;13</title>\n<path fill=\"none\" stroke=\"black\" d=\"M614.5,-222.91C614.5,-212.2 614.5,-200.62 614.5,-189.78\"/>\n<polygon fill=\"black\" stroke=\"black\" points=\"618,-189.67 614.5,-179.67 611,-189.67 618,-189.67\"/>\n</g>\n<!-- 14 -->\n<g id=\"node15\" class=\"node\">\n<title>14</title>\n<path fill=\"#e58139\" stroke=\"black\" d=\"M798,-179.5C798,-179.5 701,-179.5 701,-179.5 695,-179.5 689,-173.5 689,-167.5 689,-167.5 689,-123.5 689,-123.5 689,-117.5 695,-111.5 701,-111.5 701,-111.5 798,-111.5 798,-111.5 804,-111.5 810,-117.5 810,-123.5 810,-123.5 810,-167.5 810,-167.5 810,-173.5 804,-179.5 798,-179.5\"/>\n<text text-anchor=\"middle\" x=\"749.5\" y=\"-164.3\" font-family=\"Helvetica,sans-Serif\" font-size=\"14.00\">entropy = 0.0</text>\n<text text-anchor=\"middle\" x=\"749.5\" y=\"-149.3\" font-family=\"Helvetica,sans-Serif\" font-size=\"14.00\">samples = 39</text>\n<text text-anchor=\"middle\" x=\"749.5\" y=\"-134.3\" font-family=\"Helvetica,sans-Serif\" font-size=\"14.00\">value = [39, 0, 0]</text>\n<text text-anchor=\"middle\" x=\"749.5\" y=\"-119.3\" font-family=\"Helvetica,sans-Serif\" font-size=\"14.00\">class = 琴酒</text>\n</g>\n<!-- 12&#45;&gt;14 -->\n<g id=\"edge14\" class=\"edge\">\n<title>12&#45;&gt;14</title>\n<path fill=\"none\" stroke=\"black\" d=\"M661.34,-222.91C674.96,-211.1 689.83,-198.22 703.4,-186.45\"/>\n<polygon fill=\"black\" stroke=\"black\" points=\"705.97,-188.86 711.23,-179.67 701.38,-183.57 705.97,-188.86\"/>\n</g>\n</g>\n</svg>\n",
      "text/plain": [
       "<graphviz.sources.Source at 0x163733fb430>"
      ]
     },
     "execution_count": 58,
     "metadata": {},
     "output_type": "execute_result"
    }
   ],
   "source": [
    "feature_name = ['酒精','苹果酸','灰','灰的碱性','镁','总酚','类黄酮','非黄烷类酚类','花青素','颜色强度','色调','od280/od315稀释葡萄酒','脯氨酸']\n",
    "\n",
    "dot_data = tree.export_graphviz(clf,  # 已经训练好的模型\n",
    "                                feature_names = feature_name,  # 特征的名字\n",
    "                                class_names=['琴酒','雪梨','贝尔摩德'],\n",
    "                                filled=True,  # 是否填充颜色 颜色越深 不纯度越高 不同种类的颜色不同\n",
    "                                rounded=True  #  方框的性质 \n",
    ")\n",
    "\n",
    "# 逗号 为什么要卸载参数的前面\n",
    "# 便于注释最后一行的\n",
    "\n",
    "graph = graphviz.Source(dot_data)\n",
    "graph"
   ]
  },
  {
   "cell_type": "markdown",
   "metadata": {},
   "source": [
    "决策树中没有用到全部的特征"
   ]
  },
  {
   "cell_type": "code",
   "execution_count": 59,
   "metadata": {},
   "outputs": [
    {
     "data": {
      "text/plain": [
       "array([0.        , 0.        , 0.01427252, 0.03349391, 0.        ,\n",
       "       0.        , 0.40305332, 0.        , 0.        , 0.1985386 ,\n",
       "       0.        , 0.        , 0.35064165])"
      ]
     },
     "execution_count": 59,
     "metadata": {},
     "output_type": "execute_result"
    }
   ],
   "source": [
    "clf.feature_importances_\n",
    "\n",
    "# 13个特征的重要性"
   ]
  },
  {
   "cell_type": "code",
   "execution_count": 1,
   "metadata": {},
   "outputs": [
    {
     "ename": "NameError",
     "evalue": "name 'feature_name' is not defined",
     "output_type": "error",
     "traceback": [
      "\u001b[1;31m---------------------------------------------------------------------------\u001b[0m",
      "\u001b[1;31mNameError\u001b[0m                                 Traceback (most recent call last)",
      "\u001b[1;32m~\\AppData\\Local\\Temp\\ipykernel_10228\\3809597915.py\u001b[0m in \u001b[0;36m<module>\u001b[1;34m\u001b[0m\n\u001b[1;32m----> 1\u001b[1;33m \u001b[1;33m[\u001b[0m\u001b[1;33m*\u001b[0m\u001b[0mzip\u001b[0m\u001b[1;33m(\u001b[0m\u001b[0mfeature_name\u001b[0m\u001b[1;33m,\u001b[0m\u001b[0mclf\u001b[0m\u001b[1;33m.\u001b[0m\u001b[0mfeature_importances_\u001b[0m\u001b[1;33m)\u001b[0m\u001b[1;33m]\u001b[0m\u001b[1;33m\u001b[0m\u001b[1;33m\u001b[0m\u001b[0m\n\u001b[0m\u001b[0;32m      2\u001b[0m \u001b[1;33m\u001b[0m\u001b[0m\n\u001b[0;32m      3\u001b[0m \u001b[1;31m# 利用zip 形成元组 ---> 整体是一个list\u001b[0m\u001b[1;33m\u001b[0m\u001b[1;33m\u001b[0m\u001b[0m\n\u001b[0;32m      4\u001b[0m \u001b[1;31m# 脯氨酸', 0.49400186540086166 的重要性高 ---> 根节点\u001b[0m\u001b[1;33m\u001b[0m\u001b[1;33m\u001b[0m\u001b[0m\n",
      "\u001b[1;31mNameError\u001b[0m: name 'feature_name' is not defined"
     ]
    }
   ],
   "source": [
    "[*zip(feature_name,clf.feature_importances_)]\n",
    "\n",
    "# 利用zip 形成元组 ---> 整体是一个list\n",
    "# 脯氨酸', 0.49400186540086166 的重要性高 ---> 根节点"
   ]
  },
  {
   "cell_type": "markdown",
   "metadata": {},
   "source": [
    "#### 2.1.2 random_state & splitter\n",
    "\n",
    "- `random_state`用来设置分枝中的随机模式的参数，默认None，在高维度时随机性会表现更明显，低维度的数据\n",
    "（比如鸢尾花数据集），随机性几乎不会显现。输入任意整数，会一直长出同一棵树，让模型稳定下来。\n",
    "- `splitter`也是用来控制决策树中的随机选项的，有两种输入值，输入”best\"，决策树在分枝时虽然随机，但是还是会\n",
    "优先选择更重要的特征进行分枝（重要性可以通过属性feature_importances_查看），输入“random\"，决策树在\n",
    "分枝时会更加随机，\n",
    "\n",
    "选择分数更高的方法即可\n",
    "\n",
    " 建立多个决策树（随机选取特征） ---> 选取最优的"
   ]
  },
  {
   "cell_type": "code",
   "execution_count": 64,
   "metadata": {},
   "outputs": [
    {
     "data": {
      "text/plain": [
       "0.9814814814814815"
      ]
     },
     "execution_count": 64,
     "metadata": {},
     "output_type": "execute_result"
    }
   ],
   "source": [
    "\"\"\"\n",
    "random_state 设置分支中的随机模型的参数 默认为None\n",
    "决策树具有随机性 但是低维度的数据中难以体现随机性\n",
    "\"\"\"\n",
    "clf = tree.DecisionTreeClassifier(criterion='entropy',random_state=30)\n",
    "clf.fit(Xtrain,Ytrain)\n",
    "score = clf.score(Xtest,Ytest)  # 返回预测的准确性\n",
    "score"
   ]
  },
  {
   "cell_type": "code",
   "execution_count": 67,
   "metadata": {},
   "outputs": [
    {
     "data": {
      "text/plain": [
       "0.8148148148148148"
      ]
     },
     "execution_count": 67,
     "metadata": {},
     "output_type": "execute_result"
    }
   ],
   "source": [
    "clf = tree.DecisionTreeClassifier(criterion='entropy',random_state=30,splitter=\"random\")\n",
    "clf.fit(Xtrain,Ytrain)\n",
    "score = clf.score(Xtest,Ytest) \n",
    "score"
   ]
  },
  {
   "cell_type": "code",
   "execution_count": 69,
   "metadata": {},
   "outputs": [
    {
     "data": {
      "image/svg+xml": "<?xml version=\"1.0\" encoding=\"UTF-8\" standalone=\"no\"?>\n<!DOCTYPE svg PUBLIC \"-//W3C//DTD SVG 1.1//EN\"\n \"http://www.w3.org/Graphics/SVG/1.1/DTD/svg11.dtd\">\n<!-- Generated by graphviz version 5.0.0 (20220707.1540)\n -->\n<!-- Title: Tree Pages: 1 -->\n<svg width=\"1020pt\" height=\"1028pt\"\n viewBox=\"0.00 0.00 1019.50 1028.00\" xmlns=\"http://www.w3.org/2000/svg\" xmlns:xlink=\"http://www.w3.org/1999/xlink\">\n<g id=\"graph0\" class=\"graph\" transform=\"scale(1 1) rotate(0) translate(4 1024)\">\n<title>Tree</title>\n<polygon fill=\"white\" stroke=\"transparent\" points=\"-4,4 -4,-1024 1015.5,-1024 1015.5,4 -4,4\"/>\n<!-- 0 -->\n<g id=\"node1\" class=\"node\">\n<title>0</title>\n<path fill=\"#e3fbed\" stroke=\"black\" d=\"M657.5,-1020C657.5,-1020 544.5,-1020 544.5,-1020 538.5,-1020 532.5,-1014 532.5,-1008 532.5,-1008 532.5,-949 532.5,-949 532.5,-943 538.5,-937 544.5,-937 544.5,-937 657.5,-937 657.5,-937 663.5,-937 669.5,-943 669.5,-949 669.5,-949 669.5,-1008 669.5,-1008 669.5,-1014 663.5,-1020 657.5,-1020\"/>\n<text text-anchor=\"middle\" x=\"601\" y=\"-1004.8\" font-family=\"Helvetica,sans-Serif\" font-size=\"14.00\">类黄酮 &lt;= 2.154</text>\n<text text-anchor=\"middle\" x=\"601\" y=\"-989.8\" font-family=\"Helvetica,sans-Serif\" font-size=\"14.00\">entropy = 1.557</text>\n<text text-anchor=\"middle\" x=\"601\" y=\"-974.8\" font-family=\"Helvetica,sans-Serif\" font-size=\"14.00\">samples = 124</text>\n<text text-anchor=\"middle\" x=\"601\" y=\"-959.8\" font-family=\"Helvetica,sans-Serif\" font-size=\"14.00\">value = [40, 52, 32]</text>\n<text text-anchor=\"middle\" x=\"601\" y=\"-944.8\" font-family=\"Helvetica,sans-Serif\" font-size=\"14.00\">class = 雪梨</text>\n</g>\n<!-- 1 -->\n<g id=\"node2\" class=\"node\">\n<title>1</title>\n<path fill=\"#f3ecfd\" stroke=\"black\" d=\"M606,-901C606,-901 396,-901 396,-901 390,-901 384,-895 384,-889 384,-889 384,-830 384,-830 384,-824 390,-818 396,-818 396,-818 606,-818 606,-818 612,-818 618,-824 618,-830 618,-830 618,-889 618,-889 618,-895 612,-901 606,-901\"/>\n<text text-anchor=\"middle\" x=\"501\" y=\"-885.8\" font-family=\"Helvetica,sans-Serif\" font-size=\"14.00\">od280/od315稀释葡萄酒 &lt;= 2.21</text>\n<text text-anchor=\"middle\" x=\"501\" y=\"-870.8\" font-family=\"Helvetica,sans-Serif\" font-size=\"14.00\">entropy = 0.998</text>\n<text text-anchor=\"middle\" x=\"501\" y=\"-855.8\" font-family=\"Helvetica,sans-Serif\" font-size=\"14.00\">samples = 61</text>\n<text text-anchor=\"middle\" x=\"501\" y=\"-840.8\" font-family=\"Helvetica,sans-Serif\" font-size=\"14.00\">value = [0, 29, 32]</text>\n<text text-anchor=\"middle\" x=\"501\" y=\"-825.8\" font-family=\"Helvetica,sans-Serif\" font-size=\"14.00\">class = 贝尔摩德</text>\n</g>\n<!-- 0&#45;&gt;1 -->\n<g id=\"edge1\" class=\"edge\">\n<title>0&#45;&gt;1</title>\n<path fill=\"none\" stroke=\"black\" d=\"M566.31,-936.91C558.55,-927.83 550.25,-918.12 542.26,-908.77\"/>\n<polygon fill=\"black\" stroke=\"black\" points=\"544.79,-906.35 535.63,-901.02 539.47,-910.9 544.79,-906.35\"/>\n<text text-anchor=\"middle\" x=\"533.68\" y=\"-922.24\" font-family=\"Helvetica,sans-Serif\" font-size=\"14.00\">True</text>\n</g>\n<!-- 22 -->\n<g id=\"node23\" class=\"node\">\n<title>22</title>\n<path fill=\"#f4c9ab\" stroke=\"black\" d=\"M753.5,-901C753.5,-901 648.5,-901 648.5,-901 642.5,-901 636.5,-895 636.5,-889 636.5,-889 636.5,-830 636.5,-830 636.5,-824 642.5,-818 648.5,-818 648.5,-818 753.5,-818 753.5,-818 759.5,-818 765.5,-824 765.5,-830 765.5,-830 765.5,-889 765.5,-889 765.5,-895 759.5,-901 753.5,-901\"/>\n<text text-anchor=\"middle\" x=\"701\" y=\"-885.8\" font-family=\"Helvetica,sans-Serif\" font-size=\"14.00\">酒精 &lt;= 12.583</text>\n<text text-anchor=\"middle\" x=\"701\" y=\"-870.8\" font-family=\"Helvetica,sans-Serif\" font-size=\"14.00\">entropy = 0.947</text>\n<text text-anchor=\"middle\" x=\"701\" y=\"-855.8\" font-family=\"Helvetica,sans-Serif\" font-size=\"14.00\">samples = 63</text>\n<text text-anchor=\"middle\" x=\"701\" y=\"-840.8\" font-family=\"Helvetica,sans-Serif\" font-size=\"14.00\">value = [40, 23, 0]</text>\n<text text-anchor=\"middle\" x=\"701\" y=\"-825.8\" font-family=\"Helvetica,sans-Serif\" font-size=\"14.00\">class = 琴酒</text>\n</g>\n<!-- 0&#45;&gt;22 -->\n<g id=\"edge22\" class=\"edge\">\n<title>0&#45;&gt;22</title>\n<path fill=\"none\" stroke=\"black\" d=\"M635.69,-936.91C643.45,-927.83 651.75,-918.12 659.74,-908.77\"/>\n<polygon fill=\"black\" stroke=\"black\" points=\"662.53,-910.9 666.37,-901.02 657.21,-906.35 662.53,-910.9\"/>\n<text text-anchor=\"middle\" x=\"668.32\" y=\"-922.24\" font-family=\"Helvetica,sans-Serif\" font-size=\"14.00\">False</text>\n</g>\n<!-- 2 -->\n<g id=\"node3\" class=\"node\">\n<title>2</title>\n<path fill=\"#a26cec\" stroke=\"black\" d=\"M408,-782C408,-782 304,-782 304,-782 298,-782 292,-776 292,-770 292,-770 292,-711 292,-711 292,-705 298,-699 304,-699 304,-699 408,-699 408,-699 414,-699 420,-705 420,-711 420,-711 420,-770 420,-770 420,-776 414,-782 408,-782\"/>\n<text text-anchor=\"middle\" x=\"356\" y=\"-766.8\" font-family=\"Helvetica,sans-Serif\" font-size=\"14.00\">色调 &lt;= 0.938</text>\n<text text-anchor=\"middle\" x=\"356\" y=\"-751.8\" font-family=\"Helvetica,sans-Serif\" font-size=\"14.00\">entropy = 0.732</text>\n<text text-anchor=\"middle\" x=\"356\" y=\"-736.8\" font-family=\"Helvetica,sans-Serif\" font-size=\"14.00\">samples = 39</text>\n<text text-anchor=\"middle\" x=\"356\" y=\"-721.8\" font-family=\"Helvetica,sans-Serif\" font-size=\"14.00\">value = [0, 8, 31]</text>\n<text text-anchor=\"middle\" x=\"356\" y=\"-706.8\" font-family=\"Helvetica,sans-Serif\" font-size=\"14.00\">class = 贝尔摩德</text>\n</g>\n<!-- 1&#45;&gt;2 -->\n<g id=\"edge2\" class=\"edge\">\n<title>1&#45;&gt;2</title>\n<path fill=\"none\" stroke=\"black\" d=\"M450.69,-817.91C438.88,-808.38 426.21,-798.15 414.09,-788.37\"/>\n<polygon fill=\"black\" stroke=\"black\" points=\"416.2,-785.58 406.22,-782.02 411.8,-791.02 416.2,-785.58\"/>\n</g>\n<!-- 19 -->\n<g id=\"node20\" class=\"node\">\n<title>19</title>\n<path fill=\"#42e687\" stroke=\"black\" d=\"M557.5,-782C557.5,-782 460.5,-782 460.5,-782 454.5,-782 448.5,-776 448.5,-770 448.5,-770 448.5,-711 448.5,-711 448.5,-705 454.5,-699 460.5,-699 460.5,-699 557.5,-699 557.5,-699 563.5,-699 569.5,-705 569.5,-711 569.5,-711 569.5,-770 569.5,-770 569.5,-776 563.5,-782 557.5,-782\"/>\n<text text-anchor=\"middle\" x=\"509\" y=\"-766.8\" font-family=\"Helvetica,sans-Serif\" font-size=\"14.00\">总酚 &lt;= 1.48</text>\n<text text-anchor=\"middle\" x=\"509\" y=\"-751.8\" font-family=\"Helvetica,sans-Serif\" font-size=\"14.00\">entropy = 0.267</text>\n<text text-anchor=\"middle\" x=\"509\" y=\"-736.8\" font-family=\"Helvetica,sans-Serif\" font-size=\"14.00\">samples = 22</text>\n<text text-anchor=\"middle\" x=\"509\" y=\"-721.8\" font-family=\"Helvetica,sans-Serif\" font-size=\"14.00\">value = [0, 21, 1]</text>\n<text text-anchor=\"middle\" x=\"509\" y=\"-706.8\" font-family=\"Helvetica,sans-Serif\" font-size=\"14.00\">class = 雪梨</text>\n</g>\n<!-- 1&#45;&gt;19 -->\n<g id=\"edge19\" class=\"edge\">\n<title>1&#45;&gt;19</title>\n<path fill=\"none\" stroke=\"black\" d=\"M503.78,-817.91C504.35,-809.56 504.95,-800.67 505.55,-792.02\"/>\n<polygon fill=\"black\" stroke=\"black\" points=\"509.04,-792.24 506.23,-782.02 502.06,-791.76 509.04,-792.24\"/>\n</g>\n<!-- 3 -->\n<g id=\"node4\" class=\"node\">\n<title>3</title>\n<path fill=\"#8e4de8\" stroke=\"black\" d=\"M255,-663C255,-663 151,-663 151,-663 145,-663 139,-657 139,-651 139,-651 139,-592 139,-592 139,-586 145,-580 151,-580 151,-580 255,-580 255,-580 261,-580 267,-586 267,-592 267,-592 267,-651 267,-651 267,-657 261,-663 255,-663\"/>\n<text text-anchor=\"middle\" x=\"203\" y=\"-647.8\" font-family=\"Helvetica,sans-Serif\" font-size=\"14.00\">类黄酮 &lt;= 0.761</text>\n<text text-anchor=\"middle\" x=\"203\" y=\"-632.8\" font-family=\"Helvetica,sans-Serif\" font-size=\"14.00\">entropy = 0.439</text>\n<text text-anchor=\"middle\" x=\"203\" y=\"-617.8\" font-family=\"Helvetica,sans-Serif\" font-size=\"14.00\">samples = 33</text>\n<text text-anchor=\"middle\" x=\"203\" y=\"-602.8\" font-family=\"Helvetica,sans-Serif\" font-size=\"14.00\">value = [0, 3, 30]</text>\n<text text-anchor=\"middle\" x=\"203\" y=\"-587.8\" font-family=\"Helvetica,sans-Serif\" font-size=\"14.00\">class = 贝尔摩德</text>\n</g>\n<!-- 2&#45;&gt;3 -->\n<g id=\"edge3\" class=\"edge\">\n<title>2&#45;&gt;3</title>\n<path fill=\"none\" stroke=\"black\" d=\"M302.92,-698.91C290.46,-689.38 277.08,-679.15 264.29,-669.37\"/>\n<polygon fill=\"black\" stroke=\"black\" points=\"266.06,-666.32 255.99,-663.02 261.81,-671.88 266.06,-666.32\"/>\n</g>\n<!-- 14 -->\n<g id=\"node15\" class=\"node\">\n<title>14</title>\n<path fill=\"#61ea9a\" stroke=\"black\" d=\"M414.5,-663C414.5,-663 297.5,-663 297.5,-663 291.5,-663 285.5,-657 285.5,-651 285.5,-651 285.5,-592 285.5,-592 285.5,-586 291.5,-580 297.5,-580 297.5,-580 414.5,-580 414.5,-580 420.5,-580 426.5,-586 426.5,-592 426.5,-592 426.5,-651 426.5,-651 426.5,-657 420.5,-663 414.5,-663\"/>\n<text text-anchor=\"middle\" x=\"356\" y=\"-647.8\" font-family=\"Helvetica,sans-Serif\" font-size=\"14.00\">脯氨酸 &lt;= 598.611</text>\n<text text-anchor=\"middle\" x=\"356\" y=\"-632.8\" font-family=\"Helvetica,sans-Serif\" font-size=\"14.00\">entropy = 0.65</text>\n<text text-anchor=\"middle\" x=\"356\" y=\"-617.8\" font-family=\"Helvetica,sans-Serif\" font-size=\"14.00\">samples = 6</text>\n<text text-anchor=\"middle\" x=\"356\" y=\"-602.8\" font-family=\"Helvetica,sans-Serif\" font-size=\"14.00\">value = [0, 5, 1]</text>\n<text text-anchor=\"middle\" x=\"356\" y=\"-587.8\" font-family=\"Helvetica,sans-Serif\" font-size=\"14.00\">class = 雪梨</text>\n</g>\n<!-- 2&#45;&gt;14 -->\n<g id=\"edge14\" class=\"edge\">\n<title>2&#45;&gt;14</title>\n<path fill=\"none\" stroke=\"black\" d=\"M356,-698.91C356,-690.65 356,-681.86 356,-673.3\"/>\n<polygon fill=\"black\" stroke=\"black\" points=\"359.5,-673.02 356,-663.02 352.5,-673.02 359.5,-673.02\"/>\n</g>\n<!-- 4 -->\n<g id=\"node5\" class=\"node\">\n<title>4</title>\n<path fill=\"#8139e5\" stroke=\"black\" d=\"M116,-536.5C116,-536.5 12,-536.5 12,-536.5 6,-536.5 0,-530.5 0,-524.5 0,-524.5 0,-480.5 0,-480.5 0,-474.5 6,-468.5 12,-468.5 12,-468.5 116,-468.5 116,-468.5 122,-468.5 128,-474.5 128,-480.5 128,-480.5 128,-524.5 128,-524.5 128,-530.5 122,-536.5 116,-536.5\"/>\n<text text-anchor=\"middle\" x=\"64\" y=\"-521.3\" font-family=\"Helvetica,sans-Serif\" font-size=\"14.00\">entropy = 0.0</text>\n<text text-anchor=\"middle\" x=\"64\" y=\"-506.3\" font-family=\"Helvetica,sans-Serif\" font-size=\"14.00\">samples = 19</text>\n<text text-anchor=\"middle\" x=\"64\" y=\"-491.3\" font-family=\"Helvetica,sans-Serif\" font-size=\"14.00\">value = [0, 0, 19]</text>\n<text text-anchor=\"middle\" x=\"64\" y=\"-476.3\" font-family=\"Helvetica,sans-Serif\" font-size=\"14.00\">class = 贝尔摩德</text>\n</g>\n<!-- 3&#45;&gt;4 -->\n<g id=\"edge4\" class=\"edge\">\n<title>3&#45;&gt;4</title>\n<path fill=\"none\" stroke=\"black\" d=\"M154.77,-579.91C140.62,-567.99 125.15,-554.98 111.07,-543.12\"/>\n<polygon fill=\"black\" stroke=\"black\" points=\"113.31,-540.43 103.4,-536.67 108.8,-545.78 113.31,-540.43\"/>\n</g>\n<!-- 5 -->\n<g id=\"node6\" class=\"node\">\n<title>5</title>\n<path fill=\"#a36fec\" stroke=\"black\" d=\"M262,-544C262,-544 158,-544 158,-544 152,-544 146,-538 146,-532 146,-532 146,-473 146,-473 146,-467 152,-461 158,-461 158,-461 262,-461 262,-461 268,-461 274,-467 274,-473 274,-473 274,-532 274,-532 274,-538 268,-544 262,-544\"/>\n<text text-anchor=\"middle\" x=\"210\" y=\"-528.8\" font-family=\"Helvetica,sans-Serif\" font-size=\"14.00\">色调 &lt;= 0.617</text>\n<text text-anchor=\"middle\" x=\"210\" y=\"-513.8\" font-family=\"Helvetica,sans-Serif\" font-size=\"14.00\">entropy = 0.75</text>\n<text text-anchor=\"middle\" x=\"210\" y=\"-498.8\" font-family=\"Helvetica,sans-Serif\" font-size=\"14.00\">samples = 14</text>\n<text text-anchor=\"middle\" x=\"210\" y=\"-483.8\" font-family=\"Helvetica,sans-Serif\" font-size=\"14.00\">value = [0, 3, 11]</text>\n<text text-anchor=\"middle\" x=\"210\" y=\"-468.8\" font-family=\"Helvetica,sans-Serif\" font-size=\"14.00\">class = 贝尔摩德</text>\n</g>\n<!-- 3&#45;&gt;5 -->\n<g id=\"edge5\" class=\"edge\">\n<title>3&#45;&gt;5</title>\n<path fill=\"none\" stroke=\"black\" d=\"M205.43,-579.91C205.93,-571.56 206.46,-562.67 206.98,-554.02\"/>\n<polygon fill=\"black\" stroke=\"black\" points=\"210.47,-554.21 207.58,-544.02 203.48,-553.79 210.47,-554.21\"/>\n</g>\n<!-- 6 -->\n<g id=\"node7\" class=\"node\">\n<title>6</title>\n<path fill=\"#8139e5\" stroke=\"black\" d=\"M122,-417.5C122,-417.5 18,-417.5 18,-417.5 12,-417.5 6,-411.5 6,-405.5 6,-405.5 6,-361.5 6,-361.5 6,-355.5 12,-349.5 18,-349.5 18,-349.5 122,-349.5 122,-349.5 128,-349.5 134,-355.5 134,-361.5 134,-361.5 134,-405.5 134,-405.5 134,-411.5 128,-417.5 122,-417.5\"/>\n<text text-anchor=\"middle\" x=\"70\" y=\"-402.3\" font-family=\"Helvetica,sans-Serif\" font-size=\"14.00\">entropy = 0.0</text>\n<text text-anchor=\"middle\" x=\"70\" y=\"-387.3\" font-family=\"Helvetica,sans-Serif\" font-size=\"14.00\">samples = 7</text>\n<text text-anchor=\"middle\" x=\"70\" y=\"-372.3\" font-family=\"Helvetica,sans-Serif\" font-size=\"14.00\">value = [0, 0, 7]</text>\n<text text-anchor=\"middle\" x=\"70\" y=\"-357.3\" font-family=\"Helvetica,sans-Serif\" font-size=\"14.00\">class = 贝尔摩德</text>\n</g>\n<!-- 5&#45;&gt;6 -->\n<g id=\"edge6\" class=\"edge\">\n<title>5&#45;&gt;6</title>\n<path fill=\"none\" stroke=\"black\" d=\"M161.43,-460.91C147.17,-448.99 131.59,-435.98 117.41,-424.12\"/>\n<polygon fill=\"black\" stroke=\"black\" points=\"119.6,-421.39 109.69,-417.67 115.12,-426.77 119.6,-421.39\"/>\n</g>\n<!-- 7 -->\n<g id=\"node8\" class=\"node\">\n<title>7</title>\n<path fill=\"#e0cef8\" stroke=\"black\" d=\"M312,-425C312,-425 164,-425 164,-425 158,-425 152,-419 152,-413 152,-413 152,-354 152,-354 152,-348 158,-342 164,-342 164,-342 312,-342 312,-342 318,-342 324,-348 324,-354 324,-354 324,-413 324,-413 324,-419 318,-425 312,-425\"/>\n<text text-anchor=\"middle\" x=\"238\" y=\"-409.8\" font-family=\"Helvetica,sans-Serif\" font-size=\"14.00\">非黄烷类酚类 &lt;= 0.412</text>\n<text text-anchor=\"middle\" x=\"238\" y=\"-394.8\" font-family=\"Helvetica,sans-Serif\" font-size=\"14.00\">entropy = 0.985</text>\n<text text-anchor=\"middle\" x=\"238\" y=\"-379.8\" font-family=\"Helvetica,sans-Serif\" font-size=\"14.00\">samples = 7</text>\n<text text-anchor=\"middle\" x=\"238\" y=\"-364.8\" font-family=\"Helvetica,sans-Serif\" font-size=\"14.00\">value = [0, 3, 4]</text>\n<text text-anchor=\"middle\" x=\"238\" y=\"-349.8\" font-family=\"Helvetica,sans-Serif\" font-size=\"14.00\">class = 贝尔摩德</text>\n</g>\n<!-- 5&#45;&gt;7 -->\n<g id=\"edge7\" class=\"edge\">\n<title>5&#45;&gt;7</title>\n<path fill=\"none\" stroke=\"black\" d=\"M219.71,-460.91C221.71,-452.56 223.84,-443.67 225.91,-435.02\"/>\n<polygon fill=\"black\" stroke=\"black\" points=\"229.38,-435.56 228.3,-425.02 222.57,-433.93 229.38,-435.56\"/>\n</g>\n<!-- 8 -->\n<g id=\"node9\" class=\"node\">\n<title>8</title>\n<path fill=\"#a06aec\" stroke=\"black\" d=\"M220,-306C220,-306 116,-306 116,-306 110,-306 104,-300 104,-294 104,-294 104,-235 104,-235 104,-229 110,-223 116,-223 116,-223 220,-223 220,-223 226,-223 232,-229 232,-235 232,-235 232,-294 232,-294 232,-300 226,-306 220,-306\"/>\n<text text-anchor=\"middle\" x=\"168\" y=\"-290.8\" font-family=\"Helvetica,sans-Serif\" font-size=\"14.00\">花青素 &lt;= 1.198</text>\n<text text-anchor=\"middle\" x=\"168\" y=\"-275.8\" font-family=\"Helvetica,sans-Serif\" font-size=\"14.00\">entropy = 0.722</text>\n<text text-anchor=\"middle\" x=\"168\" y=\"-260.8\" font-family=\"Helvetica,sans-Serif\" font-size=\"14.00\">samples = 5</text>\n<text text-anchor=\"middle\" x=\"168\" y=\"-245.8\" font-family=\"Helvetica,sans-Serif\" font-size=\"14.00\">value = [0, 1, 4]</text>\n<text text-anchor=\"middle\" x=\"168\" y=\"-230.8\" font-family=\"Helvetica,sans-Serif\" font-size=\"14.00\">class = 贝尔摩德</text>\n</g>\n<!-- 7&#45;&gt;8 -->\n<g id=\"edge8\" class=\"edge\">\n<title>7&#45;&gt;8</title>\n<path fill=\"none\" stroke=\"black\" d=\"M213.71,-341.91C208.45,-333.1 202.82,-323.7 197.38,-314.61\"/>\n<polygon fill=\"black\" stroke=\"black\" points=\"200.38,-312.81 192.24,-306.02 194.37,-316.4 200.38,-312.81\"/>\n</g>\n<!-- 13 -->\n<g id=\"node14\" class=\"node\">\n<title>13</title>\n<path fill=\"#39e581\" stroke=\"black\" d=\"M351.5,-298.5C351.5,-298.5 262.5,-298.5 262.5,-298.5 256.5,-298.5 250.5,-292.5 250.5,-286.5 250.5,-286.5 250.5,-242.5 250.5,-242.5 250.5,-236.5 256.5,-230.5 262.5,-230.5 262.5,-230.5 351.5,-230.5 351.5,-230.5 357.5,-230.5 363.5,-236.5 363.5,-242.5 363.5,-242.5 363.5,-286.5 363.5,-286.5 363.5,-292.5 357.5,-298.5 351.5,-298.5\"/>\n<text text-anchor=\"middle\" x=\"307\" y=\"-283.3\" font-family=\"Helvetica,sans-Serif\" font-size=\"14.00\">entropy = 0.0</text>\n<text text-anchor=\"middle\" x=\"307\" y=\"-268.3\" font-family=\"Helvetica,sans-Serif\" font-size=\"14.00\">samples = 2</text>\n<text text-anchor=\"middle\" x=\"307\" y=\"-253.3\" font-family=\"Helvetica,sans-Serif\" font-size=\"14.00\">value = [0, 2, 0]</text>\n<text text-anchor=\"middle\" x=\"307\" y=\"-238.3\" font-family=\"Helvetica,sans-Serif\" font-size=\"14.00\">class = 雪梨</text>\n</g>\n<!-- 7&#45;&gt;13 -->\n<g id=\"edge13\" class=\"edge\">\n<title>7&#45;&gt;13</title>\n<path fill=\"none\" stroke=\"black\" d=\"M261.94,-341.91C268.51,-330.76 275.65,-318.66 282.27,-307.44\"/>\n<polygon fill=\"black\" stroke=\"black\" points=\"285.37,-309.06 287.44,-298.67 279.35,-305.5 285.37,-309.06\"/>\n</g>\n<!-- 9 -->\n<g id=\"node10\" class=\"node\">\n<title>9</title>\n<path fill=\"#8139e5\" stroke=\"black\" d=\"M148,-179.5C148,-179.5 44,-179.5 44,-179.5 38,-179.5 32,-173.5 32,-167.5 32,-167.5 32,-123.5 32,-123.5 32,-117.5 38,-111.5 44,-111.5 44,-111.5 148,-111.5 148,-111.5 154,-111.5 160,-117.5 160,-123.5 160,-123.5 160,-167.5 160,-167.5 160,-173.5 154,-179.5 148,-179.5\"/>\n<text text-anchor=\"middle\" x=\"96\" y=\"-164.3\" font-family=\"Helvetica,sans-Serif\" font-size=\"14.00\">entropy = 0.0</text>\n<text text-anchor=\"middle\" x=\"96\" y=\"-149.3\" font-family=\"Helvetica,sans-Serif\" font-size=\"14.00\">samples = 3</text>\n<text text-anchor=\"middle\" x=\"96\" y=\"-134.3\" font-family=\"Helvetica,sans-Serif\" font-size=\"14.00\">value = [0, 0, 3]</text>\n<text text-anchor=\"middle\" x=\"96\" y=\"-119.3\" font-family=\"Helvetica,sans-Serif\" font-size=\"14.00\">class = 贝尔摩德</text>\n</g>\n<!-- 8&#45;&gt;9 -->\n<g id=\"edge9\" class=\"edge\">\n<title>8&#45;&gt;9</title>\n<path fill=\"none\" stroke=\"black\" d=\"M143.02,-222.91C136.16,-211.76 128.71,-199.66 121.81,-188.44\"/>\n<polygon fill=\"black\" stroke=\"black\" points=\"124.63,-186.35 116.41,-179.67 118.67,-190.02 124.63,-186.35\"/>\n</g>\n<!-- 10 -->\n<g id=\"node11\" class=\"node\">\n<title>10</title>\n<path fill=\"#ffffff\" stroke=\"black\" d=\"M291.5,-187C291.5,-187 190.5,-187 190.5,-187 184.5,-187 178.5,-181 178.5,-175 178.5,-175 178.5,-116 178.5,-116 178.5,-110 184.5,-104 190.5,-104 190.5,-104 291.5,-104 291.5,-104 297.5,-104 303.5,-110 303.5,-116 303.5,-116 303.5,-175 303.5,-175 303.5,-181 297.5,-187 291.5,-187\"/>\n<text text-anchor=\"middle\" x=\"241\" y=\"-171.8\" font-family=\"Helvetica,sans-Serif\" font-size=\"14.00\">脯氨酸 &lt;= 760.7</text>\n<text text-anchor=\"middle\" x=\"241\" y=\"-156.8\" font-family=\"Helvetica,sans-Serif\" font-size=\"14.00\">entropy = 1.0</text>\n<text text-anchor=\"middle\" x=\"241\" y=\"-141.8\" font-family=\"Helvetica,sans-Serif\" font-size=\"14.00\">samples = 2</text>\n<text text-anchor=\"middle\" x=\"241\" y=\"-126.8\" font-family=\"Helvetica,sans-Serif\" font-size=\"14.00\">value = [0, 1, 1]</text>\n<text text-anchor=\"middle\" x=\"241\" y=\"-111.8\" font-family=\"Helvetica,sans-Serif\" font-size=\"14.00\">class = 雪梨</text>\n</g>\n<!-- 8&#45;&gt;10 -->\n<g id=\"edge10\" class=\"edge\">\n<title>8&#45;&gt;10</title>\n<path fill=\"none\" stroke=\"black\" d=\"M193.33,-222.91C198.82,-214.1 204.69,-204.7 210.36,-195.61\"/>\n<polygon fill=\"black\" stroke=\"black\" points=\"213.39,-197.36 215.72,-187.02 207.45,-193.65 213.39,-197.36\"/>\n</g>\n<!-- 11 -->\n<g id=\"node12\" class=\"node\">\n<title>11</title>\n<path fill=\"#8139e5\" stroke=\"black\" d=\"M223,-68C223,-68 119,-68 119,-68 113,-68 107,-62 107,-56 107,-56 107,-12 107,-12 107,-6 113,0 119,0 119,0 223,0 223,0 229,0 235,-6 235,-12 235,-12 235,-56 235,-56 235,-62 229,-68 223,-68\"/>\n<text text-anchor=\"middle\" x=\"171\" y=\"-52.8\" font-family=\"Helvetica,sans-Serif\" font-size=\"14.00\">entropy = 0.0</text>\n<text text-anchor=\"middle\" x=\"171\" y=\"-37.8\" font-family=\"Helvetica,sans-Serif\" font-size=\"14.00\">samples = 1</text>\n<text text-anchor=\"middle\" x=\"171\" y=\"-22.8\" font-family=\"Helvetica,sans-Serif\" font-size=\"14.00\">value = [0, 0, 1]</text>\n<text text-anchor=\"middle\" x=\"171\" y=\"-7.8\" font-family=\"Helvetica,sans-Serif\" font-size=\"14.00\">class = 贝尔摩德</text>\n</g>\n<!-- 10&#45;&gt;11 -->\n<g id=\"edge11\" class=\"edge\">\n<title>10&#45;&gt;11</title>\n<path fill=\"none\" stroke=\"black\" d=\"M214.93,-103.73C209.34,-94.97 203.41,-85.7 197.79,-76.91\"/>\n<polygon fill=\"black\" stroke=\"black\" points=\"200.62,-74.84 192.29,-68.3 194.72,-78.61 200.62,-74.84\"/>\n</g>\n<!-- 12 -->\n<g id=\"node13\" class=\"node\">\n<title>12</title>\n<path fill=\"#39e581\" stroke=\"black\" d=\"M354.5,-68C354.5,-68 265.5,-68 265.5,-68 259.5,-68 253.5,-62 253.5,-56 253.5,-56 253.5,-12 253.5,-12 253.5,-6 259.5,0 265.5,0 265.5,0 354.5,0 354.5,0 360.5,0 366.5,-6 366.5,-12 366.5,-12 366.5,-56 366.5,-56 366.5,-62 360.5,-68 354.5,-68\"/>\n<text text-anchor=\"middle\" x=\"310\" y=\"-52.8\" font-family=\"Helvetica,sans-Serif\" font-size=\"14.00\">entropy = 0.0</text>\n<text text-anchor=\"middle\" x=\"310\" y=\"-37.8\" font-family=\"Helvetica,sans-Serif\" font-size=\"14.00\">samples = 1</text>\n<text text-anchor=\"middle\" x=\"310\" y=\"-22.8\" font-family=\"Helvetica,sans-Serif\" font-size=\"14.00\">value = [0, 1, 0]</text>\n<text text-anchor=\"middle\" x=\"310\" y=\"-7.8\" font-family=\"Helvetica,sans-Serif\" font-size=\"14.00\">class = 雪梨</text>\n</g>\n<!-- 10&#45;&gt;12 -->\n<g id=\"edge12\" class=\"edge\">\n<title>10&#45;&gt;12</title>\n<path fill=\"none\" stroke=\"black\" d=\"M266.69,-103.73C272.21,-94.97 278.05,-85.7 283.59,-76.91\"/>\n<polygon fill=\"black\" stroke=\"black\" points=\"286.65,-78.63 289.02,-68.3 280.72,-74.89 286.65,-78.63\"/>\n</g>\n<!-- 15 -->\n<g id=\"node16\" class=\"node\">\n<title>15</title>\n<path fill=\"#39e581\" stroke=\"black\" d=\"M397.5,-536.5C397.5,-536.5 308.5,-536.5 308.5,-536.5 302.5,-536.5 296.5,-530.5 296.5,-524.5 296.5,-524.5 296.5,-480.5 296.5,-480.5 296.5,-474.5 302.5,-468.5 308.5,-468.5 308.5,-468.5 397.5,-468.5 397.5,-468.5 403.5,-468.5 409.5,-474.5 409.5,-480.5 409.5,-480.5 409.5,-524.5 409.5,-524.5 409.5,-530.5 403.5,-536.5 397.5,-536.5\"/>\n<text text-anchor=\"middle\" x=\"353\" y=\"-521.3\" font-family=\"Helvetica,sans-Serif\" font-size=\"14.00\">entropy = 0.0</text>\n<text text-anchor=\"middle\" x=\"353\" y=\"-506.3\" font-family=\"Helvetica,sans-Serif\" font-size=\"14.00\">samples = 4</text>\n<text text-anchor=\"middle\" x=\"353\" y=\"-491.3\" font-family=\"Helvetica,sans-Serif\" font-size=\"14.00\">value = [0, 4, 0]</text>\n<text text-anchor=\"middle\" x=\"353\" y=\"-476.3\" font-family=\"Helvetica,sans-Serif\" font-size=\"14.00\">class = 雪梨</text>\n</g>\n<!-- 14&#45;&gt;15 -->\n<g id=\"edge15\" class=\"edge\">\n<title>14&#45;&gt;15</title>\n<path fill=\"none\" stroke=\"black\" d=\"M354.96,-579.91C354.68,-569.2 354.39,-557.62 354.11,-546.78\"/>\n<polygon fill=\"black\" stroke=\"black\" points=\"357.61,-546.57 353.85,-536.67 350.61,-546.75 357.61,-546.57\"/>\n</g>\n<!-- 16 -->\n<g id=\"node17\" class=\"node\">\n<title>16</title>\n<path fill=\"#ffffff\" stroke=\"black\" d=\"M556.5,-544C556.5,-544 439.5,-544 439.5,-544 433.5,-544 427.5,-538 427.5,-532 427.5,-532 427.5,-473 427.5,-473 427.5,-467 433.5,-461 439.5,-461 439.5,-461 556.5,-461 556.5,-461 562.5,-461 568.5,-467 568.5,-473 568.5,-473 568.5,-532 568.5,-532 568.5,-538 562.5,-544 556.5,-544\"/>\n<text text-anchor=\"middle\" x=\"498\" y=\"-528.8\" font-family=\"Helvetica,sans-Serif\" font-size=\"14.00\">脯氨酸 &lt;= 681.564</text>\n<text text-anchor=\"middle\" x=\"498\" y=\"-513.8\" font-family=\"Helvetica,sans-Serif\" font-size=\"14.00\">entropy = 1.0</text>\n<text text-anchor=\"middle\" x=\"498\" y=\"-498.8\" font-family=\"Helvetica,sans-Serif\" font-size=\"14.00\">samples = 2</text>\n<text text-anchor=\"middle\" x=\"498\" y=\"-483.8\" font-family=\"Helvetica,sans-Serif\" font-size=\"14.00\">value = [0, 1, 1]</text>\n<text text-anchor=\"middle\" x=\"498\" y=\"-468.8\" font-family=\"Helvetica,sans-Serif\" font-size=\"14.00\">class = 雪梨</text>\n</g>\n<!-- 14&#45;&gt;16 -->\n<g id=\"edge16\" class=\"edge\">\n<title>14&#45;&gt;16</title>\n<path fill=\"none\" stroke=\"black\" d=\"M405.27,-579.91C416.72,-570.47 429.01,-560.34 440.78,-550.65\"/>\n<polygon fill=\"black\" stroke=\"black\" points=\"443.33,-553.08 448.82,-544.02 438.88,-547.68 443.33,-553.08\"/>\n</g>\n<!-- 17 -->\n<g id=\"node18\" class=\"node\">\n<title>17</title>\n<path fill=\"#8139e5\" stroke=\"black\" d=\"M523,-417.5C523,-417.5 419,-417.5 419,-417.5 413,-417.5 407,-411.5 407,-405.5 407,-405.5 407,-361.5 407,-361.5 407,-355.5 413,-349.5 419,-349.5 419,-349.5 523,-349.5 523,-349.5 529,-349.5 535,-355.5 535,-361.5 535,-361.5 535,-405.5 535,-405.5 535,-411.5 529,-417.5 523,-417.5\"/>\n<text text-anchor=\"middle\" x=\"471\" y=\"-402.3\" font-family=\"Helvetica,sans-Serif\" font-size=\"14.00\">entropy = 0.0</text>\n<text text-anchor=\"middle\" x=\"471\" y=\"-387.3\" font-family=\"Helvetica,sans-Serif\" font-size=\"14.00\">samples = 1</text>\n<text text-anchor=\"middle\" x=\"471\" y=\"-372.3\" font-family=\"Helvetica,sans-Serif\" font-size=\"14.00\">value = [0, 0, 1]</text>\n<text text-anchor=\"middle\" x=\"471\" y=\"-357.3\" font-family=\"Helvetica,sans-Serif\" font-size=\"14.00\">class = 贝尔摩德</text>\n</g>\n<!-- 16&#45;&gt;17 -->\n<g id=\"edge17\" class=\"edge\">\n<title>16&#45;&gt;17</title>\n<path fill=\"none\" stroke=\"black\" d=\"M488.63,-460.91C486.14,-450.09 483.43,-438.38 480.91,-427.44\"/>\n<polygon fill=\"black\" stroke=\"black\" points=\"484.31,-426.62 478.65,-417.67 477.49,-428.2 484.31,-426.62\"/>\n</g>\n<!-- 18 -->\n<g id=\"node19\" class=\"node\">\n<title>18</title>\n<path fill=\"#39e581\" stroke=\"black\" d=\"M654.5,-417.5C654.5,-417.5 565.5,-417.5 565.5,-417.5 559.5,-417.5 553.5,-411.5 553.5,-405.5 553.5,-405.5 553.5,-361.5 553.5,-361.5 553.5,-355.5 559.5,-349.5 565.5,-349.5 565.5,-349.5 654.5,-349.5 654.5,-349.5 660.5,-349.5 666.5,-355.5 666.5,-361.5 666.5,-361.5 666.5,-405.5 666.5,-405.5 666.5,-411.5 660.5,-417.5 654.5,-417.5\"/>\n<text text-anchor=\"middle\" x=\"610\" y=\"-402.3\" font-family=\"Helvetica,sans-Serif\" font-size=\"14.00\">entropy = 0.0</text>\n<text text-anchor=\"middle\" x=\"610\" y=\"-387.3\" font-family=\"Helvetica,sans-Serif\" font-size=\"14.00\">samples = 1</text>\n<text text-anchor=\"middle\" x=\"610\" y=\"-372.3\" font-family=\"Helvetica,sans-Serif\" font-size=\"14.00\">value = [0, 1, 0]</text>\n<text text-anchor=\"middle\" x=\"610\" y=\"-357.3\" font-family=\"Helvetica,sans-Serif\" font-size=\"14.00\">class = 雪梨</text>\n</g>\n<!-- 16&#45;&gt;18 -->\n<g id=\"edge18\" class=\"edge\">\n<title>16&#45;&gt;18</title>\n<path fill=\"none\" stroke=\"black\" d=\"M536.86,-460.91C547.95,-449.32 560.03,-436.7 571.12,-425.11\"/>\n<polygon fill=\"black\" stroke=\"black\" points=\"573.86,-427.31 578.25,-417.67 568.81,-422.47 573.86,-427.31\"/>\n</g>\n<!-- 20 -->\n<g id=\"node21\" class=\"node\">\n<title>20</title>\n<path fill=\"#8139e5\" stroke=\"black\" d=\"M561,-655.5C561,-655.5 457,-655.5 457,-655.5 451,-655.5 445,-649.5 445,-643.5 445,-643.5 445,-599.5 445,-599.5 445,-593.5 451,-587.5 457,-587.5 457,-587.5 561,-587.5 561,-587.5 567,-587.5 573,-593.5 573,-599.5 573,-599.5 573,-643.5 573,-643.5 573,-649.5 567,-655.5 561,-655.5\"/>\n<text text-anchor=\"middle\" x=\"509\" y=\"-640.3\" font-family=\"Helvetica,sans-Serif\" font-size=\"14.00\">entropy = 0.0</text>\n<text text-anchor=\"middle\" x=\"509\" y=\"-625.3\" font-family=\"Helvetica,sans-Serif\" font-size=\"14.00\">samples = 1</text>\n<text text-anchor=\"middle\" x=\"509\" y=\"-610.3\" font-family=\"Helvetica,sans-Serif\" font-size=\"14.00\">value = [0, 0, 1]</text>\n<text text-anchor=\"middle\" x=\"509\" y=\"-595.3\" font-family=\"Helvetica,sans-Serif\" font-size=\"14.00\">class = 贝尔摩德</text>\n</g>\n<!-- 19&#45;&gt;20 -->\n<g id=\"edge20\" class=\"edge\">\n<title>19&#45;&gt;20</title>\n<path fill=\"none\" stroke=\"black\" d=\"M509,-698.91C509,-688.2 509,-676.62 509,-665.78\"/>\n<polygon fill=\"black\" stroke=\"black\" points=\"512.5,-665.67 509,-655.67 505.5,-665.67 512.5,-665.67\"/>\n</g>\n<!-- 21 -->\n<g id=\"node22\" class=\"node\">\n<title>21</title>\n<path fill=\"#39e581\" stroke=\"black\" d=\"M700.5,-655.5C700.5,-655.5 603.5,-655.5 603.5,-655.5 597.5,-655.5 591.5,-649.5 591.5,-643.5 591.5,-643.5 591.5,-599.5 591.5,-599.5 591.5,-593.5 597.5,-587.5 603.5,-587.5 603.5,-587.5 700.5,-587.5 700.5,-587.5 706.5,-587.5 712.5,-593.5 712.5,-599.5 712.5,-599.5 712.5,-643.5 712.5,-643.5 712.5,-649.5 706.5,-655.5 700.5,-655.5\"/>\n<text text-anchor=\"middle\" x=\"652\" y=\"-640.3\" font-family=\"Helvetica,sans-Serif\" font-size=\"14.00\">entropy = 0.0</text>\n<text text-anchor=\"middle\" x=\"652\" y=\"-625.3\" font-family=\"Helvetica,sans-Serif\" font-size=\"14.00\">samples = 21</text>\n<text text-anchor=\"middle\" x=\"652\" y=\"-610.3\" font-family=\"Helvetica,sans-Serif\" font-size=\"14.00\">value = [0, 21, 0]</text>\n<text text-anchor=\"middle\" x=\"652\" y=\"-595.3\" font-family=\"Helvetica,sans-Serif\" font-size=\"14.00\">class = 雪梨</text>\n</g>\n<!-- 19&#45;&gt;21 -->\n<g id=\"edge21\" class=\"edge\">\n<title>19&#45;&gt;21</title>\n<path fill=\"none\" stroke=\"black\" d=\"M558.61,-698.91C573.18,-686.99 589.09,-673.98 603.58,-662.12\"/>\n<polygon fill=\"black\" stroke=\"black\" points=\"605.94,-664.71 611.46,-655.67 601.51,-659.29 605.94,-664.71\"/>\n</g>\n<!-- 23 -->\n<g id=\"node24\" class=\"node\">\n<title>23</title>\n<path fill=\"#39e581\" stroke=\"black\" d=\"M734.5,-774.5C734.5,-774.5 637.5,-774.5 637.5,-774.5 631.5,-774.5 625.5,-768.5 625.5,-762.5 625.5,-762.5 625.5,-718.5 625.5,-718.5 625.5,-712.5 631.5,-706.5 637.5,-706.5 637.5,-706.5 734.5,-706.5 734.5,-706.5 740.5,-706.5 746.5,-712.5 746.5,-718.5 746.5,-718.5 746.5,-762.5 746.5,-762.5 746.5,-768.5 740.5,-774.5 734.5,-774.5\"/>\n<text text-anchor=\"middle\" x=\"686\" y=\"-759.3\" font-family=\"Helvetica,sans-Serif\" font-size=\"14.00\">entropy = 0.0</text>\n<text text-anchor=\"middle\" x=\"686\" y=\"-744.3\" font-family=\"Helvetica,sans-Serif\" font-size=\"14.00\">samples = 20</text>\n<text text-anchor=\"middle\" x=\"686\" y=\"-729.3\" font-family=\"Helvetica,sans-Serif\" font-size=\"14.00\">value = [0, 20, 0]</text>\n<text text-anchor=\"middle\" x=\"686\" y=\"-714.3\" font-family=\"Helvetica,sans-Serif\" font-size=\"14.00\">class = 雪梨</text>\n</g>\n<!-- 22&#45;&gt;23 -->\n<g id=\"edge23\" class=\"edge\">\n<title>22&#45;&gt;23</title>\n<path fill=\"none\" stroke=\"black\" d=\"M695.8,-817.91C694.42,-807.2 692.94,-795.62 691.55,-784.78\"/>\n<polygon fill=\"black\" stroke=\"black\" points=\"695,-784.14 690.25,-774.67 688.05,-785.03 695,-784.14\"/>\n</g>\n<!-- 24 -->\n<g id=\"node25\" class=\"node\">\n<title>24</title>\n<path fill=\"#e78a48\" stroke=\"black\" d=\"M877.5,-782C877.5,-782 776.5,-782 776.5,-782 770.5,-782 764.5,-776 764.5,-770 764.5,-770 764.5,-711 764.5,-711 764.5,-705 770.5,-699 776.5,-699 776.5,-699 877.5,-699 877.5,-699 883.5,-699 889.5,-705 889.5,-711 889.5,-711 889.5,-770 889.5,-770 889.5,-776 883.5,-782 877.5,-782\"/>\n<text text-anchor=\"middle\" x=\"827\" y=\"-766.8\" font-family=\"Helvetica,sans-Serif\" font-size=\"14.00\">苹果酸 &lt;= 4.652</text>\n<text text-anchor=\"middle\" x=\"827\" y=\"-751.8\" font-family=\"Helvetica,sans-Serif\" font-size=\"14.00\">entropy = 0.365</text>\n<text text-anchor=\"middle\" x=\"827\" y=\"-736.8\" font-family=\"Helvetica,sans-Serif\" font-size=\"14.00\">samples = 43</text>\n<text text-anchor=\"middle\" x=\"827\" y=\"-721.8\" font-family=\"Helvetica,sans-Serif\" font-size=\"14.00\">value = [40, 3, 0]</text>\n<text text-anchor=\"middle\" x=\"827\" y=\"-706.8\" font-family=\"Helvetica,sans-Serif\" font-size=\"14.00\">class = 琴酒</text>\n</g>\n<!-- 22&#45;&gt;24 -->\n<g id=\"edge24\" class=\"edge\">\n<title>22&#45;&gt;24</title>\n<path fill=\"none\" stroke=\"black\" d=\"M744.72,-817.91C754.78,-808.56 765.57,-798.54 775.92,-788.93\"/>\n<polygon fill=\"black\" stroke=\"black\" points=\"778.42,-791.39 783.36,-782.02 773.65,-786.26 778.42,-791.39\"/>\n</g>\n<!-- 25 -->\n<g id=\"node26\" class=\"node\">\n<title>25</title>\n<path fill=\"#e68743\" stroke=\"black\" d=\"M868.5,-663C868.5,-663 771.5,-663 771.5,-663 765.5,-663 759.5,-657 759.5,-651 759.5,-651 759.5,-592 759.5,-592 759.5,-586 765.5,-580 771.5,-580 771.5,-580 868.5,-580 868.5,-580 874.5,-580 880.5,-586 880.5,-592 880.5,-592 880.5,-651 880.5,-651 880.5,-657 874.5,-663 868.5,-663\"/>\n<text text-anchor=\"middle\" x=\"820\" y=\"-647.8\" font-family=\"Helvetica,sans-Serif\" font-size=\"14.00\">镁 &lt;= 90.483</text>\n<text text-anchor=\"middle\" x=\"820\" y=\"-632.8\" font-family=\"Helvetica,sans-Serif\" font-size=\"14.00\">entropy = 0.276</text>\n<text text-anchor=\"middle\" x=\"820\" y=\"-617.8\" font-family=\"Helvetica,sans-Serif\" font-size=\"14.00\">samples = 42</text>\n<text text-anchor=\"middle\" x=\"820\" y=\"-602.8\" font-family=\"Helvetica,sans-Serif\" font-size=\"14.00\">value = [40, 2, 0]</text>\n<text text-anchor=\"middle\" x=\"820\" y=\"-587.8\" font-family=\"Helvetica,sans-Serif\" font-size=\"14.00\">class = 琴酒</text>\n</g>\n<!-- 24&#45;&gt;25 -->\n<g id=\"edge25\" class=\"edge\">\n<title>24&#45;&gt;25</title>\n<path fill=\"none\" stroke=\"black\" d=\"M824.57,-698.91C824.07,-690.56 823.54,-681.67 823.02,-673.02\"/>\n<polygon fill=\"black\" stroke=\"black\" points=\"826.52,-672.79 822.42,-663.02 819.53,-673.21 826.52,-672.79\"/>\n</g>\n<!-- 30 -->\n<g id=\"node31\" class=\"node\">\n<title>30</title>\n<path fill=\"#39e581\" stroke=\"black\" d=\"M999.5,-655.5C999.5,-655.5 910.5,-655.5 910.5,-655.5 904.5,-655.5 898.5,-649.5 898.5,-643.5 898.5,-643.5 898.5,-599.5 898.5,-599.5 898.5,-593.5 904.5,-587.5 910.5,-587.5 910.5,-587.5 999.5,-587.5 999.5,-587.5 1005.5,-587.5 1011.5,-593.5 1011.5,-599.5 1011.5,-599.5 1011.5,-643.5 1011.5,-643.5 1011.5,-649.5 1005.5,-655.5 999.5,-655.5\"/>\n<text text-anchor=\"middle\" x=\"955\" y=\"-640.3\" font-family=\"Helvetica,sans-Serif\" font-size=\"14.00\">entropy = 0.0</text>\n<text text-anchor=\"middle\" x=\"955\" y=\"-625.3\" font-family=\"Helvetica,sans-Serif\" font-size=\"14.00\">samples = 1</text>\n<text text-anchor=\"middle\" x=\"955\" y=\"-610.3\" font-family=\"Helvetica,sans-Serif\" font-size=\"14.00\">value = [0, 1, 0]</text>\n<text text-anchor=\"middle\" x=\"955\" y=\"-595.3\" font-family=\"Helvetica,sans-Serif\" font-size=\"14.00\">class = 雪梨</text>\n</g>\n<!-- 24&#45;&gt;30 -->\n<g id=\"edge30\" class=\"edge\">\n<title>24&#45;&gt;30</title>\n<path fill=\"none\" stroke=\"black\" d=\"M871.41,-698.91C884.33,-687.1 898.42,-674.22 911.29,-662.45\"/>\n<polygon fill=\"black\" stroke=\"black\" points=\"913.7,-665 918.71,-655.67 908.97,-659.83 913.7,-665\"/>\n</g>\n<!-- 26 -->\n<g id=\"node27\" class=\"node\">\n<title>26</title>\n<path fill=\"#ffffff\" stroke=\"black\" d=\"M839.5,-544C839.5,-544 722.5,-544 722.5,-544 716.5,-544 710.5,-538 710.5,-532 710.5,-532 710.5,-473 710.5,-473 710.5,-467 716.5,-461 722.5,-461 722.5,-461 839.5,-461 839.5,-461 845.5,-461 851.5,-467 851.5,-473 851.5,-473 851.5,-532 851.5,-532 851.5,-538 845.5,-544 839.5,-544\"/>\n<text text-anchor=\"middle\" x=\"781\" y=\"-528.8\" font-family=\"Helvetica,sans-Serif\" font-size=\"14.00\">脯氨酸 &lt;= 589.055</text>\n<text text-anchor=\"middle\" x=\"781\" y=\"-513.8\" font-family=\"Helvetica,sans-Serif\" font-size=\"14.00\">entropy = 1.0</text>\n<text text-anchor=\"middle\" x=\"781\" y=\"-498.8\" font-family=\"Helvetica,sans-Serif\" font-size=\"14.00\">samples = 4</text>\n<text text-anchor=\"middle\" x=\"781\" y=\"-483.8\" font-family=\"Helvetica,sans-Serif\" font-size=\"14.00\">value = [2, 2, 0]</text>\n<text text-anchor=\"middle\" x=\"781\" y=\"-468.8\" font-family=\"Helvetica,sans-Serif\" font-size=\"14.00\">class = 琴酒</text>\n</g>\n<!-- 25&#45;&gt;26 -->\n<g id=\"edge26\" class=\"edge\">\n<title>25&#45;&gt;26</title>\n<path fill=\"none\" stroke=\"black\" d=\"M806.47,-579.91C803.66,-571.47 800.66,-562.48 797.75,-553.74\"/>\n<polygon fill=\"black\" stroke=\"black\" points=\"800.99,-552.4 794.51,-544.02 794.35,-554.61 800.99,-552.4\"/>\n</g>\n<!-- 29 -->\n<g id=\"node30\" class=\"node\">\n<title>29</title>\n<path fill=\"#e58139\" stroke=\"black\" d=\"M978.5,-536.5C978.5,-536.5 881.5,-536.5 881.5,-536.5 875.5,-536.5 869.5,-530.5 869.5,-524.5 869.5,-524.5 869.5,-480.5 869.5,-480.5 869.5,-474.5 875.5,-468.5 881.5,-468.5 881.5,-468.5 978.5,-468.5 978.5,-468.5 984.5,-468.5 990.5,-474.5 990.5,-480.5 990.5,-480.5 990.5,-524.5 990.5,-524.5 990.5,-530.5 984.5,-536.5 978.5,-536.5\"/>\n<text text-anchor=\"middle\" x=\"930\" y=\"-521.3\" font-family=\"Helvetica,sans-Serif\" font-size=\"14.00\">entropy = 0.0</text>\n<text text-anchor=\"middle\" x=\"930\" y=\"-506.3\" font-family=\"Helvetica,sans-Serif\" font-size=\"14.00\">samples = 38</text>\n<text text-anchor=\"middle\" x=\"930\" y=\"-491.3\" font-family=\"Helvetica,sans-Serif\" font-size=\"14.00\">value = [38, 0, 0]</text>\n<text text-anchor=\"middle\" x=\"930\" y=\"-476.3\" font-family=\"Helvetica,sans-Serif\" font-size=\"14.00\">class = 琴酒</text>\n</g>\n<!-- 25&#45;&gt;29 -->\n<g id=\"edge29\" class=\"edge\">\n<title>25&#45;&gt;29</title>\n<path fill=\"none\" stroke=\"black\" d=\"M858.16,-579.91C869.06,-568.32 880.93,-555.7 891.82,-544.11\"/>\n<polygon fill=\"black\" stroke=\"black\" points=\"894.52,-546.35 898.82,-536.67 889.42,-541.56 894.52,-546.35\"/>\n</g>\n<!-- 27 -->\n<g id=\"node28\" class=\"node\">\n<title>27</title>\n<path fill=\"#39e581\" stroke=\"black\" d=\"M805.5,-417.5C805.5,-417.5 716.5,-417.5 716.5,-417.5 710.5,-417.5 704.5,-411.5 704.5,-405.5 704.5,-405.5 704.5,-361.5 704.5,-361.5 704.5,-355.5 710.5,-349.5 716.5,-349.5 716.5,-349.5 805.5,-349.5 805.5,-349.5 811.5,-349.5 817.5,-355.5 817.5,-361.5 817.5,-361.5 817.5,-405.5 817.5,-405.5 817.5,-411.5 811.5,-417.5 805.5,-417.5\"/>\n<text text-anchor=\"middle\" x=\"761\" y=\"-402.3\" font-family=\"Helvetica,sans-Serif\" font-size=\"14.00\">entropy = 0.0</text>\n<text text-anchor=\"middle\" x=\"761\" y=\"-387.3\" font-family=\"Helvetica,sans-Serif\" font-size=\"14.00\">samples = 2</text>\n<text text-anchor=\"middle\" x=\"761\" y=\"-372.3\" font-family=\"Helvetica,sans-Serif\" font-size=\"14.00\">value = [0, 2, 0]</text>\n<text text-anchor=\"middle\" x=\"761\" y=\"-357.3\" font-family=\"Helvetica,sans-Serif\" font-size=\"14.00\">class = 雪梨</text>\n</g>\n<!-- 26&#45;&gt;27 -->\n<g id=\"edge27\" class=\"edge\">\n<title>26&#45;&gt;27</title>\n<path fill=\"none\" stroke=\"black\" d=\"M774.06,-460.91C772.23,-450.2 770.25,-438.62 768.4,-427.78\"/>\n<polygon fill=\"black\" stroke=\"black\" points=\"771.8,-426.93 766.67,-417.67 764.9,-428.11 771.8,-426.93\"/>\n</g>\n<!-- 28 -->\n<g id=\"node29\" class=\"node\">\n<title>28</title>\n<path fill=\"#e58139\" stroke=\"black\" d=\"M936.5,-417.5C936.5,-417.5 847.5,-417.5 847.5,-417.5 841.5,-417.5 835.5,-411.5 835.5,-405.5 835.5,-405.5 835.5,-361.5 835.5,-361.5 835.5,-355.5 841.5,-349.5 847.5,-349.5 847.5,-349.5 936.5,-349.5 936.5,-349.5 942.5,-349.5 948.5,-355.5 948.5,-361.5 948.5,-361.5 948.5,-405.5 948.5,-405.5 948.5,-411.5 942.5,-417.5 936.5,-417.5\"/>\n<text text-anchor=\"middle\" x=\"892\" y=\"-402.3\" font-family=\"Helvetica,sans-Serif\" font-size=\"14.00\">entropy = 0.0</text>\n<text text-anchor=\"middle\" x=\"892\" y=\"-387.3\" font-family=\"Helvetica,sans-Serif\" font-size=\"14.00\">samples = 2</text>\n<text text-anchor=\"middle\" x=\"892\" y=\"-372.3\" font-family=\"Helvetica,sans-Serif\" font-size=\"14.00\">value = [2, 0, 0]</text>\n<text text-anchor=\"middle\" x=\"892\" y=\"-357.3\" font-family=\"Helvetica,sans-Serif\" font-size=\"14.00\">class = 琴酒</text>\n</g>\n<!-- 26&#45;&gt;28 -->\n<g id=\"edge28\" class=\"edge\">\n<title>26&#45;&gt;28</title>\n<path fill=\"none\" stroke=\"black\" d=\"M819.51,-460.91C830.5,-449.32 842.48,-436.7 853.47,-425.11\"/>\n<polygon fill=\"black\" stroke=\"black\" points=\"856.19,-427.33 860.53,-417.67 851.11,-422.51 856.19,-427.33\"/>\n</g>\n</g>\n</svg>\n",
      "text/plain": [
       "<graphviz.sources.Source at 0x163632d1c00>"
      ]
     },
     "execution_count": 69,
     "metadata": {},
     "output_type": "execute_result"
    }
   ],
   "source": [
    "import graphviz \n",
    "\n",
    "dot_data = tree.export_graphviz(clf,  # 已经训练好的模型\n",
    "                                feature_names = feature_name,  # 特征的名字\n",
    "                                class_names=['琴酒','雪梨','贝尔摩德'],\n",
    "                                filled=True,  \n",
    "                                rounded=True  \n",
    ")\n",
    "\n",
    "graph = graphviz.Source(dot_data)\n",
    "graph"
   ]
  },
  {
   "cell_type": "markdown",
   "metadata": {},
   "source": [
    "决策树明显变宽了，说明随机性增加"
   ]
  },
  {
   "cell_type": "code",
   "execution_count": 70,
   "metadata": {},
   "outputs": [
    {
     "data": {
      "text/plain": [
       "1.0"
      ]
     },
     "execution_count": 70,
     "metadata": {},
     "output_type": "execute_result"
    }
   ],
   "source": [
    "# 我们的数对训练集的拟合程度如何?\n",
    "\n",
    "score_train = clf.score(Xtrain,Ytrain)\n",
    "score_train"
   ]
  },
  {
   "cell_type": "markdown",
   "metadata": {},
   "source": [
    "#### 2.1.3剪枝参数\n",
    "\n",
    "是否过拟合\n",
    "\n",
    "- 剪枝\n",
    "  - `max_depth` 限制树的深度 从 3 开始尝试\n",
    "  - `min_samples_leaf` 一个节点在分支后至少包含的样本数 与 max_depth 配合使用\n",
    "  - `min_samples_split` 限定，一个节点必须要包含至少min_samples_split个训练样本，这个节点才允许被分枝，否则分枝就不会发生\n",
    "  - `max_features` 最大特征数 一般仅在特征数较大时 使用\n",
    "  - `min_impurity_decrease`限制信息增益的大小，信息增益小于设定数值的分枝不会发生。"
   ]
  },
  {
   "cell_type": "code",
   "execution_count": 77,
   "metadata": {},
   "outputs": [
    {
     "data": {
      "image/svg+xml": "<?xml version=\"1.0\" encoding=\"UTF-8\" standalone=\"no\"?>\n<!DOCTYPE svg PUBLIC \"-//W3C//DTD SVG 1.1//EN\"\n \"http://www.w3.org/Graphics/SVG/1.1/DTD/svg11.dtd\">\n<!-- Generated by graphviz version 5.0.0 (20220707.1540)\n -->\n<!-- Title: Tree Pages: 1 -->\n<svg width=\"851pt\" height=\"433pt\"\n viewBox=\"0.00 0.00 850.50 433.00\" xmlns=\"http://www.w3.org/2000/svg\" xmlns:xlink=\"http://www.w3.org/1999/xlink\">\n<g id=\"graph0\" class=\"graph\" transform=\"scale(1 1) rotate(0) translate(4 429)\">\n<title>Tree</title>\n<polygon fill=\"white\" stroke=\"transparent\" points=\"-4,4 -4,-429 846.5,-429 846.5,4 -4,4\"/>\n<!-- 0 -->\n<g id=\"node1\" class=\"node\">\n<title>0</title>\n<path fill=\"#e3fbed\" stroke=\"black\" d=\"M494.5,-425C494.5,-425 381.5,-425 381.5,-425 375.5,-425 369.5,-419 369.5,-413 369.5,-413 369.5,-354 369.5,-354 369.5,-348 375.5,-342 381.5,-342 381.5,-342 494.5,-342 494.5,-342 500.5,-342 506.5,-348 506.5,-354 506.5,-354 506.5,-413 506.5,-413 506.5,-419 500.5,-425 494.5,-425\"/>\n<text text-anchor=\"middle\" x=\"438\" y=\"-409.8\" font-family=\"Helvetica,sans-Serif\" font-size=\"14.00\">类黄酮 &lt;= 2.154</text>\n<text text-anchor=\"middle\" x=\"438\" y=\"-394.8\" font-family=\"Helvetica,sans-Serif\" font-size=\"14.00\">entropy = 1.557</text>\n<text text-anchor=\"middle\" x=\"438\" y=\"-379.8\" font-family=\"Helvetica,sans-Serif\" font-size=\"14.00\">samples = 124</text>\n<text text-anchor=\"middle\" x=\"438\" y=\"-364.8\" font-family=\"Helvetica,sans-Serif\" font-size=\"14.00\">value = [40, 52, 32]</text>\n<text text-anchor=\"middle\" x=\"438\" y=\"-349.8\" font-family=\"Helvetica,sans-Serif\" font-size=\"14.00\">class = 雪莉</text>\n</g>\n<!-- 1 -->\n<g id=\"node2\" class=\"node\">\n<title>1</title>\n<path fill=\"#f3ecfd\" stroke=\"black\" d=\"M440,-306C440,-306 230,-306 230,-306 224,-306 218,-300 218,-294 218,-294 218,-235 218,-235 218,-229 224,-223 230,-223 230,-223 440,-223 440,-223 446,-223 452,-229 452,-235 452,-235 452,-294 452,-294 452,-300 446,-306 440,-306\"/>\n<text text-anchor=\"middle\" x=\"335\" y=\"-290.8\" font-family=\"Helvetica,sans-Serif\" font-size=\"14.00\">od280/od315稀释葡萄酒 &lt;= 2.21</text>\n<text text-anchor=\"middle\" x=\"335\" y=\"-275.8\" font-family=\"Helvetica,sans-Serif\" font-size=\"14.00\">entropy = 0.998</text>\n<text text-anchor=\"middle\" x=\"335\" y=\"-260.8\" font-family=\"Helvetica,sans-Serif\" font-size=\"14.00\">samples = 61</text>\n<text text-anchor=\"middle\" x=\"335\" y=\"-245.8\" font-family=\"Helvetica,sans-Serif\" font-size=\"14.00\">value = [0, 29, 32]</text>\n<text text-anchor=\"middle\" x=\"335\" y=\"-230.8\" font-family=\"Helvetica,sans-Serif\" font-size=\"14.00\">class = 贝尔摩德</text>\n</g>\n<!-- 0&#45;&gt;1 -->\n<g id=\"edge1\" class=\"edge\">\n<title>0&#45;&gt;1</title>\n<path fill=\"none\" stroke=\"black\" d=\"M402.26,-341.91C394.28,-332.83 385.73,-323.12 377.49,-313.77\"/>\n<polygon fill=\"black\" stroke=\"black\" points=\"379.91,-311.21 370.67,-306.02 374.65,-315.84 379.91,-311.21\"/>\n<text text-anchor=\"middle\" x=\"369.08\" y=\"-327.27\" font-family=\"Helvetica,sans-Serif\" font-size=\"14.00\">True</text>\n</g>\n<!-- 8 -->\n<g id=\"node9\" class=\"node\">\n<title>8</title>\n<path fill=\"#f4c9ab\" stroke=\"black\" d=\"M599.5,-306C599.5,-306 482.5,-306 482.5,-306 476.5,-306 470.5,-300 470.5,-294 470.5,-294 470.5,-235 470.5,-235 470.5,-229 476.5,-223 482.5,-223 482.5,-223 599.5,-223 599.5,-223 605.5,-223 611.5,-229 611.5,-235 611.5,-235 611.5,-294 611.5,-294 611.5,-300 605.5,-306 599.5,-306\"/>\n<text text-anchor=\"middle\" x=\"541\" y=\"-290.8\" font-family=\"Helvetica,sans-Serif\" font-size=\"14.00\">脯氨酸 &lt;= 531.635</text>\n<text text-anchor=\"middle\" x=\"541\" y=\"-275.8\" font-family=\"Helvetica,sans-Serif\" font-size=\"14.00\">entropy = 0.947</text>\n<text text-anchor=\"middle\" x=\"541\" y=\"-260.8\" font-family=\"Helvetica,sans-Serif\" font-size=\"14.00\">samples = 63</text>\n<text text-anchor=\"middle\" x=\"541\" y=\"-245.8\" font-family=\"Helvetica,sans-Serif\" font-size=\"14.00\">value = [40, 23, 0]</text>\n<text text-anchor=\"middle\" x=\"541\" y=\"-230.8\" font-family=\"Helvetica,sans-Serif\" font-size=\"14.00\">class = 琴酒</text>\n</g>\n<!-- 0&#45;&gt;8 -->\n<g id=\"edge8\" class=\"edge\">\n<title>0&#45;&gt;8</title>\n<path fill=\"none\" stroke=\"black\" d=\"M473.74,-341.91C481.72,-332.83 490.27,-323.12 498.51,-313.77\"/>\n<polygon fill=\"black\" stroke=\"black\" points=\"501.35,-315.84 505.33,-306.02 496.09,-311.21 501.35,-315.84\"/>\n<text text-anchor=\"middle\" x=\"506.92\" y=\"-327.27\" font-family=\"Helvetica,sans-Serif\" font-size=\"14.00\">False</text>\n</g>\n<!-- 2 -->\n<g id=\"node3\" class=\"node\">\n<title>2</title>\n<path fill=\"#a26cec\" stroke=\"black\" d=\"M250,-187C250,-187 146,-187 146,-187 140,-187 134,-181 134,-175 134,-175 134,-116 134,-116 134,-110 140,-104 146,-104 146,-104 250,-104 250,-104 256,-104 262,-110 262,-116 262,-116 262,-175 262,-175 262,-181 256,-187 250,-187\"/>\n<text text-anchor=\"middle\" x=\"198\" y=\"-171.8\" font-family=\"Helvetica,sans-Serif\" font-size=\"14.00\">色调 &lt;= 0.938</text>\n<text text-anchor=\"middle\" x=\"198\" y=\"-156.8\" font-family=\"Helvetica,sans-Serif\" font-size=\"14.00\">entropy = 0.732</text>\n<text text-anchor=\"middle\" x=\"198\" y=\"-141.8\" font-family=\"Helvetica,sans-Serif\" font-size=\"14.00\">samples = 39</text>\n<text text-anchor=\"middle\" x=\"198\" y=\"-126.8\" font-family=\"Helvetica,sans-Serif\" font-size=\"14.00\">value = [0, 8, 31]</text>\n<text text-anchor=\"middle\" x=\"198\" y=\"-111.8\" font-family=\"Helvetica,sans-Serif\" font-size=\"14.00\">class = 贝尔摩德</text>\n</g>\n<!-- 1&#45;&gt;2 -->\n<g id=\"edge2\" class=\"edge\">\n<title>1&#45;&gt;2</title>\n<path fill=\"none\" stroke=\"black\" d=\"M287.47,-222.91C276.42,-213.47 264.56,-203.34 253.21,-193.65\"/>\n<polygon fill=\"black\" stroke=\"black\" points=\"255.32,-190.85 245.45,-187.02 250.78,-196.18 255.32,-190.85\"/>\n</g>\n<!-- 5 -->\n<g id=\"node6\" class=\"node\">\n<title>5</title>\n<path fill=\"#42e687\" stroke=\"black\" d=\"M408,-187C408,-187 292,-187 292,-187 286,-187 280,-181 280,-175 280,-175 280,-116 280,-116 280,-110 286,-104 292,-104 292,-104 408,-104 408,-104 414,-104 420,-110 420,-116 420,-116 420,-175 420,-175 420,-181 414,-187 408,-187\"/>\n<text text-anchor=\"middle\" x=\"350\" y=\"-171.8\" font-family=\"Helvetica,sans-Serif\" font-size=\"14.00\">颜色强度 &lt;= 4.854</text>\n<text text-anchor=\"middle\" x=\"350\" y=\"-156.8\" font-family=\"Helvetica,sans-Serif\" font-size=\"14.00\">entropy = 0.267</text>\n<text text-anchor=\"middle\" x=\"350\" y=\"-141.8\" font-family=\"Helvetica,sans-Serif\" font-size=\"14.00\">samples = 22</text>\n<text text-anchor=\"middle\" x=\"350\" y=\"-126.8\" font-family=\"Helvetica,sans-Serif\" font-size=\"14.00\">value = [0, 21, 1]</text>\n<text text-anchor=\"middle\" x=\"350\" y=\"-111.8\" font-family=\"Helvetica,sans-Serif\" font-size=\"14.00\">class = 雪莉</text>\n</g>\n<!-- 1&#45;&gt;5 -->\n<g id=\"edge5\" class=\"edge\">\n<title>1&#45;&gt;5</title>\n<path fill=\"none\" stroke=\"black\" d=\"M340.2,-222.91C341.27,-214.56 342.41,-205.67 343.52,-197.02\"/>\n<polygon fill=\"black\" stroke=\"black\" points=\"347,-197.38 344.81,-187.02 340.06,-196.49 347,-197.38\"/>\n</g>\n<!-- 3 -->\n<g id=\"node4\" class=\"node\">\n<title>3</title>\n<path fill=\"#8e4de8\" stroke=\"black\" d=\"M116,-68C116,-68 12,-68 12,-68 6,-68 0,-62 0,-56 0,-56 0,-12 0,-12 0,-6 6,0 12,0 12,0 116,0 116,0 122,0 128,-6 128,-12 128,-12 128,-56 128,-56 128,-62 122,-68 116,-68\"/>\n<text text-anchor=\"middle\" x=\"64\" y=\"-52.8\" font-family=\"Helvetica,sans-Serif\" font-size=\"14.00\">entropy = 0.439</text>\n<text text-anchor=\"middle\" x=\"64\" y=\"-37.8\" font-family=\"Helvetica,sans-Serif\" font-size=\"14.00\">samples = 33</text>\n<text text-anchor=\"middle\" x=\"64\" y=\"-22.8\" font-family=\"Helvetica,sans-Serif\" font-size=\"14.00\">value = [0, 3, 30]</text>\n<text text-anchor=\"middle\" x=\"64\" y=\"-7.8\" font-family=\"Helvetica,sans-Serif\" font-size=\"14.00\">class = 贝尔摩德</text>\n</g>\n<!-- 2&#45;&gt;3 -->\n<g id=\"edge3\" class=\"edge\">\n<title>2&#45;&gt;3</title>\n<path fill=\"none\" stroke=\"black\" d=\"M148.1,-103.73C136.5,-94.24 124.15,-84.16 112.6,-74.72\"/>\n<polygon fill=\"black\" stroke=\"black\" points=\"114.71,-71.92 104.75,-68.3 110.28,-77.34 114.71,-71.92\"/>\n</g>\n<!-- 4 -->\n<g id=\"node5\" class=\"node\">\n<title>4</title>\n<path fill=\"#61ea9a\" stroke=\"black\" d=\"M247.5,-68C247.5,-68 158.5,-68 158.5,-68 152.5,-68 146.5,-62 146.5,-56 146.5,-56 146.5,-12 146.5,-12 146.5,-6 152.5,0 158.5,0 158.5,0 247.5,0 247.5,0 253.5,0 259.5,-6 259.5,-12 259.5,-12 259.5,-56 259.5,-56 259.5,-62 253.5,-68 247.5,-68\"/>\n<text text-anchor=\"middle\" x=\"203\" y=\"-52.8\" font-family=\"Helvetica,sans-Serif\" font-size=\"14.00\">entropy = 0.65</text>\n<text text-anchor=\"middle\" x=\"203\" y=\"-37.8\" font-family=\"Helvetica,sans-Serif\" font-size=\"14.00\">samples = 6</text>\n<text text-anchor=\"middle\" x=\"203\" y=\"-22.8\" font-family=\"Helvetica,sans-Serif\" font-size=\"14.00\">value = [0, 5, 1]</text>\n<text text-anchor=\"middle\" x=\"203\" y=\"-7.8\" font-family=\"Helvetica,sans-Serif\" font-size=\"14.00\">class = 雪莉</text>\n</g>\n<!-- 2&#45;&gt;4 -->\n<g id=\"edge4\" class=\"edge\">\n<title>2&#45;&gt;4</title>\n<path fill=\"none\" stroke=\"black\" d=\"M199.86,-103.73C200.24,-95.52 200.63,-86.86 201.01,-78.56\"/>\n<polygon fill=\"black\" stroke=\"black\" points=\"204.52,-78.45 201.48,-68.3 197.53,-78.13 204.52,-78.45\"/>\n</g>\n<!-- 6 -->\n<g id=\"node7\" class=\"node\">\n<title>6</title>\n<path fill=\"#39e581\" stroke=\"black\" d=\"M394.5,-68C394.5,-68 297.5,-68 297.5,-68 291.5,-68 285.5,-62 285.5,-56 285.5,-56 285.5,-12 285.5,-12 285.5,-6 291.5,0 297.5,0 297.5,0 394.5,0 394.5,0 400.5,0 406.5,-6 406.5,-12 406.5,-12 406.5,-56 406.5,-56 406.5,-62 400.5,-68 394.5,-68\"/>\n<text text-anchor=\"middle\" x=\"346\" y=\"-52.8\" font-family=\"Helvetica,sans-Serif\" font-size=\"14.00\">entropy = 0.0</text>\n<text text-anchor=\"middle\" x=\"346\" y=\"-37.8\" font-family=\"Helvetica,sans-Serif\" font-size=\"14.00\">samples = 21</text>\n<text text-anchor=\"middle\" x=\"346\" y=\"-22.8\" font-family=\"Helvetica,sans-Serif\" font-size=\"14.00\">value = [0, 21, 0]</text>\n<text text-anchor=\"middle\" x=\"346\" y=\"-7.8\" font-family=\"Helvetica,sans-Serif\" font-size=\"14.00\">class = 雪莉</text>\n</g>\n<!-- 5&#45;&gt;6 -->\n<g id=\"edge6\" class=\"edge\">\n<title>5&#45;&gt;6</title>\n<path fill=\"none\" stroke=\"black\" d=\"M348.51,-103.73C348.21,-95.52 347.89,-86.86 347.59,-78.56\"/>\n<polygon fill=\"black\" stroke=\"black\" points=\"351.08,-78.17 347.22,-68.3 344.08,-78.42 351.08,-78.17\"/>\n</g>\n<!-- 7 -->\n<g id=\"node8\" class=\"node\">\n<title>7</title>\n<path fill=\"#8139e5\" stroke=\"black\" d=\"M541,-68C541,-68 437,-68 437,-68 431,-68 425,-62 425,-56 425,-56 425,-12 425,-12 425,-6 431,0 437,0 437,0 541,0 541,0 547,0 553,-6 553,-12 553,-12 553,-56 553,-56 553,-62 547,-68 541,-68\"/>\n<text text-anchor=\"middle\" x=\"489\" y=\"-52.8\" font-family=\"Helvetica,sans-Serif\" font-size=\"14.00\">entropy = 0.0</text>\n<text text-anchor=\"middle\" x=\"489\" y=\"-37.8\" font-family=\"Helvetica,sans-Serif\" font-size=\"14.00\">samples = 1</text>\n<text text-anchor=\"middle\" x=\"489\" y=\"-22.8\" font-family=\"Helvetica,sans-Serif\" font-size=\"14.00\">value = [0, 0, 1]</text>\n<text text-anchor=\"middle\" x=\"489\" y=\"-7.8\" font-family=\"Helvetica,sans-Serif\" font-size=\"14.00\">class = 贝尔摩德</text>\n</g>\n<!-- 5&#45;&gt;7 -->\n<g id=\"edge7\" class=\"edge\">\n<title>5&#45;&gt;7</title>\n<path fill=\"none\" stroke=\"black\" d=\"M401.76,-103.73C413.8,-94.24 426.6,-84.16 438.58,-74.72\"/>\n<polygon fill=\"black\" stroke=\"black\" points=\"441.04,-77.24 446.73,-68.3 436.71,-71.74 441.04,-77.24\"/>\n</g>\n<!-- 9 -->\n<g id=\"node10\" class=\"node\">\n<title>9</title>\n<path fill=\"#39e581\" stroke=\"black\" d=\"M575.5,-179.5C575.5,-179.5 478.5,-179.5 478.5,-179.5 472.5,-179.5 466.5,-173.5 466.5,-167.5 466.5,-167.5 466.5,-123.5 466.5,-123.5 466.5,-117.5 472.5,-111.5 478.5,-111.5 478.5,-111.5 575.5,-111.5 575.5,-111.5 581.5,-111.5 587.5,-117.5 587.5,-123.5 587.5,-123.5 587.5,-167.5 587.5,-167.5 587.5,-173.5 581.5,-179.5 575.5,-179.5\"/>\n<text text-anchor=\"middle\" x=\"527\" y=\"-164.3\" font-family=\"Helvetica,sans-Serif\" font-size=\"14.00\">entropy = 0.0</text>\n<text text-anchor=\"middle\" x=\"527\" y=\"-149.3\" font-family=\"Helvetica,sans-Serif\" font-size=\"14.00\">samples = 17</text>\n<text text-anchor=\"middle\" x=\"527\" y=\"-134.3\" font-family=\"Helvetica,sans-Serif\" font-size=\"14.00\">value = [0, 17, 0]</text>\n<text text-anchor=\"middle\" x=\"527\" y=\"-119.3\" font-family=\"Helvetica,sans-Serif\" font-size=\"14.00\">class = 雪莉</text>\n</g>\n<!-- 8&#45;&gt;9 -->\n<g id=\"edge9\" class=\"edge\">\n<title>8&#45;&gt;9</title>\n<path fill=\"none\" stroke=\"black\" d=\"M536.14,-222.91C534.86,-212.2 533.48,-200.62 532.18,-189.78\"/>\n<polygon fill=\"black\" stroke=\"black\" points=\"535.63,-189.18 530.97,-179.67 528.68,-190.01 535.63,-189.18\"/>\n</g>\n<!-- 10 -->\n<g id=\"node11\" class=\"node\">\n<title>10</title>\n<path fill=\"#e99457\" stroke=\"black\" d=\"M714.5,-187C714.5,-187 617.5,-187 617.5,-187 611.5,-187 605.5,-181 605.5,-175 605.5,-175 605.5,-116 605.5,-116 605.5,-110 611.5,-104 617.5,-104 617.5,-104 714.5,-104 714.5,-104 720.5,-104 726.5,-110 726.5,-116 726.5,-116 726.5,-175 726.5,-175 726.5,-181 720.5,-187 714.5,-187\"/>\n<text text-anchor=\"middle\" x=\"666\" y=\"-171.8\" font-family=\"Helvetica,sans-Serif\" font-size=\"14.00\">酒精 &lt;= 12.689</text>\n<text text-anchor=\"middle\" x=\"666\" y=\"-156.8\" font-family=\"Helvetica,sans-Serif\" font-size=\"14.00\">entropy = 0.559</text>\n<text text-anchor=\"middle\" x=\"666\" y=\"-141.8\" font-family=\"Helvetica,sans-Serif\" font-size=\"14.00\">samples = 46</text>\n<text text-anchor=\"middle\" x=\"666\" y=\"-126.8\" font-family=\"Helvetica,sans-Serif\" font-size=\"14.00\">value = [40, 6, 0]</text>\n<text text-anchor=\"middle\" x=\"666\" y=\"-111.8\" font-family=\"Helvetica,sans-Serif\" font-size=\"14.00\">class = 琴酒</text>\n</g>\n<!-- 8&#45;&gt;10 -->\n<g id=\"edge10\" class=\"edge\">\n<title>8&#45;&gt;10</title>\n<path fill=\"none\" stroke=\"black\" d=\"M584.37,-222.91C594.35,-213.56 605.06,-203.54 615.33,-193.93\"/>\n<polygon fill=\"black\" stroke=\"black\" points=\"617.8,-196.41 622.71,-187.02 613.02,-191.3 617.8,-196.41\"/>\n</g>\n<!-- 11 -->\n<g id=\"node12\" class=\"node\">\n<title>11</title>\n<path fill=\"#39e581\" stroke=\"black\" d=\"M691.5,-68C691.5,-68 602.5,-68 602.5,-68 596.5,-68 590.5,-62 590.5,-56 590.5,-56 590.5,-12 590.5,-12 590.5,-6 596.5,0 602.5,0 602.5,0 691.5,0 691.5,0 697.5,0 703.5,-6 703.5,-12 703.5,-12 703.5,-56 703.5,-56 703.5,-62 697.5,-68 691.5,-68\"/>\n<text text-anchor=\"middle\" x=\"647\" y=\"-52.8\" font-family=\"Helvetica,sans-Serif\" font-size=\"14.00\">entropy = 0.0</text>\n<text text-anchor=\"middle\" x=\"647\" y=\"-37.8\" font-family=\"Helvetica,sans-Serif\" font-size=\"14.00\">samples = 6</text>\n<text text-anchor=\"middle\" x=\"647\" y=\"-22.8\" font-family=\"Helvetica,sans-Serif\" font-size=\"14.00\">value = [0, 6, 0]</text>\n<text text-anchor=\"middle\" x=\"647\" y=\"-7.8\" font-family=\"Helvetica,sans-Serif\" font-size=\"14.00\">class = 雪莉</text>\n</g>\n<!-- 10&#45;&gt;11 -->\n<g id=\"edge11\" class=\"edge\">\n<title>10&#45;&gt;11</title>\n<path fill=\"none\" stroke=\"black\" d=\"M658.93,-103.73C657.48,-95.43 655.97,-86.67 654.51,-78.28\"/>\n<polygon fill=\"black\" stroke=\"black\" points=\"657.94,-77.55 652.78,-68.3 651.04,-78.75 657.94,-77.55\"/>\n</g>\n<!-- 12 -->\n<g id=\"node13\" class=\"node\">\n<title>12</title>\n<path fill=\"#e58139\" stroke=\"black\" d=\"M830.5,-68C830.5,-68 733.5,-68 733.5,-68 727.5,-68 721.5,-62 721.5,-56 721.5,-56 721.5,-12 721.5,-12 721.5,-6 727.5,0 733.5,0 733.5,0 830.5,0 830.5,0 836.5,0 842.5,-6 842.5,-12 842.5,-12 842.5,-56 842.5,-56 842.5,-62 836.5,-68 830.5,-68\"/>\n<text text-anchor=\"middle\" x=\"782\" y=\"-52.8\" font-family=\"Helvetica,sans-Serif\" font-size=\"14.00\">entropy = 0.0</text>\n<text text-anchor=\"middle\" x=\"782\" y=\"-37.8\" font-family=\"Helvetica,sans-Serif\" font-size=\"14.00\">samples = 40</text>\n<text text-anchor=\"middle\" x=\"782\" y=\"-22.8\" font-family=\"Helvetica,sans-Serif\" font-size=\"14.00\">value = [40, 0, 0]</text>\n<text text-anchor=\"middle\" x=\"782\" y=\"-7.8\" font-family=\"Helvetica,sans-Serif\" font-size=\"14.00\">class = 琴酒</text>\n</g>\n<!-- 10&#45;&gt;12 -->\n<g id=\"edge12\" class=\"edge\">\n<title>10&#45;&gt;12</title>\n<path fill=\"none\" stroke=\"black\" d=\"M709.19,-103.73C719.05,-94.42 729.52,-84.54 739.35,-75.26\"/>\n<polygon fill=\"black\" stroke=\"black\" points=\"741.85,-77.71 746.72,-68.3 737.05,-72.62 741.85,-77.71\"/>\n</g>\n</g>\n</svg>\n",
      "text/plain": [
       "<graphviz.sources.Source at 0x163733fb190>"
      ]
     },
     "execution_count": 77,
     "metadata": {},
     "output_type": "execute_result"
    }
   ],
   "source": [
    "# 实例化 \n",
    "clf = tree.DecisionTreeClassifier(criterion=\"entropy\"\n",
    "                                    ,random_state=30\n",
    "                                    ,splitter=\"random\"\n",
    "                                    ,max_depth=3   # 最多三层\n",
    "                                   # ,min_samples_leaf=10   # 每个分支至少包含10个样本\n",
    "                                   # ,min_samples_split=10\n",
    ")\n",
    "# 注释掉这两个参数以后 score 从0.9 提高到0.94 说明暂时不需要这两个参数\n",
    "\n",
    "\n",
    "# 训练\n",
    "clf = clf.fit(Xtrain, Ytrain)\n",
    "\n",
    "# 画图\n",
    "dot_data = tree.export_graphviz(clf\n",
    "                                ,feature_names= feature_name\n",
    "                                ,class_names=[\"琴酒\",\"雪莉\",\"贝尔摩德\"]\n",
    "                                ,filled=True\n",
    "                                ,rounded=True\n",
    ")\n",
    "\n",
    "graph = graphviz.Source(dot_data)\n",
    "graph"
   ]
  },
  {
   "cell_type": "code",
   "execution_count": 78,
   "metadata": {},
   "outputs": [
    {
     "data": {
      "text/plain": [
       "0.9444444444444444"
      ]
     },
     "execution_count": 78,
     "metadata": {},
     "output_type": "execute_result"
    }
   ],
   "source": [
    "score = clf.score(Xtest,Ytest)\n",
    "score"
   ]
  },
  {
   "cell_type": "markdown",
   "metadata": {},
   "source": [
    "### 2.2 重要属性和接口 \n",
    "\n",
    "属性是在模型训练之后，能够调用查看的模型的各种性质。对决策树来说，最重要的是feature_importances_，能\n",
    "够查看各个特征对模型的重要性\n",
    "\n",
    "所有接口中要求输入X_train和X_test的部分，输入的特征矩阵必须至少是一个二维矩阵。\n",
    "sklearn不接受任何一维矩阵作为特征矩阵被输入。"
   ]
  },
  {
   "cell_type": "markdown",
   "metadata": {},
   "source": [
    "**绘制学习曲线**"
   ]
  },
  {
   "cell_type": "code",
   "execution_count": 81,
   "metadata": {},
   "outputs": [
    {
     "data": {
      "image/png": "[encoded data removed]",
      "text/plain": [
       "<Figure size 432x288 with 1 Axes>"
      ]
     },
     "metadata": {
      "needs_background": "light"
     },
     "output_type": "display_data"
    }
   ],
   "source": [
    "import matplotlib.pyplot as plt\n",
    "test = []\n",
    "\n",
    "# 针对决策树的最大深度绘制学习曲线\n",
    "for i in range(10):\n",
    "    clf = tree.DecisionTreeClassifier(max_depth=i+1\n",
    "                                    ,criterion=\"entropy\"\n",
    "                                    ,random_state=30\n",
    "                                    ,splitter=\"random\"\n",
    "                                    )\n",
    "    clf = clf.fit(Xtrain, Ytrain)\n",
    "    score = clf.score(Xtest, Ytest)\n",
    "    \n",
    "    test.append(score)\n",
    "\n",
    "\n",
    "plt.plot(range(1,11),test,color=\"red\",label=\"max_depth\")\n",
    "plt.legend()\n",
    "plt.show()"
   ]
  },
  {
   "cell_type": "markdown",
   "metadata": {},
   "source": [
    "深度为4时 就达到拟合的最好结果"
   ]
  },
  {
   "cell_type": "markdown",
   "metadata": {},
   "source": [
    "## 3.DecisionTreeRegression\n",
    "\n",
    "```\n",
    "class sklearn.tree.DecisionTreeRegressor (criterion=’mse’, splitter=’best’, max_depth=None,\n",
    "min_samples_split=2, min_samples_leaf=1, min_weight_fraction_leaf=0.0, max_features=None,\n",
    "random_state=None, max_leaf_nodes=None, min_impurity_decrease=0.0, min_impurity_split=None, presort=False)\n",
    "```\n",
    "\n",
    "几乎所有参数，属性及接口都和分类树一模一样。需要注意的是，在回归树种，没有标签分布是否均衡的问题，因\n",
    "此没有class_weight这样的参数。\n"
   ]
  },
  {
   "cell_type": "markdown",
   "metadata": {},
   "source": [
    "### 3.1 重要参数，属性及接口"
   ]
  },
  {
   "cell_type": "markdown",
   "metadata": {},
   "source": [
    "**criterion**\n",
    "\n",
    "回归问题 不存在有不纯度的问题\n",
    "\n",
    "1. 输入`mse`使用均方误差mean squared error(MSE)，父节点和叶子节点之间的均方误差的差额将被用来作为\n",
    "特征选择的标准，这种方法通过使用叶子节点的均值来最小化L2损失\n",
    "2. 输入`friedman_mse`使用费尔德曼均方误差，这种指标使用弗里德曼针对潜在分枝中的问题改进后的均方误差\n",
    "3. 输入`mae`使用绝对平均误差MAE（mean absolute error），这种指标使用叶节点的中值来最小化L1损失\n",
    "属性中最重要的依然是feature_importances_，接口依然是apply, fit, predict, score最核心。\n",
    "\n",
    "\n",
    "在回归树中，`MSE`不只是我们的分枝质量衡量指标，也是我们最常用的衡量回归树回归质量的指标，当我们在使用交叉验证，或者其他方式获取回归树的结果时，我们往往选择均方误差作为我们的评估（在分类树中这个指标是score代表的预测准确率）。在回归中，我们追求的是，MSE越小越好。\n",
    "\n",
    "然而，回归树的接口score返回的是R平方，并不是MSE。\n",
    "\n",
    "虽然均方误差永远为正，但是sklearn当中使用均方误差作为评判标准时，却是计算”负均方误差“（neg_mean_squared_error）"
   ]
  },
  {
   "cell_type": "markdown",
   "metadata": {},
   "source": [
    "**交叉验证**\n",
    "\n",
    "from sklearn.model_selection import cross_val_score\n",
    "\n",
    "\n",
    "交叉验证是用来观察模型的稳定性的一种方法，我们将数据划分为n份，依次使用其中一份作为测试集，其他n-1份\n",
    "作为训练集，多次计算模型的精确性来评估模型的平均准确程度。"
   ]
  },
  {
   "cell_type": "code",
   "execution_count": 1,
   "metadata": {},
   "outputs": [],
   "source": [
    "from sklearn.datasets import load_boston\n",
    "\n",
    "# 回归问题 换了一个数据集\n",
    "\n",
    "from sklearn.model_selection import cross_val_score\n",
    "from sklearn.tree import DecisionTreeRegressor"
   ]
  },
  {
   "cell_type": "code",
   "execution_count": 4,
   "metadata": {},
   "outputs": [
    {
     "data": {
      "text/plain": [
       "{'data': array([[6.3200e-03, 1.8000e+01, 2.3100e+00, ..., 1.5300e+01, 3.9690e+02,\n",
       "         4.9800e+00],\n",
       "        [2.7310e-02, 0.0000e+00, 7.0700e+00, ..., 1.7800e+01, 3.9690e+02,\n",
       "         9.1400e+00],\n",
       "        [2.7290e-02, 0.0000e+00, 7.0700e+00, ..., 1.7800e+01, 3.9283e+02,\n",
       "         4.0300e+00],\n",
       "        ...,\n",
       "        [6.0760e-02, 0.0000e+00, 1.1930e+01, ..., 2.1000e+01, 3.9690e+02,\n",
       "         5.6400e+00],\n",
       "        [1.0959e-01, 0.0000e+00, 1.1930e+01, ..., 2.1000e+01, 3.9345e+02,\n",
       "         6.4800e+00],\n",
       "        [4.7410e-02, 0.0000e+00, 1.1930e+01, ..., 2.1000e+01, 3.9690e+02,\n",
       "         7.8800e+00]]),\n",
       " 'target': array([24. , 21.6, 34.7, 33.4, 36.2, 28.7, 22.9, 27.1, 16.5, 18.9, 15. ,\n",
       "        18.9, 21.7, 20.4, 18.2, 19.9, 23.1, 17.5, 20.2, 18.2, 13.6, 19.6,\n",
       "        15.2, 14.5, 15.6, 13.9, 16.6, 14.8, 18.4, 21. , 12.7, 14.5, 13.2,\n",
       "        13.1, 13.5, 18.9, 20. , 21. , 24.7, 30.8, 34.9, 26.6, 25.3, 24.7,\n",
       "        21.2, 19.3, 20. , 16.6, 14.4, 19.4, 19.7, 20.5, 25. , 23.4, 18.9,\n",
       "        35.4, 24.7, 31.6, 23.3, 19.6, 18.7, 16. , 22.2, 25. , 33. , 23.5,\n",
       "        19.4, 22. , 17.4, 20.9, 24.2, 21.7, 22.8, 23.4, 24.1, 21.4, 20. ,\n",
       "        20.8, 21.2, 20.3, 28. , 23.9, 24.8, 22.9, 23.9, 26.6, 22.5, 22.2,\n",
       "        23.6, 28.7, 22.6, 22. , 22.9, 25. , 20.6, 28.4, 21.4, 38.7, 43.8,\n",
       "        33.2, 27.5, 26.5, 18.6, 19.3, 20.1, 19.5, 19.5, 20.4, 19.8, 19.4,\n",
       "        21.7, 22.8, 18.8, 18.7, 18.5, 18.3, 21.2, 19.2, 20.4, 19.3, 22. ,\n",
       "        20.3, 20.5, 17.3, 18.8, 21.4, 15.7, 16.2, 18. , 14.3, 19.2, 19.6,\n",
       "        23. , 18.4, 15.6, 18.1, 17.4, 17.1, 13.3, 17.8, 14. , 14.4, 13.4,\n",
       "        15.6, 11.8, 13.8, 15.6, 14.6, 17.8, 15.4, 21.5, 19.6, 15.3, 19.4,\n",
       "        17. , 15.6, 13.1, 41.3, 24.3, 23.3, 27. , 50. , 50. , 50. , 22.7,\n",
       "        25. , 50. , 23.8, 23.8, 22.3, 17.4, 19.1, 23.1, 23.6, 22.6, 29.4,\n",
       "        23.2, 24.6, 29.9, 37.2, 39.8, 36.2, 37.9, 32.5, 26.4, 29.6, 50. ,\n",
       "        32. , 29.8, 34.9, 37. , 30.5, 36.4, 31.1, 29.1, 50. , 33.3, 30.3,\n",
       "        34.6, 34.9, 32.9, 24.1, 42.3, 48.5, 50. , 22.6, 24.4, 22.5, 24.4,\n",
       "        20. , 21.7, 19.3, 22.4, 28.1, 23.7, 25. , 23.3, 28.7, 21.5, 23. ,\n",
       "        26.7, 21.7, 27.5, 30.1, 44.8, 50. , 37.6, 31.6, 46.7, 31.5, 24.3,\n",
       "        31.7, 41.7, 48.3, 29. , 24. , 25.1, 31.5, 23.7, 23.3, 22. , 20.1,\n",
       "        22.2, 23.7, 17.6, 18.5, 24.3, 20.5, 24.5, 26.2, 24.4, 24.8, 29.6,\n",
       "        42.8, 21.9, 20.9, 44. , 50. , 36. , 30.1, 33.8, 43.1, 48.8, 31. ,\n",
       "        36.5, 22.8, 30.7, 50. , 43.5, 20.7, 21.1, 25.2, 24.4, 35.2, 32.4,\n",
       "        32. , 33.2, 33.1, 29.1, 35.1, 45.4, 35.4, 46. , 50. , 32.2, 22. ,\n",
       "        20.1, 23.2, 22.3, 24.8, 28.5, 37.3, 27.9, 23.9, 21.7, 28.6, 27.1,\n",
       "        20.3, 22.5, 29. , 24.8, 22. , 26.4, 33.1, 36.1, 28.4, 33.4, 28.2,\n",
       "        22.8, 20.3, 16.1, 22.1, 19.4, 21.6, 23.8, 16.2, 17.8, 19.8, 23.1,\n",
       "        21. , 23.8, 23.1, 20.4, 18.5, 25. , 24.6, 23. , 22.2, 19.3, 22.6,\n",
       "        19.8, 17.1, 19.4, 22.2, 20.7, 21.1, 19.5, 18.5, 20.6, 19. , 18.7,\n",
       "        32.7, 16.5, 23.9, 31.2, 17.5, 17.2, 23.1, 24.5, 26.6, 22.9, 24.1,\n",
       "        18.6, 30.1, 18.2, 20.6, 17.8, 21.7, 22.7, 22.6, 25. , 19.9, 20.8,\n",
       "        16.8, 21.9, 27.5, 21.9, 23.1, 50. , 50. , 50. , 50. , 50. , 13.8,\n",
       "        13.8, 15. , 13.9, 13.3, 13.1, 10.2, 10.4, 10.9, 11.3, 12.3,  8.8,\n",
       "         7.2, 10.5,  7.4, 10.2, 11.5, 15.1, 23.2,  9.7, 13.8, 12.7, 13.1,\n",
       "        12.5,  8.5,  5. ,  6.3,  5.6,  7.2, 12.1,  8.3,  8.5,  5. , 11.9,\n",
       "        27.9, 17.2, 27.5, 15. , 17.2, 17.9, 16.3,  7. ,  7.2,  7.5, 10.4,\n",
       "         8.8,  8.4, 16.7, 14.2, 20.8, 13.4, 11.7,  8.3, 10.2, 10.9, 11. ,\n",
       "         9.5, 14.5, 14.1, 16.1, 14.3, 11.7, 13.4,  9.6,  8.7,  8.4, 12.8,\n",
       "        10.5, 17.1, 18.4, 15.4, 10.8, 11.8, 14.9, 12.6, 14.1, 13. , 13.4,\n",
       "        15.2, 16.1, 17.8, 14.9, 14.1, 12.7, 13.5, 14.9, 20. , 16.4, 17.7,\n",
       "        19.5, 20.2, 21.4, 19.9, 19. , 19.1, 19.1, 20.1, 19.9, 19.6, 23.2,\n",
       "        29.8, 13.8, 13.3, 16.7, 12. , 14.6, 21.4, 23. , 23.7, 25. , 21.8,\n",
       "        20.6, 21.2, 19.1, 20.6, 15.2,  7. ,  8.1, 13.6, 20.1, 21.8, 24.5,\n",
       "        23.1, 19.7, 18.3, 21.2, 17.5, 16.8, 22.4, 20.6, 23.9, 22. , 11.9]),\n",
       " 'feature_names': array(['CRIM', 'ZN', 'INDUS', 'CHAS', 'NOX', 'RM', 'AGE', 'DIS', 'RAD',\n",
       "        'TAX', 'PTRATIO', 'B', 'LSTAT'], dtype='<U7'),\n",
       " 'DESCR': \".. _boston_dataset:\\n\\nBoston house prices dataset\\n---------------------------\\n\\n**Data Set Characteristics:**  \\n\\n    :Number of Instances: 506 \\n\\n    :Number of Attributes: 13 numeric/categorical predictive. Median Value (attribute 14) is usually the target.\\n\\n    :Attribute Information (in order):\\n        - CRIM     per capita crime rate by town\\n        - ZN       proportion of residential land zoned for lots over 25,000 sq.ft.\\n        - INDUS    proportion of non-retail business acres per town\\n        - CHAS     Charles River dummy variable (= 1 if tract bounds river; 0 otherwise)\\n        - NOX      nitric oxides concentration (parts per 10 million)\\n        - RM       average number of rooms per dwelling\\n        - AGE      proportion of owner-occupied units built prior to 1940\\n        - DIS      weighted distances to five Boston employment centres\\n        - RAD      index of accessibility to radial highways\\n        - TAX      full-value property-tax rate per $10,000\\n        - PTRATIO  pupil-teacher ratio by town\\n        - B        1000(Bk - 0.63)^2 where Bk is the proportion of black people by town\\n        - LSTAT    % lower status of the population\\n        - MEDV     Median value of owner-occupied homes in $1000's\\n\\n    :Missing Attribute Values: None\\n\\n    :Creator: Harrison, D. and Rubinfeld, D.L.\\n\\nThis is a copy of UCI ML housing dataset.\\nhttps://archive.ics.uci.edu/ml/machine-learning-databases/housing/\\n\\n\\nThis dataset was taken from the StatLib library which is maintained at Carnegie Mellon University.\\n\\nThe Boston house-price data of Harrison, D. and Rubinfeld, D.L. 'Hedonic\\nprices and the demand for clean air', J. Environ. Economics & Management,\\nvol.5, 81-102, 1978.   Used in Belsley, Kuh & Welsch, 'Regression diagnostics\\n...', Wiley, 1980.   N.B. Various transformations are used in the table on\\npages 244-261 of the latter.\\n\\nThe Boston house-price data has been used in many machine learning papers that address regression\\nproblems.   \\n     \\n.. topic:: References\\n\\n   - Belsley, Kuh & Welsch, 'Regression diagnostics: Identifying Influential Data and Sources of Collinearity', Wiley, 1980. 244-261.\\n   - Quinlan,R. (1993). Combining Instance-Based and Model-Based Learning. In Proceedings on the Tenth International Conference of Machine Learning, 236-243, University of Massachusetts, Amherst. Morgan Kaufmann.\\n\",\n",
       " 'filename': 'boston_house_prices.csv',\n",
       " 'data_module': 'sklearn.datasets.data'}"
      ]
     },
     "execution_count": 4,
     "metadata": {},
     "output_type": "execute_result"
    }
   ],
   "source": [
    "boston = load_boston()\n",
    "boston"
   ]
  },
  {
   "cell_type": "code",
   "execution_count": 8,
   "metadata": {},
   "outputs": [
    {
     "data": {
      "text/plain": [
       "array([ 0.655776  ,  0.61674928,  0.64822751,  0.37931099, -0.97794758])"
      ]
     },
     "execution_count": 8,
     "metadata": {},
     "output_type": "execute_result"
    }
   ],
   "source": [
    "regressor = DecisionTreeRegressor(random_state=0)  # 实例化\n",
    "cross_val_score(regressor,\n",
    "                boston.data,    # 完整的数据集 不需要划分\n",
    "                boston.target,  # 完成的表情\n",
    "                cv=5,          # 做5次交叉验证   默认5次\n",
    "               # scoring='neg_mean_squared_error'   # 衡量模型的分数 负的均方误差\n",
    ")\n",
    "\n"
   ]
  },
  {
   "cell_type": "markdown",
   "metadata": {},
   "source": [
    "对于回归问题 默认返回R2 越接近1越好\n",
    "\n",
    "一般的均方误差非负 MSE 越接近0绝好"
   ]
  },
  {
   "cell_type": "markdown",
   "metadata": {},
   "source": [
    "#### 3.2 实例：一维回归的图像绘制\n",
    "\n",
    "用回归数来拟合正弦曲线，并且加入噪声查看的拟合的情况"
   ]
  },
  {
   "cell_type": "markdown",
   "metadata": {},
   "source": [
    "1.导入需要的库"
   ]
  },
  {
   "cell_type": "code",
   "execution_count": 9,
   "metadata": {},
   "outputs": [],
   "source": [
    "import numpy as np\n",
    "from sklearn.tree import DecisionTreeRegressor\n",
    "import matplotlib.pyplot as plt"
   ]
  },
  {
   "cell_type": "markdown",
   "metadata": {},
   "source": [
    "2.创建一个含有噪声的sin 曲线\n",
    "\n",
    "在这一步，我们的基本思路是，先创建一组随机的，分布在0~5上的横坐标轴的取值(x)，然后将这一组值放到sin函\n",
    "数中去生成纵坐标的值(y)，接着再到y上去添加噪声。\n",
    "\n",
    "- rand()随机生成多少个[0,1]之间的随机数随机数\n",
    "  - rand(2,3) 生成2行3列的随机数\n",
    "- 为什么要建立二维数组 不直接生成数 fit()接口中要求数据是二维的 \n"
   ]
  },
  {
   "cell_type": "code",
   "execution_count": 19,
   "metadata": {},
   "outputs": [
    {
     "data": {
      "text/plain": [
       "<matplotlib.collections.PathCollection at 0x262a3c16e00>"
      ]
     },
     "execution_count": 19,
     "metadata": {},
     "output_type": "execute_result"
    },
    {
     "data": {
      "image/png": "[encoded data removed]",
      "text/plain": [
       "<Figure size 432x288 with 1 Axes>"
      ]
     },
     "metadata": {
      "needs_background": "light"
     },
     "output_type": "display_data"
    }
   ],
   "source": [
    "# ————————————生成随机数——————————\n",
    "rng = np.random.RandomState(1)  #  生成随机数种子  随便输入什么数都可以\n",
    "\n",
    "# 5 * rng.rand(80,1)    \n",
    "# rand()随机生成多少个[0,1]之间的随机数随机数  基于上面的随机种子  \n",
    "\n",
    "\n",
    "X = np.sort( 5 * rng.rand(80,1),axis=0)  # 横轴上进行排序\n",
    "y = np.sin(X).ravel()   \n",
    "# ravel() 降维 np.sin(x) 生成的是二维数组 而我们的标签需要是一维的\n",
    "\n",
    "\n",
    "#——————————对y添加噪声——————————\n",
    "y[::5] += 3 * (0.5 - rng.rand(16))   # 对y每隔5个数据 一共16个数据进行干扰 \n",
    "# 3 * [-0.5,0.5] 之间的扰动\n",
    "y\n",
    "\n",
    "plt.figure()\n",
    "plt.scatter(X, y, s=20, edgecolor=\"black\",c=\"darkorange\", label=\"data\")"
   ]
  },
  {
   "cell_type": "markdown",
   "metadata": {},
   "source": [
    "3.实例化&训练模型"
   ]
  },
  {
   "cell_type": "code",
   "execution_count": 22,
   "metadata": {},
   "outputs": [
    {
     "data": {
      "text/plain": [
       "DecisionTreeRegressor(max_depth=5)"
      ]
     },
     "execution_count": 22,
     "metadata": {},
     "output_type": "execute_result"
    }
   ],
   "source": [
    "regr_1 = DecisionTreeRegressor(max_depth=2)\n",
    "regr_2 = DecisionTreeRegressor(max_depth=5)\n",
    "regr_1.fit(X,y)\n",
    "regr_2.fit(X,y)"
   ]
  },
  {
   "cell_type": "markdown",
   "metadata": {},
   "source": [
    "4.测试集导入模型，预测结果\n",
    "\n",
    "- np.arange(start,end,步长)\n",
    "- newaxis 增加维度 ,类似于reval()的相反"
   ]
  },
  {
   "cell_type": "code",
   "execution_count": 25,
   "metadata": {},
   "outputs": [
    {
     "data": {
      "text/plain": [
       "(1, 4)"
      ]
     },
     "execution_count": 25,
     "metadata": {},
     "output_type": "execute_result"
    }
   ],
   "source": [
    "#了解增维切片np.newaxis的用法\n",
    "\n",
    "l = np.array([1,2,3,4])\n",
    "l \n",
    "l.shape\n",
    "l[:,np.newaxis]\n",
    "l[:,np.newaxis].shape  #（1,4）\n",
    "l[np.newaxis,:].shape  #（4,1）"
   ]
  },
  {
   "cell_type": "code",
   "execution_count": 28,
   "metadata": {},
   "outputs": [],
   "source": [
    "X_test = np.arange(0.0, 5.0, 0.01)[:, np.newaxis]\n",
    "y_1 = regr_1.predict(X_test)\n",
    "y_2 = regr_2.predict(X_test)\n"
   ]
  },
  {
   "cell_type": "markdown",
   "metadata": {},
   "source": [
    "5.绘制图像\n",
    "\n",
    "- dgecolor=\"black\", 散点边框的颜色\n",
    "- c=\"darkorange\", 散点 填充的颜色\n",
    "-  label=\"data\" 标签\n",
    "-  plt.plot() 折线图\n",
    "   -  color=\"cornflowerblue\", 颜色\n",
    "   -  label=\"max_depth=2\", \n",
    "   -  linewidth=2)  线宽\n"
   ]
  },
  {
   "cell_type": "code",
   "execution_count": 30,
   "metadata": {},
   "outputs": [
    {
     "data": {
      "image/png": "[encoded data removed]",
      "text/plain": [
       "<Figure size 432x288 with 1 Axes>"
      ]
     },
     "metadata": {
      "needs_background": "light"
     },
     "output_type": "display_data"
    }
   ],
   "source": [
    "plt.figure()\n",
    "plt.scatter(X, y, s=20, edgecolor=\"black\",c=\"darkorange\", label=\"data\")\n",
    "plt.plot(X_test, y_1, color=\"cornflowerblue\",label=\"max_depth=2\", linewidth=2)\n",
    "plt.plot(X_test, y_2, color=\"yellowgreen\", label=\"max_depth=5\", linewidth=2)\n",
    "plt.xlabel(\"data\")\n",
    "plt.ylabel(\"target\")\n",
    "plt.title(\"Decision Tree Regression\")\n",
    "plt.legend()   # 显示图例\n",
    "plt.show()"
   ]
  },
  {
   "cell_type": "markdown",
   "metadata": {},
   "source": [
    "最大深度为2时，还算是比较接近\n",
    "最大深度为5时，更强的拟合 有点过拟合了\n",
    "\n",
    "可见，回归树学习了近似正弦曲线的局部线性回归。我们可以看到，如果树的最大深度（由max_depth参数控制）\n",
    "设置得太高，则决策树学习得太精细，它从训练数据中学了很多细节，包括噪声得呈现，从而使模型偏离真实的正\n",
    "弦曲线，形成过拟合"
   ]
  },
  {
   "cell_type": "markdown",
   "metadata": {},
   "source": [
    "## 4.实例：泰坦尼克号幸存者的预测\n",
    "\n",
    "分类树模型来预测一下哪些人可能成为幸存者"
   ]
  },
  {
   "cell_type": "markdown",
   "metadata": {},
   "source": [
    "1.导入需要的库"
   ]
  },
  {
   "cell_type": "code",
   "execution_count": 54,
   "metadata": {},
   "outputs": [],
   "source": [
    "import pandas as pd\n",
    "from sklearn.tree import DecisionTreeClassifier\n",
    "import matplotlib.pyplot as plt\n",
    "from sklearn.model_selection import GridSearchCV\n",
    "from sklearn.model_selection import train_test_split"
   ]
  },
  {
   "cell_type": "markdown",
   "metadata": {},
   "source": [
    "2.导入数据集\n",
    "\n",
    "- .info()\n",
    "- .head() 默认查看前5行"
   ]
  },
  {
   "cell_type": "code",
   "execution_count": 34,
   "metadata": {},
   "outputs": [
    {
     "data": {
      "text/html": [
       "<div>\n",
       "<style scoped>\n",
       "    .dataframe tbody tr th:only-of-type {\n",
       "        vertical-align: middle;\n",
       "    }\n",
       "\n",
       "    .dataframe tbody tr th {\n",
       "        vertical-align: top;\n",
       "    }\n",
       "\n",
       "    .dataframe thead th {\n",
       "        text-align: right;\n",
       "    }\n",
       "</style>\n",
       "<table border=\"1\" class=\"dataframe\">\n",
       "  <thead>\n",
       "    <tr style=\"text-align: right;\">\n",
       "      <th></th>\n",
       "      <th>PassengerId</th>\n",
       "      <th>Survived</th>\n",
       "      <th>Pclass</th>\n",
       "      <th>Name</th>\n",
       "      <th>Sex</th>\n",
       "      <th>Age</th>\n",
       "      <th>SibSp</th>\n",
       "      <th>Parch</th>\n",
       "      <th>Ticket</th>\n",
       "      <th>Fare</th>\n",
       "      <th>Cabin</th>\n",
       "      <th>Embarked</th>\n",
       "    </tr>\n",
       "  </thead>\n",
       "  <tbody>\n",
       "    <tr>\n",
       "      <th>0</th>\n",
       "      <td>1</td>\n",
       "      <td>0</td>\n",
       "      <td>3</td>\n",
       "      <td>Braund, Mr. Owen Harris</td>\n",
       "      <td>male</td>\n",
       "      <td>22.0</td>\n",
       "      <td>1</td>\n",
       "      <td>0</td>\n",
       "      <td>A/5 21171</td>\n",
       "      <td>7.2500</td>\n",
       "      <td>NaN</td>\n",
       "      <td>S</td>\n",
       "    </tr>\n",
       "    <tr>\n",
       "      <th>1</th>\n",
       "      <td>2</td>\n",
       "      <td>1</td>\n",
       "      <td>1</td>\n",
       "      <td>Cumings, Mrs. John Bradley (Florence Briggs Th...</td>\n",
       "      <td>female</td>\n",
       "      <td>38.0</td>\n",
       "      <td>1</td>\n",
       "      <td>0</td>\n",
       "      <td>PC 17599</td>\n",
       "      <td>71.2833</td>\n",
       "      <td>C85</td>\n",
       "      <td>C</td>\n",
       "    </tr>\n",
       "    <tr>\n",
       "      <th>2</th>\n",
       "      <td>3</td>\n",
       "      <td>1</td>\n",
       "      <td>3</td>\n",
       "      <td>Heikkinen, Miss. Laina</td>\n",
       "      <td>female</td>\n",
       "      <td>26.0</td>\n",
       "      <td>0</td>\n",
       "      <td>0</td>\n",
       "      <td>STON/O2. 3101282</td>\n",
       "      <td>7.9250</td>\n",
       "      <td>NaN</td>\n",
       "      <td>S</td>\n",
       "    </tr>\n",
       "    <tr>\n",
       "      <th>3</th>\n",
       "      <td>4</td>\n",
       "      <td>1</td>\n",
       "      <td>1</td>\n",
       "      <td>Futrelle, Mrs. Jacques Heath (Lily May Peel)</td>\n",
       "      <td>female</td>\n",
       "      <td>35.0</td>\n",
       "      <td>1</td>\n",
       "      <td>0</td>\n",
       "      <td>113803</td>\n",
       "      <td>53.1000</td>\n",
       "      <td>C123</td>\n",
       "      <td>S</td>\n",
       "    </tr>\n",
       "    <tr>\n",
       "      <th>4</th>\n",
       "      <td>5</td>\n",
       "      <td>0</td>\n",
       "      <td>3</td>\n",
       "      <td>Allen, Mr. William Henry</td>\n",
       "      <td>male</td>\n",
       "      <td>35.0</td>\n",
       "      <td>0</td>\n",
       "      <td>0</td>\n",
       "      <td>373450</td>\n",
       "      <td>8.0500</td>\n",
       "      <td>NaN</td>\n",
       "      <td>S</td>\n",
       "    </tr>\n",
       "    <tr>\n",
       "      <th>...</th>\n",
       "      <td>...</td>\n",
       "      <td>...</td>\n",
       "      <td>...</td>\n",
       "      <td>...</td>\n",
       "      <td>...</td>\n",
       "      <td>...</td>\n",
       "      <td>...</td>\n",
       "      <td>...</td>\n",
       "      <td>...</td>\n",
       "      <td>...</td>\n",
       "      <td>...</td>\n",
       "      <td>...</td>\n",
       "    </tr>\n",
       "    <tr>\n",
       "      <th>886</th>\n",
       "      <td>887</td>\n",
       "      <td>0</td>\n",
       "      <td>2</td>\n",
       "      <td>Montvila, Rev. Juozas</td>\n",
       "      <td>male</td>\n",
       "      <td>27.0</td>\n",
       "      <td>0</td>\n",
       "      <td>0</td>\n",
       "      <td>211536</td>\n",
       "      <td>13.0000</td>\n",
       "      <td>NaN</td>\n",
       "      <td>S</td>\n",
       "    </tr>\n",
       "    <tr>\n",
       "      <th>887</th>\n",
       "      <td>888</td>\n",
       "      <td>1</td>\n",
       "      <td>1</td>\n",
       "      <td>Graham, Miss. Margaret Edith</td>\n",
       "      <td>female</td>\n",
       "      <td>19.0</td>\n",
       "      <td>0</td>\n",
       "      <td>0</td>\n",
       "      <td>112053</td>\n",
       "      <td>30.0000</td>\n",
       "      <td>B42</td>\n",
       "      <td>S</td>\n",
       "    </tr>\n",
       "    <tr>\n",
       "      <th>888</th>\n",
       "      <td>889</td>\n",
       "      <td>0</td>\n",
       "      <td>3</td>\n",
       "      <td>Johnston, Miss. Catherine Helen \"Carrie\"</td>\n",
       "      <td>female</td>\n",
       "      <td>NaN</td>\n",
       "      <td>1</td>\n",
       "      <td>2</td>\n",
       "      <td>W./C. 6607</td>\n",
       "      <td>23.4500</td>\n",
       "      <td>NaN</td>\n",
       "      <td>S</td>\n",
       "    </tr>\n",
       "    <tr>\n",
       "      <th>889</th>\n",
       "      <td>890</td>\n",
       "      <td>1</td>\n",
       "      <td>1</td>\n",
       "      <td>Behr, Mr. Karl Howell</td>\n",
       "      <td>male</td>\n",
       "      <td>26.0</td>\n",
       "      <td>0</td>\n",
       "      <td>0</td>\n",
       "      <td>111369</td>\n",
       "      <td>30.0000</td>\n",
       "      <td>C148</td>\n",
       "      <td>C</td>\n",
       "    </tr>\n",
       "    <tr>\n",
       "      <th>890</th>\n",
       "      <td>891</td>\n",
       "      <td>0</td>\n",
       "      <td>3</td>\n",
       "      <td>Dooley, Mr. Patrick</td>\n",
       "      <td>male</td>\n",
       "      <td>32.0</td>\n",
       "      <td>0</td>\n",
       "      <td>0</td>\n",
       "      <td>370376</td>\n",
       "      <td>7.7500</td>\n",
       "      <td>NaN</td>\n",
       "      <td>Q</td>\n",
       "    </tr>\n",
       "  </tbody>\n",
       "</table>\n",
       "<p>891 rows × 12 columns</p>\n",
       "</div>"
      ],
      "text/plain": [
       "     PassengerId  Survived  Pclass  \\\n",
       "0              1         0       3   \n",
       "1              2         1       1   \n",
       "2              3         1       3   \n",
       "3              4         1       1   \n",
       "4              5         0       3   \n",
       "..           ...       ...     ...   \n",
       "886          887         0       2   \n",
       "887          888         1       1   \n",
       "888          889         0       3   \n",
       "889          890         1       1   \n",
       "890          891         0       3   \n",
       "\n",
       "                                                  Name     Sex   Age  SibSp  \\\n",
       "0                              Braund, Mr. Owen Harris    male  22.0      1   \n",
       "1    Cumings, Mrs. John Bradley (Florence Briggs Th...  female  38.0      1   \n",
       "2                               Heikkinen, Miss. Laina  female  26.0      0   \n",
       "3         Futrelle, Mrs. Jacques Heath (Lily May Peel)  female  35.0      1   \n",
       "4                             Allen, Mr. William Henry    male  35.0      0   \n",
       "..                                                 ...     ...   ...    ...   \n",
       "886                              Montvila, Rev. Juozas    male  27.0      0   \n",
       "887                       Graham, Miss. Margaret Edith  female  19.0      0   \n",
       "888           Johnston, Miss. Catherine Helen \"Carrie\"  female   NaN      1   \n",
       "889                              Behr, Mr. Karl Howell    male  26.0      0   \n",
       "890                                Dooley, Mr. Patrick    male  32.0      0   \n",
       "\n",
       "     Parch            Ticket     Fare Cabin Embarked  \n",
       "0        0         A/5 21171   7.2500   NaN        S  \n",
       "1        0          PC 17599  71.2833   C85        C  \n",
       "2        0  STON/O2. 3101282   7.9250   NaN        S  \n",
       "3        0            113803  53.1000  C123        S  \n",
       "4        0            373450   8.0500   NaN        S  \n",
       "..     ...               ...      ...   ...      ...  \n",
       "886      0            211536  13.0000   NaN        S  \n",
       "887      0            112053  30.0000   B42        S  \n",
       "888      2        W./C. 6607  23.4500   NaN        S  \n",
       "889      0            111369  30.0000  C148        C  \n",
       "890      0            370376   7.7500   NaN        Q  \n",
       "\n",
       "[891 rows x 12 columns]"
      ]
     },
     "execution_count": 34,
     "metadata": {},
     "output_type": "execute_result"
    }
   ],
   "source": [
    "data = pd.read_csv('./DATASETS/data.csv')\n",
    "data  # 标签不在最后一列 "
   ]
  },
  {
   "cell_type": "code",
   "execution_count": 35,
   "metadata": {},
   "outputs": [
    {
     "name": "stdout",
     "output_type": "stream",
     "text": [
      "<class 'pandas.core.frame.DataFrame'>\n",
      "RangeIndex: 891 entries, 0 to 890\n",
      "Data columns (total 12 columns):\n",
      " #   Column       Non-Null Count  Dtype  \n",
      "---  ------       --------------  -----  \n",
      " 0   PassengerId  891 non-null    int64  \n",
      " 1   Survived     891 non-null    int64  \n",
      " 2   Pclass       891 non-null    int64  \n",
      " 3   Name         891 non-null    object \n",
      " 4   Sex          891 non-null    object \n",
      " 5   Age          714 non-null    float64\n",
      " 6   SibSp        891 non-null    int64  \n",
      " 7   Parch        891 non-null    int64  \n",
      " 8   Ticket       891 non-null    object \n",
      " 9   Fare         891 non-null    float64\n",
      " 10  Cabin        204 non-null    object \n",
      " 11  Embarked     889 non-null    object \n",
      "dtypes: float64(2), int64(5), object(5)\n",
      "memory usage: 83.7+ KB\n"
     ]
    }
   ],
   "source": [
    "data.info()"
   ]
  },
  {
   "cell_type": "code",
   "execution_count": 36,
   "metadata": {},
   "outputs": [
    {
     "data": {
      "text/html": [
       "<div>\n",
       "<style scoped>\n",
       "    .dataframe tbody tr th:only-of-type {\n",
       "        vertical-align: middle;\n",
       "    }\n",
       "\n",
       "    .dataframe tbody tr th {\n",
       "        vertical-align: top;\n",
       "    }\n",
       "\n",
       "    .dataframe thead th {\n",
       "        text-align: right;\n",
       "    }\n",
       "</style>\n",
       "<table border=\"1\" class=\"dataframe\">\n",
       "  <thead>\n",
       "    <tr style=\"text-align: right;\">\n",
       "      <th></th>\n",
       "      <th>PassengerId</th>\n",
       "      <th>Survived</th>\n",
       "      <th>Pclass</th>\n",
       "      <th>Name</th>\n",
       "      <th>Sex</th>\n",
       "      <th>Age</th>\n",
       "      <th>SibSp</th>\n",
       "      <th>Parch</th>\n",
       "      <th>Ticket</th>\n",
       "      <th>Fare</th>\n",
       "      <th>Cabin</th>\n",
       "      <th>Embarked</th>\n",
       "    </tr>\n",
       "  </thead>\n",
       "  <tbody>\n",
       "    <tr>\n",
       "      <th>0</th>\n",
       "      <td>1</td>\n",
       "      <td>0</td>\n",
       "      <td>3</td>\n",
       "      <td>Braund, Mr. Owen Harris</td>\n",
       "      <td>male</td>\n",
       "      <td>22.0</td>\n",
       "      <td>1</td>\n",
       "      <td>0</td>\n",
       "      <td>A/5 21171</td>\n",
       "      <td>7.2500</td>\n",
       "      <td>NaN</td>\n",
       "      <td>S</td>\n",
       "    </tr>\n",
       "    <tr>\n",
       "      <th>1</th>\n",
       "      <td>2</td>\n",
       "      <td>1</td>\n",
       "      <td>1</td>\n",
       "      <td>Cumings, Mrs. John Bradley (Florence Briggs Th...</td>\n",
       "      <td>female</td>\n",
       "      <td>38.0</td>\n",
       "      <td>1</td>\n",
       "      <td>0</td>\n",
       "      <td>PC 17599</td>\n",
       "      <td>71.2833</td>\n",
       "      <td>C85</td>\n",
       "      <td>C</td>\n",
       "    </tr>\n",
       "    <tr>\n",
       "      <th>2</th>\n",
       "      <td>3</td>\n",
       "      <td>1</td>\n",
       "      <td>3</td>\n",
       "      <td>Heikkinen, Miss. Laina</td>\n",
       "      <td>female</td>\n",
       "      <td>26.0</td>\n",
       "      <td>0</td>\n",
       "      <td>0</td>\n",
       "      <td>STON/O2. 3101282</td>\n",
       "      <td>7.9250</td>\n",
       "      <td>NaN</td>\n",
       "      <td>S</td>\n",
       "    </tr>\n",
       "    <tr>\n",
       "      <th>3</th>\n",
       "      <td>4</td>\n",
       "      <td>1</td>\n",
       "      <td>1</td>\n",
       "      <td>Futrelle, Mrs. Jacques Heath (Lily May Peel)</td>\n",
       "      <td>female</td>\n",
       "      <td>35.0</td>\n",
       "      <td>1</td>\n",
       "      <td>0</td>\n",
       "      <td>113803</td>\n",
       "      <td>53.1000</td>\n",
       "      <td>C123</td>\n",
       "      <td>S</td>\n",
       "    </tr>\n",
       "    <tr>\n",
       "      <th>4</th>\n",
       "      <td>5</td>\n",
       "      <td>0</td>\n",
       "      <td>3</td>\n",
       "      <td>Allen, Mr. William Henry</td>\n",
       "      <td>male</td>\n",
       "      <td>35.0</td>\n",
       "      <td>0</td>\n",
       "      <td>0</td>\n",
       "      <td>373450</td>\n",
       "      <td>8.0500</td>\n",
       "      <td>NaN</td>\n",
       "      <td>S</td>\n",
       "    </tr>\n",
       "  </tbody>\n",
       "</table>\n",
       "</div>"
      ],
      "text/plain": [
       "   PassengerId  Survived  Pclass  \\\n",
       "0            1         0       3   \n",
       "1            2         1       1   \n",
       "2            3         1       3   \n",
       "3            4         1       1   \n",
       "4            5         0       3   \n",
       "\n",
       "                                                Name     Sex   Age  SibSp  \\\n",
       "0                            Braund, Mr. Owen Harris    male  22.0      1   \n",
       "1  Cumings, Mrs. John Bradley (Florence Briggs Th...  female  38.0      1   \n",
       "2                             Heikkinen, Miss. Laina  female  26.0      0   \n",
       "3       Futrelle, Mrs. Jacques Heath (Lily May Peel)  female  35.0      1   \n",
       "4                           Allen, Mr. William Henry    male  35.0      0   \n",
       "\n",
       "   Parch            Ticket     Fare Cabin Embarked  \n",
       "0      0         A/5 21171   7.2500   NaN        S  \n",
       "1      0          PC 17599  71.2833   C85        C  \n",
       "2      0  STON/O2. 3101282   7.9250   NaN        S  \n",
       "3      0            113803  53.1000  C123        S  \n",
       "4      0            373450   8.0500   NaN        S  "
      ]
     },
     "execution_count": 36,
     "metadata": {},
     "output_type": "execute_result"
    }
   ],
   "source": [
    "data.head()"
   ]
  },
  {
   "cell_type": "markdown",
   "metadata": {},
   "source": [
    "3.数据预处理\n",
    "\n",
    "- cabin属性数据确实太多\n",
    "- drop()\n",
    "  - inplace=True 立即删除\n",
    "  - axis =1 删除一列\n",
    "- .dropna() \n",
    "- .fillna() 填充空值 \n",
    "- astype() 转换为其他类型\n",
    "- loc(行（特征的名字）,列) 文字索引\n",
    "- iloc() 利用数字进行索引\n",
    "  "
   ]
  },
  {
   "cell_type": "code",
   "execution_count": 37,
   "metadata": {},
   "outputs": [
    {
     "data": {
      "text/html": [
       "<div>\n",
       "<style scoped>\n",
       "    .dataframe tbody tr th:only-of-type {\n",
       "        vertical-align: middle;\n",
       "    }\n",
       "\n",
       "    .dataframe tbody tr th {\n",
       "        vertical-align: top;\n",
       "    }\n",
       "\n",
       "    .dataframe thead th {\n",
       "        text-align: right;\n",
       "    }\n",
       "</style>\n",
       "<table border=\"1\" class=\"dataframe\">\n",
       "  <thead>\n",
       "    <tr style=\"text-align: right;\">\n",
       "      <th></th>\n",
       "      <th>PassengerId</th>\n",
       "      <th>Survived</th>\n",
       "      <th>Pclass</th>\n",
       "      <th>Sex</th>\n",
       "      <th>Age</th>\n",
       "      <th>SibSp</th>\n",
       "      <th>Parch</th>\n",
       "      <th>Fare</th>\n",
       "      <th>Embarked</th>\n",
       "    </tr>\n",
       "  </thead>\n",
       "  <tbody>\n",
       "    <tr>\n",
       "      <th>0</th>\n",
       "      <td>1</td>\n",
       "      <td>0</td>\n",
       "      <td>3</td>\n",
       "      <td>male</td>\n",
       "      <td>22.0</td>\n",
       "      <td>1</td>\n",
       "      <td>0</td>\n",
       "      <td>7.2500</td>\n",
       "      <td>S</td>\n",
       "    </tr>\n",
       "    <tr>\n",
       "      <th>1</th>\n",
       "      <td>2</td>\n",
       "      <td>1</td>\n",
       "      <td>1</td>\n",
       "      <td>female</td>\n",
       "      <td>38.0</td>\n",
       "      <td>1</td>\n",
       "      <td>0</td>\n",
       "      <td>71.2833</td>\n",
       "      <td>C</td>\n",
       "    </tr>\n",
       "    <tr>\n",
       "      <th>2</th>\n",
       "      <td>3</td>\n",
       "      <td>1</td>\n",
       "      <td>3</td>\n",
       "      <td>female</td>\n",
       "      <td>26.0</td>\n",
       "      <td>0</td>\n",
       "      <td>0</td>\n",
       "      <td>7.9250</td>\n",
       "      <td>S</td>\n",
       "    </tr>\n",
       "    <tr>\n",
       "      <th>3</th>\n",
       "      <td>4</td>\n",
       "      <td>1</td>\n",
       "      <td>1</td>\n",
       "      <td>female</td>\n",
       "      <td>35.0</td>\n",
       "      <td>1</td>\n",
       "      <td>0</td>\n",
       "      <td>53.1000</td>\n",
       "      <td>S</td>\n",
       "    </tr>\n",
       "    <tr>\n",
       "      <th>4</th>\n",
       "      <td>5</td>\n",
       "      <td>0</td>\n",
       "      <td>3</td>\n",
       "      <td>male</td>\n",
       "      <td>35.0</td>\n",
       "      <td>0</td>\n",
       "      <td>0</td>\n",
       "      <td>8.0500</td>\n",
       "      <td>S</td>\n",
       "    </tr>\n",
       "    <tr>\n",
       "      <th>...</th>\n",
       "      <td>...</td>\n",
       "      <td>...</td>\n",
       "      <td>...</td>\n",
       "      <td>...</td>\n",
       "      <td>...</td>\n",
       "      <td>...</td>\n",
       "      <td>...</td>\n",
       "      <td>...</td>\n",
       "      <td>...</td>\n",
       "    </tr>\n",
       "    <tr>\n",
       "      <th>886</th>\n",
       "      <td>887</td>\n",
       "      <td>0</td>\n",
       "      <td>2</td>\n",
       "      <td>male</td>\n",
       "      <td>27.0</td>\n",
       "      <td>0</td>\n",
       "      <td>0</td>\n",
       "      <td>13.0000</td>\n",
       "      <td>S</td>\n",
       "    </tr>\n",
       "    <tr>\n",
       "      <th>887</th>\n",
       "      <td>888</td>\n",
       "      <td>1</td>\n",
       "      <td>1</td>\n",
       "      <td>female</td>\n",
       "      <td>19.0</td>\n",
       "      <td>0</td>\n",
       "      <td>0</td>\n",
       "      <td>30.0000</td>\n",
       "      <td>S</td>\n",
       "    </tr>\n",
       "    <tr>\n",
       "      <th>888</th>\n",
       "      <td>889</td>\n",
       "      <td>0</td>\n",
       "      <td>3</td>\n",
       "      <td>female</td>\n",
       "      <td>NaN</td>\n",
       "      <td>1</td>\n",
       "      <td>2</td>\n",
       "      <td>23.4500</td>\n",
       "      <td>S</td>\n",
       "    </tr>\n",
       "    <tr>\n",
       "      <th>889</th>\n",
       "      <td>890</td>\n",
       "      <td>1</td>\n",
       "      <td>1</td>\n",
       "      <td>male</td>\n",
       "      <td>26.0</td>\n",
       "      <td>0</td>\n",
       "      <td>0</td>\n",
       "      <td>30.0000</td>\n",
       "      <td>C</td>\n",
       "    </tr>\n",
       "    <tr>\n",
       "      <th>890</th>\n",
       "      <td>891</td>\n",
       "      <td>0</td>\n",
       "      <td>3</td>\n",
       "      <td>male</td>\n",
       "      <td>32.0</td>\n",
       "      <td>0</td>\n",
       "      <td>0</td>\n",
       "      <td>7.7500</td>\n",
       "      <td>Q</td>\n",
       "    </tr>\n",
       "  </tbody>\n",
       "</table>\n",
       "<p>891 rows × 9 columns</p>\n",
       "</div>"
      ],
      "text/plain": [
       "     PassengerId  Survived  Pclass     Sex   Age  SibSp  Parch     Fare  \\\n",
       "0              1         0       3    male  22.0      1      0   7.2500   \n",
       "1              2         1       1  female  38.0      1      0  71.2833   \n",
       "2              3         1       3  female  26.0      0      0   7.9250   \n",
       "3              4         1       1  female  35.0      1      0  53.1000   \n",
       "4              5         0       3    male  35.0      0      0   8.0500   \n",
       "..           ...       ...     ...     ...   ...    ...    ...      ...   \n",
       "886          887         0       2    male  27.0      0      0  13.0000   \n",
       "887          888         1       1  female  19.0      0      0  30.0000   \n",
       "888          889         0       3  female   NaN      1      2  23.4500   \n",
       "889          890         1       1    male  26.0      0      0  30.0000   \n",
       "890          891         0       3    male  32.0      0      0   7.7500   \n",
       "\n",
       "    Embarked  \n",
       "0          S  \n",
       "1          C  \n",
       "2          S  \n",
       "3          S  \n",
       "4          S  \n",
       "..       ...  \n",
       "886        S  \n",
       "887        S  \n",
       "888        S  \n",
       "889        C  \n",
       "890        Q  \n",
       "\n",
       "[891 rows x 9 columns]"
      ]
     },
     "execution_count": 37,
     "metadata": {},
     "output_type": "execute_result"
    }
   ],
   "source": [
    "# ————————————————筛选特征————————————————\n",
    "data.drop(['Cabin','Name','Ticket'],inplace=True,axis=1) \n",
    "data"
   ]
  },
  {
   "cell_type": "code",
   "execution_count": 40,
   "metadata": {},
   "outputs": [
    {
     "name": "stdout",
     "output_type": "stream",
     "text": [
      "<class 'pandas.core.frame.DataFrame'>\n",
      "RangeIndex: 891 entries, 0 to 890\n",
      "Data columns (total 9 columns):\n",
      " #   Column       Non-Null Count  Dtype  \n",
      "---  ------       --------------  -----  \n",
      " 0   PassengerId  891 non-null    int64  \n",
      " 1   Survived     891 non-null    int64  \n",
      " 2   Pclass       891 non-null    int64  \n",
      " 3   Sex          891 non-null    object \n",
      " 4   Age          891 non-null    float64\n",
      " 5   SibSp        891 non-null    int64  \n",
      " 6   Parch        891 non-null    int64  \n",
      " 7   Fare         891 non-null    float64\n",
      " 8   Embarked     889 non-null    object \n",
      "dtypes: float64(2), int64(5), object(2)\n",
      "memory usage: 62.8+ KB\n"
     ]
    }
   ],
   "source": [
    "# ————————————————————利用均值填充缺失值————————————————————\n",
    "data['Age'] = data['Age'].fillna(data['Age'].mean()) \n",
    "data.info()"
   ]
  },
  {
   "cell_type": "code",
   "execution_count": 43,
   "metadata": {},
   "outputs": [
    {
     "name": "stdout",
     "output_type": "stream",
     "text": [
      "<class 'pandas.core.frame.DataFrame'>\n",
      "Int64Index: 889 entries, 0 to 890\n",
      "Data columns (total 9 columns):\n",
      " #   Column       Non-Null Count  Dtype  \n",
      "---  ------       --------------  -----  \n",
      " 0   PassengerId  889 non-null    int64  \n",
      " 1   Survived     889 non-null    int64  \n",
      " 2   Pclass       889 non-null    int64  \n",
      " 3   Sex          889 non-null    object \n",
      " 4   Age          889 non-null    float64\n",
      " 5   SibSp        889 non-null    int64  \n",
      " 6   Parch        889 non-null    int64  \n",
      " 7   Fare         889 non-null    float64\n",
      " 8   Embarked     889 non-null    object \n",
      "dtypes: float64(2), int64(5), object(2)\n",
      "memory usage: 69.5+ KB\n"
     ]
    }
   ],
   "source": [
    "#——————————————————删除小部分缺失值所在行——————————————\n",
    "data = data.dropna()\n",
    "data.info()"
   ]
  },
  {
   "cell_type": "code",
   "execution_count": 48,
   "metadata": {},
   "outputs": [
    {
     "data": {
      "text/plain": [
       "0      0\n",
       "1      1\n",
       "2      0\n",
       "3      0\n",
       "4      0\n",
       "      ..\n",
       "886    0\n",
       "887    0\n",
       "888    0\n",
       "889    1\n",
       "890    2\n",
       "Name: Embarked, Length: 889, dtype: int64"
      ]
     },
     "execution_count": 48,
     "metadata": {},
     "output_type": "execute_result"
    }
   ],
   "source": [
    "# ————————————————————将文字分类转换为多分类问题————————————————————\n",
    "labels = data['Embarked'].unique().tolist()   # 原来是数组现在编程列表\n",
    "data['Embarked'] = data['Embarked'].apply(lambda x: labels.index(x))\n",
    "data['Embarked']\n"
   ]
  },
  {
   "cell_type": "code",
   "execution_count": 51,
   "metadata": {},
   "outputs": [
    {
     "data": {
      "text/html": [
       "<div>\n",
       "<style scoped>\n",
       "    .dataframe tbody tr th:only-of-type {\n",
       "        vertical-align: middle;\n",
       "    }\n",
       "\n",
       "    .dataframe tbody tr th {\n",
       "        vertical-align: top;\n",
       "    }\n",
       "\n",
       "    .dataframe thead th {\n",
       "        text-align: right;\n",
       "    }\n",
       "</style>\n",
       "<table border=\"1\" class=\"dataframe\">\n",
       "  <thead>\n",
       "    <tr style=\"text-align: right;\">\n",
       "      <th></th>\n",
       "      <th>PassengerId</th>\n",
       "      <th>Survived</th>\n",
       "      <th>Pclass</th>\n",
       "      <th>Sex</th>\n",
       "      <th>Age</th>\n",
       "      <th>SibSp</th>\n",
       "      <th>Parch</th>\n",
       "      <th>Fare</th>\n",
       "      <th>Embarked</th>\n",
       "    </tr>\n",
       "  </thead>\n",
       "  <tbody>\n",
       "    <tr>\n",
       "      <th>0</th>\n",
       "      <td>1</td>\n",
       "      <td>0</td>\n",
       "      <td>3</td>\n",
       "      <td>0</td>\n",
       "      <td>22.0</td>\n",
       "      <td>1</td>\n",
       "      <td>0</td>\n",
       "      <td>7.2500</td>\n",
       "      <td>0</td>\n",
       "    </tr>\n",
       "    <tr>\n",
       "      <th>1</th>\n",
       "      <td>2</td>\n",
       "      <td>1</td>\n",
       "      <td>1</td>\n",
       "      <td>0</td>\n",
       "      <td>38.0</td>\n",
       "      <td>1</td>\n",
       "      <td>0</td>\n",
       "      <td>71.2833</td>\n",
       "      <td>1</td>\n",
       "    </tr>\n",
       "    <tr>\n",
       "      <th>2</th>\n",
       "      <td>3</td>\n",
       "      <td>1</td>\n",
       "      <td>3</td>\n",
       "      <td>0</td>\n",
       "      <td>26.0</td>\n",
       "      <td>0</td>\n",
       "      <td>0</td>\n",
       "      <td>7.9250</td>\n",
       "      <td>0</td>\n",
       "    </tr>\n",
       "    <tr>\n",
       "      <th>3</th>\n",
       "      <td>4</td>\n",
       "      <td>1</td>\n",
       "      <td>1</td>\n",
       "      <td>0</td>\n",
       "      <td>35.0</td>\n",
       "      <td>1</td>\n",
       "      <td>0</td>\n",
       "      <td>53.1000</td>\n",
       "      <td>0</td>\n",
       "    </tr>\n",
       "    <tr>\n",
       "      <th>4</th>\n",
       "      <td>5</td>\n",
       "      <td>0</td>\n",
       "      <td>3</td>\n",
       "      <td>0</td>\n",
       "      <td>35.0</td>\n",
       "      <td>0</td>\n",
       "      <td>0</td>\n",
       "      <td>8.0500</td>\n",
       "      <td>0</td>\n",
       "    </tr>\n",
       "  </tbody>\n",
       "</table>\n",
       "</div>"
      ],
      "text/plain": [
       "   PassengerId  Survived  Pclass  Sex   Age  SibSp  Parch     Fare  Embarked\n",
       "0            1         0       3    0  22.0      1      0   7.2500         0\n",
       "1            2         1       1    0  38.0      1      0  71.2833         1\n",
       "2            3         1       3    0  26.0      0      0   7.9250         0\n",
       "3            4         1       1    0  35.0      1      0  53.1000         0\n",
       "4            5         0       3    0  35.0      0      0   8.0500         0"
      ]
     },
     "execution_count": 51,
     "metadata": {},
     "output_type": "execute_result"
    }
   ],
   "source": [
    "#——————————将二分类变量转换为数值型变量——————————\n",
    "#astype能够将一个pandas对象转换为某种类型，和apply(int(x))不同，\n",
    "# astype可以将文本类转换为数字，用这个方式可以很便捷地将二分类特征转换为0~1\n",
    "\n",
    "data[\"Sex\"] = (data[\"Sex\"]== \"male\").astype(\"int\")\n",
    "data.head()"
   ]
  },
  {
   "cell_type": "markdown",
   "metadata": {},
   "source": [
    "4.提取标签和特征矩阵，分测试集和训练集"
   ]
  },
  {
   "cell_type": "code",
   "execution_count": 53,
   "metadata": {},
   "outputs": [],
   "source": [
    "X = data.iloc[:,data.columns != 'Survived']  # 所有的行 并且返回为True的类 布尔所用\n",
    "y = data.iloc[:,data.columns == 'Survived']"
   ]
  },
  {
   "cell_type": "code",
   "execution_count": 55,
   "metadata": {},
   "outputs": [],
   "source": [
    "Xtrain,Xtest,Ytrain,Ytest = train_test_split(X,y,test_size=0.3)"
   ]
  },
  {
   "cell_type": "code",
   "execution_count": 62,
   "metadata": {},
   "outputs": [],
   "source": [
    "#——————————————恢复索引————————————\n",
    "Xtrain.index  #索引发生了变化\n",
    "Xtrain.index = range(Xtrain.shape[0])  # 恢复索引\n",
    "\n",
    "\n",
    "for i in [Xtrain,Xtest,Ytrain,Ytest]:\n",
    "    i.index = range(i.shape[0])\n"
   ]
  },
  {
   "cell_type": "code",
   "execution_count": 63,
   "metadata": {},
   "outputs": [
    {
     "data": {
      "text/html": [
       "<div>\n",
       "<style scoped>\n",
       "    .dataframe tbody tr th:only-of-type {\n",
       "        vertical-align: middle;\n",
       "    }\n",
       "\n",
       "    .dataframe tbody tr th {\n",
       "        vertical-align: top;\n",
       "    }\n",
       "\n",
       "    .dataframe thead th {\n",
       "        text-align: right;\n",
       "    }\n",
       "</style>\n",
       "<table border=\"1\" class=\"dataframe\">\n",
       "  <thead>\n",
       "    <tr style=\"text-align: right;\">\n",
       "      <th></th>\n",
       "      <th>PassengerId</th>\n",
       "      <th>Pclass</th>\n",
       "      <th>Sex</th>\n",
       "      <th>Age</th>\n",
       "      <th>SibSp</th>\n",
       "      <th>Parch</th>\n",
       "      <th>Fare</th>\n",
       "      <th>Embarked</th>\n",
       "    </tr>\n",
       "  </thead>\n",
       "  <tbody>\n",
       "    <tr>\n",
       "      <th>0</th>\n",
       "      <td>70</td>\n",
       "      <td>3</td>\n",
       "      <td>0</td>\n",
       "      <td>26.000000</td>\n",
       "      <td>2</td>\n",
       "      <td>0</td>\n",
       "      <td>8.6625</td>\n",
       "      <td>0</td>\n",
       "    </tr>\n",
       "    <tr>\n",
       "      <th>1</th>\n",
       "      <td>703</td>\n",
       "      <td>3</td>\n",
       "      <td>0</td>\n",
       "      <td>18.000000</td>\n",
       "      <td>0</td>\n",
       "      <td>1</td>\n",
       "      <td>14.4542</td>\n",
       "      <td>1</td>\n",
       "    </tr>\n",
       "    <tr>\n",
       "      <th>2</th>\n",
       "      <td>457</td>\n",
       "      <td>1</td>\n",
       "      <td>0</td>\n",
       "      <td>65.000000</td>\n",
       "      <td>0</td>\n",
       "      <td>0</td>\n",
       "      <td>26.5500</td>\n",
       "      <td>0</td>\n",
       "    </tr>\n",
       "    <tr>\n",
       "      <th>3</th>\n",
       "      <td>74</td>\n",
       "      <td>3</td>\n",
       "      <td>0</td>\n",
       "      <td>26.000000</td>\n",
       "      <td>1</td>\n",
       "      <td>0</td>\n",
       "      <td>14.4542</td>\n",
       "      <td>1</td>\n",
       "    </tr>\n",
       "    <tr>\n",
       "      <th>4</th>\n",
       "      <td>569</td>\n",
       "      <td>3</td>\n",
       "      <td>0</td>\n",
       "      <td>29.699118</td>\n",
       "      <td>0</td>\n",
       "      <td>0</td>\n",
       "      <td>7.2292</td>\n",
       "      <td>1</td>\n",
       "    </tr>\n",
       "    <tr>\n",
       "      <th>...</th>\n",
       "      <td>...</td>\n",
       "      <td>...</td>\n",
       "      <td>...</td>\n",
       "      <td>...</td>\n",
       "      <td>...</td>\n",
       "      <td>...</td>\n",
       "      <td>...</td>\n",
       "      <td>...</td>\n",
       "    </tr>\n",
       "    <tr>\n",
       "      <th>617</th>\n",
       "      <td>508</td>\n",
       "      <td>1</td>\n",
       "      <td>0</td>\n",
       "      <td>29.699118</td>\n",
       "      <td>0</td>\n",
       "      <td>0</td>\n",
       "      <td>26.5500</td>\n",
       "      <td>0</td>\n",
       "    </tr>\n",
       "    <tr>\n",
       "      <th>618</th>\n",
       "      <td>249</td>\n",
       "      <td>1</td>\n",
       "      <td>0</td>\n",
       "      <td>37.000000</td>\n",
       "      <td>1</td>\n",
       "      <td>1</td>\n",
       "      <td>52.5542</td>\n",
       "      <td>0</td>\n",
       "    </tr>\n",
       "    <tr>\n",
       "      <th>619</th>\n",
       "      <td>711</td>\n",
       "      <td>1</td>\n",
       "      <td>0</td>\n",
       "      <td>24.000000</td>\n",
       "      <td>0</td>\n",
       "      <td>0</td>\n",
       "      <td>49.5042</td>\n",
       "      <td>1</td>\n",
       "    </tr>\n",
       "    <tr>\n",
       "      <th>620</th>\n",
       "      <td>422</td>\n",
       "      <td>3</td>\n",
       "      <td>0</td>\n",
       "      <td>21.000000</td>\n",
       "      <td>0</td>\n",
       "      <td>0</td>\n",
       "      <td>7.7333</td>\n",
       "      <td>2</td>\n",
       "    </tr>\n",
       "    <tr>\n",
       "      <th>621</th>\n",
       "      <td>133</td>\n",
       "      <td>3</td>\n",
       "      <td>0</td>\n",
       "      <td>47.000000</td>\n",
       "      <td>1</td>\n",
       "      <td>0</td>\n",
       "      <td>14.5000</td>\n",
       "      <td>0</td>\n",
       "    </tr>\n",
       "  </tbody>\n",
       "</table>\n",
       "<p>622 rows × 8 columns</p>\n",
       "</div>"
      ],
      "text/plain": [
       "     PassengerId  Pclass  Sex        Age  SibSp  Parch     Fare  Embarked\n",
       "0             70       3    0  26.000000      2      0   8.6625         0\n",
       "1            703       3    0  18.000000      0      1  14.4542         1\n",
       "2            457       1    0  65.000000      0      0  26.5500         0\n",
       "3             74       3    0  26.000000      1      0  14.4542         1\n",
       "4            569       3    0  29.699118      0      0   7.2292         1\n",
       "..           ...     ...  ...        ...    ...    ...      ...       ...\n",
       "617          508       1    0  29.699118      0      0  26.5500         0\n",
       "618          249       1    0  37.000000      1      1  52.5542         0\n",
       "619          711       1    0  24.000000      0      0  49.5042         1\n",
       "620          422       3    0  21.000000      0      0   7.7333         2\n",
       "621          133       3    0  47.000000      1      0  14.5000         0\n",
       "\n",
       "[622 rows x 8 columns]"
      ]
     },
     "execution_count": 63,
     "metadata": {},
     "output_type": "execute_result"
    }
   ],
   "source": [
    "Xtrain"
   ]
  },
  {
   "cell_type": "markdown",
   "metadata": {},
   "source": [
    "5.导入模型"
   ]
  },
  {
   "cell_type": "code",
   "execution_count": 65,
   "metadata": {},
   "outputs": [
    {
     "data": {
      "text/plain": [
       "0.599250936329588"
      ]
     },
     "execution_count": 65,
     "metadata": {},
     "output_type": "execute_result"
    }
   ],
   "source": [
    "clf = DecisionTreeClassifier(random_state=25)\n",
    "clf = clf.fit(Xtrain,Ytrain)\n",
    "score = clf.score(Xtest,Ytest)\n",
    "\n",
    "score"
   ]
  },
  {
   "cell_type": "code",
   "execution_count": 67,
   "metadata": {},
   "outputs": [
    {
     "data": {
      "text/plain": [
       "0.5995020429009192"
      ]
     },
     "execution_count": 67,
     "metadata": {},
     "output_type": "execute_result"
    }
   ],
   "source": [
    "# ——————————————使用交叉验证————————————————\n",
    "clf = DecisionTreeClassifier(random_state=25)\n",
    "score = cross_val_score(clf,X,y,cv=10).mean()\n",
    "\n",
    "score"
   ]
  },
  {
   "cell_type": "markdown",
   "metadata": {},
   "source": [
    "6.在不同max_depth下观察模型的拟合状况"
   ]
  },
  {
   "cell_type": "code",
   "execution_count": 73,
   "metadata": {},
   "outputs": [
    {
     "name": "stdout",
     "output_type": "stream",
     "text": [
      "0.7030260469867211\n"
     ]
    },
    {
     "data": {
      "image/png": "[encoded data removed]",
      "text/plain": [
       "<Figure size 432x288 with 1 Axes>"
      ]
     },
     "metadata": {
      "needs_background": "light"
     },
     "output_type": "display_data"
    }
   ],
   "source": [
    "from cProfile import label\n",
    "\n",
    "\n",
    "tr = []\n",
    "te = []\n",
    "\n",
    "for i in range(10):\n",
    "    clf = DecisionTreeClassifier(random_state=25,\n",
    "                                max_depth=i+1,\n",
    "                                criterion='entropy')\n",
    "    clf = clf.fit(Xtrain, Ytrain)\n",
    "    score_tr = clf.score(Xtrain, Ytrain).mean()\n",
    "    score_te = cross_val_score(clf,X,y,cv=10).mean()\n",
    "    tr.append(score_tr)\n",
    "    te.append(score_te)\n",
    "\n",
    "print(max(te))\n",
    "plt.plot(range(1,11),tr,color='red',label='train')\n",
    "plt.plot(range(1,11),te,color='blue',label='test')\n",
    "plt.xticks(range(1,11))\n",
    "plt.legend()\n",
    "plt.show()\n",
    "\n"
   ]
  },
  {
   "cell_type": "markdown",
   "metadata": {},
   "source": [
    "显然的过拟合"
   ]
  },
  {
   "cell_type": "markdown",
   "metadata": {},
   "source": [
    "7.用网格搜索调整参数\n",
    "\n",
    "枚举\n",
    "- `np.linspace(0,0.5,50)`  # 0-0.5 有顺序排列的50个数\n",
    "- `arrange(start,end,步长)`   两个都是等差序列\n",
    "- `GS.best_params_`  从我们输入的参数和参数取值的列表中，返回最佳组合\n",
    "- `GS.best_score_`  格搜索后的模型评价标准\n",
    "- 一般很少用5个参数一起搜索，通常都是2个组合 进行调整\n",
    "- 网格搜索无法舍弃一些参数 可能结果还不如一开始"
   ]
  },
  {
   "cell_type": "code",
   "execution_count": 77,
   "metadata": {},
   "outputs": [],
   "source": [
    "import numpy as np\n",
    "\n",
    "gini_threholds = np.linspace(0,0.5,50)  # 0-0.5 有顺序排列的50个数\n",
    "\n",
    "# entropy_threholds = np.linspace()\n",
    "# 一串参数和这些参数对应的，我们希望的网格搜索来搜索的参数取值范围\n",
    "\n",
    "parameters = {'criterion':('gini','entropy'),\n",
    "            'splitter':('best','random'),\n",
    "            'max_depth':[*range(1,10)],\n",
    "            'min_samples_leaf':[*range(1,50,5)],\n",
    "            'min_impurity_decrease':[*np.linspace(0,0.5,20)]\n",
    "            }\n",
    "\n",
    "clf = DecisionTreeClassifier(random_state=25)\n",
    "GS = GridSearchCV(clf,parameters,cv=10)\n",
    "GS = GS.fit(Xtrain,Ytrain)"
   ]
  },
  {
   "cell_type": "code",
   "execution_count": 78,
   "metadata": {},
   "outputs": [
    {
     "data": {
      "text/plain": [
       "{'criterion': 'gini',\n",
       " 'max_depth': 6,\n",
       " 'min_impurity_decrease': 0.0,\n",
       " 'min_samples_leaf': 21,\n",
       " 'splitter': 'random'}"
      ]
     },
     "execution_count": 78,
     "metadata": {},
     "output_type": "execute_result"
    }
   ],
   "source": [
    "#——————————————网格搜索的重要参数——————————————\n",
    "GS.best_params_  # 从我们输入的参数和参数取值的列表中，返回最佳组合\n"
   ]
  },
  {
   "cell_type": "code",
   "execution_count": 79,
   "metadata": {},
   "outputs": [
    {
     "data": {
      "text/plain": [
       "0.7122375832053252"
      ]
     },
     "execution_count": 79,
     "metadata": {},
     "output_type": "execute_result"
    }
   ],
   "source": [
    "GS.best_score_  # 网格搜索后的模型评价标准"
   ]
  }
 ],
 "metadata": {
  "kernelspec": {
   "display_name": "Python 3.10.0 64-bit",
   "language": "python",
   "name": "python3"
  },
  "language_info": {
   "codemirror_mode": {
    "name": "ipython",
    "version": 3
   },
   "file_extension": ".py",
   "mimetype": "text/x-python",
   "name": "python",
   "nbconvert_exporter": "python",
   "pygments_lexer": "ipython3",
   "version": "3.10.0"
  },
  "orig_nbformat": 4,
  "vscode": {
   "interpreter": {
    "hash": "3296471c9107718e6db2104fe506aa09d2e74f3fa2347eed57e489ba84541490"
   }
  }
 },
 "nbformat": 4,
 "nbformat_minor": 2
}
