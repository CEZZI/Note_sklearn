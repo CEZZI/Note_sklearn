{
 "cells": [
  {
   "cell_type": "markdown",
   "metadata": {},
   "source": [
    "# Chap11 XGboost\n",
    "\n",
    "## 1.概述\n",
    "\n",
    "### 1.1 xgboost库与XGB的sklearn API\n",
    "\n",
    "**使用xgboost库的流程**\n",
    "1. xgboost中必须使用DMtarix()读取数据\n",
    "2. 设置参数 param={}\n",
    "3. 训练模型 bst = xgb.train(param)\n",
    "4. 预测结果 bst.predict()"
   ]
  },
  {
   "cell_type": "code",
   "execution_count": null,
   "metadata": {},
   "outputs": [
    {
     "name": "stdout",
     "output_type": "stream",
     "text": [
      "Looking in indexes: https://pypi.tuna.tsinghua.edu.cn/simple\n",
      "Requirement already satisfied: xgboost in c:\\users\\hp\\python\\python310\\lib\\site-packages (1.6.2)\n",
      "Requirement already satisfied: scipy in c:\\users\\hp\\python\\python310\\lib\\site-packages (from xgboost) (1.9.0)\n",
      "Requirement already satisfied: numpy in c:\\users\\hp\\python\\python310\\lib\\site-packages (from xgboost) (1.23.2)\n"
     ]
    }
   ],
   "source": [
    "!pip install -i https://pypi.tuna.tsinghua.edu.cn/simple --trusted-host pypi.tuna.tsinghua.edu.cn xgboost"
   ]
  },
  {
   "cell_type": "code",
   "execution_count": 25,
   "metadata": {},
   "outputs": [],
   "source": [
    "import xgboost as xbg"
   ]
  },
  {
   "cell_type": "markdown",
   "metadata": {},
   "source": [
    "### 1.3 XGBoost的三大板块\n",
    "\n",
    "整体来说可以有三个核心部分：集成算法本身，用于集成的弱评估器，以及应用中的其他过程"
   ]
  },
  {
   "cell_type": "markdown",
   "metadata": {},
   "source": [
    "## 2.梯度提升树\n",
    "\n",
    "`class xgboost.XGBRegressor (max_depth=3, learning_rate=0.1, n_estimators=100, silent=True,objective='reg:linear', booster='gbtree', n_jobs=1, nthread=None, gamma=0, min_child_weight=1, max_delta_step=0,subsample=1, colsample_bytree=1, colsample_bylevel=1, reg_alpha=0, reg_lambda=1, scale_pos_weight=1,base_score=0.5, random_state=0, seed=None, missing=None, importance_type='gain', **kwargs)`\n",
    "\n",
    "### 2.1 提升集成算法：重要参数n_estimators\n",
    "\n",
    "集成算法通过在数据上构建多个弱评估器，汇总所有弱评估器的建模结果，以获取比单个模型更好的回归或分类表现。\n",
    "\n",
    "- XGBoost背后也是CART树，这意味着XGBoost中所有的树都是二叉的。\n",
    "\n",
    "**XGB vs GBDT 核心区别1：求解预测值y_hat的方式不同**\n",
    "\n",
    "- GBDT中预测值是由所有弱分类器上的预测结果的加权求和，其中每个样本上的预测结果就是样本所在的叶子节点的均值。\n",
    "- XGBT中的预测值是所有弱分类器上的叶子权重直接求和得到，计算叶子权重是一个复杂的过程。\n",
    "\n",
    "\n",
    "参数含义 |xgb.train()| xgb.XGBRegressor()\n",
    "|---|---|---|\n",
    "集成中弱评估器的数量 | num_round，默认10 | n_estimators，默认100\n",
    "训练中是否打印每次训练的结果 | slient，默认False | slient，默认True\n",
    "\n",
    "\n",
    "**sklearn中调用方法**\n",
    "- XGBR(n_estimators=100).fit(Xtrain,Ytrain) 实例化 训练\n",
    "- .score 调用分数R2\n",
    "- .predict 预测结果\n",
    "- mean_squared_error(真实值,预测值)\n",
    "- .feature_importances_  树模型的优势，能够查看模型的重要性分数\n",
    "- sklearn.metrics.get_scorer_names() 获取sklearn中所有评分指标的名字"
   ]
  },
  {
   "cell_type": "markdown",
   "metadata": {},
   "source": [
    "**1. 导入需要的库，模块以及数据**"
   ]
  },
  {
   "cell_type": "code",
   "execution_count": 26,
   "metadata": {},
   "outputs": [
    {
     "name": "stderr",
     "output_type": "stream",
     "text": [
      "c:\\Users\\HP\\Python\\Python310\\lib\\site-packages\\sklearn\\utils\\deprecation.py:87: FutureWarning: Function load_boston is deprecated; `load_boston` is deprecated in 1.0 and will be removed in 1.2.\n",
      "\n",
      "    The Boston housing prices dataset has an ethical problem. You can refer to\n",
      "    the documentation of this function for further details.\n",
      "\n",
      "    The scikit-learn maintainers therefore strongly discourage the use of this\n",
      "    dataset unless the purpose of the code is to study and educate about\n",
      "    ethical issues in data science and machine learning.\n",
      "\n",
      "    In this special case, you can fetch the dataset from the original\n",
      "    source::\n",
      "\n",
      "        import pandas as pd\n",
      "        import numpy as np\n",
      "\n",
      "        data_url = \"http://lib.stat.cmu.edu/datasets/boston\"\n",
      "        raw_df = pd.read_csv(data_url, sep=\"\\s+\", skiprows=22, header=None)\n",
      "        data = np.hstack([raw_df.values[::2, :], raw_df.values[1::2, :2]])\n",
      "        target = raw_df.values[1::2, 2]\n",
      "\n",
      "    Alternative datasets include the California housing dataset (i.e.\n",
      "    :func:`~sklearn.datasets.fetch_california_housing`) and the Ames housing\n",
      "    dataset. You can load the datasets as follows::\n",
      "\n",
      "        from sklearn.datasets import fetch_california_housing\n",
      "        housing = fetch_california_housing()\n",
      "\n",
      "    for the California housing dataset and::\n",
      "\n",
      "        from sklearn.datasets import fetch_openml\n",
      "        housing = fetch_openml(name=\"house_prices\", as_frame=True)\n",
      "\n",
      "    for the Ames housing dataset.\n",
      "  warnings.warn(msg, category=FutureWarning)\n"
     ]
    }
   ],
   "source": [
    "from xgboost import XGBRegressor as XGBR\n",
    "from sklearn.ensemble import RandomForestRegressor as RFR\n",
    "from sklearn.linear_model import LinearRegression as LinearR\n",
    "from sklearn.datasets import load_boston\n",
    "from sklearn.model_selection import KFold, cross_val_score as CVS, train_test_split as TTS\n",
    "from sklearn.metrics import mean_squared_error as MSE\n",
    "import pandas as pd\n",
    "import numpy as np\n",
    "import matplotlib.pyplot as plt\n",
    "from time import time\n",
    "import datetime\n",
    "\n",
    "\n",
    "data = load_boston()\n",
    "#波士顿数据集非常简单，但它所涉及到的问题却很多\n",
    "X = data.data\n",
    "y = data.target\n"
   ]
  },
  {
   "cell_type": "code",
   "execution_count": 27,
   "metadata": {},
   "outputs": [
    {
     "data": {
      "text/plain": [
       "(506, 13)"
      ]
     },
     "execution_count": 27,
     "metadata": {},
     "output_type": "execute_result"
    }
   ],
   "source": [
    "X.shape"
   ]
  },
  {
   "cell_type": "code",
   "execution_count": 28,
   "metadata": {},
   "outputs": [
    {
     "data": {
      "text/plain": [
       "(506,)"
      ]
     },
     "execution_count": 28,
     "metadata": {},
     "output_type": "execute_result"
    }
   ],
   "source": [
    "y.shape"
   ]
  },
  {
   "cell_type": "code",
   "execution_count": 29,
   "metadata": {},
   "outputs": [],
   "source": [
    "y = data.target\n"
   ]
  },
  {
   "cell_type": "markdown",
   "metadata": {},
   "source": [
    "**2. 建模，查看其他接口和属性**\n"
   ]
  },
  {
   "cell_type": "code",
   "execution_count": 30,
   "metadata": {},
   "outputs": [],
   "source": [
    "Xtrain,Xtest,Ytrain,Ytest = TTS(X,y,test_size=0.3,random_state=420)\n"
   ]
  },
  {
   "cell_type": "code",
   "execution_count": 31,
   "metadata": {},
   "outputs": [],
   "source": [
    "reg = XGBR(n_estimators=100).fit(Xtrain,Ytrain)"
   ]
  },
  {
   "cell_type": "code",
   "execution_count": 32,
   "metadata": {},
   "outputs": [
    {
     "data": {
      "text/plain": [
       "array([ 6.6689262, 22.34918  , 31.052807 , 13.911595 ,  9.467966 ,\n",
       "       22.658588 , 14.514282 , 15.092699 , 15.293644 , 12.680115 ,\n",
       "       24.140797 , 35.890083 , 21.573483 , 27.07066  , 19.052658 ,\n",
       "        9.89033  , 23.386076 , 23.588493 , 23.311466 , 22.401644 ,\n",
       "       18.98444  , 15.766946 , 25.8352   , 20.193802 , 19.982517 ,\n",
       "       15.611423 , 22.883228 , 29.838228 , 22.815304 , 16.779037 ,\n",
       "       37.13194  , 20.133305 , 19.67352  , 23.525528 , 22.845137 ,\n",
       "       23.87397  , 15.17887  , 23.45934  , 16.685331 , 31.761686 ,\n",
       "       18.525843 , 22.441063 , 38.48728  , 17.93719  , 15.10122  ,\n",
       "       28.980541 , 46.363487 , 12.842797 ,  9.618281 , 35.40579  ,\n",
       "       25.657566 , 20.605602 , 20.800055 , 49.228447 , 31.355848 ,\n",
       "       29.382515 , 18.911947 , 21.049877 , 16.165182 , 18.098577 ,\n",
       "       14.659002 , 21.720213 , 19.413454 , 28.932102 , 30.573524 ,\n",
       "       19.228426 , 20.531511 , 15.666289 , 23.52929  , 19.30554  ,\n",
       "       28.384985 , 42.83562  , 29.429724 , 23.306015 , 19.741224 ,\n",
       "       24.202463 , 38.735516 , 26.782232 , 22.168324 , 20.67139  ,\n",
       "       19.534992 , 47.360317 , 24.008802 ,  8.184814 , 25.613977 ,\n",
       "       20.691843 , 17.127483 , 21.10027  , 22.279167 ,  7.755469 ,\n",
       "       20.0476   , 15.406112 , 42.38165  , 33.828186 , 22.788246 ,\n",
       "        9.302419 , 10.416187 , 20.033014 ,  8.241165 , 12.816478 ,\n",
       "       30.793974 , 10.078776 , 25.383692 , 21.933594 , 30.53568  ,\n",
       "       42.866497 , 19.598145 ,  8.321976 , 23.194368 , 12.547767 ,\n",
       "       46.838867 , 22.961082 , 20.244467 , 23.170694 , 18.948856 ,\n",
       "       29.682056 , 24.363865 , 19.715958 , 44.975193 , 17.64582  ,\n",
       "       24.3169   , 24.946495 , 18.23235  , 16.922577 , 14.77714  ,\n",
       "       21.757038 , 33.83876  , 10.938419 , 20.035763 , 21.085218 ,\n",
       "       19.331562 , 20.505526 ,  8.285518 , 28.01946  , 29.631227 ,\n",
       "       19.908175 , 18.30325  , 14.204149 , 10.795732 , 18.232307 ,\n",
       "       42.266888 , 17.304502 , 22.974121 , 20.946724 , 30.724297 ,\n",
       "       20.072989 , 12.772859 , 41.472908 , 27.652838 , 22.20476  ,\n",
       "       14.235871 , 25.88964  ], dtype=float32)"
      ]
     },
     "execution_count": 32,
     "metadata": {},
     "output_type": "execute_result"
    }
   ],
   "source": [
    "reg.predict(Xtest)"
   ]
  },
  {
   "cell_type": "code",
   "execution_count": 33,
   "metadata": {},
   "outputs": [
    {
     "data": {
      "text/plain": [
       "0.9050988968414799"
      ]
     },
     "execution_count": 33,
     "metadata": {},
     "output_type": "execute_result"
    }
   ],
   "source": [
    "reg.score(Xtest,Ytest)  # 返回的是R2"
   ]
  },
  {
   "cell_type": "code",
   "execution_count": 34,
   "metadata": {},
   "outputs": [
    {
     "data": {
      "text/plain": [
       "22.532806324110677"
      ]
     },
     "execution_count": 34,
     "metadata": {},
     "output_type": "execute_result"
    }
   ],
   "source": [
    "y.mean()"
   ]
  },
  {
   "cell_type": "code",
   "execution_count": 35,
   "metadata": {},
   "outputs": [
    {
     "data": {
      "text/plain": [
       "8.830916343629323"
      ]
     },
     "execution_count": 35,
     "metadata": {},
     "output_type": "execute_result"
    }
   ],
   "source": [
    "MSE(Ytest,reg.predict(Xtest))\n",
    "\n",
    "# 误差占到整体30%以上  拟合较差"
   ]
  },
  {
   "cell_type": "code",
   "execution_count": 36,
   "metadata": {},
   "outputs": [
    {
     "data": {
      "text/plain": [
       "array([0.01902167, 0.0042109 , 0.01478316, 0.00553537, 0.02222196,\n",
       "       0.37914088, 0.01679686, 0.0469872 , 0.04073574, 0.05491759,\n",
       "       0.06684221, 0.00869464, 0.3201119 ], dtype=float32)"
      ]
     },
     "execution_count": 36,
     "metadata": {},
     "output_type": "execute_result"
    }
   ],
   "source": [
    "reg.feature_importances_  # 树模型的优势，能够查看模型的重要性分数，"
   ]
  },
  {
   "cell_type": "markdown",
   "metadata": {},
   "source": [
    "**3. 交叉验证，与线性回归&随机森林回归进行对比**"
   ]
  },
  {
   "cell_type": "code",
   "execution_count": 37,
   "metadata": {},
   "outputs": [],
   "source": [
    "reg = XGBR(n_estimators=100)  # 交叉验证中导入没有经过训练的模型\n"
   ]
  },
  {
   "cell_type": "code",
   "execution_count": 38,
   "metadata": {},
   "outputs": [
    {
     "data": {
      "text/plain": [
       "array([0.83123948, 0.77538516, 0.82292472, 0.81418649, 0.75379556])"
      ]
     },
     "execution_count": 38,
     "metadata": {},
     "output_type": "execute_result"
    }
   ],
   "source": [
    "CVS(reg,Xtrain,Ytrain,cv=5)   # 此处返回的模型评估指标就是R2\n",
    "\n",
    "# 交叉验证中返回分数与模型调用score接口返回分数相同\n",
    "# 分类算法中分数就是 准确率"
   ]
  },
  {
   "cell_type": "markdown",
   "metadata": {},
   "source": [
    "**严谨的交叉验证和不严谨的交叉验证**\n",
    "\n",
    "- 放入全数据 ---> 不严谨\n",
    "- 只放入训练集数据"
   ]
  },
  {
   "cell_type": "code",
   "execution_count": 39,
   "metadata": {},
   "outputs": [
    {
     "data": {
      "text/plain": [
       "-16.215644229762717"
      ]
     },
     "execution_count": 39,
     "metadata": {},
     "output_type": "execute_result"
    }
   ],
   "source": [
    "CVS(reg,Xtrain,Ytrain,cv=5,scoring='neg_mean_squared_error').mean()"
   ]
  },
  {
   "cell_type": "code",
   "execution_count": 40,
   "metadata": {},
   "outputs": [
    {
     "data": {
      "text/plain": [
       "['accuracy',\n",
       " 'adjusted_mutual_info_score',\n",
       " 'adjusted_rand_score',\n",
       " 'average_precision',\n",
       " 'balanced_accuracy',\n",
       " 'completeness_score',\n",
       " 'explained_variance',\n",
       " 'f1',\n",
       " 'f1_macro',\n",
       " 'f1_micro',\n",
       " 'f1_samples',\n",
       " 'f1_weighted',\n",
       " 'fowlkes_mallows_score',\n",
       " 'homogeneity_score',\n",
       " 'jaccard',\n",
       " 'jaccard_macro',\n",
       " 'jaccard_micro',\n",
       " 'jaccard_samples',\n",
       " 'jaccard_weighted',\n",
       " 'matthews_corrcoef',\n",
       " 'max_error',\n",
       " 'mutual_info_score',\n",
       " 'neg_brier_score',\n",
       " 'neg_log_loss',\n",
       " 'neg_mean_absolute_error',\n",
       " 'neg_mean_absolute_percentage_error',\n",
       " 'neg_mean_gamma_deviance',\n",
       " 'neg_mean_poisson_deviance',\n",
       " 'neg_mean_squared_error',\n",
       " 'neg_mean_squared_log_error',\n",
       " 'neg_median_absolute_error',\n",
       " 'neg_root_mean_squared_error',\n",
       " 'normalized_mutual_info_score',\n",
       " 'precision',\n",
       " 'precision_macro',\n",
       " 'precision_micro',\n",
       " 'precision_samples',\n",
       " 'precision_weighted',\n",
       " 'r2',\n",
       " 'rand_score',\n",
       " 'recall',\n",
       " 'recall_macro',\n",
       " 'recall_micro',\n",
       " 'recall_samples',\n",
       " 'recall_weighted',\n",
       " 'roc_auc',\n",
       " 'roc_auc_ovo',\n",
       " 'roc_auc_ovo_weighted',\n",
       " 'roc_auc_ovr',\n",
       " 'roc_auc_ovr_weighted',\n",
       " 'top_k_accuracy',\n",
       " 'v_measure_score']"
      ]
     },
     "execution_count": 40,
     "metadata": {},
     "output_type": "execute_result"
    }
   ],
   "source": [
    "import sklearn\n",
    "sklearn.metrics.get_scorer_names()"
   ]
  },
  {
   "cell_type": "code",
   "execution_count": 41,
   "metadata": {},
   "outputs": [
    {
     "data": {
      "text/plain": [
       "['accuracy',\n",
       " 'adjusted_mutual_info_score',\n",
       " 'adjusted_rand_score',\n",
       " 'average_precision',\n",
       " 'balanced_accuracy',\n",
       " 'completeness_score',\n",
       " 'explained_variance',\n",
       " 'f1',\n",
       " 'f1_macro',\n",
       " 'f1_micro',\n",
       " 'f1_samples',\n",
       " 'f1_weighted',\n",
       " 'fowlkes_mallows_score',\n",
       " 'homogeneity_score',\n",
       " 'jaccard',\n",
       " 'jaccard_macro',\n",
       " 'jaccard_micro',\n",
       " 'jaccard_samples',\n",
       " 'jaccard_weighted',\n",
       " 'matthews_corrcoef',\n",
       " 'max_error',\n",
       " 'mutual_info_score',\n",
       " 'neg_brier_score',\n",
       " 'neg_log_loss',\n",
       " 'neg_mean_absolute_error',\n",
       " 'neg_mean_absolute_percentage_error',\n",
       " 'neg_mean_gamma_deviance',\n",
       " 'neg_mean_poisson_deviance',\n",
       " 'neg_mean_squared_error',\n",
       " 'neg_mean_squared_log_error',\n",
       " 'neg_median_absolute_error',\n",
       " 'neg_root_mean_squared_error',\n",
       " 'normalized_mutual_info_score',\n",
       " 'precision',\n",
       " 'precision_macro',\n",
       " 'precision_micro',\n",
       " 'precision_samples',\n",
       " 'precision_weighted',\n",
       " 'r2',\n",
       " 'rand_score',\n",
       " 'recall',\n",
       " 'recall_macro',\n",
       " 'recall_micro',\n",
       " 'recall_samples',\n",
       " 'recall_weighted',\n",
       " 'roc_auc',\n",
       " 'roc_auc_ovo',\n",
       " 'roc_auc_ovo_weighted',\n",
       " 'roc_auc_ovr',\n",
       " 'roc_auc_ovr_weighted',\n",
       " 'top_k_accuracy',\n",
       " 'v_measure_score']"
      ]
     },
     "execution_count": 41,
     "metadata": {},
     "output_type": "execute_result"
    }
   ],
   "source": [
    "#来查看一下sklearn中所有的模型评估指标\n",
    "import sklearn\n",
    "sorted(sklearn.metrics.SCORERS.keys())"
   ]
  },
  {
   "cell_type": "code",
   "execution_count": 42,
   "metadata": {},
   "outputs": [
    {
     "data": {
      "text/plain": [
       "0.8032542933386997"
      ]
     },
     "execution_count": 42,
     "metadata": {},
     "output_type": "execute_result"
    }
   ],
   "source": [
    "#————————————————————————————使用随机森林进行对比————————————————————————————\n",
    "rfr = RFR(n_estimators=100)\n",
    "CVS(rfr,Xtrain,Ytrain,cv=5).mean()\n",
    "\n",
    "# XGBR R2 为0.9 效果很好"
   ]
  },
  {
   "cell_type": "code",
   "execution_count": 43,
   "metadata": {},
   "outputs": [
    {
     "data": {
      "text/plain": [
       "-16.9298084044668"
      ]
     },
     "execution_count": 43,
     "metadata": {},
     "output_type": "execute_result"
    }
   ],
   "source": [
    "CVS(rfr,Xtrain,Ytrain,cv=5,scoring='neg_mean_squared_error').mean()"
   ]
  },
  {
   "cell_type": "code",
   "execution_count": 44,
   "metadata": {},
   "outputs": [
    {
     "data": {
      "text/plain": [
       "0.6835070597278092"
      ]
     },
     "execution_count": 44,
     "metadata": {},
     "output_type": "execute_result"
    }
   ],
   "source": [
    "#————————————————————————————使用线性回归进行对比————————————————————————————\n",
    "lr = LinearR()\n",
    "CVS(lr,Xtrain,Ytrain,cv=5).mean()\n"
   ]
  },
  {
   "cell_type": "code",
   "execution_count": 45,
   "metadata": {},
   "outputs": [
    {
     "data": {
      "text/plain": [
       "-25.34950749364836"
      ]
     },
     "execution_count": 45,
     "metadata": {},
     "output_type": "execute_result"
    }
   ],
   "source": [
    "CVS(lr,Xtrain,Ytrain,cv=5,scoring='neg_mean_squared_error').mean()"
   ]
  },
  {
   "cell_type": "code",
   "execution_count": 46,
   "metadata": {},
   "outputs": [
    {
     "name": "stdout",
     "output_type": "stream",
     "text": [
      "[10:33:40] WARNING: C:/Users/administrator/workspace/xgboost-win64_release_1.6.0/src/learner.cc:627: \n",
      "Parameters: { \"n_esimators\", \"silent\" } might not be used.\n",
      "\n",
      "  This could be a false alarm, with some parameters getting used by language bindings but\n",
      "  then being mistakenly passed down to XGBoost core, or some parameter actually being used\n",
      "  but getting flagged wrongly here. Please open an issue if you find any such cases.\n",
      "\n",
      "\n",
      "[10:33:40] WARNING: C:/Users/administrator/workspace/xgboost-win64_release_1.6.0/src/learner.cc:627: \n",
      "Parameters: { \"n_esimators\", \"silent\" } might not be used.\n",
      "\n",
      "  This could be a false alarm, with some parameters getting used by language bindings but\n",
      "  then being mistakenly passed down to XGBoost core, or some parameter actually being used\n",
      "  but getting flagged wrongly here. Please open an issue if you find any such cases.\n",
      "\n",
      "\n",
      "[10:33:40] WARNING: C:/Users/administrator/workspace/xgboost-win64_release_1.6.0/src/learner.cc:627: \n",
      "Parameters: { \"n_esimators\", \"silent\" } might not be used.\n",
      "\n",
      "  This could be a false alarm, with some parameters getting used by language bindings but\n",
      "  then being mistakenly passed down to XGBoost core, or some parameter actually being used\n",
      "  but getting flagged wrongly here. Please open an issue if you find any such cases.\n",
      "\n",
      "\n",
      "[10:33:40] WARNING: C:/Users/administrator/workspace/xgboost-win64_release_1.6.0/src/learner.cc:627: \n",
      "Parameters: { \"n_esimators\", \"silent\" } might not be used.\n",
      "\n",
      "  This could be a false alarm, with some parameters getting used by language bindings but\n",
      "  then being mistakenly passed down to XGBoost core, or some parameter actually being used\n",
      "  but getting flagged wrongly here. Please open an issue if you find any such cases.\n",
      "\n",
      "\n",
      "[10:33:40] WARNING: C:/Users/administrator/workspace/xgboost-win64_release_1.6.0/src/learner.cc:627: \n",
      "Parameters: { \"n_esimators\", \"silent\" } might not be used.\n",
      "\n",
      "  This could be a false alarm, with some parameters getting used by language bindings but\n",
      "  then being mistakenly passed down to XGBoost core, or some parameter actually being used\n",
      "  but getting flagged wrongly here. Please open an issue if you find any such cases.\n",
      "\n",
      "\n"
     ]
    },
    {
     "data": {
      "text/plain": [
       "-16.215644229762717"
      ]
     },
     "execution_count": 46,
     "metadata": {},
     "output_type": "execute_result"
    }
   ],
   "source": [
    "#————————————————————————————开启参数slient————————————————————————————\n",
    "reg = XGBR(n_esimators=10,silent=False)\n",
    "CVS(reg,Xtrain,Ytrain,cv=5,scoring='neg_mean_squared_error').mean()"
   ]
  },
  {
   "cell_type": "markdown",
   "metadata": {},
   "source": [
    "**4. 定义绘制以训练样本数为横坐标的学习曲线的函数**"
   ]
  },
  {
   "cell_type": "code",
   "execution_count": 47,
   "metadata": {},
   "outputs": [],
   "source": [
    "def plot_learning_curve(estimator,title, X, y,\n",
    "                        ax=None, #选择子图\n",
    "                        ylim=None, #设置纵坐标的取值范围\n",
    "                        cv=None, #交叉验证\n",
    "                        n_jobs=None #设定索要使用的线程\n",
    "                        ):\n",
    "\n",
    "    from sklearn.model_selection import learning_curve\n",
    "    import matplotlib.pyplot as plt\n",
    "    import numpy as np\n",
    "\n",
    "    train_sizes, train_scores, test_scores = learning_curve(estimator, X, y\n",
    "                                                            ,shuffle=True\n",
    "                                                            ,cv=cv\n",
    "                                                            # ,random_state=420\n",
    "                                                            ,n_jobs=n_jobs)\n",
    "    if ax == None:\n",
    "        ax = plt.gca()\n",
    "    else:\n",
    "        ax = plt.figure()\n",
    "    ax.set_title(title)\n",
    "    if ylim is not None:\n",
    "        ax.set_ylim(*ylim)\n",
    "\n",
    "    ax.set_xlabel(\"Training examples\")\n",
    "    ax.set_ylabel(\"Score\")\n",
    "    \n",
    "    ax.grid() #绘制网格，不是必须\n",
    "    ax.plot(train_sizes, np.mean(train_scores, axis=1), 'o-', color=\"r\",label=\"Training score\")\n",
    "    ax.plot(train_sizes, np.mean(test_scores, axis=1), 'o-', color=\"g\",label=\"Test score\")\n",
    "    ax.legend(loc=\"best\")\n",
    "    return ax"
   ]
  },
  {
   "cell_type": "markdown",
   "metadata": {},
   "source": [
    "**5. 使用学习曲线观察XGB在波士顿数据集上的潜力**"
   ]
  },
  {
   "cell_type": "code",
   "execution_count": 48,
   "metadata": {},
   "outputs": [
    {
     "data": {
      "image/png": "[encoded data removed]",
      "text/plain": [
       "<Figure size 432x288 with 1 Axes>"
      ]
     },
     "metadata": {
      "needs_background": "light"
     },
     "output_type": "display_data"
    }
   ],
   "source": [
    "cv = KFold(n_splits=5,shuffle=True,random_state=420)\n",
    "plot_learning_curve(XGBR(n_estimators=100,random_state=420),\"XGB\",Xtrain,Ytrain,ax=None,cv=cv)\n",
    "plt.show()\n",
    "\n",
    "# 多次运行以后 整体的趋势相同 但是图像不一样 （每次样本的选择都是随机）\n",
    "# 模型处于过拟合的装填"
   ]
  },
  {
   "cell_type": "markdown",
   "metadata": {},
   "source": [
    "**6. 使用参数学习曲线观察n_estimators对模型的影响**"
   ]
  },
  {
   "cell_type": "code",
   "execution_count": 49,
   "metadata": {},
   "outputs": [
    {
     "name": "stdout",
     "output_type": "stream",
     "text": [
      "85 0.8131196607397149\n"
     ]
    },
    {
     "data": {
      "image/png": "[encoded data removed]",
      "text/plain": [
       "<Figure size 1440x360 with 1 Axes>"
      ]
     },
     "metadata": {
      "needs_background": "light"
     },
     "output_type": "display_data"
    }
   ],
   "source": [
    "axisx = range(10,250,25)\n",
    "rs = []\n",
    "for i in axisx:\n",
    "    reg = XGBR(n_estimators=i,random_state=420)\n",
    "    rs.append(CVS(reg,Xtrain,Ytrain,cv=cv).mean())\n",
    "\n",
    "print(axisx[rs.index(max(rs))],max(rs))\n",
    "plt.figure(figsize=(20,5))\n",
    "plt.plot(axisx,rs,c=\"red\",label=\"XGB\")\n",
    "plt.legend()\n",
    "plt.show()\n",
    "#选出来的n_estimators非常不寻常，我们是否要选择准确率最高的n_estimators值呢？\n",
    "\n"
   ]
  },
  {
   "cell_type": "markdown",
   "metadata": {},
   "source": [
    "**7. 进化的学习曲线：方差与泛化误差**\n",
    "\n",
    "衡量模型在未知数据上的准确率的指标，叫做泛化误差（Genelization error）,泛化误差由方差、偏差和噪声组成。其中偏差就是训练集上的拟合程度决定，方差是模型的稳定性决定，噪音是不可控的。而泛化误差越小，模型就越理想。\n",
    "\n",
    "在过去我们往往直接取学习曲线获得的分数的最高点，即考虑偏差最小的点，是因为模型极度不稳定，方差很大的情况其实比较少见。但现在我们的数据量非常少，模型会相对不稳定，因此我们应当将方差也纳入考虑的范围。在绘制学习曲线时，我们不仅要考虑偏差的大小，还要考虑方差的大小，更要考虑泛化误差中我们可控的部分。"
   ]
  },
  {
   "cell_type": "code",
   "execution_count": 50,
   "metadata": {},
   "outputs": [
    {
     "name": "stdout",
     "output_type": "stream",
     "text": [
      "250 0.8131149348490775 0.008852347181932483\n",
      "250 0.8131149348490775 0.008852347181932483\n",
      "250 0.8131149348490775 0.008852347181932483 0.043778374758397035\n"
     ]
    },
    {
     "data": {
      "image/png": "[encoded data removed]",
      "text/plain": [
       "<Figure size 1440x360 with 1 Axes>"
      ]
     },
     "metadata": {
      "needs_background": "light"
     },
     "output_type": "display_data"
    }
   ],
   "source": [
    "axisx = range(50,1050,50)\n",
    "rs = []\n",
    "var = []\n",
    "ge = []\n",
    "\n",
    "for i in axisx:\n",
    "    reg = XGBR(n_estimators=i,random_state=420)\n",
    "    cvresult = CVS(reg,Xtrain,Ytrain,cv=cv)\n",
    "    #记录1-偏差\n",
    "    rs.append(cvresult.mean())\n",
    "    #记录方差\n",
    "    var.append(cvresult.var())\n",
    "    #计算泛化误差的可控部分\n",
    "    ge.append((1 - cvresult.mean())**2+cvresult.var())\n",
    "    \n",
    "#打印R2最高所对应的参数取值，并打印这个参数下的方差\n",
    "print(axisx[rs.index(max(rs))],max(rs),var[rs.index(max(rs))])\n",
    "#打印方差最低时对应的参数取值，并打印这个参数下的R2\n",
    "print(axisx[var.index(min(var))],rs[var.index(min(var))],min(var))\n",
    "#打印泛化误差可控部分的参数取值，并打印这个参数下的R2，方差以及泛化误差的可控部分\n",
    "print(axisx[ge.index(min(ge))],rs[ge.index(min(ge))],var[ge.index(min(ge))],min(ge))\n",
    "\n",
    "plt.figure(figsize=(20,5))\n",
    "plt.plot(axisx,rs,c=\"red\",label=\"XGB\")\n",
    "plt.legend()\n",
    "plt.show()\n"
   ]
  },
  {
   "cell_type": "markdown",
   "metadata": {},
   "source": [
    "**8. 细化学习曲线，找出最佳n_estimators**\n"
   ]
  },
  {
   "cell_type": "code",
   "execution_count": 51,
   "metadata": {},
   "outputs": [
    {
     "name": "stdout",
     "output_type": "stream",
     "text": [
      "130 0.8131152499566443 0.008852524740114883\n",
      "240 0.8131149348490775 0.008852347181932483\n",
      "240 0.8131149348490775 0.008852347181932483 0.043778374758397035\n"
     ]
    },
    {
     "data": {
      "image/png": "[encoded data removed]",
      "text/plain": [
       "<Figure size 1440x360 with 1 Axes>"
      ]
     },
     "metadata": {
      "needs_background": "light"
     },
     "output_type": "display_data"
    },
    {
     "data": {
      "image/png": "[encoded data removed]",
      "text/plain": [
       "<Figure size 1440x360 with 1 Axes>"
      ]
     },
     "metadata": {
      "needs_background": "light"
     },
     "output_type": "display_data"
    }
   ],
   "source": [
    "axisx = range(100,300,10)\n",
    "rs = []\n",
    "var = []\n",
    "ge = []\n",
    "for i in axisx:\n",
    "    reg = XGBR(n_estimators=i,random_state=420)\n",
    "    cvresult = CVS(reg,Xtrain,Ytrain,cv=cv)\n",
    "    rs.append(cvresult.mean())\n",
    "    var.append(cvresult.var())\n",
    "    ge.append((1 - cvresult.mean())**2+cvresult.var())\n",
    "\n",
    "print(axisx[rs.index(max(rs))],max(rs),var[rs.index(max(rs))])\n",
    "print(axisx[var.index(min(var))],rs[var.index(min(var))],min(var))\n",
    "print(axisx[ge.index(min(ge))],rs[ge.index(min(ge))],var[ge.index(min(ge))],min(ge))\n",
    "rs = np.array(rs)\n",
    "var = np.array(var)*0.01\n",
    "plt.figure(figsize=(20,5))\n",
    "plt.plot(axisx,rs,c=\"black\",label=\"XGB\")\n",
    "\n",
    "#添加方差线\n",
    "plt.plot(axisx,rs+var,c=\"red\",linestyle='-.')\n",
    "plt.plot(axisx,rs-var,c=\"red\",linestyle='-.')\n",
    "plt.legend()\n",
    "plt.show()\n",
    "\n",
    "#看看泛化误差的可控部分如何？\n",
    "plt.figure(figsize=(20,5))\n",
    "plt.plot(axisx,ge,c=\"gray\",linestyle='-.')\n",
    "plt.show()\n"
   ]
  },
  {
   "cell_type": "markdown",
   "metadata": {},
   "source": [
    "**9. 检测模型效果**"
   ]
  },
  {
   "cell_type": "code",
   "execution_count": 52,
   "metadata": {},
   "outputs": [
    {
     "name": "stdout",
     "output_type": "stream",
     "text": [
      "0.9050988968414799\n",
      "0.0827789306640625\n"
     ]
    }
   ],
   "source": [
    "#验证模型效果是否提高了？\n",
    "time0 = time()\n",
    "print(XGBR(n_estimators=100,random_state=420).fit(Xtrain,Ytrain).score(Xtest,Ytest))\n",
    "print(time()-time0)\n"
   ]
  },
  {
   "cell_type": "code",
   "execution_count": 53,
   "metadata": {},
   "outputs": [
    {
     "name": "stdout",
     "output_type": "stream",
     "text": [
      "0.9050526026617368\n",
      "0.229386568069458\n"
     ]
    }
   ],
   "source": [
    "time0 = time()\n",
    "print(XGBR(n_estimators=660,random_state=420).fit(Xtrain,Ytrain).score(Xtest,Ytest))\n",
    "print(time()-time0)\n"
   ]
  },
  {
   "cell_type": "code",
   "execution_count": 54,
   "metadata": {},
   "outputs": [
    {
     "name": "stdout",
     "output_type": "stream",
     "text": [
      "0.9050526026617368\n",
      "0.1176903247833252\n"
     ]
    }
   ],
   "source": [
    "time0 = time()\n",
    "print(XGBR(n_estimators=180,random_state=420).fit(Xtrain,Ytrain).score(Xtest,Ytest))\n",
    "print(time()-time0)\n"
   ]
  },
  {
   "cell_type": "markdown",
   "metadata": {},
   "source": [
    "**结论**\n",
    "\n",
    "1. XGB中的树的数量决定了模型的学习能力，树的数量越多，模型的学习能力越强\n",
    "2. XGB中树的数量很少的时候，对模型的影响较大，当树的数量已经很多的时候，对模型的影响比较小，只能有微弱的变化\n",
    "3. 树的数量提升对模型的影响有极限\n",
    "\n",
    "- n_estimators，300以下为佳。\n"
   ]
  },
  {
   "cell_type": "markdown",
   "metadata": {},
   "source": [
    "### 2.2 有放回随机抽样：重要参数subsample\n",
    "\n",
    "- 每构建一个评估器，都让模型更加集中于数据集中容易被判错的那些样本\n",
    "  - 第二次抽样中，加大了被第一棵树判断错误的样本的权重。\n",
    "- 只要弱分类器足够强大，随着模型整体不断在被判错的样本上发力，这些样本会渐渐被判断正确。\n",
    "- 后面的树，都在不断修正前面分类错误的结果\n",
    "\n",
    "参数`subsample`来控制我们的随机抽样。在xgb和sklearn中，这个参数都默认为1且不能取到0，这说明我们无法控制模型是否进行随机有放回抽样，只能控制抽样抽出来的样本量大概是多少，范围(0,1]\n",
    "\n",
    "采样会减少样本数量，而从学习曲线来看样本数量越少模型的过拟合会越严重，因为对模型来说，数据量越少模型学习越容易，学到的规则也会越具体**越不适用于测试样本**。"
   ]
  },
  {
   "cell_type": "code",
   "execution_count": 55,
   "metadata": {},
   "outputs": [
    {
     "name": "stdout",
     "output_type": "stream",
     "text": [
      "0.7894736842105263 0.8311535529353655\n"
     ]
    },
    {
     "data": {
      "image/png": "[encoded data removed]",
      "text/plain": [
       "<Figure size 1440x360 with 1 Axes>"
      ]
     },
     "metadata": {
      "needs_background": "light"
     },
     "output_type": "display_data"
    }
   ],
   "source": [
    "axisx = np.linspace(0,1,20)\n",
    "rs = []\n",
    "for i in axisx:\n",
    "    reg = XGBR(n_estimators=180,subsample=i,random_state=420)\n",
    "    rs.append(CVS(reg,Xtrain,Ytrain,cv=cv).mean())\n",
    "    \n",
    "print(axisx[rs.index(max(rs))],max(rs))\n",
    "plt.figure(figsize=(20,5))\n",
    "plt.plot(axisx,rs,c=\"green\",label=\"XGB\")\n",
    "plt.legend()\n",
    "plt.show()"
   ]
  },
  {
   "cell_type": "code",
   "execution_count": 56,
   "metadata": {},
   "outputs": [
    {
     "name": "stdout",
     "output_type": "stream",
     "text": [
      "0.8958333333333333 0.834342266600667 0.0046952656769332435\n",
      "0.96875 0.8252453537450062 0.0019206013249795102\n",
      "0.7916666666666666 0.8327030296114508 0.002602708746673087 0.03059098504786019\n"
     ]
    },
    {
     "data": {
      "image/png": "[encoded data removed]",
      "text/plain": [
       "<Figure size 1440x360 with 1 Axes>"
      ]
     },
     "metadata": {
      "needs_background": "light"
     },
     "output_type": "display_data"
    }
   ],
   "source": [
    "#细化学习曲线\n",
    "axisx = np.linspace(0.75,1,25)\n",
    "rs = []\n",
    "var = []\n",
    "ge = []\n",
    "\n",
    "for i in axisx:\n",
    "    reg = XGBR(n_estimators=180,subsample=i,random_state=420)  # 调整每次抽样的比例\n",
    "    cvresult = CVS(reg,Xtrain,Ytrain,cv=cv)\n",
    "    rs.append(cvresult.mean())\n",
    "    var.append(cvresult.var())\n",
    "    ge.append((1 - cvresult.mean())**2+cvresult.var())\n",
    "    \n",
    "print(axisx[rs.index(max(rs))],max(rs),var[rs.index(max(rs))])\n",
    "print(axisx[var.index(min(var))],rs[var.index(min(var))],min(var))\n",
    "print(axisx[ge.index(min(ge))],rs[ge.index(min(ge))],var[ge.index(min(ge))],min(ge))\n",
    "\n",
    "rs = np.array(rs)\n",
    "var = np.array(var)\n",
    "plt.figure(figsize=(20,5))\n",
    "plt.plot(axisx,rs,c=\"black\",label=\"XGB\")\n",
    "plt.plot(axisx,rs+var,c=\"red\",linestyle='-.')\n",
    "plt.plot(axisx,rs-var,c=\"red\",linestyle='-.')\n",
    "plt.legend()\n",
    "plt.show()"
   ]
  },
  {
   "cell_type": "code",
   "execution_count": 57,
   "metadata": {},
   "outputs": [
    {
     "data": {
      "text/plain": [
       "9.103002897056138"
      ]
     },
     "execution_count": 57,
     "metadata": {},
     "output_type": "execute_result"
    }
   ],
   "source": [
    "#看看泛化误差的情况如何\n",
    "reg = XGBR(n_estimators=180\n",
    ",subsample=0.7708333333333334\n",
    ",random_state=420).fit(Xtrain,Ytrain)\n",
    "reg.score(Xtest,Ytest)\n",
    "MSE(Ytest,reg.predict(Xtest))"
   ]
  },
  {
   "cell_type": "markdown",
   "metadata": {},
   "source": [
    "数据集过少，降低抽样的比例反而让数据的效果更低，不如就让它保持默认"
   ]
  },
  {
   "cell_type": "markdown",
   "metadata": {},
   "source": [
    "### 2.3 迭代决策树：重要参数eta\n",
    "\n",
    "保证每次新添加的树一定得是对这个新数据集预测效果最优的那一棵树\n",
    "\n",
    "- 参数`learning_rate`学习速率\n",
    "  - 集成中的学习率，又称为步长以控制迭代速率，常用于防止过拟合\n",
    "  - xgb.train(),xgboost库中为eta，默认0.3 取值范围[0,1]\n",
    "  - xgb.XGBRegressor()，sklearn中为learning_rate，默认0.1 取值范围[0,1]"
   ]
  },
  {
   "cell_type": "code",
   "execution_count": 58,
   "metadata": {},
   "outputs": [],
   "source": [
    "#首先我们先来定义一个评分函数，这个评分函数能够帮助我们直接打印Xtrain上的交叉验证结果\n",
    "\n",
    "def regassess(reg,Xtrain,Ytrain,cv,scoring=['r2'],show=True):\n",
    "    \"\"\"\n",
    "    评分默认为R2\n",
    "    \"\"\"\n",
    "    score = []\n",
    "    for i in range(len(scoring)):\n",
    "        if show:\n",
    "            print(\"{}:{:.2f}\".format(scoring[i]\n",
    "                ,CVS(reg,Xtrain,Ytrain,cv=cv,scoring=scoring[i]).mean()))\n",
    "            # 打印模型评估指标的名字 以及交叉验证的平均分\n",
    "        score.append(CVS(reg,Xtrain,Ytrain,cv=cv,scoring=scoring[i]).mean())\n",
    "    return score\n"
   ]
  },
  {
   "cell_type": "code",
   "execution_count": 59,
   "metadata": {},
   "outputs": [
    {
     "name": "stdout",
     "output_type": "stream",
     "text": [
      "r2:0.80\n",
      "neg_mean_squared_error:-14.33\n"
     ]
    },
    {
     "data": {
      "text/plain": [
       "[0.8018110846099077, -14.333701060996855]"
      ]
     },
     "execution_count": 59,
     "metadata": {},
     "output_type": "execute_result"
    }
   ],
   "source": [
    "# 运行一下函数来看看效果\n",
    "regassess(reg,Xtrain,Ytrain,cv,scoring = [\"r2\",\"neg_mean_squared_error\"])"
   ]
  },
  {
   "cell_type": "code",
   "execution_count": 60,
   "metadata": {},
   "outputs": [
    {
     "data": {
      "text/plain": [
       "[0.8018110846099077, -14.333701060996855]"
      ]
     },
     "execution_count": 60,
     "metadata": {},
     "output_type": "execute_result"
    }
   ],
   "source": [
    "# 关闭打印功能\n",
    "regassess(reg,Xtrain,Ytrain,cv,scoring = [\"r2\",\"neg_mean_squared_error\"],show=False)\n",
    "\n",
    "# 不进行打印 返回R2 和均方误差"
   ]
  },
  {
   "cell_type": "code",
   "execution_count": 61,
   "metadata": {},
   "outputs": [
    {
     "name": "stdout",
     "output_type": "stream",
     "text": [
      "learning_rate = 0\n",
      "r2:-6.57\n",
      "neg_mean_squared_error:-567.83\n",
      "00:01:883368\n",
      "\t\n",
      "learning_rate = 0.2\n",
      "r2:0.83\n",
      "neg_mean_squared_error:-12.79\n",
      "00:02:502578\n",
      "\t\n",
      "learning_rate = 0.5\n",
      "r2:0.79\n",
      "neg_mean_squared_error:-14.64\n",
      "00:01:547624\n",
      "\t\n",
      "learning_rate = 1\n",
      "r2:0.65\n",
      "neg_mean_squared_error:-24.99\n",
      "00:01:095640\n",
      "\t\n"
     ]
    }
   ],
   "source": [
    "#————————————————————————————#观察一下eta如何影响我们的模型————————————————————————————\n",
    "\n",
    "from time import time\n",
    "import datetime\n",
    "\n",
    "for i in [0,0.2,0.5,1]:\n",
    "    time0=time()\n",
    "    reg = XGBR(n_estimators=180,random_state=420,learning_rate=i)\n",
    "    print(\"learning_rate = {}\".format(i))\n",
    "    regassess(reg,Xtrain,Ytrain,cv,scoring = [\"r2\",\"neg_mean_squared_error\"])\n",
    "    print(datetime.datetime.fromtimestamp(time()-time0).strftime(\"%M:%S:%f\"))\n",
    "    print(\"\\t\")"
   ]
  },
  {
   "cell_type": "markdown",
   "metadata": {},
   "source": [
    "对于大型数据来及，eta越小模型运行的越慢。如果设置太大可能无法收敛，设置太小就运行就会非常缓慢"
   ]
  },
  {
   "cell_type": "code",
   "execution_count": 62,
   "metadata": {},
   "outputs": [
    {
     "name": "stdout",
     "output_type": "stream",
     "text": [
      "0.1 0.8483121008441683\n"
     ]
    },
    {
     "data": {
      "image/png": "[encoded data removed]",
      "text/plain": [
       "<Figure size 1440x360 with 1 Axes>"
      ]
     },
     "metadata": {
      "needs_background": "light"
     },
     "output_type": "display_data"
    }
   ],
   "source": [
    "axisx = np.arange(0.05,1,0.05)\n",
    "rs = []\n",
    "te = []\n",
    "\n",
    "for i in axisx:\n",
    "    reg = XGBR(n_estimators=180,random_state=420,learning_rate=i)\n",
    "    score = regassess(reg,Xtrain,Ytrain,cv,scoring =[\"r2\",\"neg_mean_squared_error\"],show=False)\n",
    "    test = reg.fit(Xtrain,Ytrain).score(Xtest,Ytest)\n",
    "    rs.append(score[0])\n",
    "    te.append(test)\n",
    "\n",
    "print(axisx[rs.index(max(rs))],max(rs))\n",
    "plt.figure(figsize=(20,5))\n",
    "plt.plot(axisx,te,c=\"gray\",label=\"XGB\")\n",
    "plt.plot(axisx,rs,c=\"green\",label=\"XGB\")\n",
    "plt.legend()\n",
    "plt.show()\n"
   ]
  },
  {
   "cell_type": "markdown",
   "metadata": {},
   "source": [
    "通常不调整eta，即便调整，一般它也会在[0.01,0.2]之间变动。如果我们希望模型的效果更好，更多的可能是从树本身的角度来说，**对树进行剪枝**，而不会寄希望于调整eta。\n",
    "\n",
    "四个参数：`n_estimators`，`learning_rate` ，`silent`，`subsample`\n",
    "- 不常用于提升模型的表现\n",
    "\n",
    "梯度提升树可是说是由三个重要的部分组成：\n",
    "1. 一个能够衡量集成算法效果的，能够被最优化的损失函数$Obj$\n",
    "2. 一个能够实现预测的弱评估器$f_k(x)$\n",
    "3. 一种能够让弱评估器集成的手段，包括我们讲解的迭代方法，抽样手段，样本加权等等过程"
   ]
  },
  {
   "cell_type": "markdown",
   "metadata": {},
   "source": [
    "## 3 XGBoost\n",
    "\n",
    "class xgboost.XGBRegressor (kwargs，max_depth=3, learning_rate=0.1, n_estimators=100, silent=True,**objective='reg:linear'**, **booster='gbtree'**, n_jobs=1, nthread=None, **gamma=0**, min_child_weight=1,max_delta_step=0, subsample=1, colsample_bytree=1, colsample_bylevel=1, reg_alpha=0, reg_lambda=1,scale_pos_weight=1, base_score=0.5, random_state=0, seed=None, missing=None, importance_type='gain')"
   ]
  },
  {
   "cell_type": "markdown",
   "metadata": {},
   "source": [
    "### 3.1 选择弱评估器：重要参数booster\n",
    "\n",
    "xgb.train() & params |xgb.XGBRegressor()\n",
    "|---|---|\n",
    "xgb_model | booster\n",
    "使用哪种弱评估器。可以输入gbtree，gblinear或dart。输入的评估器不同，使用的params参数也不同，每种评估器都有自己的params列表。评估器必须于param参数相匹配，否则报错。|使用哪种弱评估器。可以输入gbtree，gblinear或dart。gbtree代表梯度提升树，dart是Dropouts meet Multiple.Additive Regression Trees，译为抛弃提升树，在建树的过程中会抛弃一部分树，比梯度提升树有更好的防过拟合功能。输入gblinear使用线性模型。\n"
   ]
  },
  {
   "cell_type": "code",
   "execution_count": 63,
   "metadata": {},
   "outputs": [
    {
     "name": "stdout",
     "output_type": "stream",
     "text": [
      "gbtree\n",
      "0.9260984369386971\n",
      "gblinear\n",
      "0.6488041038649521\n",
      "dart\n",
      "0.9260984459922119\n"
     ]
    }
   ],
   "source": [
    "for booster in [\"gbtree\",\"gblinear\",\"dart\"]:\n",
    "    reg = XGBR(n_estimators=180\n",
    "    ,learning_rate=0.1\n",
    "    ,random_state=420\n",
    "    ,booster=booster).fit(Xtrain,Ytrain)\n",
    "    \n",
    "    print(booster)\n",
    "    print(reg.score(Xtest,Ytest)) #自己找线性数据试试看\"gblinear\"的效果吧~"
   ]
  },
  {
   "cell_type": "markdown",
   "metadata": {},
   "source": [
    "### 3.2 XGB的目标函数：重要参数objective\n",
    "\n",
    "集成算法中的损失函数是可选的。回归预测，那我们可以选择调节后的均方误差RMSE作为我们的损失函数。如果我们是进行分类预测，那我们可以选择错误率error或者对数损失log_loss。\n",
    "\n",
    "XGB的目标函数被写作：传统损失函数 + 模型复杂度 \n",
    "$$Obj=\\sum_{i=1}^{m}{l(y_i,\\hat{y_i})}+\\sum_{k=1}^K{\\Omega{(f_k)}}$$ \n",
    "\n",
    "- 第一项是衡量我们的偏差，模型越不准确，第一项就会越大。\n",
    "- 第二项是衡量我们的方差，模型越复杂，模型的学习就会越具体，到不同数据集上的表现就会差异巨大，方差就会越大。\n",
    "- 所以我们求解 的最小值，其实是在求解方差与偏差的平衡点，以求模型的泛化误差最小，运行速度最快。\n",
    "\n",
    "参数“objective\"来确定我们目标函数的第一部分中的$l(y_i,\\hat{y_i})$,也就是衡量损失的部分\n",
    "\n",
    "xgb.train() | xgb.XGBRegressor() | xgb.XGBClassifier()\n",
    "|---|---|---|\n",
    "obj：默认binary:logistic | objective：默认reg:linear| objective：默认binary:logistic\n",
    "\n",
    "常用选择有：\n",
    "输入 | 选用的损失函数\n",
    "|---|---|\n",
    "reg:linear| 使用线性回归的损失函数，均方误差，回归时使用\n",
    "binary:logistic | 使用逻辑回归的损失函数，对数损失log_loss，二分类时使用\n",
    "binary:hinge | 使用支持向量机的损失函数，Hinge Loss，二分类时使用\n",
    "multi:softmax  |使用softmax损失函数，多分类时使用\n",
    "\n",
    "\n",
    "\n",
    "**xbgoost库的调用方式**\n",
    "\n",
    "1. 读取数据 xgb.DMatrix()\n",
    "2. 设置参数 param={}\n",
    "3. 训练模型 bst = xgb.train(param)\n",
    "   -  xgb.train(param,dtrain,num_round)\n",
    "4. 预测结果bst.predict()"
   ]
  },
  {
   "cell_type": "code",
   "execution_count": 64,
   "metadata": {},
   "outputs": [
    {
     "data": {
      "text/plain": [
       "0.9050526026617368"
      ]
     },
     "execution_count": 64,
     "metadata": {},
     "output_type": "execute_result"
    }
   ],
   "source": [
    "#————————————————————————————sklearn中XGboost调用方法————————————————————————————\n",
    "reg = XGBR(n_estimators=180,random_state=420).fit(Xtrain,Ytrain)\n",
    "reg.score(Xtest,Ytest)\n"
   ]
  },
  {
   "cell_type": "code",
   "execution_count": 65,
   "metadata": {},
   "outputs": [
    {
     "data": {
      "text/plain": [
       "8.835224196909236"
      ]
     },
     "execution_count": 65,
     "metadata": {},
     "output_type": "execute_result"
    }
   ],
   "source": [
    "MSE(Ytest,reg.predict(Xtest))"
   ]
  },
  {
   "cell_type": "code",
   "execution_count": 66,
   "metadata": {},
   "outputs": [],
   "source": [
    "#————————————————————————————利用xgboost库————————————————————————————\n",
    "import xgboost as xgb\n",
    "\n",
    "dtrain = xgb.DMatrix(Xtrain,Ytrain)  # 对特征矩阵和标签都要传入\n",
    "dtest = xgb.DMatrix(Xtest,Ytest) "
   ]
  },
  {
   "cell_type": "code",
   "execution_count": 67,
   "metadata": {},
   "outputs": [
    {
     "data": {
      "text/html": [
       "<div>\n",
       "<style scoped>\n",
       "    .dataframe tbody tr th:only-of-type {\n",
       "        vertical-align: middle;\n",
       "    }\n",
       "\n",
       "    .dataframe tbody tr th {\n",
       "        vertical-align: top;\n",
       "    }\n",
       "\n",
       "    .dataframe thead th {\n",
       "        text-align: right;\n",
       "    }\n",
       "</style>\n",
       "<table border=\"1\" class=\"dataframe\">\n",
       "  <thead>\n",
       "    <tr style=\"text-align: right;\">\n",
       "      <th></th>\n",
       "      <th>0</th>\n",
       "      <th>1</th>\n",
       "      <th>2</th>\n",
       "      <th>3</th>\n",
       "      <th>4</th>\n",
       "      <th>5</th>\n",
       "      <th>6</th>\n",
       "      <th>7</th>\n",
       "      <th>8</th>\n",
       "      <th>9</th>\n",
       "      <th>10</th>\n",
       "      <th>11</th>\n",
       "      <th>12</th>\n",
       "    </tr>\n",
       "  </thead>\n",
       "  <tbody>\n",
       "    <tr>\n",
       "      <th>0</th>\n",
       "      <td>0.03041</td>\n",
       "      <td>0.0</td>\n",
       "      <td>5.19</td>\n",
       "      <td>0.0</td>\n",
       "      <td>0.515</td>\n",
       "      <td>5.895</td>\n",
       "      <td>59.6</td>\n",
       "      <td>5.6150</td>\n",
       "      <td>5.0</td>\n",
       "      <td>224.0</td>\n",
       "      <td>20.2</td>\n",
       "      <td>394.81</td>\n",
       "      <td>10.56</td>\n",
       "    </tr>\n",
       "    <tr>\n",
       "      <th>1</th>\n",
       "      <td>0.04113</td>\n",
       "      <td>25.0</td>\n",
       "      <td>4.86</td>\n",
       "      <td>0.0</td>\n",
       "      <td>0.426</td>\n",
       "      <td>6.727</td>\n",
       "      <td>33.5</td>\n",
       "      <td>5.4007</td>\n",
       "      <td>4.0</td>\n",
       "      <td>281.0</td>\n",
       "      <td>19.0</td>\n",
       "      <td>396.90</td>\n",
       "      <td>5.29</td>\n",
       "    </tr>\n",
       "    <tr>\n",
       "      <th>2</th>\n",
       "      <td>10.23300</td>\n",
       "      <td>0.0</td>\n",
       "      <td>18.10</td>\n",
       "      <td>0.0</td>\n",
       "      <td>0.614</td>\n",
       "      <td>6.185</td>\n",
       "      <td>96.7</td>\n",
       "      <td>2.1705</td>\n",
       "      <td>24.0</td>\n",
       "      <td>666.0</td>\n",
       "      <td>20.2</td>\n",
       "      <td>379.70</td>\n",
       "      <td>18.03</td>\n",
       "    </tr>\n",
       "    <tr>\n",
       "      <th>3</th>\n",
       "      <td>0.17142</td>\n",
       "      <td>0.0</td>\n",
       "      <td>6.91</td>\n",
       "      <td>0.0</td>\n",
       "      <td>0.448</td>\n",
       "      <td>5.682</td>\n",
       "      <td>33.8</td>\n",
       "      <td>5.1004</td>\n",
       "      <td>3.0</td>\n",
       "      <td>233.0</td>\n",
       "      <td>17.9</td>\n",
       "      <td>396.90</td>\n",
       "      <td>10.21</td>\n",
       "    </tr>\n",
       "    <tr>\n",
       "      <th>4</th>\n",
       "      <td>0.05059</td>\n",
       "      <td>0.0</td>\n",
       "      <td>4.49</td>\n",
       "      <td>0.0</td>\n",
       "      <td>0.449</td>\n",
       "      <td>6.389</td>\n",
       "      <td>48.0</td>\n",
       "      <td>4.7794</td>\n",
       "      <td>3.0</td>\n",
       "      <td>247.0</td>\n",
       "      <td>18.5</td>\n",
       "      <td>396.90</td>\n",
       "      <td>9.62</td>\n",
       "    </tr>\n",
       "    <tr>\n",
       "      <th>...</th>\n",
       "      <td>...</td>\n",
       "      <td>...</td>\n",
       "      <td>...</td>\n",
       "      <td>...</td>\n",
       "      <td>...</td>\n",
       "      <td>...</td>\n",
       "      <td>...</td>\n",
       "      <td>...</td>\n",
       "      <td>...</td>\n",
       "      <td>...</td>\n",
       "      <td>...</td>\n",
       "      <td>...</td>\n",
       "      <td>...</td>\n",
       "    </tr>\n",
       "    <tr>\n",
       "      <th>349</th>\n",
       "      <td>0.03871</td>\n",
       "      <td>52.5</td>\n",
       "      <td>5.32</td>\n",
       "      <td>0.0</td>\n",
       "      <td>0.405</td>\n",
       "      <td>6.209</td>\n",
       "      <td>31.3</td>\n",
       "      <td>7.3172</td>\n",
       "      <td>6.0</td>\n",
       "      <td>293.0</td>\n",
       "      <td>16.6</td>\n",
       "      <td>396.90</td>\n",
       "      <td>7.14</td>\n",
       "    </tr>\n",
       "    <tr>\n",
       "      <th>350</th>\n",
       "      <td>0.12650</td>\n",
       "      <td>25.0</td>\n",
       "      <td>5.13</td>\n",
       "      <td>0.0</td>\n",
       "      <td>0.453</td>\n",
       "      <td>6.762</td>\n",
       "      <td>43.4</td>\n",
       "      <td>7.9809</td>\n",
       "      <td>8.0</td>\n",
       "      <td>284.0</td>\n",
       "      <td>19.7</td>\n",
       "      <td>395.58</td>\n",
       "      <td>9.50</td>\n",
       "    </tr>\n",
       "    <tr>\n",
       "      <th>351</th>\n",
       "      <td>6.96215</td>\n",
       "      <td>0.0</td>\n",
       "      <td>18.10</td>\n",
       "      <td>0.0</td>\n",
       "      <td>0.700</td>\n",
       "      <td>5.713</td>\n",
       "      <td>97.0</td>\n",
       "      <td>1.9265</td>\n",
       "      <td>24.0</td>\n",
       "      <td>666.0</td>\n",
       "      <td>20.2</td>\n",
       "      <td>394.43</td>\n",
       "      <td>17.11</td>\n",
       "    </tr>\n",
       "    <tr>\n",
       "      <th>352</th>\n",
       "      <td>0.09164</td>\n",
       "      <td>0.0</td>\n",
       "      <td>10.81</td>\n",
       "      <td>0.0</td>\n",
       "      <td>0.413</td>\n",
       "      <td>6.065</td>\n",
       "      <td>7.8</td>\n",
       "      <td>5.2873</td>\n",
       "      <td>4.0</td>\n",
       "      <td>305.0</td>\n",
       "      <td>19.2</td>\n",
       "      <td>390.91</td>\n",
       "      <td>5.52</td>\n",
       "    </tr>\n",
       "    <tr>\n",
       "      <th>353</th>\n",
       "      <td>5.58107</td>\n",
       "      <td>0.0</td>\n",
       "      <td>18.10</td>\n",
       "      <td>0.0</td>\n",
       "      <td>0.713</td>\n",
       "      <td>6.436</td>\n",
       "      <td>87.9</td>\n",
       "      <td>2.3158</td>\n",
       "      <td>24.0</td>\n",
       "      <td>666.0</td>\n",
       "      <td>20.2</td>\n",
       "      <td>100.19</td>\n",
       "      <td>16.22</td>\n",
       "    </tr>\n",
       "  </tbody>\n",
       "</table>\n",
       "<p>354 rows × 13 columns</p>\n",
       "</div>"
      ],
      "text/plain": [
       "           0     1      2    3      4      5     6       7     8      9   \\\n",
       "0     0.03041   0.0   5.19  0.0  0.515  5.895  59.6  5.6150   5.0  224.0   \n",
       "1     0.04113  25.0   4.86  0.0  0.426  6.727  33.5  5.4007   4.0  281.0   \n",
       "2    10.23300   0.0  18.10  0.0  0.614  6.185  96.7  2.1705  24.0  666.0   \n",
       "3     0.17142   0.0   6.91  0.0  0.448  5.682  33.8  5.1004   3.0  233.0   \n",
       "4     0.05059   0.0   4.49  0.0  0.449  6.389  48.0  4.7794   3.0  247.0   \n",
       "..        ...   ...    ...  ...    ...    ...   ...     ...   ...    ...   \n",
       "349   0.03871  52.5   5.32  0.0  0.405  6.209  31.3  7.3172   6.0  293.0   \n",
       "350   0.12650  25.0   5.13  0.0  0.453  6.762  43.4  7.9809   8.0  284.0   \n",
       "351   6.96215   0.0  18.10  0.0  0.700  5.713  97.0  1.9265  24.0  666.0   \n",
       "352   0.09164   0.0  10.81  0.0  0.413  6.065   7.8  5.2873   4.0  305.0   \n",
       "353   5.58107   0.0  18.10  0.0  0.713  6.436  87.9  2.3158  24.0  666.0   \n",
       "\n",
       "       10      11     12  \n",
       "0    20.2  394.81  10.56  \n",
       "1    19.0  396.90   5.29  \n",
       "2    20.2  379.70  18.03  \n",
       "3    17.9  396.90  10.21  \n",
       "4    18.5  396.90   9.62  \n",
       "..    ...     ...    ...  \n",
       "349  16.6  396.90   7.14  \n",
       "350  19.7  395.58   9.50  \n",
       "351  20.2  394.43  17.11  \n",
       "352  19.2  390.91   5.52  \n",
       "353  20.2  100.19  16.22  \n",
       "\n",
       "[354 rows x 13 columns]"
      ]
     },
     "execution_count": 67,
     "metadata": {},
     "output_type": "execute_result"
    }
   ],
   "source": [
    "import pandas as pd\n",
    "pd.DataFrame(Xtrain)\n",
    "\n",
    "# 无法将dtrain用表格的形式打开，都在dtrain之前打开"
   ]
  },
  {
   "cell_type": "code",
   "execution_count": 68,
   "metadata": {},
   "outputs": [],
   "source": [
    "#写明参数，silent默认为False，通常需要手动将它关闭\n",
    "param = {'silent':False,'objective':'reg:linear',\"eta\":0.1}\n",
    "num_round=180"
   ]
  },
  {
   "cell_type": "code",
   "execution_count": 69,
   "metadata": {},
   "outputs": [
    {
     "name": "stdout",
     "output_type": "stream",
     "text": [
      "[10:35:05] WARNING: C:/Users/administrator/workspace/xgboost-win64_release_1.6.0/src/objective/regression_obj.cu:203: reg:linear is now deprecated in favor of reg:squarederror.\n",
      "[10:35:05] WARNING: C:/Users/administrator/workspace/xgboost-win64_release_1.6.0/src/learner.cc:627: \n",
      "Parameters: { \"silent\" } might not be used.\n",
      "\n",
      "  This could be a false alarm, with some parameters getting used by language bindings but\n",
      "  then being mistakenly passed down to XGBoost core, or some parameter actually being used\n",
      "  but getting flagged wrongly here. Please open an issue if you find any such cases.\n",
      "\n",
      "\n"
     ]
    }
   ],
   "source": [
    "# 类train，可以直接导入的参数是训练数据，树的数量，其他参数都需要通过params来导入\n",
    "bst = xgb.train(param,dtrain,num_round)"
   ]
  },
  {
   "cell_type": "code",
   "execution_count": 70,
   "metadata": {},
   "outputs": [
    {
     "data": {
      "text/plain": [
       "array([ 6.4613175, 22.123888 , 30.755163 , 13.424353 ,  8.378563 ,\n",
       "       23.608473 , 14.2151165, 16.0265   , 15.498961 , 14.106488 ,\n",
       "       24.030863 , 34.36362  , 21.461111 , 28.839497 , 19.568035 ,\n",
       "       10.18866  , 19.42369  , 23.539951 , 22.850523 , 23.19871  ,\n",
       "       17.82486  , 16.072205 , 27.602034 , 20.773046 , 20.868807 ,\n",
       "       15.865789 , 22.076588 , 29.292158 , 22.841051 , 15.770392 ,\n",
       "       36.680496 , 21.057947 , 20.137005 , 23.777853 , 22.70615  ,\n",
       "       23.863268 , 15.595315 , 24.565872 , 17.720552 , 33.951115 ,\n",
       "       18.784288 , 20.483376 , 37.106678 , 18.068266 , 12.73839  ,\n",
       "       31.186407 , 45.895035 , 12.696718 , 10.773068 , 36.064293 ,\n",
       "       26.262571 , 19.908836 , 20.715096 , 48.814903 , 27.550056 ,\n",
       "       25.225826 , 17.15366  , 21.215551 , 17.426773 , 18.478971 ,\n",
       "       14.6453705, 22.841473 , 18.869593 , 29.990978 , 29.933191 ,\n",
       "       18.756855 , 18.784918 , 16.33362  , 23.15597  , 19.144344 ,\n",
       "       29.724382 , 42.121906 , 31.544363 , 23.017508 , 19.536028 ,\n",
       "       23.851992 , 41.790577 , 28.676506 , 20.036423 , 21.723856 ,\n",
       "       19.537868 , 46.349495 , 23.119637 ,  8.0714445, 26.358177 ,\n",
       "       24.85706  , 17.057545 , 20.084204 , 18.54005  ,  7.157663 ,\n",
       "       20.593962 , 15.451031 , 45.09552  , 34.435097 , 22.969654 ,\n",
       "       10.10335  , 10.803316 , 18.42058  ,  7.800361 , 11.79309  ,\n",
       "       30.755335 , 10.806479 , 26.122625 , 22.589502 , 31.219454 ,\n",
       "       42.283318 , 19.274107 ,  7.3861713, 23.055706 , 14.315018 ,\n",
       "       45.136368 , 21.243176 , 19.715649 , 24.533583 , 18.24247  ,\n",
       "       28.382742 , 23.411816 , 19.962458 , 45.916683 , 17.521889 ,\n",
       "       24.130386 , 26.147182 , 18.418781 , 17.606571 , 14.540631 ,\n",
       "       20.595512 , 32.591278 , 10.155618 , 20.53032  , 21.477484 ,\n",
       "       17.450048 , 20.154486 ,  8.010226 , 30.482618 , 29.677181 ,\n",
       "       20.357098 , 18.222181 , 14.14504  , 10.100547 , 18.85027  ,\n",
       "       41.85804  , 17.445444 , 22.90718  , 21.02398  , 29.799366 ,\n",
       "       20.219465 , 12.404763 , 45.750965 , 25.56757  , 22.000706 ,\n",
       "       14.194921 , 27.102774 ], dtype=float32)"
      ]
     },
     "execution_count": 70,
     "metadata": {},
     "output_type": "execute_result"
    }
   ],
   "source": [
    "preds = bst.predict(dtest)\n",
    "preds"
   ]
  },
  {
   "cell_type": "code",
   "execution_count": 71,
   "metadata": {},
   "outputs": [
    {
     "data": {
      "text/plain": [
       "0.9260984369386971"
      ]
     },
     "execution_count": 71,
     "metadata": {},
     "output_type": "execute_result"
    }
   ],
   "source": [
    "#接口predict\n",
    "from sklearn.metrics import r2_score\n",
    "r2_score(Ytest,bst.predict(dtest))\n"
   ]
  },
  {
   "cell_type": "code",
   "execution_count": 72,
   "metadata": {},
   "outputs": [
    {
     "data": {
      "text/plain": [
       "6.876827553497432"
      ]
     },
     "execution_count": 72,
     "metadata": {},
     "output_type": "execute_result"
    }
   ],
   "source": [
    "MSE(Ytest,bst.predict(dtest))"
   ]
  },
  {
   "cell_type": "markdown",
   "metadata": {},
   "source": [
    "- 从R2和MSE的两个角度，都是xgb库本身表现更优秀\n",
    "- xgb库运算也较快"
   ]
  },
  {
   "cell_type": "markdown",
   "metadata": {},
   "source": [
    "### 3.3 求解XGB的目标函数\n",
    "\n",
    "### 3.4 参数化决策树$f_k(x)$：参数alpha，lambda\n",
    "\n",
    "- 利用L1正则化参数$\\alpha$，L2参数$\\lambda$ 进行惩罚\n",
    "- 很少使用这两个参数，一般利用网格搜索\n",
    "- 要用的话，优先使用L2正则化\n",
    "\n",
    "**XGB vs GBDT 核心区别2：正则项的存在**\n",
    "\n",
    "在普通的梯度提升树GBDT中，我们是不在目标函数中使用正则项的。但XGB借用正则项来修正树模型天生容易过拟合这个缺陷，在剪枝之前让模型能够尽量不过拟合。\n",
    "\n",
    "参数含义 | xgb.train()| xgb.XGBRegressor()\n",
    "|---|---|---\n",
    "L1正则项的参数 | alpha，默认0，取值范围[0, +∞] | reg_alpha，默认0，取值范围[0, +∞]\n",
    "L2正则项的参数  |lambda，默认1，取值范围[0, +∞] | reg_lambda，默认1，取值范围[0, +∞]\n",
    "\n",
    "\n",
    "$\\alpha$和$\\lambda$越大，惩罚越重，正则项所占的比例就越大，在尽全力最小化目标函数的最优化方向下，叶子节点数量就会被压制，模型的复杂度就越来越低，所以对于天生过拟合的XGB来说，正则化可以一定程度上提升模型效果。\n"
   ]
  },
  {
   "cell_type": "markdown",
   "metadata": {},
   "source": [
    "\n",
    "\n",
    "### 3.5 让树停止生长：重要参数gamma\n",
    "\n",
    "$\\gamma$是“复杂性控制”（complexity control），所以$\\gamma$是防止过拟合的重要参数。实践证明$\\gamma$是对梯度提升树影响最大的参数之一，其效果丝毫不逊色于n_estimators和防止过拟合的神器max_depth。\n",
    "\n",
    "在树的叶节点上进行进一步分枝所需的最小目标函数减少量\n",
    "\n",
    "参数含义 | xgb.train() | xgb.XGBRegressor()\n",
    "|---|---|---|\n",
    "复杂度的惩罚项 | gamma，默认0，取值范围[0, +∞] | gamma，默认0，取值范围[0, +∞]"
   ]
  },
  {
   "cell_type": "code",
   "execution_count": 73,
   "metadata": {},
   "outputs": [
    {
     "name": "stdout",
     "output_type": "stream",
     "text": [
      "4.3 0.8344129938755398 0.0038064127927813565\n",
      "4.3500000000000005 0.8298701484629785 0.0036576618667615397\n",
      "4.3 0.8344129938755398 0.0038064127927813565 0.03122546939004338\n"
     ]
    },
    {
     "data": {
      "image/png": "[encoded data removed]",
      "text/plain": [
       "<Figure size 1440x360 with 1 Axes>"
      ]
     },
     "metadata": {
      "needs_background": "light"
     },
     "output_type": "display_data"
    }
   ],
   "source": [
    "axisx = np.arange(0,5,0.05)\n",
    "rs = []\n",
    "var = []\n",
    "ge = []\n",
    "\n",
    "for i in axisx:\n",
    "    reg = XGBR(n_estimators=180,random_state=420,gamma=i)\n",
    "    result = CVS(reg,Xtrain,Ytrain,cv=cv)\n",
    "    rs.append(result.mean())\n",
    "    var.append(result.var())\n",
    "    ge.append((1 - result.mean())**2+result.var())\n",
    "\n",
    "# 画图   \n",
    "print(axisx[rs.index(max(rs))],max(rs),var[rs.index(max(rs))])\n",
    "print(axisx[var.index(min(var))],rs[var.index(min(var))],min(var))\n",
    "print(axisx[ge.index(min(ge))],rs[ge.index(min(ge))],var[ge.index(min(ge))],min(ge))\n",
    "rs = np.array(rs)\n",
    "var = np.array(var)*0.1\n",
    "plt.figure(figsize=(20,5))\n",
    "plt.plot(axisx,rs,c=\"black\",label=\"XGB\")\n",
    "plt.plot(axisx,rs+var,c=\"red\",linestyle='-.')\n",
    "plt.plot(axisx,rs-var,c=\"red\",linestyle='-.')\n",
    "plt.legend()\n",
    "plt.show()\n"
   ]
  },
  {
   "cell_type": "markdown",
   "metadata": {},
   "source": [
    "在sklearn下XGBoost太不稳定，如果这样来调整参数的话，效果就很难保证。因此，为了调整$\\gamma$，我们需要来引入新的工具，xgboost库中的类xgboost.cv\n",
    "\n",
    "xgboost.cv (params, dtrain, num_boost_round=10, nfold=3, stratified=False, folds=None, metrics=(), obj=None,feval=None, maximize=False, early_stopping_rounds=None, fpreproc=None, as_pandas=True, verbose_eval=None,show_stdv=True, seed=0, callbacks=None, shuffle=True)\n",
    "\n",
    "- xgboost.cv 可以同时返回训练集合测试集中的打分"
   ]
  },
  {
   "cell_type": "code",
   "execution_count": 74,
   "metadata": {},
   "outputs": [],
   "source": [
    "import xgboost as xgb\n",
    "\n",
    "dfull = xgb.DMatrix(X,y)\n",
    "\n",
    "# 设定参数param\n",
    "param1 = {'silent':False,'obj':'reg:linear','gamma':0}\n",
    "num_round = 180\n",
    "n_fold=5\n",
    "\n"
   ]
  },
  {
   "cell_type": "code",
   "execution_count": 75,
   "metadata": {},
   "outputs": [
    {
     "name": "stdout",
     "output_type": "stream",
     "text": [
      "[10:35:53] WARNING: C:/Users/administrator/workspace/xgboost-win64_release_1.6.0/src/learner.cc:627: \n",
      "Parameters: { \"obj\", \"silent\" } might not be used.\n",
      "\n",
      "  This could be a false alarm, with some parameters getting used by language bindings but\n",
      "  then being mistakenly passed down to XGBoost core, or some parameter actually being used\n",
      "  but getting flagged wrongly here. Please open an issue if you find any such cases.\n",
      "\n",
      "\n",
      "[10:35:53] WARNING: C:/Users/administrator/workspace/xgboost-win64_release_1.6.0/src/learner.cc:627: \n",
      "Parameters: { \"obj\", \"silent\" } might not be used.\n",
      "\n",
      "  This could be a false alarm, with some parameters getting used by language bindings but\n",
      "  then being mistakenly passed down to XGBoost core, or some parameter actually being used\n",
      "  but getting flagged wrongly here. Please open an issue if you find any such cases.\n",
      "\n",
      "\n",
      "[10:35:53] WARNING: C:/Users/administrator/workspace/xgboost-win64_release_1.6.0/src/learner.cc:627: \n",
      "Parameters: { \"obj\", \"silent\" } might not be used.\n",
      "\n",
      "  This could be a false alarm, with some parameters getting used by language bindings but\n",
      "  then being mistakenly passed down to XGBoost core, or some parameter actually being used\n",
      "  but getting flagged wrongly here. Please open an issue if you find any such cases.\n",
      "\n",
      "\n",
      "[10:35:53] WARNING: C:/Users/administrator/workspace/xgboost-win64_release_1.6.0/src/learner.cc:627: \n",
      "Parameters: { \"obj\", \"silent\" } might not be used.\n",
      "\n",
      "  This could be a false alarm, with some parameters getting used by language bindings but\n",
      "  then being mistakenly passed down to XGBoost core, or some parameter actually being used\n",
      "  but getting flagged wrongly here. Please open an issue if you find any such cases.\n",
      "\n",
      "\n",
      "[10:35:53] WARNING: C:/Users/administrator/workspace/xgboost-win64_release_1.6.0/src/learner.cc:627: \n",
      "Parameters: { \"obj\", \"silent\" } might not be used.\n",
      "\n",
      "  This could be a false alarm, with some parameters getting used by language bindings but\n",
      "  then being mistakenly passed down to XGBoost core, or some parameter actually being used\n",
      "  but getting flagged wrongly here. Please open an issue if you find any such cases.\n",
      "\n",
      "\n",
      "00:00:675997\n"
     ]
    }
   ],
   "source": [
    "# 使用类xgb.cv\n",
    "time0 = time()\n",
    "cvresult1 = xgb.cv(param1, dfull, num_round,n_fold)\n",
    "print(datetime.datetime.fromtimestamp(time()-time0).strftime(\"%M:%S:%f\"))\n"
   ]
  },
  {
   "cell_type": "code",
   "execution_count": 76,
   "metadata": {},
   "outputs": [
    {
     "data": {
      "text/html": [
       "<div>\n",
       "<style scoped>\n",
       "    .dataframe tbody tr th:only-of-type {\n",
       "        vertical-align: middle;\n",
       "    }\n",
       "\n",
       "    .dataframe tbody tr th {\n",
       "        vertical-align: top;\n",
       "    }\n",
       "\n",
       "    .dataframe thead th {\n",
       "        text-align: right;\n",
       "    }\n",
       "</style>\n",
       "<table border=\"1\" class=\"dataframe\">\n",
       "  <thead>\n",
       "    <tr style=\"text-align: right;\">\n",
       "      <th></th>\n",
       "      <th>train-rmse-mean</th>\n",
       "      <th>train-rmse-std</th>\n",
       "      <th>test-rmse-mean</th>\n",
       "      <th>test-rmse-std</th>\n",
       "    </tr>\n",
       "  </thead>\n",
       "  <tbody>\n",
       "    <tr>\n",
       "      <th>0</th>\n",
       "      <td>17.105578</td>\n",
       "      <td>0.129116</td>\n",
       "      <td>17.163215</td>\n",
       "      <td>0.584297</td>\n",
       "    </tr>\n",
       "    <tr>\n",
       "      <th>1</th>\n",
       "      <td>12.337973</td>\n",
       "      <td>0.097557</td>\n",
       "      <td>12.519736</td>\n",
       "      <td>0.473458</td>\n",
       "    </tr>\n",
       "    <tr>\n",
       "      <th>2</th>\n",
       "      <td>8.994071</td>\n",
       "      <td>0.065756</td>\n",
       "      <td>9.404534</td>\n",
       "      <td>0.472310</td>\n",
       "    </tr>\n",
       "    <tr>\n",
       "      <th>3</th>\n",
       "      <td>6.629481</td>\n",
       "      <td>0.050323</td>\n",
       "      <td>7.250335</td>\n",
       "      <td>0.500342</td>\n",
       "    </tr>\n",
       "    <tr>\n",
       "      <th>4</th>\n",
       "      <td>4.954406</td>\n",
       "      <td>0.033209</td>\n",
       "      <td>5.920812</td>\n",
       "      <td>0.591874</td>\n",
       "    </tr>\n",
       "    <tr>\n",
       "      <th>...</th>\n",
       "      <td>...</td>\n",
       "      <td>...</td>\n",
       "      <td>...</td>\n",
       "      <td>...</td>\n",
       "    </tr>\n",
       "    <tr>\n",
       "      <th>175</th>\n",
       "      <td>0.001299</td>\n",
       "      <td>0.000288</td>\n",
       "      <td>3.669898</td>\n",
       "      <td>0.857676</td>\n",
       "    </tr>\n",
       "    <tr>\n",
       "      <th>176</th>\n",
       "      <td>0.001285</td>\n",
       "      <td>0.000260</td>\n",
       "      <td>3.669897</td>\n",
       "      <td>0.857677</td>\n",
       "    </tr>\n",
       "    <tr>\n",
       "      <th>177</th>\n",
       "      <td>0.001275</td>\n",
       "      <td>0.000239</td>\n",
       "      <td>3.669903</td>\n",
       "      <td>0.857669</td>\n",
       "    </tr>\n",
       "    <tr>\n",
       "      <th>178</th>\n",
       "      <td>0.001263</td>\n",
       "      <td>0.000217</td>\n",
       "      <td>3.669901</td>\n",
       "      <td>0.857672</td>\n",
       "    </tr>\n",
       "    <tr>\n",
       "      <th>179</th>\n",
       "      <td>0.001259</td>\n",
       "      <td>0.000208</td>\n",
       "      <td>3.669901</td>\n",
       "      <td>0.857671</td>\n",
       "    </tr>\n",
       "  </tbody>\n",
       "</table>\n",
       "<p>180 rows × 4 columns</p>\n",
       "</div>"
      ],
      "text/plain": [
       "     train-rmse-mean  train-rmse-std  test-rmse-mean  test-rmse-std\n",
       "0          17.105578        0.129116       17.163215       0.584297\n",
       "1          12.337973        0.097557       12.519736       0.473458\n",
       "2           8.994071        0.065756        9.404534       0.472310\n",
       "3           6.629481        0.050323        7.250335       0.500342\n",
       "4           4.954406        0.033209        5.920812       0.591874\n",
       "..               ...             ...             ...            ...\n",
       "175         0.001299        0.000288        3.669898       0.857676\n",
       "176         0.001285        0.000260        3.669897       0.857677\n",
       "177         0.001275        0.000239        3.669903       0.857669\n",
       "178         0.001263        0.000217        3.669901       0.857672\n",
       "179         0.001259        0.000208        3.669901       0.857671\n",
       "\n",
       "[180 rows x 4 columns]"
      ]
     },
     "execution_count": 76,
     "metadata": {},
     "output_type": "execute_result"
    }
   ],
   "source": [
    "cvresult1\n",
    "\n",
    "# 随着树的不断增加 模型的效果逐渐提高"
   ]
  },
  {
   "cell_type": "code",
   "execution_count": 77,
   "metadata": {},
   "outputs": [
    {
     "data": {
      "image/png": "[encoded data removed]",
      "text/plain": [
       "<Figure size 1440x360 with 1 Axes>"
      ]
     },
     "metadata": {
      "needs_background": "light"
     },
     "output_type": "display_data"
    }
   ],
   "source": [
    "plt.figure(figsize=(20,5))\n",
    "plt.grid()\n",
    "plt.plot(range(1,181),cvresult1.iloc[:,0],c=\"red\",label=\"train,gamma=0\")\n",
    "plt.plot(range(1,181),cvresult1.iloc[:,2],c=\"orange\",label=\"test,gamma=0\")\n",
    "plt.legend()\n",
    "plt.show()"
   ]
  },
  {
   "cell_type": "markdown",
   "metadata": {},
   "source": [
    "**用于回归和分类的评估指标**\n",
    "\n",
    "- rmse 回归用，调整后的均方误差\n",
    "- mae 回归用，绝对平均误差\n",
    "- logloss 二分类用，对数损失\n",
    "- mlogloss 多分类用，对数损失\n",
    "- error 分类用，分类误差，等于1-准确率\n",
    "- auc 分类用，AUC面积"
   ]
  },
  {
   "cell_type": "code",
   "execution_count": 78,
   "metadata": {},
   "outputs": [
    {
     "name": "stdout",
     "output_type": "stream",
     "text": [
      "[10:35:54] WARNING: C:/Users/administrator/workspace/xgboost-win64_release_1.6.0/src/learner.cc:627: \n",
      "Parameters: { \"obj\", \"silent\" } might not be used.\n",
      "\n",
      "  This could be a false alarm, with some parameters getting used by language bindings but\n",
      "  then being mistakenly passed down to XGBoost core, or some parameter actually being used\n",
      "  but getting flagged wrongly here. Please open an issue if you find any such cases.\n",
      "\n",
      "\n",
      "[10:35:54] WARNING: C:/Users/administrator/workspace/xgboost-win64_release_1.6.0/src/learner.cc:627: \n",
      "Parameters: { \"obj\", \"silent\" } might not be used.\n",
      "\n",
      "  This could be a false alarm, with some parameters getting used by language bindings but\n",
      "  then being mistakenly passed down to XGBoost core, or some parameter actually being used\n",
      "  but getting flagged wrongly here. Please open an issue if you find any such cases.\n",
      "\n",
      "\n",
      "[10:35:54] WARNING: C:/Users/administrator/workspace/xgboost-win64_release_1.6.0/src/learner.cc:627: \n",
      "Parameters: { \"obj\", \"silent\" } might not be used.\n",
      "\n",
      "  This could be a false alarm, with some parameters getting used by language bindings but\n",
      "  then being mistakenly passed down to XGBoost core, or some parameter actually being used\n",
      "  but getting flagged wrongly here. Please open an issue if you find any such cases.\n",
      "\n",
      "\n",
      "[10:35:54] WARNING: C:/Users/administrator/workspace/xgboost-win64_release_1.6.0/src/learner.cc:627: \n",
      "Parameters: { \"obj\", \"silent\" } might not be used.\n",
      "\n",
      "  This could be a false alarm, with some parameters getting used by language bindings but\n",
      "  then being mistakenly passed down to XGBoost core, or some parameter actually being used\n",
      "  but getting flagged wrongly here. Please open an issue if you find any such cases.\n",
      "\n",
      "\n",
      "[10:35:54] WARNING: C:/Users/administrator/workspace/xgboost-win64_release_1.6.0/src/learner.cc:627: \n",
      "Parameters: { \"obj\", \"silent\" } might not be used.\n",
      "\n",
      "  This could be a false alarm, with some parameters getting used by language bindings but\n",
      "  then being mistakenly passed down to XGBoost core, or some parameter actually being used\n",
      "  but getting flagged wrongly here. Please open an issue if you find any such cases.\n",
      "\n",
      "\n"
     ]
    },
    {
     "data": {
      "image/png": "[encoded data removed]",
      "text/plain": [
       "<Figure size 1440x360 with 1 Axes>"
      ]
     },
     "metadata": {
      "needs_background": "light"
     },
     "output_type": "display_data"
    }
   ],
   "source": [
    "param1 = {'silent':True,'obj':'reg:linear','gamma':0,'eval_metric':'mae'}  \n",
    "# 使用绝对平方误差以后 数值变小 但是整体的趋势一直\n",
    "num_round=100  # 之前设定为180 后续的坐标轴也发生了变化\n",
    "\n",
    "cvresult1 = xgb.cv(param1,dfull,num_round,n_fold)\n",
    "\n",
    "plt.figure(figsize=(20,5))\n",
    "plt.grid()\n",
    "plt.plot(range(1,101),cvresult1.iloc[:,0],c=\"red\",label=\"train,gamma=0\")\n",
    "plt.plot(range(1,101),cvresult1.iloc[:,2],c=\"orange\",label=\"test,gamma=0\")\n",
    "plt.legend()\n",
    "plt.show()\n",
    "\n",
    "#从这个图中，我们可以看出什么？\n",
    "## 从75棵树开始 模型趋于平稳，不需要这么多数\n",
    "#怎样从图中观察模型的泛化能力？\n",
    "#从这个图的角度来说，模型的调参目标是什么？\n"
   ]
  },
  {
   "cell_type": "code",
   "execution_count": 79,
   "metadata": {},
   "outputs": [],
   "source": [
    "#————————————————————————————调整gamma————————————————————————————\n",
    "param1 = {'silent':True,'obj':'reg:linear',\"gamma\":0}\n",
    "param2 = {'silent':True,'obj':'reg:linear',\"gamma\":20}\n",
    "num_round = 180\n",
    "n_fold=5\n"
   ]
  },
  {
   "cell_type": "code",
   "execution_count": 80,
   "metadata": {},
   "outputs": [
    {
     "name": "stdout",
     "output_type": "stream",
     "text": [
      "[10:35:55] WARNING: C:/Users/administrator/workspace/xgboost-win64_release_1.6.0/src/learner.cc:627: \n",
      "Parameters: { \"obj\", \"silent\" } might not be used.\n",
      "\n",
      "  This could be a false alarm, with some parameters getting used by language bindings but\n",
      "  then being mistakenly passed down to XGBoost core, or some parameter actually being used\n",
      "  but getting flagged wrongly here. Please open an issue if you find any such cases.\n",
      "\n",
      "\n",
      "[10:35:55] WARNING: C:/Users/administrator/workspace/xgboost-win64_release_1.6.0/src/learner.cc:627: \n",
      "Parameters: { \"obj\", \"silent\" } might not be used.\n",
      "\n",
      "  This could be a false alarm, with some parameters getting used by language bindings but\n",
      "  then being mistakenly passed down to XGBoost core, or some parameter actually being used\n",
      "  but getting flagged wrongly here. Please open an issue if you find any such cases.\n",
      "\n",
      "\n",
      "[10:35:55] WARNING: C:/Users/administrator/workspace/xgboost-win64_release_1.6.0/src/learner.cc:627: \n",
      "Parameters: { \"obj\", \"silent\" } might not be used.\n",
      "\n",
      "  This could be a false alarm, with some parameters getting used by language bindings but\n",
      "  then being mistakenly passed down to XGBoost core, or some parameter actually being used\n",
      "  but getting flagged wrongly here. Please open an issue if you find any such cases.\n",
      "\n",
      "\n",
      "[10:35:55] WARNING: C:/Users/administrator/workspace/xgboost-win64_release_1.6.0/src/learner.cc:627: \n",
      "Parameters: { \"obj\", \"silent\" } might not be used.\n",
      "\n",
      "  This could be a false alarm, with some parameters getting used by language bindings but\n",
      "  then being mistakenly passed down to XGBoost core, or some parameter actually being used\n",
      "  but getting flagged wrongly here. Please open an issue if you find any such cases.\n",
      "\n",
      "\n",
      "[10:35:55] WARNING: C:/Users/administrator/workspace/xgboost-win64_release_1.6.0/src/learner.cc:627: \n",
      "Parameters: { \"obj\", \"silent\" } might not be used.\n",
      "\n",
      "  This could be a false alarm, with some parameters getting used by language bindings but\n",
      "  then being mistakenly passed down to XGBoost core, or some parameter actually being used\n",
      "  but getting flagged wrongly here. Please open an issue if you find any such cases.\n",
      "\n",
      "\n",
      "00:00:669378\n"
     ]
    }
   ],
   "source": [
    "time0 = time()\n",
    "cvresult1 = xgb.cv(param1, dfull, num_round,n_fold)\n",
    "print(datetime.datetime.fromtimestamp(time()-time0).strftime(\"%M:%S:%f\"))\n"
   ]
  },
  {
   "cell_type": "code",
   "execution_count": 81,
   "metadata": {},
   "outputs": [
    {
     "name": "stdout",
     "output_type": "stream",
     "text": [
      "[10:35:56] WARNING: C:/Users/administrator/workspace/xgboost-win64_release_1.6.0/src/learner.cc:627: \n",
      "Parameters: { \"obj\", \"silent\" } might not be used.\n",
      "\n",
      "  This could be a false alarm, with some parameters getting used by language bindings but\n",
      "  then being mistakenly passed down to XGBoost core, or some parameter actually being used\n",
      "  but getting flagged wrongly here. Please open an issue if you find any such cases.\n",
      "\n",
      "\n",
      "[10:35:56] WARNING: C:/Users/administrator/workspace/xgboost-win64_release_1.6.0/src/learner.cc:627: \n",
      "Parameters: { \"obj\", \"silent\" } might not be used.\n",
      "\n",
      "  This could be a false alarm, with some parameters getting used by language bindings but\n",
      "  then being mistakenly passed down to XGBoost core, or some parameter actually being used\n",
      "  but getting flagged wrongly here. Please open an issue if you find any such cases.\n",
      "\n",
      "\n",
      "[10:35:56] WARNING: C:/Users/administrator/workspace/xgboost-win64_release_1.6.0/src/learner.cc:627: \n",
      "Parameters: { \"obj\", \"silent\" } might not be used.\n",
      "\n",
      "  This could be a false alarm, with some parameters getting used by language bindings but\n",
      "  then being mistakenly passed down to XGBoost core, or some parameter actually being used\n",
      "  but getting flagged wrongly here. Please open an issue if you find any such cases.\n",
      "\n",
      "\n",
      "[10:35:56] WARNING: C:/Users/administrator/workspace/xgboost-win64_release_1.6.0/src/learner.cc:627: \n",
      "Parameters: { \"obj\", \"silent\" } might not be used.\n",
      "\n",
      "  This could be a false alarm, with some parameters getting used by language bindings but\n",
      "  then being mistakenly passed down to XGBoost core, or some parameter actually being used\n",
      "  but getting flagged wrongly here. Please open an issue if you find any such cases.\n",
      "\n",
      "\n",
      "[10:35:56] WARNING: C:/Users/administrator/workspace/xgboost-win64_release_1.6.0/src/learner.cc:627: \n",
      "Parameters: { \"obj\", \"silent\" } might not be used.\n",
      "\n",
      "  This could be a false alarm, with some parameters getting used by language bindings but\n",
      "  then being mistakenly passed down to XGBoost core, or some parameter actually being used\n",
      "  but getting flagged wrongly here. Please open an issue if you find any such cases.\n",
      "\n",
      "\n",
      "00:00:683718\n"
     ]
    }
   ],
   "source": [
    "# gamma=20 所需的运行时间增加\n",
    "time0 = time()\n",
    "cvresult2 = xgb.cv(param2, dfull, num_round,n_fold)\n",
    "print(datetime.datetime.fromtimestamp(time()-time0).strftime(\"%M:%S:%f\"))\n"
   ]
  },
  {
   "cell_type": "code",
   "execution_count": 82,
   "metadata": {},
   "outputs": [
    {
     "data": {
      "image/png": "[encoded data removed]",
      "text/plain": [
       "<Figure size 1440x360 with 1 Axes>"
      ]
     },
     "metadata": {
      "needs_background": "light"
     },
     "output_type": "display_data"
    }
   ],
   "source": [
    "plt.figure(figsize=(20,5))\n",
    "plt.grid()\n",
    "plt.plot(range(1,181),cvresult1.iloc[:,0],c=\"red\",label=\"train,gamma=0\")\n",
    "plt.plot(range(1,181),cvresult1.iloc[:,2],c=\"orange\",label=\"test,gamma=0\")\n",
    "plt.plot(range(1,181),cvresult2.iloc[:,0],c=\"green\",label=\"train,gamma=20\")\n",
    "plt.plot(range(1,181),cvresult2.iloc[:,2],c=\"blue\",label=\"test,gamma=20\")\n",
    "plt.legend()\n",
    "plt.show()\n",
    "\n",
    "#从这里，你看出gamma是如何控制过拟合了吗？\n",
    "# 控制训练集上的训练，降低训练集上的表现"
   ]
  },
  {
   "cell_type": "markdown",
   "metadata": {},
   "source": [
    "**gamma如何控制过拟合**\n",
    "- 控制训练集上的训练，降低训练集上的表现\n",
    "- gamma不一定能够增加训练集上的表现（不学习的那么具体），但是能够增加模型的泛化能力"
   ]
  },
  {
   "cell_type": "markdown",
   "metadata": {},
   "source": [
    "- 利用乳腺癌数据进行分类\n",
    "---"
   ]
  },
  {
   "cell_type": "code",
   "execution_count": 83,
   "metadata": {},
   "outputs": [],
   "source": [
    "from sklearn.datasets import load_breast_cancer\n",
    "data2 = load_breast_cancer()\n",
    "x2 = data2.data\n",
    "y2 = data2.target"
   ]
  },
  {
   "cell_type": "code",
   "execution_count": 84,
   "metadata": {},
   "outputs": [],
   "source": [
    "import xgboost as xgb\n",
    "dfull2 = xgb.DMatrix(x2,y2)\n"
   ]
  },
  {
   "cell_type": "code",
   "execution_count": 85,
   "metadata": {},
   "outputs": [],
   "source": [
    "param1 = {'silent':True,'obj':'binary:logistic',\"gamma\":0,\"nfold\":5}\n",
    "param2 = {'silent':True,'obj':'binary:logistic',\"gamma\":2,\"nfold\":5}\n",
    "num_round = 100"
   ]
  },
  {
   "cell_type": "code",
   "execution_count": 86,
   "metadata": {},
   "outputs": [
    {
     "name": "stdout",
     "output_type": "stream",
     "text": [
      "[10:35:57] WARNING: C:/Users/administrator/workspace/xgboost-win64_release_1.6.0/src/learner.cc:627: \n",
      "Parameters: { \"nfold\", \"obj\", \"silent\" } might not be used.\n",
      "\n",
      "  This could be a false alarm, with some parameters getting used by language bindings but\n",
      "  then being mistakenly passed down to XGBoost core, or some parameter actually being used\n",
      "  but getting flagged wrongly here. Please open an issue if you find any such cases.\n",
      "\n",
      "\n",
      "[10:35:57] WARNING: C:/Users/administrator/workspace/xgboost-win64_release_1.6.0/src/learner.cc:627: \n",
      "Parameters: { \"nfold\", \"obj\", \"silent\" } might not be used.\n",
      "\n",
      "  This could be a false alarm, with some parameters getting used by language bindings but\n",
      "  then being mistakenly passed down to XGBoost core, or some parameter actually being used\n",
      "  but getting flagged wrongly here. Please open an issue if you find any such cases.\n",
      "\n",
      "\n",
      "[10:35:57] WARNING: C:/Users/administrator/workspace/xgboost-win64_release_1.6.0/src/learner.cc:627: \n",
      "Parameters: { \"nfold\", \"obj\", \"silent\" } might not be used.\n",
      "\n",
      "  This could be a false alarm, with some parameters getting used by language bindings but\n",
      "  then being mistakenly passed down to XGBoost core, or some parameter actually being used\n",
      "  but getting flagged wrongly here. Please open an issue if you find any such cases.\n",
      "\n",
      "\n",
      "00:00:330117\n"
     ]
    }
   ],
   "source": [
    "time0 = time()\n",
    "cvresult1 = xgb.cv(param1, dfull2, num_round,metrics=(\"error\"))\n",
    "print(datetime.datetime.fromtimestamp(time()-time0).strftime(\"%M:%S:%f\"))"
   ]
  },
  {
   "cell_type": "code",
   "execution_count": 87,
   "metadata": {},
   "outputs": [
    {
     "name": "stdout",
     "output_type": "stream",
     "text": [
      "[10:35:58] WARNING: C:/Users/administrator/workspace/xgboost-win64_release_1.6.0/src/learner.cc:627: \n",
      "Parameters: { \"nfold\", \"obj\", \"silent\" } might not be used.\n",
      "\n",
      "  This could be a false alarm, with some parameters getting used by language bindings but\n",
      "  then being mistakenly passed down to XGBoost core, or some parameter actually being used\n",
      "  but getting flagged wrongly here. Please open an issue if you find any such cases.\n",
      "\n",
      "\n",
      "[10:35:58] WARNING: C:/Users/administrator/workspace/xgboost-win64_release_1.6.0/src/learner.cc:627: \n",
      "Parameters: { \"nfold\", \"obj\", \"silent\" } might not be used.\n",
      "\n",
      "  This could be a false alarm, with some parameters getting used by language bindings but\n",
      "  then being mistakenly passed down to XGBoost core, or some parameter actually being used\n",
      "  but getting flagged wrongly here. Please open an issue if you find any such cases.\n",
      "\n",
      "\n",
      "[10:35:58] WARNING: C:/Users/administrator/workspace/xgboost-win64_release_1.6.0/src/learner.cc:627: \n",
      "Parameters: { \"nfold\", \"obj\", \"silent\" } might not be used.\n",
      "\n",
      "  This could be a false alarm, with some parameters getting used by language bindings but\n",
      "  then being mistakenly passed down to XGBoost core, or some parameter actually being used\n",
      "  but getting flagged wrongly here. Please open an issue if you find any such cases.\n",
      "\n",
      "\n",
      "00:00:427854\n"
     ]
    }
   ],
   "source": [
    "time0 = time()\n",
    "cvresult2 = xgb.cv(param2, dfull2, num_round,metrics=(\"error\"))\n",
    "print(datetime.datetime.fromtimestamp(time()-time0).strftime(\"%M:%S:%f\"))"
   ]
  },
  {
   "cell_type": "code",
   "execution_count": 88,
   "metadata": {},
   "outputs": [
    {
     "data": {
      "image/png": "[encoded data removed]",
      "text/plain": [
       "<Figure size 1440x360 with 1 Axes>"
      ]
     },
     "metadata": {
      "needs_background": "light"
     },
     "output_type": "display_data"
    }
   ],
   "source": [
    "plt.figure(figsize=(20,5))\n",
    "plt.grid()\n",
    "plt.plot(range(1,101),cvresult1.iloc[:,0],c=\"red\",label=\"train,gamma=0\")\n",
    "plt.plot(range(1,101),cvresult1.iloc[:,2],c=\"orange\",label=\"test,gamma=0\")\n",
    "plt.plot(range(1,101),cvresult2.iloc[:,0],c=\"green\",label=\"train,gamma=2\")\n",
    "plt.plot(range(1,101),cvresult2.iloc[:,2],c=\"blue\",label=\"test,gamma=2\")\n",
    "plt.legend()\n",
    "plt.show()\n",
    "\n",
    "\n",
    "# gamma过大 模型可能过于保守"
   ]
  },
  {
   "cell_type": "markdown",
   "metadata": {},
   "source": [
    "有了xgboost.cv这个工具，我们的参数调整就容易多了。这个工具可以让我们直接看到参数如何影响了模型的泛化能力。接下来，我们将重点讲解如何使用xgboost.cv这个类进行参数调整。"
   ]
  },
  {
   "cell_type": "markdown",
   "metadata": {},
   "source": [
    "## 4 XGBoost应用中的其他问题\n",
    "---\n",
    "### 4.1 过拟合：剪枝参数与回归模型调参\n",
    "\n",
    "\n",
    "class xgboost.XGBRegressor (**max_depth=3**, learning_rate=0.1, n_estimators=100, silent=True,\n",
    "objective='reg:linear', booster='gbtree', n_jobs=1, nthread=None, gamma=0, **min_child_weight=1**,\n",
    "**max_delta_step=0**, subsample=1, **colsample_bytree=1**, **colsample_bylevel=1**, reg_alpha=0, reg_lambda=1,scale_pos_weight=1, base_score=0.5, random_state=0, seed=None, missing=None, importance_type='gain', kwargs)\n",
    "\n",
    "作为树模型，减轻过拟合的方式主要是靠对决策树剪枝来降低模型的复杂度，以求降低方差\n",
    "\n",
    "参数含义| xgb.train() | xgb.XGBRegressor()\n",
    "|---|---|---|\n",
    "树的最大深度 |max_depth，默认6  |max_depth，默认6\n",
    "每次生成树时随机抽样特征的比例 |colsample_bytree，默认1 | colsample_bytree，默认1\n",
    "每次生成树的一层时随机抽样特征的比例 | colsample_bylevel，默认1 | colsample_bylevel，默认1\n",
    "每次生成一个叶子节点时随机抽样特征的比例 | colsample_bynode，默认1| N.A.\n",
    "一个叶子节点上所需要的最小即叶子节点上的二阶导数之和类似于样本权重 |min_child_weight，默认1 |min_child_weight，默认1\n",
    "\n",
    "- 最大深度是决策树中的剪枝法宝，最常用\n",
    "- 三个随机抽样特征的参数中，前两个比较常用\n",
    "- 参数min_child_weight不太常用"
   ]
  },
  {
   "cell_type": "code",
   "execution_count": 91,
   "metadata": {},
   "outputs": [
    {
     "name": "stdout",
     "output_type": "stream",
     "text": [
      "[10:38:26] WARNING: C:/Users/administrator/workspace/xgboost-win64_release_1.6.0/src/learner.cc:627: \n",
      "Parameters: { \"nfold\", \"obj\", \"silent\" } might not be used.\n",
      "\n",
      "  This could be a false alarm, with some parameters getting used by language bindings but\n",
      "  then being mistakenly passed down to XGBoost core, or some parameter actually being used\n",
      "  but getting flagged wrongly here. Please open an issue if you find any such cases.\n",
      "\n",
      "\n",
      "[10:38:26] WARNING: C:/Users/administrator/workspace/xgboost-win64_release_1.6.0/src/learner.cc:627: \n",
      "Parameters: { \"nfold\", \"obj\", \"silent\" } might not be used.\n",
      "\n",
      "  This could be a false alarm, with some parameters getting used by language bindings but\n",
      "  then being mistakenly passed down to XGBoost core, or some parameter actually being used\n",
      "  but getting flagged wrongly here. Please open an issue if you find any such cases.\n",
      "\n",
      "\n",
      "[10:38:26] WARNING: C:/Users/administrator/workspace/xgboost-win64_release_1.6.0/src/learner.cc:627: \n",
      "Parameters: { \"nfold\", \"obj\", \"silent\" } might not be used.\n",
      "\n",
      "  This could be a false alarm, with some parameters getting used by language bindings but\n",
      "  then being mistakenly passed down to XGBoost core, or some parameter actually being used\n",
      "  but getting flagged wrongly here. Please open an issue if you find any such cases.\n",
      "\n",
      "\n",
      "00:00:405468\n"
     ]
    },
    {
     "data": {
      "image/png": "[encoded data removed]",
      "text/plain": [
       "<Figure size 1080x720 with 1 Axes>"
      ]
     },
     "metadata": {
      "needs_background": "light"
     },
     "output_type": "display_data"
    }
   ],
   "source": [
    "dfull = xgb.DMatrix(X,y)\n",
    "param1 = {'silent':True #并非默认\n",
    "            ,'obj':'reg:linear' #并非默认\n",
    "            ,\"subsample\":1\n",
    "            ,\"max_depth\":6\n",
    "            ,\"eta\":0.3\n",
    "            ,\"gamma\":0\n",
    "            ,\"lambda\":1\n",
    "            ,\"alpha\":0\n",
    "            ,\"colsample_bytree\":1\n",
    "            ,\"colsample_bylevel\":1\n",
    "            ,\"colsample_bynode\":1\n",
    "            ,\"nfold\":5}\n",
    "num_round = 200\n",
    "\n",
    "num_round = 200\n",
    "time0 = time()\n",
    "cvresult1 = xgb.cv(param1, dfull, num_round)\n",
    "print(datetime.datetime.fromtimestamp(time()-time0).strftime(\"%M:%S:%f\"))\n",
    "fig,ax = plt.subplots(1,figsize=(15,10))\n",
    "\n",
    "#ax.set_ylim(top=5)\n",
    "ax.grid()\n",
    "ax.plot(range(1,201),cvresult1.iloc[:,0],c=\"red\",label=\"train,original\")\n",
    "ax.plot(range(1,201),cvresult1.iloc[:,2],c=\"orange\",label=\"test,original\")\n",
    "ax.legend(fontsize=\"xx-large\")\n",
    "plt.show()"
   ]
  },
  {
   "cell_type": "code",
   "execution_count": 93,
   "metadata": {},
   "outputs": [
    {
     "name": "stdout",
     "output_type": "stream",
     "text": [
      "[10:39:31] WARNING: C:/Users/administrator/workspace/xgboost-win64_release_1.6.0/src/learner.cc:627: \n",
      "Parameters: { \"nfold\", \"obj\", \"silent\" } might not be used.\n",
      "\n",
      "  This could be a false alarm, with some parameters getting used by language bindings but\n",
      "  then being mistakenly passed down to XGBoost core, or some parameter actually being used\n",
      "  but getting flagged wrongly here. Please open an issue if you find any such cases.\n",
      "\n",
      "\n",
      "[10:39:31] WARNING: C:/Users/administrator/workspace/xgboost-win64_release_1.6.0/src/learner.cc:627: \n",
      "Parameters: { \"nfold\", \"obj\", \"silent\" } might not be used.\n",
      "\n",
      "  This could be a false alarm, with some parameters getting used by language bindings but\n",
      "  then being mistakenly passed down to XGBoost core, or some parameter actually being used\n",
      "  but getting flagged wrongly here. Please open an issue if you find any such cases.\n",
      "\n",
      "\n",
      "[10:39:31] WARNING: C:/Users/administrator/workspace/xgboost-win64_release_1.6.0/src/learner.cc:627: \n",
      "Parameters: { \"nfold\", \"obj\", \"silent\" } might not be used.\n",
      "\n",
      "  This could be a false alarm, with some parameters getting used by language bindings but\n",
      "  then being mistakenly passed down to XGBoost core, or some parameter actually being used\n",
      "  but getting flagged wrongly here. Please open an issue if you find any such cases.\n",
      "\n",
      "\n",
      "00:00:637295\n",
      "[10:39:31] WARNING: C:/Users/administrator/workspace/xgboost-win64_release_1.6.0/src/learner.cc:627: \n",
      "Parameters: { \"nfold\", \"obj\", \"silent\" } might not be used.\n",
      "\n",
      "  This could be a false alarm, with some parameters getting used by language bindings but\n",
      "  then being mistakenly passed down to XGBoost core, or some parameter actually being used\n",
      "  but getting flagged wrongly here. Please open an issue if you find any such cases.\n",
      "\n",
      "\n",
      "[10:39:31] WARNING: C:/Users/administrator/workspace/xgboost-win64_release_1.6.0/src/learner.cc:627: \n",
      "Parameters: { \"nfold\", \"obj\", \"silent\" } might not be used.\n",
      "\n",
      "  This could be a false alarm, with some parameters getting used by language bindings but\n",
      "  then being mistakenly passed down to XGBoost core, or some parameter actually being used\n",
      "  but getting flagged wrongly here. Please open an issue if you find any such cases.\n",
      "\n",
      "\n",
      "[10:39:31] WARNING: C:/Users/administrator/workspace/xgboost-win64_release_1.6.0/src/learner.cc:627: \n",
      "Parameters: { \"nfold\", \"obj\", \"silent\" } might not be used.\n",
      "\n",
      "  This could be a false alarm, with some parameters getting used by language bindings but\n",
      "  then being mistakenly passed down to XGBoost core, or some parameter actually being used\n",
      "  but getting flagged wrongly here. Please open an issue if you find any such cases.\n",
      "\n",
      "\n",
      "00:00:349067\n"
     ]
    },
    {
     "data": {
      "image/png": "[encoded data removed]",
      "text/plain": [
       "<Figure size 1080x576 with 1 Axes>"
      ]
     },
     "metadata": {
      "needs_background": "light"
     },
     "output_type": "display_data"
    }
   ],
   "source": [
    "#默认设置\n",
    "param1 = {'silent':True\n",
    "            ,'obj':'reg:linear'\n",
    "            ,\"subsample\":1\n",
    "            ,\"max_depth\":6\n",
    "            ,\"eta\":0.3\n",
    "            ,\"gamma\":0\n",
    "            ,\"lambda\":1\n",
    "            ,\"alpha\":0\n",
    "            ,\"colsample_bytree\":1\n",
    "            ,\"colsample_bylevel\":1\n",
    "            ,\"colsample_bynode\":1\n",
    "            ,\"nfold\":5}\n",
    "num_round = 200\n",
    "time0 = time()\n",
    "cvresult1 = xgb.cv(param1, dfull, num_round)\n",
    "print(datetime.datetime.fromtimestamp(time()-time0).strftime(\"%M:%S:%f\"))\n",
    "fig,ax = plt.subplots(1,figsize=(15,8))\n",
    "ax.set_ylim(top=5)\n",
    "ax.grid()\n",
    "\n",
    "ax.plot(range(1,201),cvresult1.iloc[:,0],c=\"red\",label=\"train,original\")\n",
    "ax.plot(range(1,201),cvresult1.iloc[:,2],c=\"orange\",label=\"test,original\")\n",
    "#调参结果1\n",
    "param2 = {'silent':True\n",
    "            ,'obj':'reg:linear'\n",
    "            ,\"subsample\":1\n",
    "            ,\"eta\":0.05\n",
    "            ,\"gamma\":20\n",
    "            ,\"lambda\":3.5\n",
    "            ,\"alpha\":0.2\n",
    "            ,\"max_depth\":4\n",
    "            ,\"colsample_bytree\":0.4\n",
    "            ,\"colsample_bylevel\":0.6\n",
    "            ,\"colsample_bynode\":1\n",
    "            ,\"nfold\":5}\n",
    "#调参结果2\n",
    "param3 = {'silent':True\n",
    "            ,'obj':'reg:linear'\n",
    "            ,\"max_depth\":2\n",
    "            ,\"eta\":0.05\n",
    "            ,\"gamma\":0\n",
    "            ,\"lambda\":1\n",
    "            ,\"alpha\":0\n",
    "            ,\"colsample_bytree\":1\n",
    "            ,\"colsample_bylevel\":0.4\n",
    "            ,\"colsample_bynode\":1\n",
    "            ,\"nfold\":5}\n",
    "            \n",
    "time0 = time()\n",
    "cvresult2 = xgb.cv(param2, dfull, num_round)\n",
    "print(datetime.datetime.fromtimestamp(time()-time0).strftime(\"%M:%S:%f\"))\n",
    "ax.plot(range(1,201),cvresult2.iloc[:,0],c=\"green\",label=\"train,final\")\n",
    "ax.plot(range(1,201),cvresult2.iloc[:,2],c=\"blue\",label=\"test,final\")\n",
    "ax.legend(fontsize=\"xx-large\")\n",
    "plt.show()\n"
   ]
  },
  {
   "cell_type": "markdown",
   "metadata": {},
   "source": [
    "1. 一个个参数调整太麻烦，可不可以使用网格搜索呢\n",
    "   最好不要一次性将所有的参数都放入进行搜索，最多一次两三个。有一些互相影响的参数需要放在一起使用，比如学习率eta和树的数量n_estimators\n",
    "2. 调参的时候参数的顺序会影响调参结果吗？\n",
    "    会影响，因此在现实中，我们会优先调整那些对模型影响巨大的参数。在这里，我建议的剪枝上的调参顺序是：n_estimators与eta共同调节，gamma或者max_depth，采样和抽样参数（纵向抽样影响更大），最后才是正则化的两个参数。\n",
    "3. 调参之后测试集上的效果还没有原始设定上的效果好怎么办？\n",
    "    如果调参之后，交叉验证曲线确实显示测试集和训练集上的模型评估效果是更加接近的，推荐使用调参之后的效果。\n",
    "我们希望增强模型的泛化能力，然而泛化能力的增强并不代表着在新数据集上模型的结果一定优秀，因为未知数据集\n",
    "并非一定符合全数据的分布\n"
   ]
  },
  {
   "cell_type": "markdown",
   "metadata": {},
   "source": [
    "### 4.2 XGBoost模型的保存和调用\n",
    "\n",
    "以XGBoost为例，来讲解两种主要的模型保存和调用方法\n",
    "\n",
    "#### 4.2.1 使用Pickle保存和调用模型\n",
    "\n",
    "pickle和open函数的连用，来将我们的模型保存到本地\n",
    "- pickle.dump(bst, open(\"xgboostonboston.dat\",\"wb\"))\n",
    "  - 第一个参数就是模型\n",
    "  - 第二个参数是打开的方式 和名字\n",
    "- 导入模型pickle.load(open(\"xgboostonboston.dat\", \"rb\"))\n",
    "  - open 以二进制的形式读入\n"
   ]
  },
  {
   "cell_type": "code",
   "execution_count": 94,
   "metadata": {},
   "outputs": [
    {
     "name": "stdout",
     "output_type": "stream",
     "text": [
      "[10:51:23] WARNING: C:/Users/administrator/workspace/xgboost-win64_release_1.6.0/src/learner.cc:627: \n",
      "Parameters: { \"obj\", \"silent\" } might not be used.\n",
      "\n",
      "  This could be a false alarm, with some parameters getting used by language bindings but\n",
      "  then being mistakenly passed down to XGBoost core, or some parameter actually being used\n",
      "  but getting flagged wrongly here. Please open an issue if you find any such cases.\n",
      "\n",
      "\n"
     ]
    }
   ],
   "source": [
    "import pickle\n",
    "dtrain = xgb.DMatrix(Xtrain,Ytrain)\n",
    "#设定参数，对模型进行训练\n",
    "param = {'silent':True\n",
    "        ,'obj':'reg:linear'\n",
    "        ,\"subsample\":1\n",
    "        ,\"eta\":0.05\n",
    "        ,\"gamma\":20\n",
    "        ,\"lambda\":3.5\n",
    "        ,\"alpha\":0.2\n",
    "        ,\"max_depth\":4\n",
    "        ,\"colsample_bytree\":0.4\n",
    "        ,\"colsample_bylevel\":0.6\n",
    "        ,\"colsample_bynode\":1}\n",
    "num_round = 180\n",
    "bst = xgb.train(param, dtrain, num_round)"
   ]
  },
  {
   "cell_type": "code",
   "execution_count": 95,
   "metadata": {},
   "outputs": [],
   "source": [
    "#保存模型\n",
    "pickle.dump(bst, open(\"xgboostonboston.dat\",\"wb\"))\n",
    "#注意，open中我们往往使用w或者r作为读取的模式，但其实w与r只能用于文本文件，当我们希望导入的不是文本文件，而\n",
    "# 是模型本身的时候，我们使用\"wb\"和\"rb\"作为读取的模式。其中wb表示以二进制写入，rb表示以二进制读入"
   ]
  },
  {
   "cell_type": "code",
   "execution_count": 96,
   "metadata": {},
   "outputs": [
    {
     "data": {
      "text/plain": [
       "['g:\\\\Python学习资料2022年\\\\codetest\\\\sklearn课堂\\\\Note_sklearn',\n",
       " 'c:\\\\Users\\\\HP\\\\Python\\\\Python310\\\\python310.zip',\n",
       " 'c:\\\\Users\\\\HP\\\\Python\\\\Python310\\\\DLLs',\n",
       " 'c:\\\\Users\\\\HP\\\\Python\\\\Python310\\\\lib',\n",
       " 'c:\\\\Users\\\\HP\\\\Python\\\\Python310',\n",
       " '',\n",
       " 'C:\\\\Users\\\\HP\\\\AppData\\\\Roaming\\\\Python\\\\Python310\\\\site-packages',\n",
       " 'C:\\\\Users\\\\HP\\\\AppData\\\\Roaming\\\\Python\\\\Python310\\\\site-packages\\\\win32',\n",
       " 'C:\\\\Users\\\\HP\\\\AppData\\\\Roaming\\\\Python\\\\Python310\\\\site-packages\\\\win32\\\\lib',\n",
       " 'C:\\\\Users\\\\HP\\\\AppData\\\\Roaming\\\\Python\\\\Python310\\\\site-packages\\\\Pythonwin',\n",
       " 'c:\\\\Users\\\\HP\\\\Python\\\\Python310\\\\lib\\\\site-packages',\n",
       " 'c:\\\\Users\\\\HP\\\\Python\\\\Python310\\\\lib\\\\site-packages\\\\IPython\\\\extensions',\n",
       " 'C:\\\\Users\\\\HP\\\\.ipython']"
      ]
     },
     "execution_count": 96,
     "metadata": {},
     "output_type": "execute_result"
    }
   ],
   "source": [
    "#看看模型被保存到了哪里？\n",
    "import sys\n",
    "sys.path  # python的运行目录"
   ]
  },
  {
   "cell_type": "code",
   "execution_count": 97,
   "metadata": {},
   "outputs": [
    {
     "name": "stderr",
     "output_type": "stream",
     "text": [
      "c:\\Users\\HP\\Python\\Python310\\lib\\site-packages\\sklearn\\utils\\deprecation.py:87: FutureWarning: Function load_boston is deprecated; `load_boston` is deprecated in 1.0 and will be removed in 1.2.\n",
      "\n",
      "    The Boston housing prices dataset has an ethical problem. You can refer to\n",
      "    the documentation of this function for further details.\n",
      "\n",
      "    The scikit-learn maintainers therefore strongly discourage the use of this\n",
      "    dataset unless the purpose of the code is to study and educate about\n",
      "    ethical issues in data science and machine learning.\n",
      "\n",
      "    In this special case, you can fetch the dataset from the original\n",
      "    source::\n",
      "\n",
      "        import pandas as pd\n",
      "        import numpy as np\n",
      "\n",
      "        data_url = \"http://lib.stat.cmu.edu/datasets/boston\"\n",
      "        raw_df = pd.read_csv(data_url, sep=\"\\s+\", skiprows=22, header=None)\n",
      "        data = np.hstack([raw_df.values[::2, :], raw_df.values[1::2, :2]])\n",
      "        target = raw_df.values[1::2, 2]\n",
      "\n",
      "    Alternative datasets include the California housing dataset (i.e.\n",
      "    :func:`~sklearn.datasets.fetch_california_housing`) and the Ames housing\n",
      "    dataset. You can load the datasets as follows::\n",
      "\n",
      "        from sklearn.datasets import fetch_california_housing\n",
      "        housing = fetch_california_housing()\n",
      "\n",
      "    for the California housing dataset and::\n",
      "\n",
      "        from sklearn.datasets import fetch_openml\n",
      "        housing = fetch_openml(name=\"house_prices\", as_frame=True)\n",
      "\n",
      "    for the Ames housing dataset.\n",
      "  warnings.warn(msg, category=FutureWarning)\n"
     ]
    }
   ],
   "source": [
    "#重新打开jupyter lab\n",
    "from sklearn.datasets import load_boston\n",
    "from sklearn.model_selection import train_test_split as TTS\n",
    "from sklearn.metrics import mean_squared_error as MSE\n",
    "import pickle\n",
    "import xgboost as xgb\n",
    "data = load_boston()\n",
    "X = data.data\n",
    "y = data.target\n",
    "Xtrain,Xtest,Ytrain,Ytest = TTS(X,y,test_size=0.3,random_state=420)"
   ]
  },
  {
   "cell_type": "code",
   "execution_count": 98,
   "metadata": {},
   "outputs": [],
   "source": [
    "#注意，如果我们保存的模型是xgboost库中建立的模型，则导入的数据类型也必须是xgboost库中的数据类型\n",
    "dtest = xgb.DMatrix(Xtest,Ytest)"
   ]
  },
  {
   "cell_type": "code",
   "execution_count": 99,
   "metadata": {},
   "outputs": [
    {
     "name": "stdout",
     "output_type": "stream",
     "text": [
      "Loaded model from: xgboostonboston.dat\n"
     ]
    }
   ],
   "source": [
    "#导入模型\n",
    "loaded_model = pickle.load(open(\"xgboostonboston.dat\", \"rb\"))\n",
    "print(\"Loaded model from: xgboostonboston.dat\")"
   ]
  },
  {
   "cell_type": "code",
   "execution_count": 101,
   "metadata": {},
   "outputs": [
    {
     "data": {
      "text/plain": [
       "9.178375452806907"
      ]
     },
     "execution_count": 101,
     "metadata": {},
     "output_type": "execute_result"
    }
   ],
   "source": [
    "#做预测\n",
    "ypreds = loaded_model.predict(dtest)\n",
    "from sklearn.metrics import mean_squared_error as MSE, r2_score\n",
    "MSE(Ytest,ypreds)\n"
   ]
  },
  {
   "cell_type": "code",
   "execution_count": 102,
   "metadata": {},
   "outputs": [
    {
     "data": {
      "text/plain": [
       "0.9013649408758324"
      ]
     },
     "execution_count": 102,
     "metadata": {},
     "output_type": "execute_result"
    }
   ],
   "source": [
    "r2_score(Ytest,ypreds)"
   ]
  },
  {
   "cell_type": "markdown",
   "metadata": {},
   "source": [
    "#### 4.2.2 使用Joblib保存和调用模型\n",
    "\n",
    "- joblib.dump(bst,\"xgboost-boston.dat\") 保存\n",
    "- joblib.load(\"xgboost-boston.dat\") 导入\n",
    "\n"
   ]
  },
  {
   "cell_type": "code",
   "execution_count": 103,
   "metadata": {},
   "outputs": [
    {
     "name": "stdout",
     "output_type": "stream",
     "text": [
      "[10:59:45] WARNING: C:/Users/administrator/workspace/xgboost-win64_release_1.6.0/src/learner.cc:627: \n",
      "Parameters: { \"obj\", \"silent\" } might not be used.\n",
      "\n",
      "  This could be a false alarm, with some parameters getting used by language bindings but\n",
      "  then being mistakenly passed down to XGBoost core, or some parameter actually being used\n",
      "  but getting flagged wrongly here. Please open an issue if you find any such cases.\n",
      "\n",
      "\n"
     ]
    }
   ],
   "source": [
    "bst = xgb.train(param, dtrain, num_round)\n",
    "import joblib"
   ]
  },
  {
   "cell_type": "code",
   "execution_count": 104,
   "metadata": {},
   "outputs": [
    {
     "data": {
      "text/plain": [
       "['xgboost-boston.dat']"
      ]
     },
     "execution_count": 104,
     "metadata": {},
     "output_type": "execute_result"
    }
   ],
   "source": [
    "#同样可以看看模型被保存到了哪里\n",
    "joblib.dump(bst,\"xgboost-boston.dat\")\n"
   ]
  },
  {
   "cell_type": "code",
   "execution_count": 105,
   "metadata": {},
   "outputs": [],
   "source": [
    "loaded_model = joblib.load(\"xgboost-boston.dat\")\n"
   ]
  },
  {
   "cell_type": "code",
   "execution_count": 106,
   "metadata": {},
   "outputs": [],
   "source": [
    "ypreds = loaded_model.predict(dtest)\n"
   ]
  },
  {
   "cell_type": "code",
   "execution_count": 107,
   "metadata": {},
   "outputs": [
    {
     "data": {
      "text/plain": [
       "9.178375452806907"
      ]
     },
     "execution_count": 107,
     "metadata": {},
     "output_type": "execute_result"
    }
   ],
   "source": [
    "MSE(Ytest, ypreds)\n"
   ]
  },
  {
   "cell_type": "code",
   "execution_count": 108,
   "metadata": {},
   "outputs": [
    {
     "data": {
      "text/plain": [
       "0.9013649408758324"
      ]
     },
     "execution_count": 108,
     "metadata": {},
     "output_type": "execute_result"
    }
   ],
   "source": [
    "r2_score(Ytest,ypreds)\n"
   ]
  },
  {
   "cell_type": "code",
   "execution_count": 109,
   "metadata": {},
   "outputs": [],
   "source": [
    "#————————————————————————————使用sklearn中的模型————————————————————————————\n",
    "\n",
    "from xgboost import XGBRegressor as XGBR\n",
    "bst = XGBR(n_estimators=200\n",
    "            ,eta=0.05,gamma=20\n",
    "            ,reg_lambda=3.5\n",
    "            ,reg_alpha=0.2\n",
    "            ,max_depth=4\n",
    "            ,colsample_bytree=0.4\n",
    "            ,colsample_bylevel=0.6).fit(Xtrain,Ytrain)\n"
   ]
  },
  {
   "cell_type": "code",
   "execution_count": 110,
   "metadata": {},
   "outputs": [],
   "source": [
    "\n",
    "joblib.dump(bst,\"xgboost-boston.dat\")\n",
    "loaded_model = joblib.load(\"xgboost-boston.dat\")\n"
   ]
  },
  {
   "cell_type": "code",
   "execution_count": 111,
   "metadata": {},
   "outputs": [
    {
     "data": {
      "text/plain": [
       "9.18818551539731"
      ]
     },
     "execution_count": 111,
     "metadata": {},
     "output_type": "execute_result"
    }
   ],
   "source": [
    "\n",
    "#则这里可以直接导入Xtest\n",
    "ypreds = loaded_model.predict(Xtest)\n",
    "MSE(Ytest, ypreds)"
   ]
  },
  {
   "cell_type": "markdown",
   "metadata": {},
   "source": [
    "### 4.3 分类案例：XGB中的样本不均衡问题\n",
    "\n",
    "XGB中存在着调节样本不平衡的参数scale_pos_weight，这个参数非常类似于之前随机森林和支持向量机中我们都使用到过的class_weight参数，通常我们在参数中输入的是**负样本量与正样本量之比**\n",
    "\n",
    "参数含义 | xgb.train() | xgb.XGBClassifier()\n",
    "|---|---|---|\n",
    "控制正负样本比例，表示为负/正样本比例，在样本不平衡问题中使用 |scale_pos_weight ，默认1  |scale_pos_weight，默认1"
   ]
  },
  {
   "cell_type": "markdown",
   "metadata": {},
   "source": [
    "**1. 导库，创建样本不均衡的数据集**"
   ]
  },
  {
   "cell_type": "code",
   "execution_count": 113,
   "metadata": {},
   "outputs": [],
   "source": [
    "import numpy as np\n",
    "import xgboost as xgb\n",
    "import matplotlib.pyplot as plt\n",
    "from xgboost import XGBClassifier as XGBC\n",
    "from sklearn.datasets import make_blobs\n",
    "from sklearn.model_selection import train_test_split as TTS\n",
    "from sklearn.metrics import confusion_matrix as cm, recall_score as recall, roc_auc_score as auc\n",
    "\n",
    "class_1 = 500 #类别1有500个样本\n",
    "class_2 = 50 #类别2只有50个\n",
    "centers = [[0.0, 0.0], [2.0, 2.0]] #设定两个类别的中心\n",
    "clusters_std = [1.5, 0.5] #设定两个类别的方差，通常来说，样本量比较大的类别会更加松散\n",
    "X, y = make_blobs(n_samples=[class_1, class_2],\n",
    "                    centers=centers,\n",
    "                    cluster_std=clusters_std,\n",
    "                    random_state=0, shuffle=False)\n",
    "                    \n",
    "Xtrain, Xtest, Ytrain, Ytest = TTS(X,y,test_size=0.3,random_state=420)\n"
   ]
  },
  {
   "cell_type": "code",
   "execution_count": 114,
   "metadata": {},
   "outputs": [
    {
     "data": {
      "text/plain": [
       "0.09090909090909091"
      ]
     },
     "execution_count": 114,
     "metadata": {},
     "output_type": "execute_result"
    }
   ],
   "source": [
    "(y == 1).sum() / y.shape[0]   "
   ]
  },
  {
   "cell_type": "markdown",
   "metadata": {},
   "source": [
    "**2. 在数据集上建模：sklearn模式**"
   ]
  },
  {
   "cell_type": "code",
   "execution_count": 115,
   "metadata": {},
   "outputs": [],
   "source": [
    "#在sklearn下建模#\n",
    "clf = XGBC().fit(Xtrain,Ytrain)\n",
    "ypred = clf.predict(Xtest)\n"
   ]
  },
  {
   "cell_type": "code",
   "execution_count": 116,
   "metadata": {},
   "outputs": [
    {
     "data": {
      "text/plain": [
       "0.9272727272727272"
      ]
     },
     "execution_count": 116,
     "metadata": {},
     "output_type": "execute_result"
    }
   ],
   "source": [
    "clf.score(Xtest,Ytest)  # 分类模型返回准确率\n"
   ]
  },
  {
   "cell_type": "code",
   "execution_count": null,
   "metadata": {},
   "outputs": [],
   "source": [
    "cm(Ytest,ypred,labels=[1,0])  # 混淆矩阵 少数类写在前面\n"
   ]
  },
  {
   "cell_type": "code",
   "execution_count": 117,
   "metadata": {},
   "outputs": [
    {
     "data": {
      "text/plain": [
       "0.6923076923076923"
      ]
     },
     "execution_count": 117,
     "metadata": {},
     "output_type": "execute_result"
    }
   ],
   "source": [
    "recall(Ytest,ypred)\n"
   ]
  },
  {
   "cell_type": "code",
   "execution_count": 118,
   "metadata": {},
   "outputs": [
    {
     "data": {
      "text/plain": [
       "0.9701417004048585"
      ]
     },
     "execution_count": 118,
     "metadata": {},
     "output_type": "execute_result"
    }
   ],
   "source": [
    "auc(Ytest,clf.predict_proba(Xtest)[:,1])\n",
    "# 输入真实值和预测概率"
   ]
  },
  {
   "cell_type": "code",
   "execution_count": 120,
   "metadata": {},
   "outputs": [],
   "source": [
    "#负/正样本比例\n",
    "clf_ = XGBC(scale_pos_weight=10).fit(Xtrain,Ytrain)\n",
    "ypred_ = clf_.predict(Xtest)\n"
   ]
  },
  {
   "cell_type": "code",
   "execution_count": 121,
   "metadata": {},
   "outputs": [
    {
     "data": {
      "text/plain": [
       "0.9333333333333333"
      ]
     },
     "execution_count": 121,
     "metadata": {},
     "output_type": "execute_result"
    }
   ],
   "source": [
    "clf_.score(Xtest,Ytest)\n"
   ]
  },
  {
   "cell_type": "code",
   "execution_count": 122,
   "metadata": {},
   "outputs": [
    {
     "data": {
      "text/plain": [
       "array([[ 10,   3],\n",
       "       [  8, 144]], dtype=int64)"
      ]
     },
     "execution_count": 122,
     "metadata": {},
     "output_type": "execute_result"
    }
   ],
   "source": [
    "cm(Ytest,ypred_,labels=[1,0])\n"
   ]
  },
  {
   "cell_type": "code",
   "execution_count": 124,
   "metadata": {},
   "outputs": [
    {
     "data": {
      "text/plain": [
       "0.7692307692307693"
      ]
     },
     "execution_count": 124,
     "metadata": {},
     "output_type": "execute_result"
    }
   ],
   "source": [
    "recall(Ytest,ypred_)\n"
   ]
  },
  {
   "cell_type": "code",
   "execution_count": 125,
   "metadata": {},
   "outputs": [
    {
     "data": {
      "text/plain": [
       "0.9696356275303644"
      ]
     },
     "execution_count": 125,
     "metadata": {},
     "output_type": "execute_result"
    }
   ],
   "source": [
    "auc(Ytest,clf_.predict_proba(Xtest)[:,1])\n"
   ]
  },
  {
   "cell_type": "code",
   "execution_count": 127,
   "metadata": {},
   "outputs": [
    {
     "name": "stdout",
     "output_type": "stream",
     "text": [
      "1\n",
      "\tAccuracy:0.9272727272727272\n",
      "\tRecall:0.6923076923076923\n",
      "\tAUC:0.9701417004048585\n",
      "5\n",
      "\tAccuracy:0.9393939393939394\n",
      "\tRecall:0.8461538461538461\n",
      "\tAUC:0.9660931174089069\n",
      "10\n",
      "\tAccuracy:0.9333333333333333\n",
      "\tRecall:0.7692307692307693\n",
      "\tAUC:0.9696356275303644\n",
      "20\n",
      "\tAccuracy:0.9333333333333333\n",
      "\tRecall:0.7692307692307693\n",
      "\tAUC:0.9686234817813765\n",
      "30\n",
      "\tAccuracy:0.9393939393939394\n",
      "\tRecall:0.8461538461538461\n",
      "\tAUC:0.9701417004048583\n"
     ]
    }
   ],
   "source": [
    "#随着样本权重逐渐增加，模型的recall,auc和准确率如何变化？\n",
    "for i in [1,5,10,20,30]:\n",
    "    clf_ = XGBC(scale_pos_weight=i).fit(Xtrain,Ytrain)\n",
    "    ypred_ = clf_.predict(Xtest)\n",
    "    print(i)\n",
    "    print(\"\\tAccuracy:{}\".format(clf_.score(Xtest,Ytest)))\n",
    "    print(\"\\tRecall:{}\".format(recall(Ytest,ypred_)))\n",
    "    print(\"\\tAUC:{}\".format(auc(Ytest,clf_.predict_proba(Xtest)[:,1])))"
   ]
  },
  {
   "cell_type": "markdown",
   "metadata": {},
   "source": [
    "**3. 在数据集上建模：xgboost模式**"
   ]
  },
  {
   "cell_type": "code",
   "execution_count": 128,
   "metadata": {},
   "outputs": [],
   "source": [
    "dtrain = xgb.DMatrix(Xtrain,Ytrain)\n",
    "dtest = xgb.DMatrix(Xtest,Ytest)\n",
    "\n",
    "#看看xgboost库自带的predict接口\n",
    "param= {'silent':True,'objective':'binary:logistic',\"eta\":0.1,\"scale_pos_weight\":1}\n",
    "num_round = 100\n"
   ]
  },
  {
   "cell_type": "code",
   "execution_count": 129,
   "metadata": {},
   "outputs": [
    {
     "name": "stdout",
     "output_type": "stream",
     "text": [
      "[11:17:07] WARNING: C:/Users/administrator/workspace/xgboost-win64_release_1.6.0/src/learner.cc:627: \n",
      "Parameters: { \"silent\" } might not be used.\n",
      "\n",
      "  This could be a false alarm, with some parameters getting used by language bindings but\n",
      "  then being mistakenly passed down to XGBoost core, or some parameter actually being used\n",
      "  but getting flagged wrongly here. Please open an issue if you find any such cases.\n",
      "\n",
      "\n"
     ]
    }
   ],
   "source": [
    "bst = xgb.train(param, dtrain, num_round)\n"
   ]
  },
  {
   "cell_type": "code",
   "execution_count": 130,
   "metadata": {},
   "outputs": [
    {
     "data": {
      "text/plain": [
       "array([0.00110357, 0.00761518, 0.00110357, 0.00110357, 0.93531454,\n",
       "       0.00466839, 0.00110357, 0.00110357, 0.00110357, 0.00110357,\n",
       "       0.00110357, 0.00410493, 0.00454478, 0.00571528, 0.00751026,\n",
       "       0.00110357, 0.00110357, 0.00110357, 0.00110357, 0.00110357,\n",
       "       0.00110357, 0.00110357, 0.00110357, 0.00110357, 0.00110357,\n",
       "       0.00712637, 0.00110357, 0.00110357, 0.00110357, 0.00110357,\n",
       "       0.00110357, 0.00110357, 0.00110357, 0.00793251, 0.00466839,\n",
       "       0.00110357, 0.00339395, 0.00657186, 0.00110357, 0.00457053,\n",
       "       0.00571528, 0.0026763 , 0.00110357, 0.00110357, 0.00110357,\n",
       "       0.00884932, 0.00712637, 0.00110357, 0.00712637, 0.00466839,\n",
       "       0.00110357, 0.00110357, 0.00712637, 0.00110357, 0.00110357,\n",
       "       0.00110357, 0.00110357, 0.63748044, 0.00110357, 0.00793251,\n",
       "       0.00110357, 0.00451971, 0.00644181, 0.00110357, 0.00110357,\n",
       "       0.00110357, 0.00110357, 0.00751026, 0.00712637, 0.00110357,\n",
       "       0.00866458, 0.00110357, 0.00110357, 0.00110357, 0.91610426,\n",
       "       0.00110357, 0.00110357, 0.89246494, 0.0026763 , 0.00501714,\n",
       "       0.00761518, 0.00884932, 0.00339395, 0.00110357, 0.93531454,\n",
       "       0.00110357, 0.00110357, 0.00110357, 0.82530665, 0.00751026,\n",
       "       0.00110357, 0.35174078, 0.00110357, 0.00110357, 0.70393246,\n",
       "       0.00110357, 0.76804197, 0.00110357, 0.00110357, 0.00110357,\n",
       "       0.00110357, 0.96656513, 0.00110357, 0.00571528, 0.25400913,\n",
       "       0.00110357, 0.00110357, 0.00110357, 0.00110357, 0.00457053,\n",
       "       0.00110357, 0.00110357, 0.00110357, 0.89246494, 0.00110357,\n",
       "       0.9518535 , 0.0026763 , 0.00712637, 0.00110357, 0.00501714,\n",
       "       0.00110357, 0.00110357, 0.00571528, 0.00110357, 0.00110357,\n",
       "       0.00712637, 0.00110357, 0.00110357, 0.00712637, 0.00110357,\n",
       "       0.25136763, 0.00110357, 0.00110357, 0.00110357, 0.00110357,\n",
       "       0.00110357, 0.8904051 , 0.3876418 , 0.00110357, 0.00457053,\n",
       "       0.00657186, 0.9366597 , 0.00866458, 0.00110357, 0.00501714,\n",
       "       0.00501714, 0.00110357, 0.00110357, 0.00368543, 0.00501714,\n",
       "       0.9830577 , 0.00110357, 0.00644181, 0.00110357, 0.00571528,\n",
       "       0.00110357, 0.00110357, 0.00110357, 0.00110357, 0.00466839,\n",
       "       0.00110357, 0.00110357, 0.92388713, 0.90231985, 0.80084217],\n",
       "      dtype=float32)"
      ]
     },
     "execution_count": 130,
     "metadata": {},
     "output_type": "execute_result"
    }
   ],
   "source": [
    "preds = bst.predict(dtest)\n",
    "#看看preds返回了什么？\n",
    "preds  # 返回的是概率"
   ]
  },
  {
   "cell_type": "code",
   "execution_count": 132,
   "metadata": {},
   "outputs": [
    {
     "data": {
      "text/plain": [
       "array([0., 0., 0., 0., 1., 0., 0., 0., 0., 0., 0., 0., 0., 0., 0., 0., 0.,\n",
       "       0., 0., 0., 0., 0., 0., 0., 0., 0., 0., 0., 0., 0., 0., 0., 0., 0.,\n",
       "       0., 0., 0., 0., 0., 0., 0., 0., 0., 0., 0., 0., 0., 0., 0., 0., 0.,\n",
       "       0., 0., 0., 0., 0., 0., 1., 0., 0., 0., 0., 0., 0., 0., 0., 0., 0.,\n",
       "       0., 0., 0., 0., 0., 0., 1., 0., 0., 1., 0., 0., 0., 0., 0., 0., 1.,\n",
       "       0., 0., 0., 1., 0., 0., 0., 0., 0., 1., 0., 1., 0., 0., 0., 0., 1.,\n",
       "       0., 0., 0., 0., 0., 0., 0., 0., 0., 0., 0., 1., 0., 1., 0., 0., 0.,\n",
       "       0., 0., 0., 0., 0., 0., 0., 0., 0., 0., 0., 0., 0., 0., 0., 0., 0.,\n",
       "       1., 0., 0., 0., 0., 1., 0., 0., 0., 0., 0., 0., 0., 0., 1., 0., 0.,\n",
       "       0., 0., 0., 0., 0., 0., 0., 0., 0., 1., 1., 1.], dtype=float32)"
      ]
     },
     "execution_count": 132,
     "metadata": {},
     "output_type": "execute_result"
    }
   ],
   "source": [
    "#自己设定阈值\n",
    "ypred = preds.copy()\n",
    "ypred[preds > 0.5] = 1\n",
    "ypred[ypred != 1] = 0\n",
    "ypred"
   ]
  },
  {
   "cell_type": "code",
   "execution_count": 133,
   "metadata": {},
   "outputs": [],
   "source": [
    "#写明参数\n",
    "scale_pos_weight = [1,5,10]\n",
    "names = [\"negative vs positive: 1\"\n",
    "        ,\"negative vs positive: 5\"\n",
    "        ,\"negative vs positive: 10\"]\n"
   ]
  },
  {
   "cell_type": "code",
   "execution_count": 135,
   "metadata": {},
   "outputs": [],
   "source": [
    "#导入模型评估指标\n",
    "from sklearn.metrics import accuracy_score as accuracy, recall_score as recall,roc_auc_score as auc"
   ]
  },
  {
   "cell_type": "code",
   "execution_count": 136,
   "metadata": {},
   "outputs": [
    {
     "name": "stdout",
     "output_type": "stream",
     "text": [
      "[11:20:15] WARNING: C:/Users/administrator/workspace/xgboost-win64_release_1.6.0/src/learner.cc:627: \n",
      "Parameters: { \"silent\" } might not be used.\n",
      "\n",
      "  This could be a false alarm, with some parameters getting used by language bindings but\n",
      "  then being mistakenly passed down to XGBoost core, or some parameter actually being used\n",
      "  but getting flagged wrongly here. Please open an issue if you find any such cases.\n",
      "\n",
      "\n",
      "negative vs positive: 1\n",
      "\tAccuracy:0.9272727272727272\n",
      "\tRecall:0.6923076923076923\n",
      "\tAUC:0.9741902834008097\n",
      "[11:20:15] WARNING: C:/Users/administrator/workspace/xgboost-win64_release_1.6.0/src/learner.cc:627: \n",
      "Parameters: { \"silent\" } might not be used.\n",
      "\n",
      "  This could be a false alarm, with some parameters getting used by language bindings but\n",
      "  then being mistakenly passed down to XGBoost core, or some parameter actually being used\n",
      "  but getting flagged wrongly here. Please open an issue if you find any such cases.\n",
      "\n",
      "\n",
      "negative vs positive: 5\n",
      "\tAccuracy:0.9393939393939394\n",
      "\tRecall:0.8461538461538461\n",
      "\tAUC:0.9635627530364372\n",
      "[11:20:15] WARNING: C:/Users/administrator/workspace/xgboost-win64_release_1.6.0/src/learner.cc:627: \n",
      "Parameters: { \"silent\" } might not be used.\n",
      "\n",
      "  This could be a false alarm, with some parameters getting used by language bindings but\n",
      "  then being mistakenly passed down to XGBoost core, or some parameter actually being used\n",
      "  but getting flagged wrongly here. Please open an issue if you find any such cases.\n",
      "\n",
      "\n",
      "negative vs positive: 10\n",
      "\tAccuracy:0.9515151515151515\n",
      "\tRecall:1.0\n",
      "\tAUC:0.9665991902834008\n"
     ]
    }
   ],
   "source": [
    "for name,i in zip(names,scale_pos_weight):\n",
    "    param= {'silent':True,'objective':'binary:logistic',\"eta\":0.1,\"scale_pos_weight\":i}\n",
    "    clf = xgb.train(param, dtrain, num_round)\n",
    "    preds = clf.predict(dtest)\n",
    "    ypred = preds.copy()\n",
    "    ypred[preds > 0.5] = 1\n",
    "    ypred[ypred != 1] = 0\n",
    "    print(name)\n",
    "    print(\"\\tAccuracy:{}\".format(accuracy(Ytest,ypred)))\n",
    "    print(\"\\tRecall:{}\".format(recall(Ytest,ypred)))\n",
    "    print(\"\\tAUC:{}\".format(auc(Ytest,preds)))\n"
   ]
  },
  {
   "cell_type": "code",
   "execution_count": 137,
   "metadata": {},
   "outputs": [
    {
     "name": "stdout",
     "output_type": "stream",
     "text": [
      "[11:20:42] WARNING: C:/Users/administrator/workspace/xgboost-win64_release_1.6.0/src/learner.cc:627: \n",
      "Parameters: { \"silent\" } might not be used.\n",
      "\n",
      "  This could be a false alarm, with some parameters getting used by language bindings but\n",
      "  then being mistakenly passed down to XGBoost core, or some parameter actually being used\n",
      "  but getting flagged wrongly here. Please open an issue if you find any such cases.\n",
      "\n",
      "\n",
      "negative vs positive: 1,thresholds:0.3\n",
      "\tAccuracy:0.9393939393939394\n",
      "\tRecall:0.8461538461538461\n",
      "\tAUC:0.9741902834008097\n",
      "[11:20:42] WARNING: C:/Users/administrator/workspace/xgboost-win64_release_1.6.0/src/learner.cc:627: \n",
      "Parameters: { \"silent\" } might not be used.\n",
      "\n",
      "  This could be a false alarm, with some parameters getting used by language bindings but\n",
      "  then being mistakenly passed down to XGBoost core, or some parameter actually being used\n",
      "  but getting flagged wrongly here. Please open an issue if you find any such cases.\n",
      "\n",
      "\n",
      "negative vs positive: 1,thresholds:0.5\n",
      "\tAccuracy:0.9272727272727272\n",
      "\tRecall:0.6923076923076923\n",
      "\tAUC:0.9741902834008097\n",
      "[11:20:43] WARNING: C:/Users/administrator/workspace/xgboost-win64_release_1.6.0/src/learner.cc:627: \n",
      "Parameters: { \"silent\" } might not be used.\n",
      "\n",
      "  This could be a false alarm, with some parameters getting used by language bindings but\n",
      "  then being mistakenly passed down to XGBoost core, or some parameter actually being used\n",
      "  but getting flagged wrongly here. Please open an issue if you find any such cases.\n",
      "\n",
      "\n",
      "negative vs positive: 1,thresholds:0.7\n",
      "\tAccuracy:0.9212121212121213\n",
      "\tRecall:0.6153846153846154\n",
      "\tAUC:0.9741902834008097\n",
      "[11:20:43] WARNING: C:/Users/administrator/workspace/xgboost-win64_release_1.6.0/src/learner.cc:627: \n",
      "Parameters: { \"silent\" } might not be used.\n",
      "\n",
      "  This could be a false alarm, with some parameters getting used by language bindings but\n",
      "  then being mistakenly passed down to XGBoost core, or some parameter actually being used\n",
      "  but getting flagged wrongly here. Please open an issue if you find any such cases.\n",
      "\n",
      "\n",
      "negative vs positive: 1,thresholds:0.9\n",
      "\tAccuracy:0.9515151515151515\n",
      "\tRecall:0.5384615384615384\n",
      "\tAUC:0.9741902834008097\n",
      "[11:20:43] WARNING: C:/Users/administrator/workspace/xgboost-win64_release_1.6.0/src/learner.cc:627: \n",
      "Parameters: { \"silent\" } might not be used.\n",
      "\n",
      "  This could be a false alarm, with some parameters getting used by language bindings but\n",
      "  then being mistakenly passed down to XGBoost core, or some parameter actually being used\n",
      "  but getting flagged wrongly here. Please open an issue if you find any such cases.\n",
      "\n",
      "\n",
      "negative vs positive: 5,thresholds:0.3\n",
      "\tAccuracy:0.9515151515151515\n",
      "\tRecall:1.0\n",
      "\tAUC:0.9635627530364372\n",
      "[11:20:43] WARNING: C:/Users/administrator/workspace/xgboost-win64_release_1.6.0/src/learner.cc:627: \n",
      "Parameters: { \"silent\" } might not be used.\n",
      "\n",
      "  This could be a false alarm, with some parameters getting used by language bindings but\n",
      "  then being mistakenly passed down to XGBoost core, or some parameter actually being used\n",
      "  but getting flagged wrongly here. Please open an issue if you find any such cases.\n",
      "\n",
      "\n",
      "negative vs positive: 5,thresholds:0.5\n",
      "\tAccuracy:0.9393939393939394\n",
      "\tRecall:0.8461538461538461\n",
      "\tAUC:0.9635627530364372\n",
      "[11:20:43] WARNING: C:/Users/administrator/workspace/xgboost-win64_release_1.6.0/src/learner.cc:627: \n",
      "Parameters: { \"silent\" } might not be used.\n",
      "\n",
      "  This could be a false alarm, with some parameters getting used by language bindings but\n",
      "  then being mistakenly passed down to XGBoost core, or some parameter actually being used\n",
      "  but getting flagged wrongly here. Please open an issue if you find any such cases.\n",
      "\n",
      "\n",
      "negative vs positive: 5,thresholds:0.7\n",
      "\tAccuracy:0.9272727272727272\n",
      "\tRecall:0.6923076923076923\n",
      "\tAUC:0.9635627530364372\n",
      "[11:20:43] WARNING: C:/Users/administrator/workspace/xgboost-win64_release_1.6.0/src/learner.cc:627: \n",
      "Parameters: { \"silent\" } might not be used.\n",
      "\n",
      "  This could be a false alarm, with some parameters getting used by language bindings but\n",
      "  then being mistakenly passed down to XGBoost core, or some parameter actually being used\n",
      "  but getting flagged wrongly here. Please open an issue if you find any such cases.\n",
      "\n",
      "\n",
      "negative vs positive: 5,thresholds:0.9\n",
      "\tAccuracy:0.9212121212121213\n",
      "\tRecall:0.6153846153846154\n",
      "\tAUC:0.9635627530364372\n",
      "[11:20:43] WARNING: C:/Users/administrator/workspace/xgboost-win64_release_1.6.0/src/learner.cc:627: \n",
      "Parameters: { \"silent\" } might not be used.\n",
      "\n",
      "  This could be a false alarm, with some parameters getting used by language bindings but\n",
      "  then being mistakenly passed down to XGBoost core, or some parameter actually being used\n",
      "  but getting flagged wrongly here. Please open an issue if you find any such cases.\n",
      "\n",
      "\n",
      "negative vs positive: 10,thresholds:0.3\n",
      "\tAccuracy:0.9515151515151515\n",
      "\tRecall:1.0\n",
      "\tAUC:0.9665991902834008\n",
      "[11:20:43] WARNING: C:/Users/administrator/workspace/xgboost-win64_release_1.6.0/src/learner.cc:627: \n",
      "Parameters: { \"silent\" } might not be used.\n",
      "\n",
      "  This could be a false alarm, with some parameters getting used by language bindings but\n",
      "  then being mistakenly passed down to XGBoost core, or some parameter actually being used\n",
      "  but getting flagged wrongly here. Please open an issue if you find any such cases.\n",
      "\n",
      "\n",
      "negative vs positive: 10,thresholds:0.5\n",
      "\tAccuracy:0.9515151515151515\n",
      "\tRecall:1.0\n",
      "\tAUC:0.9665991902834008\n",
      "[11:20:43] WARNING: C:/Users/administrator/workspace/xgboost-win64_release_1.6.0/src/learner.cc:627: \n",
      "Parameters: { \"silent\" } might not be used.\n",
      "\n",
      "  This could be a false alarm, with some parameters getting used by language bindings but\n",
      "  then being mistakenly passed down to XGBoost core, or some parameter actually being used\n",
      "  but getting flagged wrongly here. Please open an issue if you find any such cases.\n",
      "\n",
      "\n",
      "negative vs positive: 10,thresholds:0.7\n",
      "\tAccuracy:0.9393939393939394\n",
      "\tRecall:0.8461538461538461\n",
      "\tAUC:0.9665991902834008\n",
      "[11:20:43] WARNING: C:/Users/administrator/workspace/xgboost-win64_release_1.6.0/src/learner.cc:627: \n",
      "Parameters: { \"silent\" } might not be used.\n",
      "\n",
      "  This could be a false alarm, with some parameters getting used by language bindings but\n",
      "  then being mistakenly passed down to XGBoost core, or some parameter actually being used\n",
      "  but getting flagged wrongly here. Please open an issue if you find any such cases.\n",
      "\n",
      "\n",
      "negative vs positive: 10,thresholds:0.9\n",
      "\tAccuracy:0.9212121212121213\n",
      "\tRecall:0.6153846153846154\n",
      "\tAUC:0.9665991902834008\n"
     ]
    }
   ],
   "source": [
    "#当然我们也可以尝试不同的阈值\n",
    "for name,i in zip(names,scale_pos_weight):\n",
    "    for thres in [0.3,0.5,0.7,0.9]:\n",
    "        param= {'silent':True,'objective':'binary:logistic',\"eta\":0.1,\"scale_pos_weight\":i}\n",
    "        clf = xgb.train(param, dtrain, num_round)\n",
    "        preds = clf.predict(dtest)\n",
    "        ypred = preds.copy()\n",
    "        ypred[preds > thres] = 1\n",
    "        ypred[ypred != 1] = 0\n",
    "        print(\"{},thresholds:{}\".format(name,thres))\n",
    "        print(\"\\tAccuracy:{}\".format(accuracy(Ytest,ypred)))\n",
    "        print(\"\\tRecall:{}\".format(recall(Ytest,ypred)))\n",
    "        print(\"\\tAUC:{}\".format(auc(Ytest,preds)))\n"
   ]
  },
  {
   "cell_type": "markdown",
   "metadata": {},
   "source": [
    "### 4.4 XGBoost类中的其他参数和功能\n",
    "\n",
    "- 更多计算资源：n_jobs\n",
    "    nthread和n_jobs都是算法运行所使用的线程，与sklearn中规则一样，输入整数表示使用的线程，输入-1表示使用计\n",
    "算机全部的计算资源\n",
    "- 降低学习难度：base_score\n",
    "  \n",
    "    base_score是一个比较容易被混淆的参数，它被叫做全局偏差，在分类问题中，它是我们希望关注的分类的先验概\n",
    "率。通常不调整\n",
    "- 生成树的随机模式：random_state\n",
    "- 自动处理缺失值：missing\n"
   ]
  },
  {
   "cell_type": "code",
   "execution_count": null,
   "metadata": {},
   "outputs": [],
   "source": []
  }
 ],
 "metadata": {
  "kernelspec": {
   "display_name": "Python 3.10.0 64-bit",
   "language": "python",
   "name": "python3"
  },
  "language_info": {
   "codemirror_mode": {
    "name": "ipython",
    "version": 3
   },
   "file_extension": ".py",
   "mimetype": "text/x-python",
   "name": "python",
   "nbconvert_exporter": "python",
   "pygments_lexer": "ipython3",
   "version": "3.10.0"
  },
  "orig_nbformat": 4,
  "vscode": {
   "interpreter": {
    "hash": "3296471c9107718e6db2104fe506aa09d2e74f3fa2347eed57e489ba84541490"
   }
  }
 },
 "nbformat": 4,
 "nbformat_minor": 2
}
