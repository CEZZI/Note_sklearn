{
 "cells": [
  {
   "cell_type": "markdown",
   "metadata": {},
   "source": [
    "# Chap10 朴素贝叶斯\n",
    "\n",
    "## 1 概述\n",
    "---\n",
    "### 1.1 真正的概率分类器\n",
    "\n",
    "算法得出的结论，永远不是100%确定的，更多的是判断出了一种“样本的标签更可能是某类的可能性”，而非一种“确定”。  \n",
    "朴素贝叶斯是一种直接衡量标签和特征之间的概率关系的有监督学习算法，是一种专注分类的算法。\n",
    "\n",
    "### 1.2 sklearn中朴素贝叶斯\n",
    "\n",
    "- `naive_bayes.BernoulliNB` 伯努利分布下的朴素贝叶斯\n",
    "- `naive_bayes.GaussianNB` 高斯分布下的朴素贝叶斯\n",
    "- `naive_bayes.MultinomialNB` 多项式分布下的朴素贝叶斯\n",
    "- `naive_bayes.ComplementNB` 补集朴素贝叶斯  ---> 解决分类问题中样本不平稳的问题\n",
    "- `linear_model.BayesianRidge` 贝叶斯岭回归，在参数估计过程中使用贝叶斯回归技术来包括正则化参数"
   ]
  },
  {
   "cell_type": "markdown",
   "metadata": {},
   "source": [
    "## 2 不同分布下的贝叶斯\n",
    "---\n",
    "### 2.1 高斯朴素贝叶斯GaussianNB\n",
    "### 2.1.1 认识高斯朴素贝叶斯\n",
    "\n",
    "*class `sklearn.naive_bayes.GaussianNB` (priors=None, var_smoothing=1e-09)*\n",
    "高斯朴素贝叶斯，通过假设$P(x_i|Y)$是服从高斯分布（也就是正态分布）\n",
    "\n",
    "- `prior` 可输入任何类数组结构，形状为（n_classes，）\n",
    "  \n",
    "    表示类的先验概率。如果指定，则不根据数据调整先验，如果不指定，则自行根据数据计算先验概率 \n",
    "- `var_smoothing `浮点数，可不填（默认值= 1e-9）\n",
    "  \n",
    "    在估计方差时，为了追求估计的稳定性，将所有特征的方差中最大的方差以某个比例添加到估计的方差中。这个比例，由var_smoothing参数控制\n",
    "\n",
    "但在实例化的时候，我们不需要对高斯朴素贝叶斯类输入任何的参数\n",
    "\n",
    "- GaussianNB().fit(Xtrain,Ytrain) 训练数据\n",
    "- .score(Xtest,Ytest) 返回训练分数 默认为R2\n",
    "- .predict(Xtest) 返回预测结果\n",
    "- .predict_proba(Xtest) 返回每一个样本在所有类中的概率\n",
    "- sklearn.metrics.confusion_matrix  混淆矩阵(二分类中的评估指标)"
   ]
  },
  {
   "cell_type": "code",
   "execution_count": 2,
   "metadata": {},
   "outputs": [
    {
     "name": "stdout",
     "output_type": "stream",
     "text": [
      "Looking in indexes: https://pypi.tuna.tsinghua.edu.cn/simple\n",
      "Requirement already satisfied: watermark in c:\\users\\hp\\python\\python310\\lib\\site-packages (2.3.1)\n",
      "Requirement already satisfied: ipython in c:\\users\\hp\\python\\python310\\lib\\site-packages (from watermark) (7.28.0)\n",
      "Requirement already satisfied: setuptools>=18.5 in c:\\users\\hp\\python\\python310\\lib\\site-packages (from ipython->watermark) (57.4.0)\n",
      "Requirement already satisfied: traitlets>=4.2 in c:\\users\\hp\\python\\python310\\lib\\site-packages (from ipython->watermark) (5.1.0)\n",
      "Requirement already satisfied: jedi>=0.16 in c:\\users\\hp\\python\\python310\\lib\\site-packages (from ipython->watermark) (0.18.0)\n",
      "Requirement already satisfied: pickleshare in c:\\users\\hp\\python\\python310\\lib\\site-packages (from ipython->watermark) (0.7.5)\n",
      "Requirement already satisfied: prompt-toolkit!=3.0.0,!=3.0.1,<3.1.0,>=2.0.0 in c:\\users\\hp\\python\\python310\\lib\\site-packages (from ipython->watermark) (3.0.21)\n",
      "Requirement already satisfied: backcall in c:\\users\\hp\\python\\python310\\lib\\site-packages (from ipython->watermark) (0.2.0)\n",
      "Requirement already satisfied: colorama in c:\\users\\hp\\python\\python310\\lib\\site-packages (from ipython->watermark) (0.4.4)\n",
      "Requirement already satisfied: pygments in c:\\users\\hp\\python\\python310\\lib\\site-packages (from ipython->watermark) (2.10.0)\n",
      "Requirement already satisfied: decorator in c:\\users\\hp\\python\\python310\\lib\\site-packages (from ipython->watermark) (5.1.0)\n",
      "Requirement already satisfied: matplotlib-inline in c:\\users\\hp\\python\\python310\\lib\\site-packages (from ipython->watermark) (0.1.3)\n",
      "Requirement already satisfied: parso<0.9.0,>=0.8.0 in c:\\users\\hp\\python\\python310\\lib\\site-packages (from jedi>=0.16->ipython->watermark) (0.8.2)\n",
      "Requirement already satisfied: wcwidth in c:\\users\\hp\\python\\python310\\lib\\site-packages (from prompt-toolkit!=3.0.0,!=3.0.1,<3.1.0,>=2.0.0->ipython->watermark) (0.2.5)\n"
     ]
    }
   ],
   "source": [
    "!pip install -i https://pypi.tuna.tsinghua.edu.cn/simple --trusted-host pypi.tuna.tsinghua.edu.cn watermark"
   ]
  },
  {
   "cell_type": "code",
   "execution_count": 3,
   "metadata": {},
   "outputs": [],
   "source": [
    "%load_ext watermark\n"
   ]
  },
  {
   "cell_type": "code",
   "execution_count": 4,
   "metadata": {},
   "outputs": [
    {
     "name": "stdout",
     "output_type": "stream",
     "text": [
      "Author: ziwen\n",
      "\n",
      "Python implementation: CPython\n",
      "Python version       : 3.10.0\n",
      "IPython version      : 7.28.0\n",
      "\n",
      "numpy     : 1.21.3\n",
      "pandas    : 1.4.2\n",
      "matplotlib: 3.5.2\n",
      "scipy     : 1.8.0\n",
      "sklearn   : 0.0\n",
      "\n",
      "Compiler    : MSC v.1929 64 bit (AMD64)\n",
      "OS          : Windows\n",
      "Release     : 10\n",
      "Machine     : AMD64\n",
      "Processor   : Intel64 Family 6 Model 158 Stepping 9, GenuineIntel\n",
      "CPU cores   : 4\n",
      "Architecture: 64bit\n",
      "\n"
     ]
    }
   ],
   "source": [
    "%watermark -a \"ziwen\" -d -v -m -p numpy,pandas,matplotlib,scipy,sklearn  # 查看系统的配置\n"
   ]
  },
  {
   "cell_type": "markdown",
   "metadata": {},
   "source": [
    "1. 导入数据和库"
   ]
  },
  {
   "cell_type": "code",
   "execution_count": 5,
   "metadata": {},
   "outputs": [],
   "source": [
    "import numpy as np\n",
    "import matplotlib.pyplot as plt\n",
    "from sklearn.naive_bayes import GaussianNB\n",
    "from sklearn.datasets import load_digits\n",
    "from sklearn.model_selection import train_test_split\n",
    "\n",
    "digits = load_digits()\n",
    "X, y = digits.data, digits.target\n",
    "Xtrain,Xtest,Ytrain,Ytest = train_test_split(X,y,test_size=0.3,random_state=420)"
   ]
  },
  {
   "cell_type": "code",
   "execution_count": 6,
   "metadata": {},
   "outputs": [
    {
     "data": {
      "text/plain": [
       "(1257, 64)"
      ]
     },
     "execution_count": 6,
     "metadata": {},
     "output_type": "execute_result"
    }
   ],
   "source": [
    "Xtrain.shape"
   ]
  },
  {
   "cell_type": "code",
   "execution_count": 7,
   "metadata": {},
   "outputs": [
    {
     "data": {
      "text/plain": [
       "array([0, 1, 2, 3, 4, 5, 6, 7, 8, 9])"
      ]
     },
     "execution_count": 7,
     "metadata": {},
     "output_type": "execute_result"
    }
   ],
   "source": [
    "np.unique(Ytrain)"
   ]
  },
  {
   "cell_type": "code",
   "execution_count": 8,
   "metadata": {},
   "outputs": [
    {
     "data": {
      "text/plain": [
       "0.8592592592592593"
      ]
     },
     "execution_count": 8,
     "metadata": {},
     "output_type": "execute_result"
    }
   ],
   "source": [
    "gnb = GaussianNB().fit(Xtrain,Ytrain)  # 实例化\n",
    "\n",
    "# 查看分数\n",
    "acc_score = gnb.score(Xtest,Ytest)\n",
    "acc_score"
   ]
  },
  {
   "cell_type": "code",
   "execution_count": 9,
   "metadata": {},
   "outputs": [
    {
     "data": {
      "text/plain": [
       "array([6, 1, 3, 0, 4, 5, 0, 8, 3, 8, 6, 8, 7, 8, 8, 8, 5, 9, 5, 6, 5, 4,\n",
       "       7, 4, 8, 2, 7, 2, 8, 9, 2, 8, 3, 6, 0, 3, 8, 8, 1, 5, 2, 8, 8, 9,\n",
       "       2, 2, 0, 7, 3, 6, 7, 2, 8, 0, 5, 4, 1, 9, 4, 0, 5, 8, 9, 1, 7, 8,\n",
       "       7, 5, 8, 2, 4, 4, 8, 2, 6, 1, 2, 1, 7, 8, 8, 5, 9, 4, 3, 6, 9, 7,\n",
       "       4, 2, 4, 8, 0, 5, 7, 7, 7, 4, 7, 8, 8, 7, 0, 7, 2, 1, 9, 9, 8, 7,\n",
       "       1, 5, 1, 8, 0, 4, 8, 9, 5, 6, 4, 8, 3, 8, 0, 6, 8, 6, 7, 6, 1, 8,\n",
       "       5, 0, 8, 2, 1, 8, 8, 6, 6, 0, 2, 4, 7, 8, 9, 5, 9, 4, 7, 8, 8, 6,\n",
       "       7, 0, 8, 4, 7, 2, 2, 6, 4, 4, 1, 0, 3, 4, 3, 8, 7, 0, 6, 9, 7, 5,\n",
       "       5, 3, 6, 1, 6, 6, 2, 3, 8, 2, 7, 3, 1, 1, 6, 8, 8, 8, 7, 7, 2, 5,\n",
       "       0, 0, 8, 6, 6, 7, 6, 0, 7, 5, 5, 8, 4, 6, 5, 1, 5, 1, 9, 6, 8, 8,\n",
       "       8, 2, 4, 8, 6, 5, 9, 9, 3, 1, 9, 1, 3, 3, 5, 5, 7, 7, 4, 0, 9, 0,\n",
       "       9, 9, 6, 4, 3, 4, 8, 1, 0, 2, 9, 7, 6, 8, 8, 0, 6, 0, 1, 7, 1, 9,\n",
       "       5, 4, 6, 8, 1, 5, 7, 7, 5, 1, 0, 0, 9, 3, 9, 1, 6, 3, 7, 2, 7, 1,\n",
       "       9, 9, 8, 3, 3, 5, 7, 7, 7, 3, 9, 5, 0, 7, 5, 5, 1, 4, 9, 2, 0, 6,\n",
       "       3, 0, 8, 7, 2, 8, 1, 6, 4, 1, 2, 5, 7, 1, 4, 9, 5, 4, 2, 3, 5, 9,\n",
       "       8, 0, 0, 0, 0, 4, 2, 0, 6, 6, 8, 7, 1, 1, 8, 1, 1, 7, 8, 7, 8, 3,\n",
       "       1, 4, 6, 1, 8, 1, 6, 6, 7, 2, 8, 5, 3, 2, 1, 8, 7, 8, 5, 1, 7, 2,\n",
       "       1, 1, 7, 8, 9, 5, 0, 4, 7, 8, 8, 9, 5, 5, 8, 5, 5, 8, 1, 0, 4, 3,\n",
       "       8, 2, 8, 5, 7, 6, 9, 9, 5, 8, 9, 9, 1, 8, 6, 4, 3, 3, 3, 3, 0, 8,\n",
       "       0, 7, 7, 6, 0, 8, 9, 8, 3, 6, 6, 8, 7, 5, 8, 4, 5, 8, 6, 7, 6, 7,\n",
       "       7, 8, 0, 8, 2, 2, 0, 5, 7, 3, 0, 2, 8, 2, 0, 2, 3, 6, 8, 1, 7, 5,\n",
       "       7, 1, 7, 7, 2, 7, 5, 2, 6, 5, 8, 0, 0, 8, 1, 3, 7, 6, 1, 5, 6, 2,\n",
       "       0, 1, 5, 7, 8, 0, 3, 5, 0, 7, 5, 4, 4, 1, 5, 9, 5, 3, 7, 1, 7, 3,\n",
       "       5, 8, 5, 8, 5, 6, 1, 6, 7, 4, 3, 7, 0, 5, 4, 9, 3, 3, 6, 3, 5, 2,\n",
       "       9, 8, 9, 3, 9, 7, 3, 4, 9, 4, 3, 1])"
      ]
     },
     "execution_count": 9,
     "metadata": {},
     "output_type": "execute_result"
    }
   ],
   "source": [
    "Y_pred = gnb.predict(Xtest)\n",
    "Y_pred"
   ]
  },
  {
   "cell_type": "code",
   "execution_count": 10,
   "metadata": {},
   "outputs": [
    {
     "data": {
      "text/plain": [
       "array([[0.00000000e+000, 4.69391744e-052, 1.74871280e-098, ...,\n",
       "        0.00000000e+000, 4.19588993e-033, 1.51751459e-119],\n",
       "       [0.00000000e+000, 1.00000000e+000, 9.26742456e-013, ...,\n",
       "        0.00000000e+000, 0.00000000e+000, 0.00000000e+000],\n",
       "       [0.00000000e+000, 0.00000000e+000, 3.73608152e-026, ...,\n",
       "        0.00000000e+000, 1.29541754e-039, 5.54684869e-077],\n",
       "       ...,\n",
       "       [0.00000000e+000, 2.43314963e-047, 4.82483668e-305, ...,\n",
       "        2.31612692e-008, 1.23891596e-126, 2.87896140e-257],\n",
       "       [0.00000000e+000, 8.26462929e-129, 4.99150558e-012, ...,\n",
       "        0.00000000e+000, 4.01802372e-003, 6.19000712e-013],\n",
       "       [0.00000000e+000, 9.99929965e-001, 1.45462767e-013, ...,\n",
       "        5.05856094e-005, 1.94498169e-005, 3.42317317e-042]])"
      ]
     },
     "execution_count": 10,
     "metadata": {},
     "output_type": "execute_result"
    }
   ],
   "source": [
    "#查看预测的概率结果\n",
    "prob = gnb.predict_proba(Xtest)\n",
    "prob  \n",
    "\n",
    "# 每一个样本在所有类中的概率"
   ]
  },
  {
   "cell_type": "code",
   "execution_count": 11,
   "metadata": {},
   "outputs": [
    {
     "data": {
      "text/plain": [
       "(540, 10)"
      ]
     },
     "execution_count": 11,
     "metadata": {},
     "output_type": "execute_result"
    }
   ],
   "source": [
    "prob.shape"
   ]
  },
  {
   "cell_type": "code",
   "execution_count": 12,
   "metadata": {},
   "outputs": [
    {
     "data": {
      "text/plain": [
       "1.000000000000003"
      ]
     },
     "execution_count": 12,
     "metadata": {},
     "output_type": "execute_result"
    }
   ],
   "source": [
    "prob.shape #每一列对应一个标签下的概率\n",
    "prob[1,:].sum() #每一行的和都是一  以第一个样本为例\n"
   ]
  },
  {
   "cell_type": "code",
   "execution_count": 13,
   "metadata": {},
   "outputs": [
    {
     "data": {
      "text/plain": [
       "array([1., 1., 1., 1., 1., 1., 1., 1., 1., 1., 1., 1., 1., 1., 1., 1., 1.,\n",
       "       1., 1., 1., 1., 1., 1., 1., 1., 1., 1., 1., 1., 1., 1., 1., 1., 1.,\n",
       "       1., 1., 1., 1., 1., 1., 1., 1., 1., 1., 1., 1., 1., 1., 1., 1., 1.,\n",
       "       1., 1., 1., 1., 1., 1., 1., 1., 1., 1., 1., 1., 1., 1., 1., 1., 1.,\n",
       "       1., 1., 1., 1., 1., 1., 1., 1., 1., 1., 1., 1., 1., 1., 1., 1., 1.,\n",
       "       1., 1., 1., 1., 1., 1., 1., 1., 1., 1., 1., 1., 1., 1., 1., 1., 1.,\n",
       "       1., 1., 1., 1., 1., 1., 1., 1., 1., 1., 1., 1., 1., 1., 1., 1., 1.,\n",
       "       1., 1., 1., 1., 1., 1., 1., 1., 1., 1., 1., 1., 1., 1., 1., 1., 1.,\n",
       "       1., 1., 1., 1., 1., 1., 1., 1., 1., 1., 1., 1., 1., 1., 1., 1., 1.,\n",
       "       1., 1., 1., 1., 1., 1., 1., 1., 1., 1., 1., 1., 1., 1., 1., 1., 1.,\n",
       "       1., 1., 1., 1., 1., 1., 1., 1., 1., 1., 1., 1., 1., 1., 1., 1., 1.,\n",
       "       1., 1., 1., 1., 1., 1., 1., 1., 1., 1., 1., 1., 1., 1., 1., 1., 1.,\n",
       "       1., 1., 1., 1., 1., 1., 1., 1., 1., 1., 1., 1., 1., 1., 1., 1., 1.,\n",
       "       1., 1., 1., 1., 1., 1., 1., 1., 1., 1., 1., 1., 1., 1., 1., 1., 1.,\n",
       "       1., 1., 1., 1., 1., 1., 1., 1., 1., 1., 1., 1., 1., 1., 1., 1., 1.,\n",
       "       1., 1., 1., 1., 1., 1., 1., 1., 1., 1., 1., 1., 1., 1., 1., 1., 1.,\n",
       "       1., 1., 1., 1., 1., 1., 1., 1., 1., 1., 1., 1., 1., 1., 1., 1., 1.,\n",
       "       1., 1., 1., 1., 1., 1., 1., 1., 1., 1., 1., 1., 1., 1., 1., 1., 1.,\n",
       "       1., 1., 1., 1., 1., 1., 1., 1., 1., 1., 1., 1., 1., 1., 1., 1., 1.,\n",
       "       1., 1., 1., 1., 1., 1., 1., 1., 1., 1., 1., 1., 1., 1., 1., 1., 1.,\n",
       "       1., 1., 1., 1., 1., 1., 1., 1., 1., 1., 1., 1., 1., 1., 1., 1., 1.,\n",
       "       1., 1., 1., 1., 1., 1., 1., 1., 1., 1., 1., 1., 1., 1., 1., 1., 1.,\n",
       "       1., 1., 1., 1., 1., 1., 1., 1., 1., 1., 1., 1., 1., 1., 1., 1., 1.,\n",
       "       1., 1., 1., 1., 1., 1., 1., 1., 1., 1., 1., 1., 1., 1., 1., 1., 1.,\n",
       "       1., 1., 1., 1., 1., 1., 1., 1., 1., 1., 1., 1., 1., 1., 1., 1., 1.,\n",
       "       1., 1., 1., 1., 1., 1., 1., 1., 1., 1., 1., 1., 1., 1., 1., 1., 1.,\n",
       "       1., 1., 1., 1., 1., 1., 1., 1., 1., 1., 1., 1., 1., 1., 1., 1., 1.,\n",
       "       1., 1., 1., 1., 1., 1., 1., 1., 1., 1., 1., 1., 1., 1., 1., 1., 1.,\n",
       "       1., 1., 1., 1., 1., 1., 1., 1., 1., 1., 1., 1., 1., 1., 1., 1., 1.,\n",
       "       1., 1., 1., 1., 1., 1., 1., 1., 1., 1., 1., 1., 1., 1., 1., 1., 1.,\n",
       "       1., 1., 1., 1., 1., 1., 1., 1., 1., 1., 1., 1., 1., 1., 1., 1., 1.,\n",
       "       1., 1., 1., 1., 1., 1., 1., 1., 1., 1., 1., 1., 1.])"
      ]
     },
     "execution_count": 13,
     "metadata": {},
     "output_type": "execute_result"
    }
   ],
   "source": [
    "prob.sum(axis=1)"
   ]
  },
  {
   "cell_type": "markdown",
   "metadata": {},
   "source": [
    "4. 使用混淆矩阵来查看贝叶斯的分类结果\n"
   ]
  },
  {
   "cell_type": "code",
   "execution_count": 14,
   "metadata": {},
   "outputs": [
    {
     "data": {
      "text/plain": [
       "array([[47,  0,  0,  0,  0,  0,  0,  1,  0,  0],\n",
       "       [ 0, 46,  2,  0,  0,  0,  0,  3,  6,  2],\n",
       "       [ 0,  2, 35,  0,  0,  0,  1,  0, 16,  0],\n",
       "       [ 0,  0,  1, 40,  0,  1,  0,  3,  4,  0],\n",
       "       [ 0,  0,  1,  0, 39,  0,  1,  4,  0,  0],\n",
       "       [ 0,  0,  0,  2,  0, 58,  1,  1,  1,  0],\n",
       "       [ 0,  0,  1,  0,  0,  1, 49,  0,  0,  0],\n",
       "       [ 0,  0,  0,  0,  0,  0,  0, 54,  0,  0],\n",
       "       [ 0,  3,  0,  1,  0,  0,  0,  2, 55,  0],\n",
       "       [ 1,  1,  0,  1,  2,  0,  0,  3,  7, 41]], dtype=int64)"
      ]
     },
     "execution_count": 14,
     "metadata": {},
     "output_type": "execute_result"
    }
   ],
   "source": [
    "from sklearn.metrics import confusion_matrix as CM\n",
    "\n",
    "CM(Ytest,Y_pred)   # 混淆矩阵\n",
    "\n",
    "#注意，ROC曲线是不能用于多分类的。多分类状况下最佳的模型评估指标是混淆矩阵和整体的准确度"
   ]
  },
  {
   "cell_type": "markdown",
   "metadata": {},
   "source": [
    "右对角线上数据很大，大部分分类正确"
   ]
  },
  {
   "cell_type": "markdown",
   "metadata": {},
   "source": [
    "#### 2.1.2 探索贝叶斯：高斯朴素贝叶斯擅长的数据集\n",
    "\n",
    "- 贝叶斯擅长线性数据集\n",
    "- 在环性、月亮性数据集上效果不讨好\n",
    "  - 但是还是线性模型在这两类数据上的表现更好\n",
    "- 现实中，很难满足贝叶斯分类的要求，即特征独立\n"
   ]
  },
  {
   "cell_type": "markdown",
   "metadata": {},
   "source": [
    "#### 2.1.3 探索贝叶斯：高斯朴素贝叶斯的拟合效果与运算速度\n",
    "\n",
    "- `ShuffleSplit(n_splits=50,test_size=0.2,random_state=0)` 分成50份，其中20%即10份作为测试\n",
    "- `learning_curve(estimator, X, y,cv=cv,n_jobs=n_jobs)`"
   ]
  },
  {
   "cell_type": "markdown",
   "metadata": {},
   "source": [
    "1. 导入库和模块"
   ]
  },
  {
   "cell_type": "code",
   "execution_count": 15,
   "metadata": {},
   "outputs": [],
   "source": [
    "import numpy as np\n",
    "import matplotlib.pyplot as plt\n",
    "from sklearn.naive_bayes import GaussianNB\n",
    "from sklearn.svm import SVC\n",
    "from sklearn.ensemble import RandomForestClassifier as RFC\n",
    "from sklearn.tree import DecisionTreeClassifier as DTC\n",
    "from sklearn.linear_model import LogisticRegression as LR\n",
    "from sklearn.datasets import load_digits\n",
    "from sklearn.model_selection import learning_curve\n",
    "from sklearn.model_selection import ShuffleSplit\n",
    "from time import time\n",
    "import datetime"
   ]
  },
  {
   "cell_type": "code",
   "execution_count": 16,
   "metadata": {},
   "outputs": [],
   "source": [
    "digits = load_digits()\n",
    "\n",
    "X, y = digits.data, digits.target\n"
   ]
  },
  {
   "cell_type": "markdown",
   "metadata": {},
   "source": [
    "2. 绘制学习曲线"
   ]
  },
  {
   "cell_type": "code",
   "execution_count": 17,
   "metadata": {},
   "outputs": [],
   "source": [
    "clf = GaussianNB()\n",
    "\n",
    "cv = ShuffleSplit(n_splits=50,test_size=0.2,random_state=0)  # 分成50份，其中20%即10份作为测试\n",
    "\n",
    "train_sizes, train_scores,test_scores = learning_curve(clf,\n",
    "                                                        X,y,\n",
    "                                                        cv=cv, # 交叉验证的次数or某种交叉验证的模式\n",
    "                                                        n_jobs=4  # 每次运行使用的线程是多少\n",
    "                                                        )\n",
    "\n",
    "                                                        "
   ]
  },
  {
   "cell_type": "code",
   "execution_count": 18,
   "metadata": {},
   "outputs": [
    {
     "data": {
      "text/plain": [
       "array([ 143,  467,  790, 1113, 1437])"
      ]
     },
     "execution_count": 18,
     "metadata": {},
     "output_type": "execute_result"
    }
   ],
   "source": [
    "train_sizes"
   ]
  },
  {
   "cell_type": "code",
   "execution_count": 19,
   "metadata": {},
   "outputs": [
    {
     "data": {
      "text/plain": [
       "(5, 50)"
      ]
     },
     "execution_count": 19,
     "metadata": {},
     "output_type": "execute_result"
    }
   ],
   "source": [
    "test_scores.shape\n",
    "\n",
    "# 需要对每次交叉验证的结果取均值"
   ]
  },
  {
   "cell_type": "code",
   "execution_count": 20,
   "metadata": {},
   "outputs": [
    {
     "data": {
      "text/plain": [
       "array([[0.93006993, 0.94405594, 0.95104895, 0.87412587, 0.95804196,\n",
       "        0.99300699, 0.95804196, 0.96503497, 0.95804196, 0.91608392,\n",
       "        0.93006993, 0.97902098, 0.93706294, 0.90909091, 0.93006993,\n",
       "        0.94405594, 0.97902098, 0.95804196, 0.96503497, 0.94405594,\n",
       "        0.95104895, 0.95804196, 0.97202797, 0.9020979 , 0.96503497,\n",
       "        0.9020979 , 0.83216783, 0.96503497, 0.93006993, 0.95804196,\n",
       "        0.86013986, 0.94405594, 1.        , 0.93006993, 0.97202797,\n",
       "        0.94405594, 0.98601399, 0.95804196, 0.97202797, 0.95804196,\n",
       "        0.97902098, 0.97202797, 0.95804196, 0.95804196, 0.8951049 ,\n",
       "        0.83216783, 0.93006993, 0.90909091, 0.95804196, 0.95804196],\n",
       "       [0.90149893, 0.91006424, 0.90578158, 0.86509636, 0.8993576 ,\n",
       "        0.91862955, 0.89721627, 0.90364026, 0.91220557, 0.86937901,\n",
       "        0.82441113, 0.91220557, 0.90792291, 0.88008565, 0.88650964,\n",
       "        0.90792291, 0.8608137 , 0.90364026, 0.88008565, 0.92077088,\n",
       "        0.90149893, 0.87366167, 0.86295503, 0.86295503, 0.89293362,\n",
       "        0.90364026, 0.84582441, 0.88222698, 0.90364026, 0.87366167,\n",
       "        0.86937901, 0.86295503, 0.9143469 , 0.90149893, 0.92505353,\n",
       "        0.9143469 , 0.91220557, 0.90792291, 0.85224839, 0.88865096,\n",
       "        0.92933619, 0.87794433, 0.86723769, 0.88222698, 0.89293362,\n",
       "        0.82012848, 0.88222698, 0.8993576 , 0.93147752, 0.86295503],\n",
       "       [0.87341772, 0.8556962 , 0.9       , 0.87974684, 0.88101266,\n",
       "        0.88860759, 0.89873418, 0.87088608, 0.88734177, 0.8721519 ,\n",
       "        0.82405063, 0.89493671, 0.91139241, 0.86329114, 0.82278481,\n",
       "        0.88481013, 0.85316456, 0.86329114, 0.89113924, 0.88227848,\n",
       "        0.89493671, 0.86202532, 0.83924051, 0.89113924, 0.8721519 ,\n",
       "        0.87974684, 0.82658228, 0.87848101, 0.87721519, 0.86582278,\n",
       "        0.89493671, 0.86835443, 0.87974684, 0.9       , 0.87341772,\n",
       "        0.87848101, 0.87088608, 0.88734177, 0.81392405, 0.84936709,\n",
       "        0.8835443 , 0.87848101, 0.88101266, 0.86329114, 0.87341772,\n",
       "        0.81772152, 0.87594937, 0.87974684, 0.90759494, 0.88227848],\n",
       "       [0.86163522, 0.87780773, 0.8885894 , 0.87241689, 0.86792453,\n",
       "        0.86702606, 0.86792453, 0.86433064, 0.868823  , 0.84995508,\n",
       "        0.86792453, 0.86612758, 0.89937107, 0.86253369, 0.87061995,\n",
       "        0.87601078, 0.85085355, 0.87241689, 0.85354897, 0.85624438,\n",
       "        0.88499551, 0.8589398 , 0.85534591, 0.8589398 , 0.8589398 ,\n",
       "        0.84186882, 0.82030548, 0.89128482, 0.85354897, 0.868823  ,\n",
       "        0.86792453, 0.86073675, 0.85534591, 0.87151842, 0.87780773,\n",
       "        0.88679245, 0.86163522, 0.87061995, 0.84636119, 0.8490566 ,\n",
       "        0.87601078, 0.86343217, 0.8885894 , 0.8490566 , 0.88679245,\n",
       "        0.85354897, 0.86702606, 0.88050314, 0.868823  , 0.86433064],\n",
       "       [0.8559499 , 0.86986778, 0.87543493, 0.86499652, 0.85247042,\n",
       "        0.86430063, 0.84411969, 0.85664579, 0.88378566, 0.84203201,\n",
       "        0.84899095, 0.86290884, 0.88726514, 0.85247042, 0.85873347,\n",
       "        0.86986778, 0.83298539, 0.83646486, 0.84411969, 0.84551148,\n",
       "        0.8677801 , 0.87473904, 0.86082116, 0.84551148, 0.86847599,\n",
       "        0.84690327, 0.84551148, 0.87543493, 0.85386221, 0.8670842 ,\n",
       "        0.85803758, 0.85455811, 0.83228949, 0.88935282, 0.87752262,\n",
       "        0.86986778, 0.85734168, 0.85107864, 0.85873347, 0.86499652,\n",
       "        0.86430063, 0.87195546, 0.88726514, 0.85177453, 0.87891441,\n",
       "        0.86638831, 0.87125957, 0.88448156, 0.86151705, 0.86569241]])"
      ]
     },
     "execution_count": 20,
     "metadata": {},
     "output_type": "execute_result"
    }
   ],
   "source": [
    "train_scores"
   ]
  },
  {
   "cell_type": "code",
   "execution_count": 21,
   "metadata": {},
   "outputs": [],
   "source": [
    "# 输入分类器，数据，画图的参数，交叉验证的模型等一次性给出学习曲线\n",
    "\n",
    "# 给出横纵坐标\n",
    "# 给出子图的大画布\n",
    "\n",
    "from turtle import color\n",
    "\n",
    "\n",
    "def plot_learning_curve(estimator,title, X, y,\n",
    "                        ax, #选择子图\n",
    "                        ylim=None, #设置纵坐标的取值范围\n",
    "                        cv=None, #交叉验证\n",
    "                        n_jobs=None #设定索要使用的线程\n",
    "                        ):\n",
    "    train_sizes, train_scores, test_scores = learning_curve(estimator, X, y,cv=cv,n_jobs=n_jobs)\n",
    "    ax.set_title(title)\n",
    "    \n",
    "    if ylim is not None:\n",
    "        ax.set_ylim(*ylim)\n",
    "    ax.set_xlabel(\"Training examples\")\n",
    "    ax.set_ylabel(\"Score\")\n",
    "    ax.grid() #显示网格作为背景，不是必须\n",
    "    ax.plot(train_sizes, np.mean(train_scores, axis=1), 'o-', color=\"r\",label=\"Training score\")\n",
    "    ax.plot(train_sizes, np.mean(test_scores, axis=1), 'o-', color=\"g\",label=\"Test score\")\n",
    "    ax.legend(loc=\"best\")\n",
    "    return ax"
   ]
  },
  {
   "cell_type": "code",
   "execution_count": 22,
   "metadata": {},
   "outputs": [],
   "source": [
    "# 设置标题\n",
    "title = [\"Naive Bayes\",\"DecisionTree\",\"SVM, RBF kernel\",\"RandomForest\",\"Logistic\"]\n",
    "\n",
    "# 实例化 算法\n",
    "model = [GaussianNB(),DTC(),SVC(gamma=0.001),RFC(n_estimators=50),LR(C=.1,solver=\"lbfgs\")]\n",
    "\n",
    "# 设置交叉验证的模式\n",
    "cv = ShuffleSplit(n_splits=50, test_size=0.2, random_state=0)"
   ]
  },
  {
   "cell_type": "markdown",
   "metadata": {},
   "source": [
    "利用循环绘制多个图形"
   ]
  },
  {
   "cell_type": "code",
   "execution_count": 23,
   "metadata": {},
   "outputs": [
    {
     "name": "stdout",
     "output_type": "stream",
     "text": [
      "Naive Bayes:00:02:366203\n",
      "DecisionTree:00:02:522957\n",
      "SVM, RBF kernel:00:12:845742\n",
      "RandomForest:00:10:916818\n",
      "Logistic:00:05:582823\n"
     ]
    },
    {
     "data": {
      "image/png": "[encoded data removed]",
      "text/plain": [
       "<Figure size 2160x432 with 5 Axes>"
      ]
     },
     "metadata": {
      "needs_background": "light"
     },
     "output_type": "display_data"
    }
   ],
   "source": [
    "fig, axes = plt.subplots(1,5,figsize=(30,6))\n",
    "\n",
    "for ind,title_,estimator in zip(range(len(title)),title,model):\n",
    "    times = time()\n",
    "\n",
    "    # 设置子图和y轴的坐标\n",
    "    \n",
    "    plot_learning_curve(estimator, title_, X, y,ax=axes[ind], ylim = [0.7, 1.05],n_jobs=4, cv=cv)\n",
    "    print(\"{}:{}\".format(title_,datetime.datetime.fromtimestamp(time()-times).strftime(\"%M:%S:%f\")))\n",
    "plt.show()"
   ]
  },
  {
   "cell_type": "markdown",
   "metadata": {},
   "source": [
    "贝叶斯的效果较差，样本量变大时，贝叶斯训练效果较差。当样本量较少时，可以使用贝叶斯训练。朴素贝叶斯利用训练集上的效果下降，来改善测试集的拟合效果\n",
    "\n",
    "- 贝叶斯是速度很快，但分类效果一般，并且初次训练之后的结果就很接近算法极限的算法，几乎没有调参的余地。\n",
    "- 如果我们分类的目标不是要追求对概率的预测，那我们完全可以先试试看高斯朴素贝叶斯的效果"
   ]
  },
  {
   "cell_type": "markdown",
   "metadata": {},
   "source": [
    "## 2.2 概率类模型的评估指标\n",
    "\n",
    "### 2.2.1 布里尔分数Brier Score\n",
    "\n",
    "- 新版布里尔分数只能用二分类 PASS\n",
    "\n",
    "计算为是概率预测相对于测试样本的均方误差，衡量算法预测出的概率和真实结果的差异的一种方式\n",
    "- 布里尔分数的范围是从0到1，分数越高则预测结果越差劲，校准程度越差，因此**布里尔分数越接近0越好**\n",
    "- `brier_score_loss(Ytest, prob[:,1], pos_label=1)`\n",
    "  - 一个参数是真实标签，第二个参数是预测出的概率值\n"
   ]
  },
  {
   "cell_type": "code",
   "execution_count": 24,
   "metadata": {},
   "outputs": [],
   "source": [
    "from sklearn.metrics import brier_score_loss\n"
   ]
  },
  {
   "cell_type": "code",
   "execution_count": 25,
   "metadata": {},
   "outputs": [
    {
     "ename": "ValueError",
     "evalue": "Only binary classification is supported. The type of the target is multiclass.",
     "output_type": "error",
     "traceback": [
      "\u001b[1;31m---------------------------------------------------------------------------\u001b[0m",
      "\u001b[1;31mValueError\u001b[0m                                Traceback (most recent call last)",
      "\u001b[1;32m~\\AppData\\Local\\Temp\\ipykernel_7936\\1909112411.py\u001b[0m in \u001b[0;36m<module>\u001b[1;34m\u001b[0m\n\u001b[0;32m      2\u001b[0m \u001b[1;31m#在二分类情况下，接口predict_proba会返回两列，但SVC的接口decision_function却只会返回一列\u001b[0m\u001b[1;33m\u001b[0m\u001b[1;33m\u001b[0m\u001b[0m\n\u001b[0;32m      3\u001b[0m \u001b[1;31m#要随时注意，使用了怎样的概率分类器，以辨别查找置信度的接口，以及这些接口的结构\u001b[0m\u001b[1;33m\u001b[0m\u001b[1;33m\u001b[0m\u001b[0m\n\u001b[1;32m----> 4\u001b[1;33m \u001b[0mbrier_score_loss\u001b[0m\u001b[1;33m(\u001b[0m\u001b[0mYtest\u001b[0m\u001b[1;33m,\u001b[0m \u001b[0mprob\u001b[0m\u001b[1;33m[\u001b[0m\u001b[1;33m:\u001b[0m\u001b[1;33m,\u001b[0m\u001b[1;36m1\u001b[0m\u001b[1;33m]\u001b[0m\u001b[1;33m,\u001b[0m \u001b[0mpos_label\u001b[0m\u001b[1;33m=\u001b[0m\u001b[1;36m1\u001b[0m\u001b[1;33m)\u001b[0m\u001b[1;33m\u001b[0m\u001b[1;33m\u001b[0m\u001b[0m\n\u001b[0m\u001b[0;32m      5\u001b[0m \u001b[1;31m#我们的pos_label与prob中的索引一致，就可以查看这个类别下的布里尔分数是多少\u001b[0m\u001b[1;33m\u001b[0m\u001b[1;33m\u001b[0m\u001b[0m\n",
      "\u001b[1;32mc:\\Users\\HP\\Python\\Python310\\lib\\site-packages\\sklearn\\metrics\\_classification.py\u001b[0m in \u001b[0;36mbrier_score_loss\u001b[1;34m(y_true, y_prob, sample_weight, pos_label)\u001b[0m\n\u001b[0;32m   2690\u001b[0m     \u001b[0my_type\u001b[0m \u001b[1;33m=\u001b[0m \u001b[0mtype_of_target\u001b[0m\u001b[1;33m(\u001b[0m\u001b[0my_true\u001b[0m\u001b[1;33m,\u001b[0m \u001b[0minput_name\u001b[0m\u001b[1;33m=\u001b[0m\u001b[1;34m\"y_true\"\u001b[0m\u001b[1;33m)\u001b[0m\u001b[1;33m\u001b[0m\u001b[1;33m\u001b[0m\u001b[0m\n\u001b[0;32m   2691\u001b[0m     \u001b[1;32mif\u001b[0m \u001b[0my_type\u001b[0m \u001b[1;33m!=\u001b[0m \u001b[1;34m\"binary\"\u001b[0m\u001b[1;33m:\u001b[0m\u001b[1;33m\u001b[0m\u001b[1;33m\u001b[0m\u001b[0m\n\u001b[1;32m-> 2692\u001b[1;33m         raise ValueError(\n\u001b[0m\u001b[0;32m   2693\u001b[0m             \u001b[1;34m\"Only binary classification is supported. The type of the target \"\u001b[0m\u001b[1;33m\u001b[0m\u001b[1;33m\u001b[0m\u001b[0m\n\u001b[0;32m   2694\u001b[0m             \u001b[1;34mf\"is {y_type}.\"\u001b[0m\u001b[1;33m\u001b[0m\u001b[1;33m\u001b[0m\u001b[0m\n",
      "\u001b[1;31mValueError\u001b[0m: Only binary classification is supported. The type of the target is multiclass."
     ]
    }
   ],
   "source": [
    "#注意，第一个参数是真实标签，第二个参数是预测出的概率值\n",
    "#在二分类情况下，接口predict_proba会返回两列，但SVC的接口decision_function却只会返回一列\n",
    "#要随时注意，使用了怎样的概率分类器，以辨别查找置信度的接口，以及这些接口的结构\n",
    "brier_score_loss(Ytest, prob[:,1], pos_label=1)\n",
    "#我们的pos_label与prob中的索引一致，就可以查看这个类别下的布里尔分数是多少"
   ]
  },
  {
   "cell_type": "code",
   "execution_count": null,
   "metadata": {},
   "outputs": [],
   "source": [
    "from sklearn.svm import SVC\n",
    "from sklearn.linear_model import LogisticRegression as LR"
   ]
  },
  {
   "cell_type": "code",
   "execution_count": null,
   "metadata": {},
   "outputs": [],
   "source": [
    "logi = LR(C=1., solver='lbfgs',max_iter=3000,multi_class=\"auto\").fit(Xtrain,Ytrain)\n",
    "svc = SVC(kernel = \"linear\",gamma=1).fit(Xtrain,Ytrain)"
   ]
  },
  {
   "cell_type": "code",
   "execution_count": null,
   "metadata": {},
   "outputs": [],
   "source": [
    "logi = LR(C=1., solver='lbfgs',max_iter=3000,multi_class=\"auto\").fit(Xtrain,Ytrain)\n",
    "svc = SVC(kernel = \"linear\",gamma=1).fit(Xtrain,Ytrain)"
   ]
  },
  {
   "cell_type": "code",
   "execution_count": null,
   "metadata": {},
   "outputs": [
    {
     "ename": "ValueError",
     "evalue": "Only binary classification is supported. The type of the target is multiclass.",
     "output_type": "error",
     "traceback": [
      "\u001b[1;31m---------------------------------------------------------------------------\u001b[0m",
      "\u001b[1;31mValueError\u001b[0m                                Traceback (most recent call last)",
      "\u001b[1;32m~\\AppData\\Local\\Temp\\ipykernel_21980\\3684914972.py\u001b[0m in \u001b[0;36m<module>\u001b[1;34m\u001b[0m\n\u001b[1;32m----> 1\u001b[1;33m \u001b[0mbrier_score_loss\u001b[0m\u001b[1;33m(\u001b[0m\u001b[0mYtest\u001b[0m\u001b[1;33m,\u001b[0m\u001b[0mlogi\u001b[0m\u001b[1;33m.\u001b[0m\u001b[0mpredict_proba\u001b[0m\u001b[1;33m(\u001b[0m\u001b[0mXtest\u001b[0m\u001b[1;33m)\u001b[0m\u001b[1;33m[\u001b[0m\u001b[1;33m:\u001b[0m\u001b[1;33m,\u001b[0m\u001b[1;36m1\u001b[0m\u001b[1;33m]\u001b[0m\u001b[1;33m,\u001b[0m\u001b[0mpos_label\u001b[0m\u001b[1;33m=\u001b[0m\u001b[1;36m1\u001b[0m\u001b[1;33m)\u001b[0m\u001b[1;33m\u001b[0m\u001b[1;33m\u001b[0m\u001b[0m\n\u001b[0m",
      "\u001b[1;32mc:\\Users\\HP\\Python\\Python310\\lib\\site-packages\\sklearn\\metrics\\_classification.py\u001b[0m in \u001b[0;36mbrier_score_loss\u001b[1;34m(y_true, y_prob, sample_weight, pos_label)\u001b[0m\n\u001b[0;32m   2690\u001b[0m     \u001b[0my_type\u001b[0m \u001b[1;33m=\u001b[0m \u001b[0mtype_of_target\u001b[0m\u001b[1;33m(\u001b[0m\u001b[0my_true\u001b[0m\u001b[1;33m,\u001b[0m \u001b[0minput_name\u001b[0m\u001b[1;33m=\u001b[0m\u001b[1;34m\"y_true\"\u001b[0m\u001b[1;33m)\u001b[0m\u001b[1;33m\u001b[0m\u001b[1;33m\u001b[0m\u001b[0m\n\u001b[0;32m   2691\u001b[0m     \u001b[1;32mif\u001b[0m \u001b[0my_type\u001b[0m \u001b[1;33m!=\u001b[0m \u001b[1;34m\"binary\"\u001b[0m\u001b[1;33m:\u001b[0m\u001b[1;33m\u001b[0m\u001b[1;33m\u001b[0m\u001b[0m\n\u001b[1;32m-> 2692\u001b[1;33m         raise ValueError(\n\u001b[0m\u001b[0;32m   2693\u001b[0m             \u001b[1;34m\"Only binary classification is supported. The type of the target \"\u001b[0m\u001b[1;33m\u001b[0m\u001b[1;33m\u001b[0m\u001b[0m\n\u001b[0;32m   2694\u001b[0m             \u001b[1;34mf\"is {y_type}.\"\u001b[0m\u001b[1;33m\u001b[0m\u001b[1;33m\u001b[0m\u001b[0m\n",
      "\u001b[1;31mValueError\u001b[0m: Only binary classification is supported. The type of the target is multiclass."
     ]
    }
   ],
   "source": [
    "brier_score_loss(Ytest,logi.predict_proba(Xtest)[:,1],pos_label=1)\n"
   ]
  },
  {
   "cell_type": "markdown",
   "metadata": {},
   "source": [
    "### 2.2.2 对数似然函数Log Loss\n",
    "\n",
    "**定义**：对于一个给定的概率分类器，在预测概率为条件的情况下，真实概率发生的可能性的负对数。\n",
    "\n",
    "由于是损失，因此对数似然函数的取值越小，则证明概率估计越准确。值得注意得是，对数损失只能用于评估分类型模型。\n",
    "\n",
    "- 在sklearn中，我们可以从metrics模块中导入我们的对数似然函\n",
    "- `sklearn.metrics.log_loss(Ytest,prob)`"
   ]
  },
  {
   "cell_type": "code",
   "execution_count": null,
   "metadata": {},
   "outputs": [],
   "source": [
    "from sklearn.metrics import log_loss\n"
   ]
  },
  {
   "cell_type": "code",
   "execution_count": null,
   "metadata": {},
   "outputs": [
    {
     "data": {
      "text/plain": [
       "2.4725653911460683"
      ]
     },
     "execution_count": 56,
     "metadata": {},
     "output_type": "execute_result"
    }
   ],
   "source": [
    "log_loss(Ytest,prob)\n"
   ]
  },
  {
   "cell_type": "code",
   "execution_count": null,
   "metadata": {},
   "outputs": [
    {
     "data": {
      "text/plain": [
       "0.127635710646485"
      ]
     },
     "execution_count": 57,
     "metadata": {},
     "output_type": "execute_result"
    }
   ],
   "source": [
    "log_loss(Ytest,logi.predict_proba(Xtest))\n"
   ]
  },
  {
   "cell_type": "code",
   "execution_count": null,
   "metadata": {},
   "outputs": [
    {
     "data": {
      "text/plain": [
       "1.6074987533411256"
      ]
     },
     "execution_count": 58,
     "metadata": {},
     "output_type": "execute_result"
    }
   ],
   "source": [
    "log_loss(Ytest,svc_prob)"
   ]
  },
  {
   "cell_type": "markdown",
   "metadata": {},
   "source": [
    "#### 2.2.3 可靠性曲线Reliability Curve\n",
    "\n",
    "一条以预测概率为横坐标，真实标签为纵坐标的曲线。我们希望预测概率和真实值越接近越好，最好两者相等，因此一个模型/算法的概率校准曲线越靠近对角线越好\n",
    "- 常用于二分类\n",
    "\n",
    "- X,y = make_classification(n_samples=100000,n_features=20 #总共20个特征\n",
    "        ,n_classes=2 #标签为2分类\n",
    "        ,n_informative=2 #其中两个代表较多信息\n",
    "        ,n_redundant=10 #10个都是冗余特征\n",
    "        ,random_state=42)  # 创建数据"
   ]
  },
  {
   "cell_type": "code",
   "execution_count": 2,
   "metadata": {},
   "outputs": [],
   "source": [
    "import numpy as np\n",
    "import matplotlib.pyplot as plt\n",
    "from sklearn.datasets import make_classification as mc\n",
    "from sklearn.naive_bayes import GaussianNB\n",
    "from sklearn.svm import SVC\n",
    "from sklearn.linear_model import LogisticRegression as LR\n",
    "from sklearn.metrics import brier_score_loss\n",
    "from sklearn.model_selection import train_test_split"
   ]
  },
  {
   "cell_type": "code",
   "execution_count": 3,
   "metadata": {},
   "outputs": [
    {
     "data": {
      "text/plain": [
       "array([0, 1])"
      ]
     },
     "execution_count": 3,
     "metadata": {},
     "output_type": "execute_result"
    }
   ],
   "source": [
    "X,y = mc(n_samples=100000,n_features=20 #总共20个特征\n",
    "        ,n_classes=2 #标签为2分类\n",
    "        ,n_informative=2 #其中两个代表较多信息\n",
    "        ,n_redundant=10 #10个都是冗余特征\n",
    "        ,random_state=42)\n",
    "\n",
    "np.unique(y)        "
   ]
  },
  {
   "cell_type": "code",
   "execution_count": 4,
   "metadata": {},
   "outputs": [],
   "source": [
    "#样本量足够大，因此使用1%的样本作为训练集\n",
    "Xtrain, Xtest, Ytrain, Ytest = train_test_split(X, y,test_size=0.99,random_state=42)"
   ]
  },
  {
   "cell_type": "code",
   "execution_count": 20,
   "metadata": {},
   "outputs": [
    {
     "data": {
      "text/plain": [
       "array([0.99999968, 0.99999636, 1.        , ..., 0.059922  , 0.9999936 ,\n",
       "       0.6628293 ])"
      ]
     },
     "execution_count": 20,
     "metadata": {},
     "output_type": "execute_result"
    }
   ],
   "source": [
    "#————————————————————————————训练模型————————————————————————————\n",
    "gnb = GaussianNB()\n",
    "gnb.fit(Xtrain,Ytrain)\n",
    "y_pred = gnb.predict(Xtest)\n",
    "prob_pos = gnb.predict_proba(Xtest)[:,1] \n",
    "prob_pos\n"
   ]
  },
  {
   "cell_type": "code",
   "execution_count": 37,
   "metadata": {},
   "outputs": [],
   "source": [
    "\n",
    "clf_score = gnb.score(Xtest,Ytest)"
   ]
  },
  {
   "cell_type": "code",
   "execution_count": 21,
   "metadata": {},
   "outputs": [],
   "source": [
    "import pandas as pd\n"
   ]
  },
  {
   "cell_type": "code",
   "execution_count": 22,
   "metadata": {},
   "outputs": [
    {
     "data": {
      "text/html": [
       "<div>\n",
       "<style scoped>\n",
       "    .dataframe tbody tr th:only-of-type {\n",
       "        vertical-align: middle;\n",
       "    }\n",
       "\n",
       "    .dataframe tbody tr th {\n",
       "        vertical-align: top;\n",
       "    }\n",
       "\n",
       "    .dataframe thead th {\n",
       "        text-align: right;\n",
       "    }\n",
       "</style>\n",
       "<table border=\"1\" class=\"dataframe\">\n",
       "  <thead>\n",
       "    <tr style=\"text-align: right;\">\n",
       "      <th></th>\n",
       "      <th>ytrue</th>\n",
       "      <th>probability</th>\n",
       "    </tr>\n",
       "  </thead>\n",
       "  <tbody>\n",
       "    <tr>\n",
       "      <th>0</th>\n",
       "      <td>1</td>\n",
       "      <td>9.999997e-01</td>\n",
       "    </tr>\n",
       "    <tr>\n",
       "      <th>1</th>\n",
       "      <td>0</td>\n",
       "      <td>9.999964e-01</td>\n",
       "    </tr>\n",
       "    <tr>\n",
       "      <th>2</th>\n",
       "      <td>1</td>\n",
       "      <td>1.000000e+00</td>\n",
       "    </tr>\n",
       "    <tr>\n",
       "      <th>3</th>\n",
       "      <td>1</td>\n",
       "      <td>9.886612e-01</td>\n",
       "    </tr>\n",
       "    <tr>\n",
       "      <th>4</th>\n",
       "      <td>0</td>\n",
       "      <td>8.441773e-18</td>\n",
       "    </tr>\n",
       "    <tr>\n",
       "      <th>...</th>\n",
       "      <td>...</td>\n",
       "      <td>...</td>\n",
       "    </tr>\n",
       "    <tr>\n",
       "      <th>495</th>\n",
       "      <td>0</td>\n",
       "      <td>9.224911e-04</td>\n",
       "    </tr>\n",
       "    <tr>\n",
       "      <th>496</th>\n",
       "      <td>1</td>\n",
       "      <td>9.931903e-01</td>\n",
       "    </tr>\n",
       "    <tr>\n",
       "      <th>497</th>\n",
       "      <td>0</td>\n",
       "      <td>5.670253e-06</td>\n",
       "    </tr>\n",
       "    <tr>\n",
       "      <th>498</th>\n",
       "      <td>0</td>\n",
       "      <td>8.248345e-08</td>\n",
       "    </tr>\n",
       "    <tr>\n",
       "      <th>499</th>\n",
       "      <td>0</td>\n",
       "      <td>4.655974e-16</td>\n",
       "    </tr>\n",
       "  </tbody>\n",
       "</table>\n",
       "<p>500 rows × 2 columns</p>\n",
       "</div>"
      ],
      "text/plain": [
       "     ytrue   probability\n",
       "0        1  9.999997e-01\n",
       "1        0  9.999964e-01\n",
       "2        1  1.000000e+00\n",
       "3        1  9.886612e-01\n",
       "4        0  8.441773e-18\n",
       "..     ...           ...\n",
       "495      0  9.224911e-04\n",
       "496      1  9.931903e-01\n",
       "497      0  5.670253e-06\n",
       "498      0  8.248345e-08\n",
       "499      0  4.655974e-16\n",
       "\n",
       "[500 rows x 2 columns]"
      ]
     },
     "execution_count": 22,
     "metadata": {},
     "output_type": "execute_result"
    }
   ],
   "source": [
    "df = pd.DataFrame({\"ytrue\":Ytest[:500],\"probability\":prob_pos[:500]})\n",
    "df\n",
    "\n",
    "# 利用字典建立df"
   ]
  },
  {
   "cell_type": "code",
   "execution_count": 23,
   "metadata": {},
   "outputs": [
    {
     "data": {
      "text/html": [
       "<div>\n",
       "<style scoped>\n",
       "    .dataframe tbody tr th:only-of-type {\n",
       "        vertical-align: middle;\n",
       "    }\n",
       "\n",
       "    .dataframe tbody tr th {\n",
       "        vertical-align: top;\n",
       "    }\n",
       "\n",
       "    .dataframe thead th {\n",
       "        text-align: right;\n",
       "    }\n",
       "</style>\n",
       "<table border=\"1\" class=\"dataframe\">\n",
       "  <thead>\n",
       "    <tr style=\"text-align: right;\">\n",
       "      <th></th>\n",
       "      <th>ytrue</th>\n",
       "      <th>probability</th>\n",
       "    </tr>\n",
       "  </thead>\n",
       "  <tbody>\n",
       "    <tr>\n",
       "      <th>0</th>\n",
       "      <td>0</td>\n",
       "      <td>1.824809e-21</td>\n",
       "    </tr>\n",
       "    <tr>\n",
       "      <th>1</th>\n",
       "      <td>0</td>\n",
       "      <td>6.610435e-21</td>\n",
       "    </tr>\n",
       "    <tr>\n",
       "      <th>2</th>\n",
       "      <td>0</td>\n",
       "      <td>4.171566e-19</td>\n",
       "    </tr>\n",
       "    <tr>\n",
       "      <th>3</th>\n",
       "      <td>0</td>\n",
       "      <td>8.441773e-18</td>\n",
       "    </tr>\n",
       "    <tr>\n",
       "      <th>4</th>\n",
       "      <td>0</td>\n",
       "      <td>1.463199e-17</td>\n",
       "    </tr>\n",
       "    <tr>\n",
       "      <th>...</th>\n",
       "      <td>...</td>\n",
       "      <td>...</td>\n",
       "    </tr>\n",
       "    <tr>\n",
       "      <th>495</th>\n",
       "      <td>1</td>\n",
       "      <td>1.000000e+00</td>\n",
       "    </tr>\n",
       "    <tr>\n",
       "      <th>496</th>\n",
       "      <td>1</td>\n",
       "      <td>1.000000e+00</td>\n",
       "    </tr>\n",
       "    <tr>\n",
       "      <th>497</th>\n",
       "      <td>1</td>\n",
       "      <td>1.000000e+00</td>\n",
       "    </tr>\n",
       "    <tr>\n",
       "      <th>498</th>\n",
       "      <td>1</td>\n",
       "      <td>1.000000e+00</td>\n",
       "    </tr>\n",
       "    <tr>\n",
       "      <th>499</th>\n",
       "      <td>1</td>\n",
       "      <td>1.000000e+00</td>\n",
       "    </tr>\n",
       "  </tbody>\n",
       "</table>\n",
       "<p>500 rows × 2 columns</p>\n",
       "</div>"
      ],
      "text/plain": [
       "     ytrue   probability\n",
       "0        0  1.824809e-21\n",
       "1        0  6.610435e-21\n",
       "2        0  4.171566e-19\n",
       "3        0  8.441773e-18\n",
       "4        0  1.463199e-17\n",
       "..     ...           ...\n",
       "495      1  1.000000e+00\n",
       "496      1  1.000000e+00\n",
       "497      1  1.000000e+00\n",
       "498      1  1.000000e+00\n",
       "499      1  1.000000e+00\n",
       "\n",
       "[500 rows x 2 columns]"
      ]
     },
     "execution_count": 23,
     "metadata": {},
     "output_type": "execute_result"
    }
   ],
   "source": [
    "df = df.sort_values(by=\"probability\")\n",
    "df.index = range(df.shape[0])\n",
    "df"
   ]
  },
  {
   "cell_type": "code",
   "execution_count": 38,
   "metadata": {},
   "outputs": [
    {
     "data": {
      "image/png": "[encoded data removed]",
      "text/plain": [
       "<Figure size 432x288 with 1 Axes>"
      ]
     },
     "metadata": {
      "needs_background": "light"
     },
     "output_type": "display_data"
    }
   ],
   "source": [
    "#紧接着我们就可以画图了\n",
    "\n",
    "\n",
    "fig = plt.figure()\n",
    "ax1 = plt.subplot()\n",
    "ax1.plot([0, 1], [0, 1], \"k:\", label=\"Perfectly calibrated\") #得做一条对角线来对比呀\n",
    "ax1.plot(df[\"probability\"],df[\"ytrue\"],\".-\",label=\"%s (%1.3f)\" % (\"Bayes\", clf_score))\n",
    "ax1.set_ylabel(\"True label\")\n",
    "ax1.set_xlabel(\"predcited probability\")\n",
    "ax1.set_ylim([-0.05, 1.05])\n",
    "ax1.legend()\n",
    "plt.show()"
   ]
  },
  {
   "cell_type": "code",
   "execution_count": 39,
   "metadata": {},
   "outputs": [
    {
     "data": {
      "image/png": "[encoded data removed]",
      "text/plain": [
       "<Figure size 432x288 with 1 Axes>"
      ]
     },
     "metadata": {
      "needs_background": "light"
     },
     "output_type": "display_data"
    }
   ],
   "source": [
    "fig = plt.figure()\n",
    "ax1 = plt.subplot()\n",
    "ax1.plot([0, 1], [0, 1], \"k:\", label=\"Perfectly calibrated\")\n",
    "ax1.scatter(df[\"probability\"],df[\"ytrue\"],s=10)\n",
    "ax1.set_ylabel(\"True label\")\n",
    "ax1.set_xlabel(\"predcited probability\")\n",
    "ax1.set_ylim([-0.05, 1.05])\n",
    "ax1.legend()\n",
    "plt.show()"
   ]
  },
  {
   "cell_type": "markdown",
   "metadata": {},
   "source": [
    "将数据进行分箱，然后规定每个箱子中真实的少数类所占的比例为这个箱上的真实概率trueproba，这个箱子中预测概率的均值为这个箱子的预测概率predproba，然后以trueproba为纵坐标，predproba为横坐标，来绘制我们的可靠性曲线。\n",
    "\n",
    "- calibration_curve 可靠性曲线\n",
    "\n",
    "\n",
    "参数 |含义|\n",
    "|---|---|\n",
    "y_true |真实标签\n",
    "y_prob| 预测返回的，正类别下的概率值或置信度\n",
    "normalize |布尔值，默认False/是否将y_prob中输入的内容归一化到[0,1]之间，\n",
    "n_bins | 整数值，表示分箱的个数。如果箱数很大，则需要更多的数据。\n",
    "**返回** |**含义**\n",
    "trueproba |可靠性曲线的纵坐标，结构为(n_bins, )，是每个箱子中少数类(Y=1)的占比\n",
    "predproba |可靠性曲线的横坐标，结构为(n_bins, )，是每个箱子中概率的均值"
   ]
  },
  {
   "cell_type": "code",
   "execution_count": 26,
   "metadata": {},
   "outputs": [],
   "source": [
    "from sklearn.calibration import calibration_curve\n"
   ]
  },
  {
   "cell_type": "code",
   "execution_count": 27,
   "metadata": {},
   "outputs": [
    {
     "name": "stdout",
     "output_type": "stream",
     "text": [
      "2.9007697470311572e-36 1.0\n"
     ]
    }
   ],
   "source": [
    "prob_pos\n",
    "print(prob_pos.min(),prob_pos.max())"
   ]
  },
  {
   "cell_type": "code",
   "execution_count": 29,
   "metadata": {},
   "outputs": [],
   "source": [
    "\n",
    "#从类calibiration_curve中获取横坐标和纵坐标\n",
    "trueproba, predproba = calibration_curve(Ytest, prob_pos\n",
    "                                         ,n_bins=10 \n",
    "                                       )#输入希望分箱的个数\n"
   ]
  },
  {
   "cell_type": "code",
   "execution_count": 40,
   "metadata": {},
   "outputs": [
    {
     "data": {
      "image/png": "[encoded data removed]",
      "text/plain": [
       "<Figure size 432x288 with 1 Axes>"
      ]
     },
     "metadata": {
      "needs_background": "light"
     },
     "output_type": "display_data"
    }
   ],
   "source": [
    "\n",
    "fig = plt.figure()\n",
    "ax1 = plt.subplot()\n",
    "ax1.plot([0, 1], [0, 1], \"k:\", label=\"Perfectly calibrated\")\n",
    "ax1.plot(predproba, trueproba,\"s-\",label=\"%s (%1.3f)\" % (\"Bayes\", clf_score))\n",
    "ax1.set_ylabel(\"True probability for class 1\")\n",
    "ax1.set_xlabel(\"Mean predcited probability\")\n",
    "ax1.set_ylim([-0.05, 1.05])\n",
    "ax1.legend()\n",
    "plt.show()"
   ]
  },
  {
   "cell_type": "markdown",
   "metadata": {},
   "source": [
    "#### 2.2.4 预测概率的直方图\n",
    "\n",
    "直方图是以样本的预测概率分箱后的结果为横坐标，每个箱中的样本数量为纵坐标的一个图像\n",
    "\n",
    "略"
   ]
  },
  {
   "cell_type": "markdown",
   "metadata": {},
   "source": [
    "### 2.3 多项式朴素贝叶斯以及其变化\n",
    "#### 2.3.1 多项式朴素贝叶斯MultinomialNB\n",
    "\n",
    "sklearn中的多项式朴素贝叶斯不接受负值的输入\n",
    "\n",
    "*class `sklearn.naive_bayes.MultinomialNB` (alpha=1.0, fit_prior=True, class_prior=None)*\n",
    "\n",
    "- `alpha` : 浮点数, 可不填 (默认为1.0)\n",
    " \n",
    "    拉普拉斯或利德斯通平滑的参数 ，如果设置为0则表示完全没有平滑选项。但是需要注意的是，平滑相当于人为给概率加上一些噪音，因此设置得越大，多项式朴素贝叶斯的精确性会越低（虽然影响不是非常大），布里尔分数也会逐渐升高。\n",
    "- `fit_prior` : 布尔值, 可不填 (默认为True)\n",
    "\n",
    "    是否学习先验概率 。如果设置为false，则不使用先验概率，而使用统一先验概率，即认为每个标签类出现的概率是1/n\n",
    "\n",
    "- `class_prior`：形似数组的结构，结构为(n_classes, )，可不填（默认为None）\n",
    "  \n",
    "    类的先验概率 。如果没有给出具体的先验概率则自动根据数据来进行计算\n",
    "\n",
    "**建模过程**\n",
    "1. MultinomialNB().fit(Xtrain_,Ytrain)\n",
    " \n",
    "\n",
    "**重要属性**\n",
    "- `class_log_prior_` 查看类的先验概率（取了对数）\n",
    "- `feature_log_prob_`  返回每个一个固定标签下每个特则的对数概率\n",
    "- `class_count_` 返回在fit时每个标签类别下包含的样本数\n",
    "- 传统的接口\n",
    "  - .predict()\n",
    "  - .predict_proba()\n",
    "  - .score(X,y)\n",
    "\n",
    "\n",
    "\n",
    "- 归一化 MinMaxScaler().fit_fransform(Xtrain)\n",
    "- 布里尔分数 brier_score_loss(Ytest,mnb.predict_proba(Xtest_)[:,1],pos_label=1)\n",
    "  - 仅仅适用于二分类\n",
    "  - 越接近0越好\n",
    "- 分箱 KBinsDiscretizer(n_bins=10,encode='onehot').fit_transform(data)"
   ]
  },
  {
   "cell_type": "markdown",
   "metadata": {},
   "source": [
    "1. 导入库和模块"
   ]
  },
  {
   "cell_type": "code",
   "execution_count": 30,
   "metadata": {},
   "outputs": [],
   "source": [
    "from sklearn.preprocessing import MinMaxScaler\n",
    "from sklearn.naive_bayes import MultinomialNB\n",
    "from sklearn.model_selection import train_test_split\n",
    "from sklearn.datasets import make_blobs\n",
    "from sklearn.metrics import brier_score_loss\n",
    "import numpy as np"
   ]
  },
  {
   "cell_type": "markdown",
   "metadata": {},
   "source": [
    "2. 建立数据集"
   ]
  },
  {
   "cell_type": "code",
   "execution_count": 31,
   "metadata": {},
   "outputs": [
    {
     "data": {
      "text/plain": [
       "array([0, 1])"
      ]
     },
     "execution_count": 31,
     "metadata": {},
     "output_type": "execute_result"
    }
   ],
   "source": [
    "class_1 = 500\n",
    "class_2 = 500 #两个类别分别设定500个样本\n",
    "centers = [[0.0, 0.0], [2.0, 2.0]] #设定两个类别的中心\n",
    "clusters_std = [0.5, 0.5] #设定两个类别的方差\n",
    "X, y = make_blobs(n_samples=[class_1, class_2],\n",
    "                    centers=centers,\n",
    "                    cluster_std=clusters_std,\n",
    "                    random_state=0, shuffle=False)\n",
    "Xtrain, Xtest, Ytrain, Ytest = train_test_split(X,y,test_size=0.3,random_state=420)\n",
    "\n",
    "np.unique(y)"
   ]
  },
  {
   "cell_type": "markdown",
   "metadata": {},
   "source": [
    "3. 归一化"
   ]
  },
  {
   "cell_type": "code",
   "execution_count": 32,
   "metadata": {},
   "outputs": [],
   "source": [
    "mms = MinMaxScaler().fit(Xtrain)\n",
    "Xtrain_ = mms.transform(Xtrain)\n",
    "Xtest_ = mms.transform(Xtest)"
   ]
  },
  {
   "cell_type": "markdown",
   "metadata": {},
   "source": [
    "4. 建立多项式朴素贝叶斯分类器"
   ]
  },
  {
   "cell_type": "code",
   "execution_count": 34,
   "metadata": {},
   "outputs": [
    {
     "data": {
      "text/plain": [
       "array([-0.69029411, -0.69600841])"
      ]
     },
     "execution_count": 34,
     "metadata": {},
     "output_type": "execute_result"
    }
   ],
   "source": [
    "mnb = MultinomialNB().fit(Xtrain_,Ytrain)  # 每个标签类的先验概率\n",
    "mnb.class_log_prior_"
   ]
  },
  {
   "cell_type": "code",
   "execution_count": 35,
   "metadata": {},
   "outputs": [
    {
     "data": {
      "text/plain": [
       "array([0, 1])"
      ]
     },
     "execution_count": 35,
     "metadata": {},
     "output_type": "execute_result"
    }
   ],
   "source": [
    "np.unique(Ytrain)"
   ]
  },
  {
   "cell_type": "code",
   "execution_count": 36,
   "metadata": {},
   "outputs": [
    {
     "data": {
      "text/plain": [
       "0.49857142857142855"
      ]
     },
     "execution_count": 36,
     "metadata": {},
     "output_type": "execute_result"
    }
   ],
   "source": [
    "# 没有样本不均衡的问题 一共两类 每一类占比50&\n",
    "(Ytrain == 1).sum()/Ytrain.shape[0]"
   ]
  },
  {
   "cell_type": "code",
   "execution_count": 37,
   "metadata": {},
   "outputs": [
    {
     "data": {
      "text/plain": [
       "(2,)"
      ]
     },
     "execution_count": 37,
     "metadata": {},
     "output_type": "execute_result"
    }
   ],
   "source": [
    "mnb.class_log_prior_.shape  # 查看先验概率  永远等于标签中所带的类别数量\n"
   ]
  },
  {
   "cell_type": "code",
   "execution_count": 39,
   "metadata": {},
   "outputs": [
    {
     "data": {
      "text/plain": [
       "array([0.50142857, 0.49857143])"
      ]
     },
     "execution_count": 39,
     "metadata": {},
     "output_type": "execute_result"
    }
   ],
   "source": [
    "np.exp(mnb.class_log_prior_)  # 查看真正的概率值 之前取了log\n"
   ]
  },
  {
   "cell_type": "code",
   "execution_count": 40,
   "metadata": {},
   "outputs": [
    {
     "data": {
      "text/plain": [
       "array([[-0.76164788, -0.62903951],\n",
       "       [-0.72500918, -0.6622691 ]])"
      ]
     },
     "execution_count": 40,
     "metadata": {},
     "output_type": "execute_result"
    }
   ],
   "source": [
    "# 重要属性： 返回每一个固定标签下每个特征的对数概率\n",
    "mnb.feature_log_prob_   # 一共2个特征 2个标签"
   ]
  },
  {
   "cell_type": "code",
   "execution_count": 41,
   "metadata": {},
   "outputs": [
    {
     "data": {
      "text/plain": [
       "array([351., 349.])"
      ]
     },
     "execution_count": 41,
     "metadata": {},
     "output_type": "execute_result"
    }
   ],
   "source": [
    "# 重要属性 在fit时每个标签类别下包含的样本数。当fit接口中的sample_weight被设置时，该接口返回的值也会受到加权的影响\n",
    "mnb.class_count_"
   ]
  },
  {
   "cell_type": "code",
   "execution_count": 42,
   "metadata": {},
   "outputs": [
    {
     "data": {
      "text/plain": [
       "array([1, 0, 0, 0, 0, 0, 0, 0, 0, 0, 0, 0, 1, 0, 0, 1, 0, 0, 1, 0, 0, 0,\n",
       "       1, 0, 0, 0, 0, 0, 0, 1, 0, 0, 0, 0, 0, 0, 0, 0, 0, 0, 0, 0, 0, 1,\n",
       "       0, 0, 1, 0, 0, 0, 0, 1, 1, 0, 0, 0, 0, 1, 0, 0, 1, 0, 0, 0, 1, 1,\n",
       "       0, 0, 0, 0, 0, 1, 0, 0, 0, 0, 0, 0, 0, 0, 0, 0, 0, 0, 0, 0, 0, 1,\n",
       "       0, 0, 0, 0, 0, 0, 0, 0, 0, 0, 0, 1, 0, 1, 0, 0, 0, 0, 0, 0, 0, 0,\n",
       "       0, 0, 0, 0, 0, 0, 0, 0, 0, 0, 0, 0, 0, 0, 0, 0, 0, 0, 0, 0, 0, 0,\n",
       "       0, 0, 0, 0, 0, 0, 0, 0, 0, 0, 0, 0, 0, 0, 0, 1, 0, 0, 0, 0, 0, 0,\n",
       "       0, 0, 0, 0, 0, 0, 0, 0, 0, 0, 0, 0, 0, 0, 0, 0, 0, 0, 1, 0, 0, 0,\n",
       "       0, 0, 0, 0, 0, 0, 0, 0, 0, 0, 0, 0, 0, 0, 0, 1, 1, 0, 0, 1, 0, 0,\n",
       "       0, 0, 0, 0, 0, 0, 0, 0, 0, 0, 0, 0, 0, 0, 0, 0, 0, 0, 0, 0, 0, 0,\n",
       "       0, 0, 0, 0, 0, 0, 0, 0, 0, 0, 0, 0, 0, 0, 0, 0, 0, 0, 1, 0, 0, 0,\n",
       "       0, 0, 0, 0, 0, 1, 0, 0, 0, 0, 0, 0, 0, 0, 0, 1, 0, 0, 1, 0, 1, 0,\n",
       "       1, 0, 0, 0, 0, 0, 0, 0, 0, 0, 0, 0, 0, 0, 0, 0, 0, 0, 0, 0, 0, 0,\n",
       "       0, 0, 0, 1, 0, 0, 0, 0, 0, 0, 0, 0, 0, 0])"
      ]
     },
     "execution_count": 42,
     "metadata": {},
     "output_type": "execute_result"
    }
   ],
   "source": [
    "#一些传统的接口\n",
    "mnb.predict(Xtest_)\n"
   ]
  },
  {
   "cell_type": "code",
   "execution_count": 44,
   "metadata": {},
   "outputs": [
    {
     "data": {
      "text/plain": [
       "array([[0.49847128, 0.50152872],\n",
       "       [0.50065987, 0.49934013],\n",
       "       [0.50122363, 0.49877637],\n",
       "       [0.50183745, 0.49816255],\n",
       "       [0.50146433, 0.49853567],\n",
       "       [0.50153147, 0.49846853],\n",
       "       [0.50204549, 0.49795451],\n",
       "       [0.50033124, 0.49966876],\n",
       "       [0.50105254, 0.49894746],\n",
       "       [0.50182815, 0.49817185],\n",
       "       [0.50270707, 0.49729293],\n",
       "       [0.50133396, 0.49866604],\n",
       "       [0.49820896, 0.50179104],\n",
       "       [0.50342829, 0.49657171],\n",
       "       [0.50099022, 0.49900978],\n",
       "       [0.49974388, 0.50025612],\n",
       "       [0.50423879, 0.49576121],\n",
       "       [0.50449207, 0.49550793],\n",
       "       [0.49818224, 0.50181776],\n",
       "       [0.50245485, 0.49754515],\n",
       "       [0.50393627, 0.49606373],\n",
       "       [0.50193571, 0.49806429],\n",
       "       [0.49996152, 0.50003848],\n",
       "       [0.50460038, 0.49539962],\n",
       "       [0.50261175, 0.49738825],\n",
       "       [0.50140163, 0.49859837],\n",
       "       [0.50332522, 0.49667478],\n",
       "       [0.50122253, 0.49877747],\n",
       "       [0.50409939, 0.49590061],\n",
       "       [0.49998717, 0.50001283],\n",
       "       [0.50179417, 0.49820583],\n",
       "       [0.5000057 , 0.4999943 ],\n",
       "       [0.50190643, 0.49809357],\n",
       "       [0.50022071, 0.49977929],\n",
       "       [0.50097776, 0.49902224],\n",
       "       [0.50305244, 0.49694756],\n",
       "       [0.50109969, 0.49890031],\n",
       "       [0.50159754, 0.49840246],\n",
       "       [0.50166181, 0.49833819],\n",
       "       [0.5013594 , 0.4986406 ],\n",
       "       [0.50138322, 0.49861678],\n",
       "       [0.50174823, 0.49825177],\n",
       "       [0.50346533, 0.49653467],\n",
       "       [0.49918461, 0.50081539],\n",
       "       [0.50097953, 0.49902047],\n",
       "       [0.50178893, 0.49821107],\n",
       "       [0.49990491, 0.50009509],\n",
       "       [0.50202801, 0.49797199],\n",
       "       [0.50176739, 0.49823261],\n",
       "       [0.50254336, 0.49745664],\n",
       "       [0.50116963, 0.49883037],\n",
       "       [0.49920141, 0.50079859],\n",
       "       [0.49944211, 0.50055789],\n",
       "       [0.50031645, 0.49968355],\n",
       "       [0.50153599, 0.49846401],\n",
       "       [0.50352461, 0.49647539],\n",
       "       [0.50049178, 0.49950822],\n",
       "       [0.49983178, 0.50016822],\n",
       "       [0.50289574, 0.49710426],\n",
       "       [0.50193747, 0.49806253],\n",
       "       [0.49961192, 0.50038808],\n",
       "       [0.50198825, 0.49801175],\n",
       "       [0.50289658, 0.49710342],\n",
       "       [0.50218643, 0.49781357],\n",
       "       [0.49888163, 0.50111837],\n",
       "       [0.49920224, 0.50079776],\n",
       "       [0.50151585, 0.49848415],\n",
       "       [0.50230998, 0.49769002],\n",
       "       [0.50400072, 0.49599928],\n",
       "       [0.50138781, 0.49861219],\n",
       "       [0.50001327, 0.49998673],\n",
       "       [0.49982061, 0.50017939],\n",
       "       [0.50133343, 0.49866657],\n",
       "       [0.503153  , 0.496847  ],\n",
       "       [0.50180689, 0.49819311],\n",
       "       [0.50141445, 0.49858555],\n",
       "       [0.50248588, 0.49751412],\n",
       "       [0.50308391, 0.49691609],\n",
       "       [0.50024574, 0.49975426],\n",
       "       [0.50173534, 0.49826466],\n",
       "       [0.50018764, 0.49981236],\n",
       "       [0.50171743, 0.49828257],\n",
       "       [0.501695  , 0.498305  ],\n",
       "       [0.50357487, 0.49642513],\n",
       "       [0.50245246, 0.49754754],\n",
       "       [0.50233437, 0.49766563],\n",
       "       [0.50190721, 0.49809279],\n",
       "       [0.49839991, 0.50160009],\n",
       "       [0.50221084, 0.49778916],\n",
       "       [0.5012638 , 0.4987362 ],\n",
       "       [0.50199765, 0.49800235],\n",
       "       [0.50100067, 0.49899933],\n",
       "       [0.50122519, 0.49877481],\n",
       "       [0.50358523, 0.49641477],\n",
       "       [0.50353492, 0.49646508],\n",
       "       [0.50060048, 0.49939952],\n",
       "       [0.50261115, 0.49738885],\n",
       "       [0.50170128, 0.49829872],\n",
       "       [0.50084485, 0.49915515],\n",
       "       [0.49977894, 0.50022106],\n",
       "       [0.50134207, 0.49865793],\n",
       "       [0.49967049, 0.50032951],\n",
       "       [0.50394134, 0.49605866],\n",
       "       [0.50143828, 0.49856172],\n",
       "       [0.50356078, 0.49643922],\n",
       "       [0.50332876, 0.49667124],\n",
       "       [0.50095206, 0.49904794],\n",
       "       [0.50220001, 0.49779999],\n",
       "       [0.50256184, 0.49743816],\n",
       "       [0.50166902, 0.49833098],\n",
       "       [0.50254134, 0.49745866],\n",
       "       [0.5004789 , 0.4995211 ],\n",
       "       [0.50302788, 0.49697212],\n",
       "       [0.50052704, 0.49947296],\n",
       "       [0.50219724, 0.49780276],\n",
       "       [0.50026189, 0.49973811],\n",
       "       [0.50095584, 0.49904416],\n",
       "       [0.50206864, 0.49793136],\n",
       "       [0.50010878, 0.49989122],\n",
       "       [0.50109718, 0.49890282],\n",
       "       [0.50162885, 0.49837115],\n",
       "       [0.50020595, 0.49979405],\n",
       "       [0.50067955, 0.49932045],\n",
       "       [0.50280886, 0.49719114],\n",
       "       [0.50237353, 0.49762647],\n",
       "       [0.50222485, 0.49777515],\n",
       "       [0.5001119 , 0.4998881 ],\n",
       "       [0.50112275, 0.49887725],\n",
       "       [0.50362029, 0.49637971],\n",
       "       [0.50054287, 0.49945713],\n",
       "       [0.50070066, 0.49929934],\n",
       "       [0.50174149, 0.49825851],\n",
       "       [0.50190098, 0.49809902],\n",
       "       [0.5007135 , 0.4992865 ],\n",
       "       [0.50207309, 0.49792691],\n",
       "       [0.50270744, 0.49729256],\n",
       "       [0.50050176, 0.49949824],\n",
       "       [0.50142338, 0.49857662],\n",
       "       [0.50099023, 0.49900977],\n",
       "       [0.50084396, 0.49915604],\n",
       "       [0.50368091, 0.49631909],\n",
       "       [0.50272862, 0.49727138],\n",
       "       [0.50132287, 0.49867713],\n",
       "       [0.50401085, 0.49598915],\n",
       "       [0.50227543, 0.49772457],\n",
       "       [0.50117773, 0.49882227],\n",
       "       [0.50165111, 0.49834889],\n",
       "       [0.49957088, 0.50042912],\n",
       "       [0.50317179, 0.49682821],\n",
       "       [0.50098188, 0.49901812],\n",
       "       [0.5023283 , 0.4976717 ],\n",
       "       [0.50104249, 0.49895751],\n",
       "       [0.50104179, 0.49895821],\n",
       "       [0.501309  , 0.498691  ],\n",
       "       [0.50216322, 0.49783678],\n",
       "       [0.50110205, 0.49889795],\n",
       "       [0.50257045, 0.49742955],\n",
       "       [0.5013388 , 0.4986612 ],\n",
       "       [0.50053838, 0.49946162],\n",
       "       [0.50120029, 0.49879971],\n",
       "       [0.50127632, 0.49872368],\n",
       "       [0.50183619, 0.49816381],\n",
       "       [0.50009396, 0.49990604],\n",
       "       [0.50128105, 0.49871895],\n",
       "       [0.50158456, 0.49841544],\n",
       "       [0.50190347, 0.49809653],\n",
       "       [0.50228193, 0.49771807],\n",
       "       [0.50242186, 0.49757814],\n",
       "       [0.50201385, 0.49798615],\n",
       "       [0.50201075, 0.49798925],\n",
       "       [0.5007775 , 0.4992225 ],\n",
       "       [0.50240731, 0.49759269],\n",
       "       [0.49865226, 0.50134774],\n",
       "       [0.50451121, 0.49548879],\n",
       "       [0.50254794, 0.49745206],\n",
       "       [0.5039106 , 0.4960894 ],\n",
       "       [0.50200714, 0.49799286],\n",
       "       [0.50227154, 0.49772846],\n",
       "       [0.50115683, 0.49884317],\n",
       "       [0.50254911, 0.49745089],\n",
       "       [0.50062667, 0.49937333],\n",
       "       [0.50324846, 0.49675154],\n",
       "       [0.50165038, 0.49834962],\n",
       "       [0.50200129, 0.49799871],\n",
       "       [0.50034533, 0.49965467],\n",
       "       [0.50051902, 0.49948098],\n",
       "       [0.50029115, 0.49970885],\n",
       "       [0.50209651, 0.49790349],\n",
       "       [0.50240236, 0.49759764],\n",
       "       [0.50092696, 0.49907304],\n",
       "       [0.50250997, 0.49749003],\n",
       "       [0.4985069 , 0.5014931 ],\n",
       "       [0.4994373 , 0.5005627 ],\n",
       "       [0.5024844 , 0.4975156 ],\n",
       "       [0.50120384, 0.49879616],\n",
       "       [0.49970062, 0.50029938],\n",
       "       [0.50154039, 0.49845961],\n",
       "       [0.50257601, 0.49742399],\n",
       "       [0.5015003 , 0.4984997 ],\n",
       "       [0.50034533, 0.49965467],\n",
       "       [0.5020367 , 0.4979633 ],\n",
       "       [0.5022038 , 0.4977962 ],\n",
       "       [0.50057621, 0.49942379],\n",
       "       [0.50128065, 0.49871935],\n",
       "       [0.50042842, 0.49957158],\n",
       "       [0.50330239, 0.49669761],\n",
       "       [0.50128544, 0.49871456],\n",
       "       [0.50196417, 0.49803583],\n",
       "       [0.50194098, 0.49805902],\n",
       "       [0.50115364, 0.49884636],\n",
       "       [0.50299407, 0.49700593],\n",
       "       [0.50130317, 0.49869683],\n",
       "       [0.50375311, 0.49624689],\n",
       "       [0.50121088, 0.49878912],\n",
       "       [0.50232441, 0.49767559],\n",
       "       [0.50272548, 0.49727452],\n",
       "       [0.50001357, 0.49998643],\n",
       "       [0.50093936, 0.49906064],\n",
       "       [0.50208529, 0.49791471],\n",
       "       [0.50137482, 0.49862518],\n",
       "       [0.50080493, 0.49919507],\n",
       "       [0.50332574, 0.49667426],\n",
       "       [0.50302616, 0.49697384],\n",
       "       [0.50196237, 0.49803763],\n",
       "       [0.5023057 , 0.4976943 ],\n",
       "       [0.5006412 , 0.4993588 ],\n",
       "       [0.50224065, 0.49775935],\n",
       "       [0.5010883 , 0.4989117 ],\n",
       "       [0.50133566, 0.49866434],\n",
       "       [0.50233576, 0.49766424],\n",
       "       [0.50184149, 0.49815851],\n",
       "       [0.50098641, 0.49901359],\n",
       "       [0.5019006 , 0.4980994 ],\n",
       "       [0.50107183, 0.49892817],\n",
       "       [0.50143271, 0.49856729],\n",
       "       [0.50203595, 0.49796405],\n",
       "       [0.5026515 , 0.4973485 ],\n",
       "       [0.50377703, 0.49622297],\n",
       "       [0.49893439, 0.50106561],\n",
       "       [0.50339275, 0.49660725],\n",
       "       [0.50152766, 0.49847234],\n",
       "       [0.50158634, 0.49841366],\n",
       "       [0.50000096, 0.49999904],\n",
       "       [0.50045491, 0.49954509],\n",
       "       [0.50208306, 0.49791694],\n",
       "       [0.50352855, 0.49647145],\n",
       "       [0.50237312, 0.49762688],\n",
       "       [0.49928464, 0.50071536],\n",
       "       [0.50297955, 0.49702045],\n",
       "       [0.50170373, 0.49829627],\n",
       "       [0.50143102, 0.49856898],\n",
       "       [0.50330941, 0.49669059],\n",
       "       [0.50211473, 0.49788527],\n",
       "       [0.50202076, 0.49797924],\n",
       "       [0.50051225, 0.49948775],\n",
       "       [0.50112964, 0.49887036],\n",
       "       [0.50185392, 0.49814608],\n",
       "       [0.49966058, 0.50033942],\n",
       "       [0.50075293, 0.49924707],\n",
       "       [0.50071296, 0.49928704],\n",
       "       [0.49923395, 0.50076605],\n",
       "       [0.50080148, 0.49919852],\n",
       "       [0.49827919, 0.50172081],\n",
       "       [0.50168248, 0.49831752],\n",
       "       [0.49995601, 0.50004399],\n",
       "       [0.5014818 , 0.4985182 ],\n",
       "       [0.5008324 , 0.4991676 ],\n",
       "       [0.50225201, 0.49774799],\n",
       "       [0.50041346, 0.49958654],\n",
       "       [0.50008176, 0.49991824],\n",
       "       [0.50275251, 0.49724749],\n",
       "       [0.5013088 , 0.4986912 ],\n",
       "       [0.50199637, 0.49800363],\n",
       "       [0.50250964, 0.49749036],\n",
       "       [0.50279177, 0.49720823],\n",
       "       [0.50085703, 0.49914297],\n",
       "       [0.50363226, 0.49636774],\n",
       "       [0.50075518, 0.49924482],\n",
       "       [0.50160237, 0.49839763],\n",
       "       [0.50200633, 0.49799367],\n",
       "       [0.50294549, 0.49705451],\n",
       "       [0.50134492, 0.49865508],\n",
       "       [0.50113355, 0.49886645],\n",
       "       [0.5011625 , 0.4988375 ],\n",
       "       [0.50086075, 0.49913925],\n",
       "       [0.50223575, 0.49776425],\n",
       "       [0.50032738, 0.49967262],\n",
       "       [0.50110359, 0.49889641],\n",
       "       [0.50256978, 0.49743022],\n",
       "       [0.49850301, 0.50149699],\n",
       "       [0.5031758 , 0.4968242 ],\n",
       "       [0.50058575, 0.49941425],\n",
       "       [0.5004442 , 0.4995558 ],\n",
       "       [0.50093672, 0.49906328],\n",
       "       [0.50332508, 0.49667492],\n",
       "       [0.50399354, 0.49600646],\n",
       "       [0.50351518, 0.49648482],\n",
       "       [0.50156107, 0.49843893],\n",
       "       [0.50078711, 0.49921289],\n",
       "       [0.50197128, 0.49802872]])"
      ]
     },
     "execution_count": 44,
     "metadata": {},
     "output_type": "execute_result"
    }
   ],
   "source": [
    "mnb.predict_proba(Xtest_)\n"
   ]
  },
  {
   "cell_type": "code",
   "execution_count": 45,
   "metadata": {},
   "outputs": [
    {
     "data": {
      "text/plain": [
       "0.5433333333333333"
      ]
     },
     "execution_count": 45,
     "metadata": {},
     "output_type": "execute_result"
    }
   ],
   "source": [
    "mnb.score(Xtest_,Ytest)\n"
   ]
  },
  {
   "cell_type": "code",
   "execution_count": 46,
   "metadata": {},
   "outputs": [
    {
     "data": {
      "text/plain": [
       "0.24977828412546027"
      ]
     },
     "execution_count": 46,
     "metadata": {},
     "output_type": "execute_result"
    }
   ],
   "source": [
    "brier_score_loss(Ytest,mnb.predict_proba(Xtest_)[:,1],pos_label=1)\n",
    "\n",
    "# 布里尔分数在新版本里只能用于二分类"
   ]
  },
  {
   "cell_type": "code",
   "execution_count": 47,
   "metadata": {},
   "outputs": [],
   "source": [
    "# 多项式朴素贝叶斯更加适合分类型数据，这里是连续性变量 效果不是很好\n",
    "# 对连续型数据进行分箱\n",
    "\n",
    "from sklearn.preprocessing import KBinsDiscretizer\n",
    "kbs = KBinsDiscretizer(n_bins=10,encode='onehot').fit(Xtrain)"
   ]
  },
  {
   "cell_type": "code",
   "execution_count": 50,
   "metadata": {},
   "outputs": [],
   "source": [
    "Xtrain_ = kbs.transform(Xtrain)\n",
    "Xtest_ = kbs.transform(Xtest) "
   ]
  },
  {
   "cell_type": "code",
   "execution_count": 53,
   "metadata": {},
   "outputs": [
    {
     "data": {
      "text/plain": [
       "(300, 20)"
      ]
     },
     "execution_count": 53,
     "metadata": {},
     "output_type": "execute_result"
    }
   ],
   "source": [
    "Xtest_.shape # 2个特征 分了10个箱以后所出出来的哑变量"
   ]
  },
  {
   "cell_type": "code",
   "execution_count": 54,
   "metadata": {},
   "outputs": [
    {
     "data": {
      "text/plain": [
       "0.9966666666666667"
      ]
     },
     "execution_count": 54,
     "metadata": {},
     "output_type": "execute_result"
    }
   ],
   "source": [
    "# 分箱以后 模型的效果显著提高\n",
    "mnb = MultinomialNB().fit(Xtrain_,Ytrain)\n",
    "mnb.score(Xtest_,Ytest)"
   ]
  },
  {
   "cell_type": "code",
   "execution_count": 55,
   "metadata": {},
   "outputs": [
    {
     "data": {
      "text/plain": [
       "0.0014593932778211862"
      ]
     },
     "execution_count": 55,
     "metadata": {},
     "output_type": "execute_result"
    }
   ],
   "source": [
    "brier_score_loss(Ytest,mnb.predict_proba(Xtest_)[:,1],pos_label=1)\n",
    "# 越接近0越好"
   ]
  },
  {
   "cell_type": "markdown",
   "metadata": {},
   "source": [
    "### 2.3.2 伯努利朴素贝叶斯BernoulliNB\n",
    "\n",
    "伯努利贝叶斯类BernoulliN假设数据服从多元伯努利分布（每个特征都服从伯努利分布），并在此基础上应用朴素贝叶斯的训练和分类过程。\n",
    "  \n",
    "*class `sklearn.naive_bayes.BernoulliNB` (alpha=1.0, binarize=0.0, fit_prior=True, class_prior=None)*\n",
    "\n",
    "- `alpha `: 浮点数, 可不填 (默认为1.0)\n",
    "  \n",
    "    因此 设置得越大，多项式朴素贝叶斯的精确性会越低（虽然影响不是非常大），布里尔分数也会逐渐升高\n",
    "\n",
    "- `binarize` : 浮点数或None，可不填，默认为0  \n",
    "  \n",
    "    将特征二值化的阈值，如果设定为None，则会假定说特征已经被二值化完毕\n",
    "- `fit_prior` : 布尔值, 可不填 (默认为True)\n",
    "  \n",
    "    是否学习先验概率 。如果设置为false，则不使用先验概率，而使用统一先验概率（uniform\n",
    "prior）$\\frac{1}{n}$\n",
    "- `class_prior`：形似数组的结构，结构为(n_classes, )，可不填（默认为None）\n",
    "    类的先验概率 。如果没有给出具体的先验概率则自动根据数据来进行计算。"
   ]
  },
  {
   "cell_type": "code",
   "execution_count": 56,
   "metadata": {},
   "outputs": [],
   "source": [
    "from sklearn.naive_bayes import BernoulliNB"
   ]
  },
  {
   "cell_type": "code",
   "execution_count": 57,
   "metadata": {},
   "outputs": [],
   "source": [
    "#普通来说我们应该使用二值化的类sklearn.preprocessing.Binarizer来将特征一个个二值化\n",
    "#然而这样效率过低，因此我们选择归一化之后直接设置一个阈值\n",
    "\n",
    "mms = MinMaxScaler().fit(Xtrain)\n",
    "Xtrain_ = mms.transform(Xtrain)\n",
    "Xtest_ = mms.transform(Xtest)"
   ]
  },
  {
   "cell_type": "code",
   "execution_count": 59,
   "metadata": {},
   "outputs": [
    {
     "data": {
      "text/plain": [
       "0.49666666666666665"
      ]
     },
     "execution_count": 59,
     "metadata": {},
     "output_type": "execute_result"
    }
   ],
   "source": [
    "#————————————————————————————不设置二值化————————————————————————————\n",
    "bnl_ = BernoulliNB().fit(Xtrain_,Ytrain)\n",
    "bnl_.score(Xtest_,Ytest)\n"
   ]
  },
  {
   "cell_type": "code",
   "execution_count": 60,
   "metadata": {},
   "outputs": [
    {
     "data": {
      "text/plain": [
       "0.25000009482193225"
      ]
     },
     "execution_count": 60,
     "metadata": {},
     "output_type": "execute_result"
    }
   ],
   "source": [
    "brier_score_loss(Ytest,bnl_.predict_proba(Xtest_)[:,1],pos_label=1)\n",
    "\n",
    "# 效果较差"
   ]
  },
  {
   "cell_type": "code",
   "execution_count": 61,
   "metadata": {},
   "outputs": [
    {
     "data": {
      "text/plain": [
       "0.9833333333333333"
      ]
     },
     "execution_count": 61,
     "metadata": {},
     "output_type": "execute_result"
    }
   ],
   "source": [
    "#————————————————————————————二值化阈值为0.5————————————————————————————\n",
    "bnl = BernoulliNB(binarize=0.5).fit(Xtrain_,Ytrain)\n",
    "bnl.score(Xtest_,Ytest)"
   ]
  },
  {
   "cell_type": "code",
   "execution_count": 62,
   "metadata": {},
   "outputs": [
    {
     "data": {
      "text/plain": [
       "0.010405875827339534"
      ]
     },
     "execution_count": 62,
     "metadata": {},
     "output_type": "execute_result"
    }
   ],
   "source": [
    "brier_score_loss(Ytest,bnl.predict_proba(Xtest_)[:,1],pos_label=1)\n",
    "\n",
    "# 效果提升很多啊"
   ]
  },
  {
   "cell_type": "markdown",
   "metadata": {},
   "source": [
    "和多项式贝叶斯一样，伯努利贝叶斯的结果也受到数据结构非常大的影响。因此，根据数据的模样选择贝叶斯，是贝叶斯模型选择中十分重要的一点。"
   ]
  },
  {
   "cell_type": "markdown",
   "metadata": {},
   "source": [
    "### 2.3.3 探索贝叶斯：贝叶斯的样本不均衡问题\n",
    "\n",
    "贝叶斯由于分类效力不算太好，因此对样本不平衡极为敏感，我们接下来就来看一看样本不平衡如何影响了贝叶斯。"
   ]
  },
  {
   "cell_type": "markdown",
   "metadata": {},
   "source": [
    "1. 导入需要的模块，建立样本不平衡的数据集"
   ]
  },
  {
   "cell_type": "code",
   "execution_count": 63,
   "metadata": {},
   "outputs": [
    {
     "data": {
      "text/plain": [
       "(50500, 2)"
      ]
     },
     "execution_count": 63,
     "metadata": {},
     "output_type": "execute_result"
    }
   ],
   "source": [
    "from sklearn.naive_bayes import MultinomialNB, GaussianNB, BernoulliNB\n",
    "from sklearn.model_selection import train_test_split\n",
    "from sklearn.datasets import make_blobs\n",
    "from sklearn.preprocessing import KBinsDiscretizer\n",
    "from sklearn.metrics import brier_score_loss as BS,recall_score,roc_auc_score as AUC\n",
    "\n",
    "# 创建数据 少数类样本只占多数类样本的1%\n",
    "class_1 = 50000 #多数类为50000个样本\n",
    "class_2 = 500 #少数类为500个样本\n",
    "\n",
    "centers = [[0.0, 0.0], [5.0, 5.0]] #设定两个类别的中心\n",
    "clusters_std = [3, 1] #设定两个类别的方差  多数类的样本的方差更大\n",
    "X, y = make_blobs(n_samples=[class_1, class_2],\n",
    "                    centers=centers,\n",
    "                    cluster_std=clusters_std,\n",
    "                    random_state=0, shuffle=False)\n",
    "\n",
    "X.shape\n"
   ]
  },
  {
   "cell_type": "code",
   "execution_count": 64,
   "metadata": {},
   "outputs": [
    {
     "data": {
      "text/plain": [
       "array([0, 1])"
      ]
     },
     "execution_count": 64,
     "metadata": {},
     "output_type": "execute_result"
    }
   ],
   "source": [
    "np.unique(y)"
   ]
  },
  {
   "cell_type": "markdown",
   "metadata": {},
   "source": [
    "2. 查看所有贝叶斯在样本不平衡数据集上的表现"
   ]
  },
  {
   "cell_type": "code",
   "execution_count": 68,
   "metadata": {},
   "outputs": [
    {
     "name": "stdout",
     "output_type": "stream",
     "text": [
      "Multinomial\n",
      "\tBrier:0.007\n",
      "\tAccuracy:0.990\n",
      "\tRecall:0.000\n",
      "\tAUC:0.991\n",
      "Gaussian\n",
      "\tBrier:0.006\n",
      "\tAccuracy:0.990\n",
      "\tRecall:0.438\n",
      "\tAUC:0.993\n",
      "Bernoulli\n",
      "\tBrier:0.009\n",
      "\tAccuracy:0.987\n",
      "\tRecall:0.771\n",
      "\tAUC:0.987\n"
     ]
    }
   ],
   "source": [
    "name = [\"Multinomial\",\"Gaussian\",\"Bernoulli\"]\n",
    "models = [MultinomialNB(),GaussianNB(),BernoulliNB()]\n",
    "\n",
    "for name, clf in zip(name,models):\n",
    "    # 分训练集和测试\n",
    "    Xtrain, Xtest, Ytrain, Ytest = train_test_split(X,y,test_size=0.3,random_state=420)\n",
    "\n",
    "    if name !=  \"Gaussian\":   #高斯朴素贝叶斯 不需要进行数据预处理即 分箱\n",
    "        kbs = KBinsDiscretizer(n_bins=10,encode='onehot').fit(Xtrain)    # 分成10箱 变成二分类\n",
    "        Xtrain = kbs.transform(Xtrain)\n",
    "        Xtest = kbs.transform(Xtest)\n",
    "\n",
    "    clf.fit(Xtrain,Ytrain)\n",
    "    y_pred = clf.predict(Xtest)\n",
    "    proba = clf.predict_proba(Xtest)[:,1]\n",
    "    score = clf.score(Xtest,Ytest)  \n",
    "\n",
    "    print(name)\n",
    "    print(\"\\tBrier:{:.3f}\".format(BS(Ytest,proba,pos_label=1)))\n",
    "    print(\"\\tAccuracy:{:.3f}\".format(score))\n",
    "    print(\"\\tRecall:{:.3f}\".format(recall_score(Ytest,y_pred)))\n",
    "    print(\"\\tAUC:{:.3f}\".format(AUC(Ytest,proba)))\n",
    "\n",
    "# 对于多数类样本的判断较好\n",
    "# 多项式朴素贝叶斯 Recall较差...对少数类的分类较差\n",
    "# 高斯朴素贝叶斯 Racall 小于50% 还不如随机猜\n",
    "# 伯努利朴素贝叶斯对少数类的判断最好"
   ]
  },
  {
   "cell_type": "markdown",
   "metadata": {},
   "source": [
    "- 对于多数类样本的判断较好\n",
    "- 对少数类判断较差\n",
    "  - 多项式朴素贝叶斯 Recall较差...对少数类的分类较差\n",
    "  - 高斯朴素贝叶斯 Racall 小于50% 还不如随机猜\n",
    "  - 伯努利朴素贝叶斯对少数类的判断最好\n",
    "\n",
    "\n",
    "在现实中，强行将所有的数据都二值化不会永远得到好结果，在我们有多个特征的时候，我们更需要一个个去判断究竟二值化的阈值该取多少才能够让算法的效果优秀"
   ]
  },
  {
   "cell_type": "markdown",
   "metadata": {},
   "source": [
    "#### 2.3.4 改进多项式朴素贝叶斯：补集朴素贝叶斯ComplementNB\n",
    "\n",
    "\n",
    "补集朴素贝叶斯（complement naive Bayes，CNB）算法是标准多项式朴素贝叶斯算法的改进.解决样本不平衡问题，并且能够一定程度上忽略朴素假设的补集朴素贝叶斯。"
   ]
  },
  {
   "cell_type": "code",
   "execution_count": 69,
   "metadata": {},
   "outputs": [
    {
     "name": "stdout",
     "output_type": "stream",
     "text": [
      "Multinomial\n",
      "\tBrier:0.007\n",
      "\tAccuracy:0.990\n",
      "\tRecall:0.000\n",
      "\tAUC:0.991\n",
      "Gaussian\n",
      "\tBrier:0.006\n",
      "\tAccuracy:0.990\n",
      "\tRecall:0.438\n",
      "\tAUC:0.993\n",
      "Bernoulli\n",
      "\tBrier:0.009\n",
      "\tAccuracy:0.987\n",
      "\tRecall:0.771\n",
      "\tAUC:0.987\n",
      "Complement\n",
      "\tBrier:0.038\n",
      "\tAccuracy:0.953\n",
      "\tRecall:0.987\n",
      "\tAUC:0.991\n"
     ]
    }
   ],
   "source": [
    "from sklearn.naive_bayes import ComplementNB\n",
    "from time import time\n",
    "import datetime\n",
    "\n",
    "name = [\"Multinomial\",\"Gaussian\",\"Bernoulli\",'Complement']\n",
    "models = [MultinomialNB(),GaussianNB(),BernoulliNB(),ComplementNB()]\n",
    "\n",
    "for name, clf in zip(name,models):\n",
    "    # 分训练集和测试\n",
    "    Xtrain, Xtest, Ytrain, Ytest = train_test_split(X,y,test_size=0.3,random_state=420)\n",
    "\n",
    "    if name !=  \"Gaussian\":   #高斯朴素贝叶斯 不需要进行数据预处理即 分箱\n",
    "        kbs = KBinsDiscretizer(n_bins=10,encode='onehot').fit(Xtrain)    # 分成10箱 变成二分类\n",
    "        Xtrain = kbs.transform(Xtrain)\n",
    "        Xtest = kbs.transform(Xtest)\n",
    "\n",
    "    clf.fit(Xtrain,Ytrain)\n",
    "    y_pred = clf.predict(Xtest)\n",
    "    proba = clf.predict_proba(Xtest)[:,1]\n",
    "    score = clf.score(Xtest,Ytest)  \n",
    "\n",
    "    print(name)\n",
    "    print(\"\\tBrier:{:.3f}\".format(BS(Ytest,proba,pos_label=1)))\n",
    "    print(\"\\tAccuracy:{:.3f}\".format(score))\n",
    "    print(\"\\tRecall:{:.3f}\".format(recall_score(Ytest,y_pred)))\n",
    "    print(\"\\tAUC:{:.3f}\".format(AUC(Ytest,proba)))\n"
   ]
  },
  {
   "cell_type": "markdown",
   "metadata": {},
   "source": [
    "补集朴素贝叶斯牺牲了部分整体的精确度和布里尔指数，但是得到了十分高的召回率Recall，捕捉出了98.7%的少数类，并且在此基础上维持了和原本的多项式朴素贝叶斯一致的AUC分数"
   ]
  },
  {
   "cell_type": "markdown",
   "metadata": {},
   "source": [
    "## 3 案例：贝叶斯分类器做文本分类\n",
    "---\n",
    "\n",
    "### 3.1 文本编码技术简介\n",
    "\n",
    "#### 3.1.1 单词计数向量\n",
    "\n",
    "在sklearn当中，单词计数向量计数可以通过`feature_extraction.text`模块中的CountVectorizer类实现\n"
   ]
  },
  {
   "cell_type": "code",
   "execution_count": 71,
   "metadata": {},
   "outputs": [
    {
     "data": {
      "text/plain": [
       "<3x11 sparse matrix of type '<class 'numpy.int64'>'\n",
       "\twith 15 stored elements in Compressed Sparse Row format>"
      ]
     },
     "execution_count": 71,
     "metadata": {},
     "output_type": "execute_result"
    }
   ],
   "source": [
    "sample = [\"Machine learning is fascinating, it is wonderful\"\n",
    "        ,\"Machine learning is a sensational techonology\"\n",
    "        ,\"Elsa is a popular character\"]\n",
    "\n",
    "from sklearn.feature_extraction.text import CountVectorizer\n",
    "\n",
    "vec = CountVectorizer()\n",
    "\n",
    "X = vec.fit_transform(sample)\n",
    "\n",
    "X"
   ]
  },
  {
   "cell_type": "code",
   "execution_count": 72,
   "metadata": {},
   "outputs": [
    {
     "name": "stderr",
     "output_type": "stream",
     "text": [
      "c:\\Users\\HP\\Python\\Python310\\lib\\site-packages\\sklearn\\utils\\deprecation.py:87: FutureWarning: Function get_feature_names is deprecated; get_feature_names is deprecated in 1.0 and will be removed in 1.2. Please use get_feature_names_out instead.\n",
      "  warnings.warn(msg, category=FutureWarning)\n"
     ]
    },
    {
     "data": {
      "text/html": [
       "<div>\n",
       "<style scoped>\n",
       "    .dataframe tbody tr th:only-of-type {\n",
       "        vertical-align: middle;\n",
       "    }\n",
       "\n",
       "    .dataframe tbody tr th {\n",
       "        vertical-align: top;\n",
       "    }\n",
       "\n",
       "    .dataframe thead th {\n",
       "        text-align: right;\n",
       "    }\n",
       "</style>\n",
       "<table border=\"1\" class=\"dataframe\">\n",
       "  <thead>\n",
       "    <tr style=\"text-align: right;\">\n",
       "      <th></th>\n",
       "      <th>character</th>\n",
       "      <th>elsa</th>\n",
       "      <th>fascinating</th>\n",
       "      <th>is</th>\n",
       "      <th>it</th>\n",
       "      <th>learning</th>\n",
       "      <th>machine</th>\n",
       "      <th>popular</th>\n",
       "      <th>sensational</th>\n",
       "      <th>techonology</th>\n",
       "      <th>wonderful</th>\n",
       "    </tr>\n",
       "  </thead>\n",
       "  <tbody>\n",
       "    <tr>\n",
       "      <th>0</th>\n",
       "      <td>0</td>\n",
       "      <td>0</td>\n",
       "      <td>1</td>\n",
       "      <td>2</td>\n",
       "      <td>1</td>\n",
       "      <td>1</td>\n",
       "      <td>1</td>\n",
       "      <td>0</td>\n",
       "      <td>0</td>\n",
       "      <td>0</td>\n",
       "      <td>1</td>\n",
       "    </tr>\n",
       "    <tr>\n",
       "      <th>1</th>\n",
       "      <td>0</td>\n",
       "      <td>0</td>\n",
       "      <td>0</td>\n",
       "      <td>1</td>\n",
       "      <td>0</td>\n",
       "      <td>1</td>\n",
       "      <td>1</td>\n",
       "      <td>0</td>\n",
       "      <td>1</td>\n",
       "      <td>1</td>\n",
       "      <td>0</td>\n",
       "    </tr>\n",
       "    <tr>\n",
       "      <th>2</th>\n",
       "      <td>1</td>\n",
       "      <td>1</td>\n",
       "      <td>0</td>\n",
       "      <td>1</td>\n",
       "      <td>0</td>\n",
       "      <td>0</td>\n",
       "      <td>0</td>\n",
       "      <td>1</td>\n",
       "      <td>0</td>\n",
       "      <td>0</td>\n",
       "      <td>0</td>\n",
       "    </tr>\n",
       "  </tbody>\n",
       "</table>\n",
       "</div>"
      ],
      "text/plain": [
       "   character  elsa  fascinating  is  it  learning  machine  popular  \\\n",
       "0          0     0            1   2   1         1        1        0   \n",
       "1          0     0            0   1   0         1        1        0   \n",
       "2          1     1            0   1   0         0        0        1   \n",
       "\n",
       "   sensational  techonology  wonderful  \n",
       "0            0            0          1  \n",
       "1            1            1          0  \n",
       "2            0            0          0  "
      ]
     },
     "execution_count": 72,
     "metadata": {},
     "output_type": "execute_result"
    }
   ],
   "source": [
    "import pandas as pd\n",
    "\n",
    "CVresult = pd.DataFrame(X.toarray(),columns=vec.get_feature_names())\n",
    "CVresult"
   ]
  },
  {
   "cell_type": "markdown",
   "metadata": {},
   "source": [
    "#### 3.1.2 TF-IDF\n",
    "\n",
    "词频逆文档频率，是通过单词在文档中出现的频率来衡量其权重，也就是说，IDF的大小与一个词的常见程度成反比，这个词越常见，编码后为它设置的权重会倾向于越小，以此来压制频繁出现的一些无意义的词。\n",
    "\n",
    "在sklearn当中，我们使用`feature_extraction.text`中类`TfidfVectorizer`来执行这种编码\n",
    "- TfidfVectorizer().fit_transform(data)\n"
   ]
  },
  {
   "cell_type": "code",
   "execution_count": 73,
   "metadata": {},
   "outputs": [],
   "source": [
    "from sklearn.feature_extraction.text import TfidfVectorizer as TFIDF\n",
    "\n",
    "vec = TFIDF()\n"
   ]
  },
  {
   "cell_type": "code",
   "execution_count": 74,
   "metadata": {},
   "outputs": [
    {
     "data": {
      "text/plain": [
       "<3x11 sparse matrix of type '<class 'numpy.float64'>'\n",
       "\twith 15 stored elements in Compressed Sparse Row format>"
      ]
     },
     "execution_count": 74,
     "metadata": {},
     "output_type": "execute_result"
    }
   ],
   "source": [
    "X = vec.fit_transform(sample)\n",
    "X"
   ]
  },
  {
   "cell_type": "code",
   "execution_count": 75,
   "metadata": {},
   "outputs": [
    {
     "name": "stderr",
     "output_type": "stream",
     "text": [
      "c:\\Users\\HP\\Python\\Python310\\lib\\site-packages\\sklearn\\utils\\deprecation.py:87: FutureWarning: Function get_feature_names is deprecated; get_feature_names is deprecated in 1.0 and will be removed in 1.2. Please use get_feature_names_out instead.\n",
      "  warnings.warn(msg, category=FutureWarning)\n"
     ]
    },
    {
     "data": {
      "text/html": [
       "<div>\n",
       "<style scoped>\n",
       "    .dataframe tbody tr th:only-of-type {\n",
       "        vertical-align: middle;\n",
       "    }\n",
       "\n",
       "    .dataframe tbody tr th {\n",
       "        vertical-align: top;\n",
       "    }\n",
       "\n",
       "    .dataframe thead th {\n",
       "        text-align: right;\n",
       "    }\n",
       "</style>\n",
       "<table border=\"1\" class=\"dataframe\">\n",
       "  <thead>\n",
       "    <tr style=\"text-align: right;\">\n",
       "      <th></th>\n",
       "      <th>character</th>\n",
       "      <th>elsa</th>\n",
       "      <th>fascinating</th>\n",
       "      <th>is</th>\n",
       "      <th>it</th>\n",
       "      <th>learning</th>\n",
       "      <th>machine</th>\n",
       "      <th>popular</th>\n",
       "      <th>sensational</th>\n",
       "      <th>techonology</th>\n",
       "      <th>wonderful</th>\n",
       "    </tr>\n",
       "  </thead>\n",
       "  <tbody>\n",
       "    <tr>\n",
       "      <th>0</th>\n",
       "      <td>0.000000</td>\n",
       "      <td>0.000000</td>\n",
       "      <td>0.424396</td>\n",
       "      <td>0.501310</td>\n",
       "      <td>0.424396</td>\n",
       "      <td>0.322764</td>\n",
       "      <td>0.322764</td>\n",
       "      <td>0.000000</td>\n",
       "      <td>0.000000</td>\n",
       "      <td>0.000000</td>\n",
       "      <td>0.424396</td>\n",
       "    </tr>\n",
       "    <tr>\n",
       "      <th>1</th>\n",
       "      <td>0.000000</td>\n",
       "      <td>0.000000</td>\n",
       "      <td>0.000000</td>\n",
       "      <td>0.315444</td>\n",
       "      <td>0.000000</td>\n",
       "      <td>0.406192</td>\n",
       "      <td>0.406192</td>\n",
       "      <td>0.000000</td>\n",
       "      <td>0.534093</td>\n",
       "      <td>0.534093</td>\n",
       "      <td>0.000000</td>\n",
       "    </tr>\n",
       "    <tr>\n",
       "      <th>2</th>\n",
       "      <td>0.546454</td>\n",
       "      <td>0.546454</td>\n",
       "      <td>0.000000</td>\n",
       "      <td>0.322745</td>\n",
       "      <td>0.000000</td>\n",
       "      <td>0.000000</td>\n",
       "      <td>0.000000</td>\n",
       "      <td>0.546454</td>\n",
       "      <td>0.000000</td>\n",
       "      <td>0.000000</td>\n",
       "      <td>0.000000</td>\n",
       "    </tr>\n",
       "  </tbody>\n",
       "</table>\n",
       "</div>"
      ],
      "text/plain": [
       "   character      elsa  fascinating        is        it  learning   machine  \\\n",
       "0   0.000000  0.000000     0.424396  0.501310  0.424396  0.322764  0.322764   \n",
       "1   0.000000  0.000000     0.000000  0.315444  0.000000  0.406192  0.406192   \n",
       "2   0.546454  0.546454     0.000000  0.322745  0.000000  0.000000  0.000000   \n",
       "\n",
       "    popular  sensational  techonology  wonderful  \n",
       "0  0.000000     0.000000     0.000000   0.424396  \n",
       "1  0.000000     0.534093     0.534093   0.000000  \n",
       "2  0.546454     0.000000     0.000000   0.000000  "
      ]
     },
     "execution_count": 75,
     "metadata": {},
     "output_type": "execute_result"
    }
   ],
   "source": [
    "# 调用每个列的名词\n",
    "\n",
    "TFIDFresult = pd.DataFrame(X.toarray(),columns=vec.get_feature_names())\n",
    "TFIDFresult\n",
    "\n",
    "# 每个特征的取值是一个概率"
   ]
  },
  {
   "cell_type": "code",
   "execution_count": 76,
   "metadata": {},
   "outputs": [
    {
     "data": {
      "text/plain": [
       "character      0.0625\n",
       "elsa           0.0625\n",
       "fascinating    0.0625\n",
       "is             0.2500\n",
       "it             0.0625\n",
       "learning       0.1250\n",
       "machine        0.1250\n",
       "popular        0.0625\n",
       "sensational    0.0625\n",
       "techonology    0.0625\n",
       "wonderful      0.0625\n",
       "dtype: float64"
      ]
     },
     "execution_count": 76,
     "metadata": {},
     "output_type": "execute_result"
    }
   ],
   "source": [
    "#————————————————————————————使用TFIDF————————————————————————————\n",
    "CVresult.sum(axis=0) / CVresult.sum(axis=0).sum()\n",
    "\n",
    "# 每一个特征向量所占的权重"
   ]
  },
  {
   "cell_type": "code",
   "execution_count": 77,
   "metadata": {},
   "outputs": [
    {
     "data": {
      "text/plain": [
       "character      0.083071\n",
       "elsa           0.083071\n",
       "fascinating    0.064516\n",
       "is             0.173225\n",
       "it             0.064516\n",
       "learning       0.110815\n",
       "machine        0.110815\n",
       "popular        0.083071\n",
       "sensational    0.081192\n",
       "techonology    0.081192\n",
       "wonderful      0.064516\n",
       "dtype: float64"
      ]
     },
     "execution_count": 77,
     "metadata": {},
     "output_type": "execute_result"
    }
   ],
   "source": [
    "TFIDFresult.sum(axis=0) / TFIDFresult.sum(axis=0).sum()\n",
    "\n",
    "# 出现的多的单词的权重降低  增加出现次数少的单词的权重"
   ]
  },
  {
   "cell_type": "markdown",
   "metadata": {},
   "source": [
    "### 3.2 探索文本数据"
   ]
  },
  {
   "cell_type": "code",
   "execution_count": 78,
   "metadata": {},
   "outputs": [],
   "source": [
    "from sklearn.datasets import fetch_20newsgroups\n"
   ]
  },
  {
   "cell_type": "code",
   "execution_count": 79,
   "metadata": {},
   "outputs": [],
   "source": [
    "data = fetch_20newsgroups()\n"
   ]
  },
  {
   "cell_type": "code",
   "execution_count": 80,
   "metadata": {},
   "outputs": [
    {
     "data": {
      "text/plain": [
       "['alt.atheism',\n",
       " 'comp.graphics',\n",
       " 'comp.os.ms-windows.misc',\n",
       " 'comp.sys.ibm.pc.hardware',\n",
       " 'comp.sys.mac.hardware',\n",
       " 'comp.windows.x',\n",
       " 'misc.forsale',\n",
       " 'rec.autos',\n",
       " 'rec.motorcycles',\n",
       " 'rec.sport.baseball',\n",
       " 'rec.sport.hockey',\n",
       " 'sci.crypt',\n",
       " 'sci.electronics',\n",
       " 'sci.med',\n",
       " 'sci.space',\n",
       " 'soc.religion.christian',\n",
       " 'talk.politics.guns',\n",
       " 'talk.politics.mideast',\n",
       " 'talk.politics.misc',\n",
       " 'talk.religion.misc']"
      ]
     },
     "execution_count": 80,
     "metadata": {},
     "output_type": "execute_result"
    }
   ],
   "source": [
    "#不同类型的新闻\n",
    "data.target_names"
   ]
  },
  {
   "cell_type": "markdown",
   "metadata": {},
   "source": [
    "- **sklearn中调用新闻的库**\n",
    "\n",
    "sklearn.datasets.fetch_20newsgroups (data_home=None, subset=’train’, categories=None, shuffle=True,random_state=42, remove=(), download_if_missing=True)\n",
    "\n",
    "- fetch_20newsgroups 参数列表\n",
    "- subset : 选择类中包含的数据子集\n",
    " \n",
    "    输入\"train\"表示选择训练集，“test\"表示输入测试集，”all\"表示加载所有的数据\n",
    "- categories : 可输入None或者数据所在的目录 \n",
    "  \n",
    "    选择一个子集下，不同类型或不同内容的数据所在的目录。如果不输入默认None，则会加载全部的目录。download_if_missing：可选，默认是True 如果发现本地数据不全，是否自动进行下载\n",
    "- shuffle : 布尔值，可不填，表示是否打乱样本顺序\n",
    "  \n",
    "    对于假设样本之间互相独立并且服从相同分布的算法或模型（比如随机梯度下降）来说可能很重要"
   ]
  },
  {
   "cell_type": "code",
   "execution_count": 81,
   "metadata": {},
   "outputs": [],
   "source": [
    "import numpy as np\n",
    "import pandas as pd\n",
    "categories = [\"sci.space\" #科学技术 - 太空\n",
    "            ,\"rec.sport.hockey\" #运动 - 曲棍球\n",
    "            ,\"talk.politics.guns\" #政治 - 枪支问题\n",
    "            ,\"talk.politics.mideast\"] #政治 - 中东问题"
   ]
  },
  {
   "cell_type": "code",
   "execution_count": 84,
   "metadata": {},
   "outputs": [
    {
     "name": "stdout",
     "output_type": "stream",
     "text": [
      "From: tvartiai@vipunen.hut.fi (Tommi Vartiainen)\n",
      "Subject: Re: Finland/Sweden vs.NHL teams (WAS:Helsinki/Stockholm & NHL expansion)\n",
      "Nntp-Posting-Host: vipunen.hut.fi\n",
      "Organization: Helsinki University of Technology, Finland\n",
      "Lines: 51\n",
      "\n",
      "In <1993Apr16.195754.5476@ousrvr.oulu.fi> mep@phoenix.oulu.fi (Marko Poutiainen) writes:\n",
      "\n",
      ">: FINLAND:  \n",
      ">: \n",
      ">: D-Jyrki Lumme.......20\n",
      ">: D-Teppo Numminen....20\n",
      ">: D-Peter Ahola.......13\n",
      ">: \n",
      ">Well well, they don't like our defenders (mainly Lumme and Numminen)...\n",
      "\n",
      "About 25 is correct for Numminen and Lumme.\n",
      "\n",
      "\n",
      ">: R-Teemu Selanne.....27\n",
      ">: \n",
      ">Compared to Kurri, Selanne's points are too high, lets make it 25 or 26.\n",
      "\n",
      "No, Kurri's points are too low. 27 for Kurri and 28 for Sel{nne.\n",
      "\n",
      ">: well in the Canada Cup and World Championships largely due to the efforts of\n",
      ">: Markus Ketterer (the goalie), 3-4 or the players listed above and luck. There's\n",
      ">: presumably a lot of decent players in Finland that wouldn't be superstars at\n",
      ">: the highest level but still valuable role players, however. My guess would be\n",
      ">: that the Finnish Canada Cup team would be a .500 team in the NHL.\n",
      "\n",
      ">Wow, now, it looks like you don't like our players? What about guys like:\n",
      ">Nieminen, Jutila, Riihijarvi, Varvio, Laukkanen, Makela, Keskinen and (even\n",
      ">if he is aging) Ruotsalainen? The main difference between finnish and North-\n",
      ">American players is, that our players tend to be better in the larger rink.\n",
      ">The Canadian defenders are usually slower that defenders in Europe. \n",
      ">And I think that there was more in our success than Ketterer and luck (though\n",
      ">they helped). I think that the main reason was, that the team worked well\n",
      ">together.\n",
      "\n",
      "\n",
      "That's true. Game is so different here in Europe compared to NHL. North-ame-\n",
      "ricans are better in small rinks and europeans in large rinks. An average\n",
      "european player from Sweden, Finland, Russian or Tsech/Slovakia is a better \n",
      "skater and  puckhandler than his NHL colleague. Especially defenders in NHL\n",
      "are mainly slow and clumsy. Sel{nne has also said that in the Finnish Sm-league\n",
      "game is more based on skill than in NHL. In Finland he couldn't get so many \n",
      "breakaways because defenders here are an average much better skaters than in\n",
      "NHL. Also Alpo Suhonen said that in NHL Sel{nne's speed accentuates because\n",
      "of clumsy defensemen.\n",
      "\n",
      "I have to admit that the best players come from Canada, but those regulars\n",
      "aren't as skilful as regulars in the best european leagues. Also top europeans\n",
      "are in the same level as the best north-americans.(except Lemieux is in the\n",
      "class of his own). \n",
      "\n",
      "Tommi\n",
      "\n"
     ]
    }
   ],
   "source": [
    "train = fetch_20newsgroups(subset='train',categories=categories)\n",
    "test = fetch_20newsgroups(subset='test',categories=categories)\n",
    "\n",
    "# 随便取一篇报道\n",
    "print(train.data[0])"
   ]
  },
  {
   "cell_type": "code",
   "execution_count": 86,
   "metadata": {},
   "outputs": [
    {
     "name": "stdout",
     "output_type": "stream",
     "text": [
      "1 0.25749023013460703\n",
      "2 0.23708206686930092\n",
      "3 0.24489795918367346\n"
     ]
    }
   ],
   "source": [
    "# 是否存在样本不均衡\n",
    "\n",
    "for i in [1,2,3]:\n",
    "    print(i,(train.target == i).sum()/len(train.target))\n",
    "\n",
    "# 不存在样本不平衡的问题"
   ]
  },
  {
   "cell_type": "markdown",
   "metadata": {},
   "source": [
    "### 3.3 使用TF-IDF将文本数据编码\n"
   ]
  },
  {
   "cell_type": "code",
   "execution_count": 96,
   "metadata": {},
   "outputs": [],
   "source": [
    "from sklearn.feature_extraction.text import TfidfVectorizer as TFIDF\n",
    "\n",
    "Xtrain = train.data\n",
    "Xtest = test.data\n",
    "Ytrain = train.target\n",
    "Ytest = test.target"
   ]
  },
  {
   "cell_type": "code",
   "execution_count": 97,
   "metadata": {},
   "outputs": [
    {
     "data": {
      "text/plain": [
       "<2303x40725 sparse matrix of type '<class 'numpy.float64'>'\n",
       "\twith 430306 stored elements in Compressed Sparse Row format>"
      ]
     },
     "execution_count": 97,
     "metadata": {},
     "output_type": "execute_result"
    }
   ],
   "source": [
    "tfidf = TFIDF().fit(Xtrain)\n",
    "Xtrain_ = tfidf.transform(Xtrain)\n",
    "Xtest_ = tfidf.transform(Xtest)\n",
    "\n",
    "Xtrain_\n",
    "\n",
    "\n",
    "# 40725 个单词"
   ]
  },
  {
   "cell_type": "code",
   "execution_count": 99,
   "metadata": {},
   "outputs": [
    {
     "name": "stderr",
     "output_type": "stream",
     "text": [
      "c:\\Users\\HP\\Python\\Python310\\lib\\site-packages\\sklearn\\utils\\deprecation.py:87: FutureWarning: Function get_feature_names is deprecated; get_feature_names is deprecated in 1.0 and will be removed in 1.2. Please use get_feature_names_out instead.\n",
      "  warnings.warn(msg, category=FutureWarning)\n"
     ]
    },
    {
     "data": {
      "text/html": [
       "<div>\n",
       "<style scoped>\n",
       "    .dataframe tbody tr th:only-of-type {\n",
       "        vertical-align: middle;\n",
       "    }\n",
       "\n",
       "    .dataframe tbody tr th {\n",
       "        vertical-align: top;\n",
       "    }\n",
       "\n",
       "    .dataframe thead th {\n",
       "        text-align: right;\n",
       "    }\n",
       "</style>\n",
       "<table border=\"1\" class=\"dataframe\">\n",
       "  <thead>\n",
       "    <tr style=\"text-align: right;\">\n",
       "      <th></th>\n",
       "      <th>00</th>\n",
       "      <th>000</th>\n",
       "      <th>0000</th>\n",
       "      <th>00000</th>\n",
       "      <th>000000</th>\n",
       "      <th>000021</th>\n",
       "      <th>000062david42</th>\n",
       "      <th>000152</th>\n",
       "      <th>000246</th>\n",
       "      <th>000256</th>\n",
       "      <th>...</th>\n",
       "      <th>zwrm</th>\n",
       "      <th>zx</th>\n",
       "      <th>zx6wre</th>\n",
       "      <th>zxp</th>\n",
       "      <th>zxqi</th>\n",
       "      <th>zy</th>\n",
       "      <th>zyg</th>\n",
       "      <th>zz</th>\n",
       "      <th>zz_g9q3</th>\n",
       "      <th>zzzzzz</th>\n",
       "    </tr>\n",
       "  </thead>\n",
       "  <tbody>\n",
       "    <tr>\n",
       "      <th>0</th>\n",
       "      <td>0.0</td>\n",
       "      <td>0.000000</td>\n",
       "      <td>0.0</td>\n",
       "      <td>0.0</td>\n",
       "      <td>0.0</td>\n",
       "      <td>0.0</td>\n",
       "      <td>0.0</td>\n",
       "      <td>0.0</td>\n",
       "      <td>0.0</td>\n",
       "      <td>0.0</td>\n",
       "      <td>...</td>\n",
       "      <td>0.0</td>\n",
       "      <td>0.0</td>\n",
       "      <td>0.0</td>\n",
       "      <td>0.0</td>\n",
       "      <td>0.0</td>\n",
       "      <td>0.0</td>\n",
       "      <td>0.0</td>\n",
       "      <td>0.0</td>\n",
       "      <td>0.0</td>\n",
       "      <td>0.0</td>\n",
       "    </tr>\n",
       "    <tr>\n",
       "      <th>1</th>\n",
       "      <td>0.0</td>\n",
       "      <td>0.000000</td>\n",
       "      <td>0.0</td>\n",
       "      <td>0.0</td>\n",
       "      <td>0.0</td>\n",
       "      <td>0.0</td>\n",
       "      <td>0.0</td>\n",
       "      <td>0.0</td>\n",
       "      <td>0.0</td>\n",
       "      <td>0.0</td>\n",
       "      <td>...</td>\n",
       "      <td>0.0</td>\n",
       "      <td>0.0</td>\n",
       "      <td>0.0</td>\n",
       "      <td>0.0</td>\n",
       "      <td>0.0</td>\n",
       "      <td>0.0</td>\n",
       "      <td>0.0</td>\n",
       "      <td>0.0</td>\n",
       "      <td>0.0</td>\n",
       "      <td>0.0</td>\n",
       "    </tr>\n",
       "    <tr>\n",
       "      <th>2</th>\n",
       "      <td>0.0</td>\n",
       "      <td>0.058046</td>\n",
       "      <td>0.0</td>\n",
       "      <td>0.0</td>\n",
       "      <td>0.0</td>\n",
       "      <td>0.0</td>\n",
       "      <td>0.0</td>\n",
       "      <td>0.0</td>\n",
       "      <td>0.0</td>\n",
       "      <td>0.0</td>\n",
       "      <td>...</td>\n",
       "      <td>0.0</td>\n",
       "      <td>0.0</td>\n",
       "      <td>0.0</td>\n",
       "      <td>0.0</td>\n",
       "      <td>0.0</td>\n",
       "      <td>0.0</td>\n",
       "      <td>0.0</td>\n",
       "      <td>0.0</td>\n",
       "      <td>0.0</td>\n",
       "      <td>0.0</td>\n",
       "    </tr>\n",
       "    <tr>\n",
       "      <th>3</th>\n",
       "      <td>0.0</td>\n",
       "      <td>0.000000</td>\n",
       "      <td>0.0</td>\n",
       "      <td>0.0</td>\n",
       "      <td>0.0</td>\n",
       "      <td>0.0</td>\n",
       "      <td>0.0</td>\n",
       "      <td>0.0</td>\n",
       "      <td>0.0</td>\n",
       "      <td>0.0</td>\n",
       "      <td>...</td>\n",
       "      <td>0.0</td>\n",
       "      <td>0.0</td>\n",
       "      <td>0.0</td>\n",
       "      <td>0.0</td>\n",
       "      <td>0.0</td>\n",
       "      <td>0.0</td>\n",
       "      <td>0.0</td>\n",
       "      <td>0.0</td>\n",
       "      <td>0.0</td>\n",
       "      <td>0.0</td>\n",
       "    </tr>\n",
       "    <tr>\n",
       "      <th>4</th>\n",
       "      <td>0.0</td>\n",
       "      <td>0.000000</td>\n",
       "      <td>0.0</td>\n",
       "      <td>0.0</td>\n",
       "      <td>0.0</td>\n",
       "      <td>0.0</td>\n",
       "      <td>0.0</td>\n",
       "      <td>0.0</td>\n",
       "      <td>0.0</td>\n",
       "      <td>0.0</td>\n",
       "      <td>...</td>\n",
       "      <td>0.0</td>\n",
       "      <td>0.0</td>\n",
       "      <td>0.0</td>\n",
       "      <td>0.0</td>\n",
       "      <td>0.0</td>\n",
       "      <td>0.0</td>\n",
       "      <td>0.0</td>\n",
       "      <td>0.0</td>\n",
       "      <td>0.0</td>\n",
       "      <td>0.0</td>\n",
       "    </tr>\n",
       "  </tbody>\n",
       "</table>\n",
       "<p>5 rows × 40725 columns</p>\n",
       "</div>"
      ],
      "text/plain": [
       "    00       000  0000  00000  000000  000021  000062david42  000152  000246  \\\n",
       "0  0.0  0.000000   0.0    0.0     0.0     0.0            0.0     0.0     0.0   \n",
       "1  0.0  0.000000   0.0    0.0     0.0     0.0            0.0     0.0     0.0   \n",
       "2  0.0  0.058046   0.0    0.0     0.0     0.0            0.0     0.0     0.0   \n",
       "3  0.0  0.000000   0.0    0.0     0.0     0.0            0.0     0.0     0.0   \n",
       "4  0.0  0.000000   0.0    0.0     0.0     0.0            0.0     0.0     0.0   \n",
       "\n",
       "   000256  ...  zwrm   zx  zx6wre  zxp  zxqi   zy  zyg   zz  zz_g9q3  zzzzzz  \n",
       "0     0.0  ...   0.0  0.0     0.0  0.0   0.0  0.0  0.0  0.0      0.0     0.0  \n",
       "1     0.0  ...   0.0  0.0     0.0  0.0   0.0  0.0  0.0  0.0      0.0     0.0  \n",
       "2     0.0  ...   0.0  0.0     0.0  0.0   0.0  0.0  0.0  0.0      0.0     0.0  \n",
       "3     0.0  ...   0.0  0.0     0.0  0.0   0.0  0.0  0.0  0.0      0.0     0.0  \n",
       "4     0.0  ...   0.0  0.0     0.0  0.0   0.0  0.0  0.0  0.0      0.0     0.0  \n",
       "\n",
       "[5 rows x 40725 columns]"
      ]
     },
     "execution_count": 99,
     "metadata": {},
     "output_type": "execute_result"
    }
   ],
   "source": [
    "tosee = pd.DataFrame(Xtrain_.toarray(),columns=tfidf.get_feature_names())\n",
    "tosee.head()"
   ]
  },
  {
   "cell_type": "markdown",
   "metadata": {},
   "source": [
    "### 3.4 在贝叶斯上分别建模，查看结果\n"
   ]
  },
  {
   "cell_type": "code",
   "execution_count": 105,
   "metadata": {},
   "outputs": [
    {
     "name": "stdout",
     "output_type": "stream",
     "text": [
      "Multinomial\n",
      "\tAccuracy:0.975\n",
      "\n",
      "\n",
      "Complement\n",
      "\tAccuracy:0.986\n",
      "\n",
      "\n",
      "Bournulli\n",
      "\tAccuracy:0.902\n",
      "\n",
      "\n"
     ]
    }
   ],
   "source": [
    "from sklearn.naive_bayes import MultinomialNB, ComplementNB, BernoulliNB\n",
    "from sklearn.metrics import brier_score_loss as BS\n",
    "name = [\"Multinomial\",\"Complement\",\"Bournulli\"]\n",
    "\n",
    "#注意高斯朴素贝叶斯不接受稀疏矩阵\n",
    "models = [MultinomialNB(),ComplementNB(),BernoulliNB()]\n",
    "\n",
    "for name,clf in zip(name,models):\n",
    "    clf.fit(Xtrain_,Ytrain)\n",
    "    y_pred = clf.predict(Xtest_)\n",
    "    proba = clf.predict_proba(Xtest_)\n",
    "    score = clf.score(Xtest_,Ytest)\n",
    "    print(name)\n",
    "\n",
    "    #4个不同的标签取值下的布里尔分数\n",
    "    Bscore = []\n",
    "\n",
    "    # 新版布里尔范数只能用于二分类 \n",
    "    # for i in range(len(np.unique(Ytrain))):\n",
    "       # bs = BS(Ytest,proba[:,i],pos_label=i)\n",
    "       # Bscore.append(bs)\n",
    "       # print(\"\\tBrier under {}:{:.3f}\".format(train.target_names[i],bs))\n",
    "     \n",
    "    # print(\"\\tAverage Brier:{:.3f}\".format(np.mean(Bscore)))\n",
    "    print(\"\\tAccuracy:{:.3f}\".format(score))\n",
    "    print(\"\\n\")"
   ]
  },
  {
   "cell_type": "markdown",
   "metadata": {},
   "source": [
    "概率校准来试试看能否让模型进一步突破\n",
    "\n",
    "- `sklearn.calibration.CalibratedClassifierCV(模型, cv, method)`\n",
    "  - cv 交叉验证的次数 默认3折\n",
    "  - 进行概率校准的方法\n",
    "    - 输入'sigmoid'，使用基于Platt的Sigmoid模型来进行校准\n",
    "    - 输入'isotonic'，使用等渗回归来进行校准"
   ]
  },
  {
   "cell_type": "code",
   "execution_count": 107,
   "metadata": {},
   "outputs": [
    {
     "name": "stdout",
     "output_type": "stream",
     "text": [
      "Multinomial\n",
      "\tAccuracy:0.975\n",
      "\n",
      "\n",
      "Multinomial + Isotonic\n",
      "\tAccuracy:0.973\n",
      "\n",
      "\n",
      "Multinomial + Sigmoid\n",
      "\tAccuracy:0.973\n",
      "\n",
      "\n",
      "Complement\n",
      "\tAccuracy:0.986\n",
      "\n",
      "\n",
      "Complement + Isotonic\n",
      "\tAccuracy:0.985\n",
      "\n",
      "\n",
      "Complement + Sigmoid\n",
      "\tAccuracy:0.986\n",
      "\n",
      "\n",
      "Bernoulli\n",
      "\tAccuracy:0.902\n",
      "\n",
      "\n",
      "Bernoulli + Isotonic\n",
      "\tAccuracy:0.937\n",
      "\n",
      "\n",
      "Bernoulli + Sigmoid\n",
      "\tAccuracy:0.879\n",
      "\n",
      "\n"
     ]
    }
   ],
   "source": [
    "from sklearn.calibration import CalibratedClassifierCV\n",
    "\n",
    "name = [\"Multinomial\"\n",
    "        ,\"Multinomial + Isotonic\"\n",
    "        ,\"Multinomial + Sigmoid\"\n",
    "        ,\"Complement\"\n",
    "        ,\"Complement + Isotonic\"\n",
    "        ,\"Complement + Sigmoid\"\n",
    "        ,\"Bernoulli\"\n",
    "        ,\"Bernoulli + Isotonic\"\n",
    "        ,\"Bernoulli + Sigmoid\"]\n",
    "        \n",
    "models = [MultinomialNB()\n",
    "        ,CalibratedClassifierCV(MultinomialNB(), cv=2, method='isotonic')\n",
    "        ,CalibratedClassifierCV(MultinomialNB(), cv=2, method='sigmoid')\n",
    "        ,ComplementNB()\n",
    "        ,CalibratedClassifierCV(ComplementNB(), cv=2, method='isotonic')\n",
    "        ,CalibratedClassifierCV(ComplementNB(), cv=2, method='sigmoid')\n",
    "        ,BernoulliNB()\n",
    "        ,CalibratedClassifierCV(BernoulliNB(), cv=2, method='isotonic')\n",
    "        ,CalibratedClassifierCV(BernoulliNB(), cv=2, method='sigmoid')\n",
    "]\n",
    "\n",
    "for name,clf in zip(name,models):\n",
    "    clf.fit(Xtrain_,Ytrain)\n",
    "    y_pred = clf.predict(Xtest_)\n",
    "    proba = clf.predict_proba(Xtest_)\n",
    "    score = clf.score(Xtest_,Ytest)\n",
    "    print(name)\n",
    "    Bscore = []\n",
    "    # for i in range(len(np.unique(Ytrain))):\n",
    "    #     bs = BS(Ytest,proba[:,i],pos_label=i)\n",
    "    #     Bscore.append(bs)\n",
    "    #     print(\"\\tBrier under {}:{:.3f}\".format(train.target_names[i],bs))\n",
    "\n",
    "    # print(\"\\tAverage Brier:{:.3f}\".format(np.mean(Bscore)))\n",
    "    print(\"\\tAccuracy:{:.3f}\".format(score))\n",
    "    print(\"\\n\")"
   ]
  }
 ],
 "metadata": {
  "kernelspec": {
   "display_name": "Python 3.10.0 64-bit",
   "language": "python",
   "name": "python3"
  },
  "language_info": {
   "codemirror_mode": {
    "name": "ipython",
    "version": 3
   },
   "file_extension": ".py",
   "mimetype": "text/x-python",
   "name": "python",
   "nbconvert_exporter": "python",
   "pygments_lexer": "ipython3",
   "version": "3.10.0"
  },
  "orig_nbformat": 4,
  "vscode": {
   "interpreter": {
    "hash": "3296471c9107718e6db2104fe506aa09d2e74f3fa2347eed57e489ba84541490"
   }
  }
 },
 "nbformat": 4,
 "nbformat_minor": 2
}
