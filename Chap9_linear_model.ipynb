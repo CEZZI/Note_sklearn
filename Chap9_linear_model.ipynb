{
 "cells": [
  {
   "cell_type": "markdown",
   "metadata": {},
   "source": [
    "# Chap9 线性回归大家族\n",
    "\n",
    "# 1.概述\n",
    "\n",
    "## 1.1 线性回归大家庭\n",
    "\n",
    "最著名的就是我们的线性回归和逻辑回归，从他们衍生出了岭回归，Lasso，弹性网，除此之外，还有众多分类算法改进后的回归，比如回归树，随机森林的回归，支持向量回归，贝叶斯回归等等。除此之外，我们还有各种鲁棒的回归：比如RANSAC，Theil-Sen估计，胡贝尔回归等等。\n",
    "\n",
    "## 1.2 sklearn中的线性回归\n",
    "\n",
    "- linear_model.LinearRegression 使用普通最小二乘法的线性回归\n",
    "- linear_model.Ridge 岭回归，一种将L2作为正则化工具的线性最小二乘回归\n",
    "- linear_model.RidgeCV 带交叉验证的岭回归\n",
    "- linear_model.Lasso Lasso，使用L1作为正则化工具来训练的线性回归模型\n",
    "- linear_model.LassoCV 带交叉验证和正则化迭代路径的Lasso"
   ]
  },
  {
   "cell_type": "markdown",
   "metadata": {},
   "source": [
    "# 2.多元线性回归LinearRegression\n",
    "\n",
    "## 2.1 多元线性回归的基本原理\n",
    "\n",
    "$$\\hat{y}=X*w$$\n",
    "最小化残差平方和$\\min_w{||y-Xw||_2^2}$的，系数$w$的取值\n",
    "\n",
    "## 2.2 最小二乘法求解多元线性回归的参数\n",
    "\n",
    "求解让残差平方和RSS最小化的参数向量$w$，通过最小化真实值和预测值之间的RSS来求解参数的方法叫做最小二乘法\n",
    "$$w=(X^TX)^{-1}X^Ty$$"
   ]
  },
  {
   "cell_type": "markdown",
   "metadata": {},
   "source": [
    "## 2.3 linear_model.LinearRegression\n",
    "\n",
    "*class `sklearn.linear_model.LinearRegression` (fit_intercept=True, normalize=False, copy_X=True, n_jobs=None)*\n",
    "\n",
    "没有一个参数是必填的，没有太多的参数可以调节。线性回归的效果多半是依赖数据本身，与模型的调参没什么关系。\n",
    "\n",
    "- `fit_intercept `\n",
    "\n",
    "  默认为True是否计算此模型的截距\n",
    "- `normalize`\n",
    "    默认为False.如果为True，则特征矩阵X在进入回归之前将会被减去均值（中心化）并除以L2范式（缩放）。如果你希望进行标准化，请在fit数据之前使用preprocessing模块中的标准化专用类StandardScaler\n",
    "- `copy_X`\n",
    "    默认为True.如果为真，将在X.copy()上进行操作，否则的话原本的特征矩阵X可能被线性回归影响并覆盖\n",
    "- `n_jobs`\n",
    "    默认为None.用于计算的作业数。只在多标签的回归和数据量足够大的时候才生效。如果输入 -1，则表示使用全部的CPU来进行计算。\n",
    "\n",
    "**接口**\n",
    "- `coef`_   返回w的系数向量\n",
    "- `intercept_` 截距\n",
    "  \n",
    "  \n",
    "**过程**\n",
    "1. reg = LR() 实例化\n",
    "2. LR().fit(Xtrain,Ytrain)\n",
    "3. LR().predict(Xtest)\n",
    "\n",
    "**其余知识**\n",
    "- DataFrame的属性  feature_names 调用各个特征的名称\n",
    "- train_test_split(X,y,test_size=0.3,random_state=420)\n",
    "  - 划分训练集和测试集是乱序的，一定要恢复索引"
   ]
  },
  {
   "cell_type": "markdown",
   "metadata": {},
   "source": [
    "1.导入数据和模块"
   ]
  },
  {
   "cell_type": "code",
   "execution_count": 1,
   "metadata": {},
   "outputs": [],
   "source": [
    "from sklearn.linear_model import LinearRegression as LR\n",
    "from sklearn.model_selection import train_test_split\n",
    "from sklearn.model_selection import cross_val_score\n",
    "from sklearn.datasets import fetch_california_housing as fch #加利福尼亚房屋价值数据集\n",
    "import pandas as pd"
   ]
  },
  {
   "cell_type": "code",
   "execution_count": 3,
   "metadata": {},
   "outputs": [
    {
     "data": {
      "text/plain": [
       "(20640, 8)"
      ]
     },
     "execution_count": 3,
     "metadata": {},
     "output_type": "execute_result"
    }
   ],
   "source": [
    "housevalue = fch() #会需要下载，大家可以提前运行试试看\n",
    "\n",
    "X = pd.DataFrame(housevalue.data) #放入DataFrame中便于查看\n",
    "y = housevalue.target\n",
    "X.shape\n"
   ]
  },
  {
   "cell_type": "code",
   "execution_count": 7,
   "metadata": {},
   "outputs": [
    {
     "data": {
      "text/plain": [
       "{'data': array([[   8.3252    ,   41.        ,    6.98412698, ...,    2.55555556,\n",
       "           37.88      , -122.23      ],\n",
       "        [   8.3014    ,   21.        ,    6.23813708, ...,    2.10984183,\n",
       "           37.86      , -122.22      ],\n",
       "        [   7.2574    ,   52.        ,    8.28813559, ...,    2.80225989,\n",
       "           37.85      , -122.24      ],\n",
       "        ...,\n",
       "        [   1.7       ,   17.        ,    5.20554273, ...,    2.3256351 ,\n",
       "           39.43      , -121.22      ],\n",
       "        [   1.8672    ,   18.        ,    5.32951289, ...,    2.12320917,\n",
       "           39.43      , -121.32      ],\n",
       "        [   2.3886    ,   16.        ,    5.25471698, ...,    2.61698113,\n",
       "           39.37      , -121.24      ]]),\n",
       " 'target': array([4.526, 3.585, 3.521, ..., 0.923, 0.847, 0.894]),\n",
       " 'frame': None,\n",
       " 'target_names': ['MedHouseVal'],\n",
       " 'feature_names': ['MedInc',\n",
       "  'HouseAge',\n",
       "  'AveRooms',\n",
       "  'AveBedrms',\n",
       "  'Population',\n",
       "  'AveOccup',\n",
       "  'Latitude',\n",
       "  'Longitude'],\n",
       " 'DESCR': '.. _california_housing_dataset:\\n\\nCalifornia Housing dataset\\n--------------------------\\n\\n**Data Set Characteristics:**\\n\\n    :Number of Instances: 20640\\n\\n    :Number of Attributes: 8 numeric, predictive attributes and the target\\n\\n    :Attribute Information:\\n        - MedInc        median income in block group\\n        - HouseAge      median house age in block group\\n        - AveRooms      average number of rooms per household\\n        - AveBedrms     average number of bedrooms per household\\n        - Population    block group population\\n        - AveOccup      average number of household members\\n        - Latitude      block group latitude\\n        - Longitude     block group longitude\\n\\n    :Missing Attribute Values: None\\n\\nThis dataset was obtained from the StatLib repository.\\nhttps://www.dcc.fc.up.pt/~ltorgo/Regression/cal_housing.html\\n\\nThe target variable is the median house value for California districts,\\nexpressed in hundreds of thousands of dollars ($100,000).\\n\\nThis dataset was derived from the 1990 U.S. census, using one row per census\\nblock group. A block group is the smallest geographical unit for which the U.S.\\nCensus Bureau publishes sample data (a block group typically has a population\\nof 600 to 3,000 people).\\n\\nAn household is a group of people residing within a home. Since the average\\nnumber of rooms and bedrooms in this dataset are provided per household, these\\ncolumns may take surpinsingly large values for block groups with few households\\nand many empty houses, such as vacation resorts.\\n\\nIt can be downloaded/loaded using the\\n:func:`sklearn.datasets.fetch_california_housing` function.\\n\\n.. topic:: References\\n\\n    - Pace, R. Kelley and Ronald Barry, Sparse Spatial Autoregressions,\\n      Statistics and Probability Letters, 33 (1997) 291-297\\n'}"
      ]
     },
     "execution_count": 7,
     "metadata": {},
     "output_type": "execute_result"
    }
   ],
   "source": [
    "housevalue"
   ]
  },
  {
   "cell_type": "code",
   "execution_count": 4,
   "metadata": {},
   "outputs": [
    {
     "data": {
      "text/plain": [
       "(20640,)"
      ]
     },
     "execution_count": 4,
     "metadata": {},
     "output_type": "execute_result"
    }
   ],
   "source": [
    "y.shape\n"
   ]
  },
  {
   "cell_type": "code",
   "execution_count": 9,
   "metadata": {},
   "outputs": [
    {
     "name": "stdout",
     "output_type": "stream",
     "text": [
      "0.14999 5.00001\n"
     ]
    }
   ],
   "source": [
    "print(y.min(),y.max())\n",
    "# y 是连续性的"
   ]
  },
  {
   "cell_type": "code",
   "execution_count": 5,
   "metadata": {},
   "outputs": [
    {
     "data": {
      "text/html": [
       "<div>\n",
       "<style scoped>\n",
       "    .dataframe tbody tr th:only-of-type {\n",
       "        vertical-align: middle;\n",
       "    }\n",
       "\n",
       "    .dataframe tbody tr th {\n",
       "        vertical-align: top;\n",
       "    }\n",
       "\n",
       "    .dataframe thead th {\n",
       "        text-align: right;\n",
       "    }\n",
       "</style>\n",
       "<table border=\"1\" class=\"dataframe\">\n",
       "  <thead>\n",
       "    <tr style=\"text-align: right;\">\n",
       "      <th></th>\n",
       "      <th>0</th>\n",
       "      <th>1</th>\n",
       "      <th>2</th>\n",
       "      <th>3</th>\n",
       "      <th>4</th>\n",
       "      <th>5</th>\n",
       "      <th>6</th>\n",
       "      <th>7</th>\n",
       "    </tr>\n",
       "  </thead>\n",
       "  <tbody>\n",
       "    <tr>\n",
       "      <th>0</th>\n",
       "      <td>8.3252</td>\n",
       "      <td>41.0</td>\n",
       "      <td>6.984127</td>\n",
       "      <td>1.023810</td>\n",
       "      <td>322.0</td>\n",
       "      <td>2.555556</td>\n",
       "      <td>37.88</td>\n",
       "      <td>-122.23</td>\n",
       "    </tr>\n",
       "    <tr>\n",
       "      <th>1</th>\n",
       "      <td>8.3014</td>\n",
       "      <td>21.0</td>\n",
       "      <td>6.238137</td>\n",
       "      <td>0.971880</td>\n",
       "      <td>2401.0</td>\n",
       "      <td>2.109842</td>\n",
       "      <td>37.86</td>\n",
       "      <td>-122.22</td>\n",
       "    </tr>\n",
       "    <tr>\n",
       "      <th>2</th>\n",
       "      <td>7.2574</td>\n",
       "      <td>52.0</td>\n",
       "      <td>8.288136</td>\n",
       "      <td>1.073446</td>\n",
       "      <td>496.0</td>\n",
       "      <td>2.802260</td>\n",
       "      <td>37.85</td>\n",
       "      <td>-122.24</td>\n",
       "    </tr>\n",
       "    <tr>\n",
       "      <th>3</th>\n",
       "      <td>5.6431</td>\n",
       "      <td>52.0</td>\n",
       "      <td>5.817352</td>\n",
       "      <td>1.073059</td>\n",
       "      <td>558.0</td>\n",
       "      <td>2.547945</td>\n",
       "      <td>37.85</td>\n",
       "      <td>-122.25</td>\n",
       "    </tr>\n",
       "    <tr>\n",
       "      <th>4</th>\n",
       "      <td>3.8462</td>\n",
       "      <td>52.0</td>\n",
       "      <td>6.281853</td>\n",
       "      <td>1.081081</td>\n",
       "      <td>565.0</td>\n",
       "      <td>2.181467</td>\n",
       "      <td>37.85</td>\n",
       "      <td>-122.25</td>\n",
       "    </tr>\n",
       "  </tbody>\n",
       "</table>\n",
       "</div>"
      ],
      "text/plain": [
       "        0     1         2         3       4         5      6       7\n",
       "0  8.3252  41.0  6.984127  1.023810   322.0  2.555556  37.88 -122.23\n",
       "1  8.3014  21.0  6.238137  0.971880  2401.0  2.109842  37.86 -122.22\n",
       "2  7.2574  52.0  8.288136  1.073446   496.0  2.802260  37.85 -122.24\n",
       "3  5.6431  52.0  5.817352  1.073059   558.0  2.547945  37.85 -122.25\n",
       "4  3.8462  52.0  6.281853  1.081081   565.0  2.181467  37.85 -122.25"
      ]
     },
     "execution_count": 5,
     "metadata": {},
     "output_type": "execute_result"
    }
   ],
   "source": [
    "X.head()\n"
   ]
  },
  {
   "cell_type": "code",
   "execution_count": 8,
   "metadata": {},
   "outputs": [
    {
     "data": {
      "text/plain": [
       "['MedInc',\n",
       " 'HouseAge',\n",
       " 'AveRooms',\n",
       " 'AveBedrms',\n",
       " 'Population',\n",
       " 'AveOccup',\n",
       " 'Latitude',\n",
       " 'Longitude']"
      ]
     },
     "execution_count": 8,
     "metadata": {},
     "output_type": "execute_result"
    }
   ],
   "source": [
    "housevalue.feature_names\n"
   ]
  },
  {
   "cell_type": "code",
   "execution_count": 10,
   "metadata": {},
   "outputs": [
    {
     "data": {
      "text/html": [
       "<div>\n",
       "<style scoped>\n",
       "    .dataframe tbody tr th:only-of-type {\n",
       "        vertical-align: middle;\n",
       "    }\n",
       "\n",
       "    .dataframe tbody tr th {\n",
       "        vertical-align: top;\n",
       "    }\n",
       "\n",
       "    .dataframe thead th {\n",
       "        text-align: right;\n",
       "    }\n",
       "</style>\n",
       "<table border=\"1\" class=\"dataframe\">\n",
       "  <thead>\n",
       "    <tr style=\"text-align: right;\">\n",
       "      <th></th>\n",
       "      <th>MedInc</th>\n",
       "      <th>HouseAge</th>\n",
       "      <th>AveRooms</th>\n",
       "      <th>AveBedrms</th>\n",
       "      <th>Population</th>\n",
       "      <th>AveOccup</th>\n",
       "      <th>Latitude</th>\n",
       "      <th>Longitude</th>\n",
       "    </tr>\n",
       "  </thead>\n",
       "  <tbody>\n",
       "    <tr>\n",
       "      <th>0</th>\n",
       "      <td>8.3252</td>\n",
       "      <td>41.0</td>\n",
       "      <td>6.984127</td>\n",
       "      <td>1.023810</td>\n",
       "      <td>322.0</td>\n",
       "      <td>2.555556</td>\n",
       "      <td>37.88</td>\n",
       "      <td>-122.23</td>\n",
       "    </tr>\n",
       "    <tr>\n",
       "      <th>1</th>\n",
       "      <td>8.3014</td>\n",
       "      <td>21.0</td>\n",
       "      <td>6.238137</td>\n",
       "      <td>0.971880</td>\n",
       "      <td>2401.0</td>\n",
       "      <td>2.109842</td>\n",
       "      <td>37.86</td>\n",
       "      <td>-122.22</td>\n",
       "    </tr>\n",
       "    <tr>\n",
       "      <th>2</th>\n",
       "      <td>7.2574</td>\n",
       "      <td>52.0</td>\n",
       "      <td>8.288136</td>\n",
       "      <td>1.073446</td>\n",
       "      <td>496.0</td>\n",
       "      <td>2.802260</td>\n",
       "      <td>37.85</td>\n",
       "      <td>-122.24</td>\n",
       "    </tr>\n",
       "    <tr>\n",
       "      <th>3</th>\n",
       "      <td>5.6431</td>\n",
       "      <td>52.0</td>\n",
       "      <td>5.817352</td>\n",
       "      <td>1.073059</td>\n",
       "      <td>558.0</td>\n",
       "      <td>2.547945</td>\n",
       "      <td>37.85</td>\n",
       "      <td>-122.25</td>\n",
       "    </tr>\n",
       "    <tr>\n",
       "      <th>4</th>\n",
       "      <td>3.8462</td>\n",
       "      <td>52.0</td>\n",
       "      <td>6.281853</td>\n",
       "      <td>1.081081</td>\n",
       "      <td>565.0</td>\n",
       "      <td>2.181467</td>\n",
       "      <td>37.85</td>\n",
       "      <td>-122.25</td>\n",
       "    </tr>\n",
       "  </tbody>\n",
       "</table>\n",
       "</div>"
      ],
      "text/plain": [
       "   MedInc  HouseAge  AveRooms  AveBedrms  Population  AveOccup  Latitude  \\\n",
       "0  8.3252      41.0  6.984127   1.023810       322.0  2.555556     37.88   \n",
       "1  8.3014      21.0  6.238137   0.971880      2401.0  2.109842     37.86   \n",
       "2  7.2574      52.0  8.288136   1.073446       496.0  2.802260     37.85   \n",
       "3  5.6431      52.0  5.817352   1.073059       558.0  2.547945     37.85   \n",
       "4  3.8462      52.0  6.281853   1.081081       565.0  2.181467     37.85   \n",
       "\n",
       "   Longitude  \n",
       "0    -122.23  \n",
       "1    -122.22  \n",
       "2    -122.24  \n",
       "3    -122.25  \n",
       "4    -122.25  "
      ]
     },
     "execution_count": 10,
     "metadata": {},
     "output_type": "execute_result"
    }
   ],
   "source": [
    "X.columns = housevalue.feature_names\n",
    "X.head()"
   ]
  },
  {
   "cell_type": "markdown",
   "metadata": {},
   "source": [
    "2.划分测试集和训练集"
   ]
  },
  {
   "cell_type": "code",
   "execution_count": 12,
   "metadata": {},
   "outputs": [
    {
     "data": {
      "text/html": [
       "<div>\n",
       "<style scoped>\n",
       "    .dataframe tbody tr th:only-of-type {\n",
       "        vertical-align: middle;\n",
       "    }\n",
       "\n",
       "    .dataframe tbody tr th {\n",
       "        vertical-align: top;\n",
       "    }\n",
       "\n",
       "    .dataframe thead th {\n",
       "        text-align: right;\n",
       "    }\n",
       "</style>\n",
       "<table border=\"1\" class=\"dataframe\">\n",
       "  <thead>\n",
       "    <tr style=\"text-align: right;\">\n",
       "      <th></th>\n",
       "      <th>MedInc</th>\n",
       "      <th>HouseAge</th>\n",
       "      <th>AveRooms</th>\n",
       "      <th>AveBedrms</th>\n",
       "      <th>Population</th>\n",
       "      <th>AveOccup</th>\n",
       "      <th>Latitude</th>\n",
       "      <th>Longitude</th>\n",
       "    </tr>\n",
       "  </thead>\n",
       "  <tbody>\n",
       "    <tr>\n",
       "      <th>17073</th>\n",
       "      <td>4.1776</td>\n",
       "      <td>35.0</td>\n",
       "      <td>4.425172</td>\n",
       "      <td>1.030683</td>\n",
       "      <td>5380.0</td>\n",
       "      <td>3.368817</td>\n",
       "      <td>37.48</td>\n",
       "      <td>-122.19</td>\n",
       "    </tr>\n",
       "    <tr>\n",
       "      <th>16956</th>\n",
       "      <td>5.3261</td>\n",
       "      <td>38.0</td>\n",
       "      <td>6.267516</td>\n",
       "      <td>1.089172</td>\n",
       "      <td>429.0</td>\n",
       "      <td>2.732484</td>\n",
       "      <td>37.53</td>\n",
       "      <td>-122.30</td>\n",
       "    </tr>\n",
       "    <tr>\n",
       "      <th>20012</th>\n",
       "      <td>1.9439</td>\n",
       "      <td>26.0</td>\n",
       "      <td>5.768977</td>\n",
       "      <td>1.141914</td>\n",
       "      <td>891.0</td>\n",
       "      <td>2.940594</td>\n",
       "      <td>36.02</td>\n",
       "      <td>-119.08</td>\n",
       "    </tr>\n",
       "    <tr>\n",
       "      <th>13072</th>\n",
       "      <td>2.5000</td>\n",
       "      <td>22.0</td>\n",
       "      <td>4.916000</td>\n",
       "      <td>1.012000</td>\n",
       "      <td>733.0</td>\n",
       "      <td>2.932000</td>\n",
       "      <td>38.57</td>\n",
       "      <td>-121.31</td>\n",
       "    </tr>\n",
       "    <tr>\n",
       "      <th>8457</th>\n",
       "      <td>3.8250</td>\n",
       "      <td>34.0</td>\n",
       "      <td>5.036765</td>\n",
       "      <td>1.098039</td>\n",
       "      <td>1134.0</td>\n",
       "      <td>2.779412</td>\n",
       "      <td>33.91</td>\n",
       "      <td>-118.35</td>\n",
       "    </tr>\n",
       "  </tbody>\n",
       "</table>\n",
       "</div>"
      ],
      "text/plain": [
       "       MedInc  HouseAge  AveRooms  AveBedrms  Population  AveOccup  Latitude  \\\n",
       "17073  4.1776      35.0  4.425172   1.030683      5380.0  3.368817     37.48   \n",
       "16956  5.3261      38.0  6.267516   1.089172       429.0  2.732484     37.53   \n",
       "20012  1.9439      26.0  5.768977   1.141914       891.0  2.940594     36.02   \n",
       "13072  2.5000      22.0  4.916000   1.012000       733.0  2.932000     38.57   \n",
       "8457   3.8250      34.0  5.036765   1.098039      1134.0  2.779412     33.91   \n",
       "\n",
       "       Longitude  \n",
       "17073    -122.19  \n",
       "16956    -122.30  \n",
       "20012    -119.08  \n",
       "13072    -121.31  \n",
       "8457     -118.35  "
      ]
     },
     "execution_count": 12,
     "metadata": {},
     "output_type": "execute_result"
    }
   ],
   "source": [
    "Xtrain, Xtest, Ytrain, Ytest = train_test_split(X,y,test_size=0.3,random_state=420)\n",
    "Xtrain.head()"
   ]
  },
  {
   "cell_type": "code",
   "execution_count": 14,
   "metadata": {},
   "outputs": [
    {
     "data": {
      "text/html": [
       "<div>\n",
       "<style scoped>\n",
       "    .dataframe tbody tr th:only-of-type {\n",
       "        vertical-align: middle;\n",
       "    }\n",
       "\n",
       "    .dataframe tbody tr th {\n",
       "        vertical-align: top;\n",
       "    }\n",
       "\n",
       "    .dataframe thead th {\n",
       "        text-align: right;\n",
       "    }\n",
       "</style>\n",
       "<table border=\"1\" class=\"dataframe\">\n",
       "  <thead>\n",
       "    <tr style=\"text-align: right;\">\n",
       "      <th></th>\n",
       "      <th>MedInc</th>\n",
       "      <th>HouseAge</th>\n",
       "      <th>AveRooms</th>\n",
       "      <th>AveBedrms</th>\n",
       "      <th>Population</th>\n",
       "      <th>AveOccup</th>\n",
       "      <th>Latitude</th>\n",
       "      <th>Longitude</th>\n",
       "    </tr>\n",
       "  </thead>\n",
       "  <tbody>\n",
       "    <tr>\n",
       "      <th>0</th>\n",
       "      <td>4.1776</td>\n",
       "      <td>35.0</td>\n",
       "      <td>4.425172</td>\n",
       "      <td>1.030683</td>\n",
       "      <td>5380.0</td>\n",
       "      <td>3.368817</td>\n",
       "      <td>37.48</td>\n",
       "      <td>-122.19</td>\n",
       "    </tr>\n",
       "    <tr>\n",
       "      <th>1</th>\n",
       "      <td>5.3261</td>\n",
       "      <td>38.0</td>\n",
       "      <td>6.267516</td>\n",
       "      <td>1.089172</td>\n",
       "      <td>429.0</td>\n",
       "      <td>2.732484</td>\n",
       "      <td>37.53</td>\n",
       "      <td>-122.30</td>\n",
       "    </tr>\n",
       "    <tr>\n",
       "      <th>2</th>\n",
       "      <td>1.9439</td>\n",
       "      <td>26.0</td>\n",
       "      <td>5.768977</td>\n",
       "      <td>1.141914</td>\n",
       "      <td>891.0</td>\n",
       "      <td>2.940594</td>\n",
       "      <td>36.02</td>\n",
       "      <td>-119.08</td>\n",
       "    </tr>\n",
       "    <tr>\n",
       "      <th>3</th>\n",
       "      <td>2.5000</td>\n",
       "      <td>22.0</td>\n",
       "      <td>4.916000</td>\n",
       "      <td>1.012000</td>\n",
       "      <td>733.0</td>\n",
       "      <td>2.932000</td>\n",
       "      <td>38.57</td>\n",
       "      <td>-121.31</td>\n",
       "    </tr>\n",
       "    <tr>\n",
       "      <th>4</th>\n",
       "      <td>3.8250</td>\n",
       "      <td>34.0</td>\n",
       "      <td>5.036765</td>\n",
       "      <td>1.098039</td>\n",
       "      <td>1134.0</td>\n",
       "      <td>2.779412</td>\n",
       "      <td>33.91</td>\n",
       "      <td>-118.35</td>\n",
       "    </tr>\n",
       "  </tbody>\n",
       "</table>\n",
       "</div>"
      ],
      "text/plain": [
       "   MedInc  HouseAge  AveRooms  AveBedrms  Population  AveOccup  Latitude  \\\n",
       "0  4.1776      35.0  4.425172   1.030683      5380.0  3.368817     37.48   \n",
       "1  5.3261      38.0  6.267516   1.089172       429.0  2.732484     37.53   \n",
       "2  1.9439      26.0  5.768977   1.141914       891.0  2.940594     36.02   \n",
       "3  2.5000      22.0  4.916000   1.012000       733.0  2.932000     38.57   \n",
       "4  3.8250      34.0  5.036765   1.098039      1134.0  2.779412     33.91   \n",
       "\n",
       "   Longitude  \n",
       "0    -122.19  \n",
       "1    -122.30  \n",
       "2    -119.08  \n",
       "3    -121.31  \n",
       "4    -118.35  "
      ]
     },
     "execution_count": 14,
     "metadata": {},
     "output_type": "execute_result"
    }
   ],
   "source": [
    "# 恢复索引\n",
    "for i in [Xtrain,Xtest]:\n",
    "    i.index = range(i.shape[0])\n",
    "\n",
    "Xtrain.head()"
   ]
  },
  {
   "cell_type": "markdown",
   "metadata": {},
   "source": [
    "4.建模"
   ]
  },
  {
   "cell_type": "code",
   "execution_count": 18,
   "metadata": {},
   "outputs": [
    {
     "name": "stdout",
     "output_type": "stream",
     "text": [
      "-0.6528439725036108 7.1461982142708536\n"
     ]
    }
   ],
   "source": [
    "#————————————————————————————建立线性模型————————————————————————————\n",
    "\n",
    "reg = LR(no).fit(Xtrain,Ytrain)\n",
    "yhat = reg.fit(Xtrain,Ytrain)\n",
    "yhat=reg.predict(Xtest)\n",
    "yhat\n",
    "print(yhat.min(),yhat.max())\n",
    "\n",
    "# 预测范围应该在0-5之间\n",
    "# 预测的不是很准...."
   ]
  },
  {
   "cell_type": "code",
   "execution_count": 20,
   "metadata": {},
   "outputs": [
    {
     "data": {
      "text/plain": [
       "array([ 4.37358931e-01,  1.02112683e-02, -1.07807216e-01,  6.26433828e-01,\n",
       "        5.21612535e-07, -3.34850965e-03, -4.13095938e-01, -4.26210954e-01])"
      ]
     },
     "execution_count": 20,
     "metadata": {},
     "output_type": "execute_result"
    }
   ],
   "source": [
    "reg.coef_  # w的系数向量"
   ]
  },
  {
   "cell_type": "code",
   "execution_count": 21,
   "metadata": {},
   "outputs": [
    {
     "data": {
      "text/plain": [
       "-36.25689322920381"
      ]
     },
     "execution_count": 21,
     "metadata": {},
     "output_type": "execute_result"
    }
   ],
   "source": [
    "reg.intercept_ # 截距"
   ]
  },
  {
   "cell_type": "code",
   "execution_count": 22,
   "metadata": {},
   "outputs": [
    {
     "data": {
      "text/plain": [
       "[('MedInc', 0.43735893059684006),\n",
       " ('HouseAge', 0.010211268294493883),\n",
       " ('AveRooms', -0.10780721617317668),\n",
       " ('AveBedrms', 0.6264338275363759),\n",
       " ('Population', 5.216125353348089e-07),\n",
       " ('AveOccup', -0.003348509646333704),\n",
       " ('Latitude', -0.4130959378947717),\n",
       " ('Longitude', -0.4262109536208464)]"
      ]
     },
     "execution_count": 22,
     "metadata": {},
     "output_type": "execute_result"
    }
   ],
   "source": [
    "[*zip(Xtrain.columns,reg.coef_)]\n",
    "\n",
    "\n",
    "# 最重要的特征是 平均卧室数 最不重要的特征人口"
   ]
  },
  {
   "cell_type": "markdown",
   "metadata": {},
   "source": [
    "# 3.回归类的模型评估指标\n",
    "\n",
    "1. 是否预测到了正确的数值\n",
    "2. 是否拟合到了足够的信息\n",
    "\n",
    "\n",
    "## 3.1 预测是否正确\n",
    "\n",
    "均方误差MSE（mean squared error）来衡量我们的预测值和真实值的差异$MSE=\\frac{1}{m}\\sum{(y-y_i)^2}$\n",
    "\n",
    "两种方式调用这个评估指标\n",
    "\n",
    "1. 使用sklearn专用的模型评估模块metrics里的类mean_squared_error，\n",
    "   -  `mean_absolute_error(Yhat,Ytest)`\n",
    "2. 调用交叉验证的类cross_val_score并使用里面的scoring参数来设置使用均方误差。\n",
    "   - `cross_val_score(reg,X,y,cv=10,scoring='neg_mean_squared_error')`\n",
    "\n",
    "\n",
    "- 按序查看模型的评估指标 `sorted(sklearn.metrics.SCORERS.keys())`"
   ]
  },
  {
   "cell_type": "code",
   "execution_count": 25,
   "metadata": {},
   "outputs": [
    {
     "data": {
      "text/plain": [
       "0.5307069814636164"
      ]
     },
     "execution_count": 25,
     "metadata": {},
     "output_type": "execute_result"
    }
   ],
   "source": [
    "from sklearn.metrics import mean_absolute_error as MSE\n",
    "\n",
    "MSE(yhat,Ytest)"
   ]
  },
  {
   "cell_type": "code",
   "execution_count": 26,
   "metadata": {},
   "outputs": [
    {
     "data": {
      "text/plain": [
       "2.0819292877906976"
      ]
     },
     "execution_count": 26,
     "metadata": {},
     "output_type": "execute_result"
    }
   ],
   "source": [
    "Ytest.mean()   # 均值在2 均方误差在0.5  误差大概在20% \n",
    "# 一般可以接受的均方误差在5%"
   ]
  },
  {
   "cell_type": "code",
   "execution_count": 29,
   "metadata": {},
   "outputs": [
    {
     "data": {
      "text/plain": [
       "['accuracy',\n",
       " 'adjusted_mutual_info_score',\n",
       " 'adjusted_rand_score',\n",
       " 'average_precision',\n",
       " 'balanced_accuracy',\n",
       " 'completeness_score',\n",
       " 'explained_variance',\n",
       " 'f1',\n",
       " 'f1_macro',\n",
       " 'f1_micro',\n",
       " 'f1_samples',\n",
       " 'f1_weighted',\n",
       " 'fowlkes_mallows_score',\n",
       " 'homogeneity_score',\n",
       " 'jaccard',\n",
       " 'jaccard_macro',\n",
       " 'jaccard_micro',\n",
       " 'jaccard_samples',\n",
       " 'jaccard_weighted',\n",
       " 'matthews_corrcoef',\n",
       " 'max_error',\n",
       " 'mutual_info_score',\n",
       " 'neg_brier_score',\n",
       " 'neg_log_loss',\n",
       " 'neg_mean_absolute_error',\n",
       " 'neg_mean_absolute_percentage_error',\n",
       " 'neg_mean_gamma_deviance',\n",
       " 'neg_mean_poisson_deviance',\n",
       " 'neg_mean_squared_error',\n",
       " 'neg_mean_squared_log_error',\n",
       " 'neg_median_absolute_error',\n",
       " 'neg_root_mean_squared_error',\n",
       " 'normalized_mutual_info_score',\n",
       " 'precision',\n",
       " 'precision_macro',\n",
       " 'precision_micro',\n",
       " 'precision_samples',\n",
       " 'precision_weighted',\n",
       " 'r2',\n",
       " 'rand_score',\n",
       " 'recall',\n",
       " 'recall_macro',\n",
       " 'recall_micro',\n",
       " 'recall_samples',\n",
       " 'recall_weighted',\n",
       " 'roc_auc',\n",
       " 'roc_auc_ovo',\n",
       " 'roc_auc_ovo_weighted',\n",
       " 'roc_auc_ovr',\n",
       " 'roc_auc_ovr_weighted',\n",
       " 'top_k_accuracy',\n",
       " 'v_measure_score']"
      ]
     },
     "execution_count": 29,
     "metadata": {},
     "output_type": "execute_result"
    }
   ],
   "source": [
    "#————————————————————————————查看模型评估指标————————————————————————————\n",
    "import sklearn\n",
    "sorted(sklearn.metrics.SCORERS.keys())"
   ]
  },
  {
   "cell_type": "code",
   "execution_count": 27,
   "metadata": {},
   "outputs": [
    {
     "data": {
      "text/plain": [
       "array([-0.48922052, -0.43335865, -0.8864377 , -0.39091641, -0.7479731 ,\n",
       "       -0.52980278, -0.28798456, -0.77326441, -0.64305557, -0.3275106 ])"
      ]
     },
     "execution_count": 27,
     "metadata": {},
     "output_type": "execute_result"
    }
   ],
   "source": [
    "cross_val_score(reg,X,y,cv=10,scoring='neg_mean_squared_error')"
   ]
  },
  {
   "cell_type": "markdown",
   "metadata": {},
   "source": [
    "**负的均方误差**\n",
    "\n",
    "sklearn中计算的是负的均方误差，符号表示的是损失。真正的均方误差只需要去掉符号"
   ]
  },
  {
   "cell_type": "markdown",
   "metadata": {},
   "source": [
    "## 3.2 是否拟合足够的信息\n",
    "\n",
    "为了衡量模型对数据上的信息量的捕捉，我们定义了$R^2$\n",
    "分子是真实值和预测值之差的差值，也就是我们的模型没有捕获到的信息总量，分母是真实标签所带的信息量，所以其衡量的是1 - 我们的模型没有捕获到的信息量占真实标签中所带的信息量的比例，所以，$R^2$越接近1越好。\n",
    "\n",
    "**调用方法**\n",
    "1. 直接从metrics中导入r2_score，输入预测值和真实值后打分\n",
    "    - `r2_score(Ytest,Yhat)`  真实值要写在预测值的前面\n",
    "    - `r2_score(y_true = Ytest,y_pred = yhat)`\n",
    "2. 线性回归LinearRegression的接口score来进行调用\n",
    "    - LR().score(Xtest,Ytest)\n",
    "3. 交叉验证中，输入\"r2\"来调用。\n",
    "   - cross_val_score(reg,X,y,cv=10,scoring=\"r2\").mean() 取10次交叉验证的均值 \n"
   ]
  },
  {
   "cell_type": "code",
   "execution_count": 30,
   "metadata": {},
   "outputs": [
    {
     "data": {
      "text/plain": [
       "0.33806537615559895"
      ]
     },
     "execution_count": 30,
     "metadata": {},
     "output_type": "execute_result"
    }
   ],
   "source": [
    "#————————————————————————————法1————————————————————————————\n",
    "from sklearn.metrics import r2_score\n",
    "\n",
    "r2_score(yhat,Ytest)  # 输入的顺序不对"
   ]
  },
  {
   "cell_type": "code",
   "execution_count": 31,
   "metadata": {},
   "outputs": [
    {
     "data": {
      "text/plain": [
       "0.6043668160178816"
      ]
     },
     "execution_count": 31,
     "metadata": {},
     "output_type": "execute_result"
    }
   ],
   "source": [
    "#————————————————————————————法2————————————————————————————\n",
    "r2 = reg.score(Xtest,Ytest)\n",
    "r2"
   ]
  },
  {
   "cell_type": "markdown",
   "metadata": {},
   "source": [
    "**相同的评估指标不同的结果**\n",
    "\n",
    "- 调用r2_score时，需要指定真实值和测试值\n",
    "  - 利用shift tab 检测那个值在前面"
   ]
  },
  {
   "cell_type": "code",
   "execution_count": 32,
   "metadata": {},
   "outputs": [
    {
     "data": {
      "text/plain": [
       "0.6043668160178816"
      ]
     },
     "execution_count": 32,
     "metadata": {},
     "output_type": "execute_result"
    }
   ],
   "source": [
    "#使用shift tab键来检查究竟哪个值先进行输入\n",
    "r2_score(Ytest,yhat)\n"
   ]
  },
  {
   "cell_type": "code",
   "execution_count": 33,
   "metadata": {},
   "outputs": [
    {
     "data": {
      "text/plain": [
       "0.6043668160178816"
      ]
     },
     "execution_count": 33,
     "metadata": {},
     "output_type": "execute_result"
    }
   ],
   "source": [
    "#或者你也可以指定参数，就不必在意顺序了\n",
    "r2_score(y_true = Ytest,y_pred = yhat)"
   ]
  },
  {
   "cell_type": "code",
   "execution_count": 34,
   "metadata": {},
   "outputs": [
    {
     "data": {
      "text/plain": [
       "0.5110068610524554"
      ]
     },
     "execution_count": 34,
     "metadata": {},
     "output_type": "execute_result"
    }
   ],
   "source": [
    "#————————————————————————————法3————————————————————————————\n",
    "cross_val_score(reg,X,y,cv=10,scoring=\"r2\").mean()"
   ]
  },
  {
   "cell_type": "markdown",
   "metadata": {},
   "source": [
    "数据集上的MSE其实不是一个很大的数（0.5），但我们的R2不高，这证明我们的模型比较好地拟合了一部分数据的数值，却没有能正确拟合数据的分布"
   ]
  },
  {
   "cell_type": "code",
   "execution_count": 35,
   "metadata": {},
   "outputs": [
    {
     "data": {
      "text/plain": [
       "[0.14999,\n",
       " 0.14999,\n",
       " 0.225,\n",
       " 0.325,\n",
       " 0.35,\n",
       " 0.375,\n",
       " 0.388,\n",
       " 0.392,\n",
       " 0.394,\n",
       " 0.396,\n",
       " 0.4,\n",
       " 0.404,\n",
       " 0.409,\n",
       " 0.41,\n",
       " 0.43,\n",
       " 0.435,\n",
       " 0.437,\n",
       " 0.439,\n",
       " 0.44,\n",
       " 0.44,\n",
       " 0.444,\n",
       " 0.446,\n",
       " 0.45,\n",
       " 0.45,\n",
       " 0.45,\n",
       " 0.45,\n",
       " 0.455,\n",
       " 0.455,\n",
       " 0.455,\n",
       " 0.456,\n",
       " 0.462,\n",
       " 0.463,\n",
       " 0.471,\n",
       " 0.475,\n",
       " 0.478,\n",
       " 0.478,\n",
       " 0.481,\n",
       " 0.481,\n",
       " 0.483,\n",
       " 0.483,\n",
       " 0.485,\n",
       " 0.485,\n",
       " 0.488,\n",
       " 0.489,\n",
       " 0.49,\n",
       " 0.492,\n",
       " 0.494,\n",
       " 0.494,\n",
       " 0.494,\n",
       " 0.495,\n",
       " 0.496,\n",
       " 0.5,\n",
       " 0.5,\n",
       " 0.504,\n",
       " 0.505,\n",
       " 0.506,\n",
       " 0.506,\n",
       " 0.508,\n",
       " 0.508,\n",
       " 0.51,\n",
       " 0.516,\n",
       " 0.519,\n",
       " 0.52,\n",
       " 0.521,\n",
       " 0.523,\n",
       " 0.523,\n",
       " 0.525,\n",
       " 0.525,\n",
       " 0.525,\n",
       " 0.525,\n",
       " 0.525,\n",
       " 0.527,\n",
       " 0.527,\n",
       " 0.528,\n",
       " 0.529,\n",
       " 0.53,\n",
       " 0.531,\n",
       " 0.532,\n",
       " 0.534,\n",
       " 0.535,\n",
       " 0.535,\n",
       " 0.535,\n",
       " 0.538,\n",
       " 0.538,\n",
       " 0.539,\n",
       " 0.539,\n",
       " 0.539,\n",
       " 0.541,\n",
       " 0.541,\n",
       " 0.542,\n",
       " 0.542,\n",
       " 0.542,\n",
       " 0.543,\n",
       " 0.543,\n",
       " 0.544,\n",
       " 0.544,\n",
       " 0.546,\n",
       " 0.547,\n",
       " 0.55,\n",
       " 0.55,\n",
       " 0.55,\n",
       " 0.55,\n",
       " 0.55,\n",
       " 0.55,\n",
       " 0.55,\n",
       " 0.55,\n",
       " 0.551,\n",
       " 0.553,\n",
       " 0.553,\n",
       " 0.553,\n",
       " 0.554,\n",
       " 0.554,\n",
       " 0.554,\n",
       " 0.555,\n",
       " 0.556,\n",
       " 0.556,\n",
       " 0.557,\n",
       " 0.558,\n",
       " 0.558,\n",
       " 0.559,\n",
       " 0.559,\n",
       " 0.559,\n",
       " 0.559,\n",
       " 0.56,\n",
       " 0.56,\n",
       " 0.562,\n",
       " 0.566,\n",
       " 0.567,\n",
       " 0.567,\n",
       " 0.567,\n",
       " 0.567,\n",
       " 0.567,\n",
       " 0.568,\n",
       " 0.57,\n",
       " 0.571,\n",
       " 0.572,\n",
       " 0.574,\n",
       " 0.574,\n",
       " 0.575,\n",
       " 0.575,\n",
       " 0.575,\n",
       " 0.575,\n",
       " 0.576,\n",
       " 0.577,\n",
       " 0.577,\n",
       " 0.577,\n",
       " 0.578,\n",
       " 0.579,\n",
       " 0.579,\n",
       " 0.579,\n",
       " 0.58,\n",
       " 0.58,\n",
       " 0.58,\n",
       " 0.58,\n",
       " 0.58,\n",
       " 0.58,\n",
       " 0.581,\n",
       " 0.581,\n",
       " 0.581,\n",
       " 0.581,\n",
       " 0.582,\n",
       " 0.583,\n",
       " 0.583,\n",
       " 0.583,\n",
       " 0.583,\n",
       " 0.584,\n",
       " 0.586,\n",
       " 0.586,\n",
       " 0.587,\n",
       " 0.588,\n",
       " 0.588,\n",
       " 0.59,\n",
       " 0.59,\n",
       " 0.59,\n",
       " 0.59,\n",
       " 0.591,\n",
       " 0.591,\n",
       " 0.593,\n",
       " 0.593,\n",
       " 0.594,\n",
       " 0.594,\n",
       " 0.594,\n",
       " 0.594,\n",
       " 0.595,\n",
       " 0.596,\n",
       " 0.596,\n",
       " 0.597,\n",
       " 0.598,\n",
       " 0.598,\n",
       " 0.6,\n",
       " 0.6,\n",
       " 0.6,\n",
       " 0.602,\n",
       " 0.602,\n",
       " 0.603,\n",
       " 0.604,\n",
       " 0.604,\n",
       " 0.604,\n",
       " 0.605,\n",
       " 0.606,\n",
       " 0.606,\n",
       " 0.608,\n",
       " 0.608,\n",
       " 0.608,\n",
       " 0.609,\n",
       " 0.609,\n",
       " 0.611,\n",
       " 0.612,\n",
       " 0.612,\n",
       " 0.613,\n",
       " 0.613,\n",
       " 0.613,\n",
       " 0.614,\n",
       " 0.615,\n",
       " 0.616,\n",
       " 0.616,\n",
       " 0.616,\n",
       " 0.616,\n",
       " 0.618,\n",
       " 0.618,\n",
       " 0.618,\n",
       " 0.619,\n",
       " 0.619,\n",
       " 0.62,\n",
       " 0.62,\n",
       " 0.62,\n",
       " 0.62,\n",
       " 0.62,\n",
       " 0.62,\n",
       " 0.62,\n",
       " 0.62,\n",
       " 0.621,\n",
       " 0.621,\n",
       " 0.621,\n",
       " 0.622,\n",
       " 0.623,\n",
       " 0.625,\n",
       " 0.625,\n",
       " 0.625,\n",
       " 0.627,\n",
       " 0.627,\n",
       " 0.628,\n",
       " 0.628,\n",
       " 0.629,\n",
       " 0.63,\n",
       " 0.63,\n",
       " 0.63,\n",
       " 0.63,\n",
       " 0.631,\n",
       " 0.631,\n",
       " 0.632,\n",
       " 0.632,\n",
       " 0.633,\n",
       " 0.633,\n",
       " 0.633,\n",
       " 0.634,\n",
       " 0.634,\n",
       " 0.635,\n",
       " 0.635,\n",
       " 0.635,\n",
       " 0.635,\n",
       " 0.635,\n",
       " 0.637,\n",
       " 0.637,\n",
       " 0.637,\n",
       " 0.637,\n",
       " 0.638,\n",
       " 0.639,\n",
       " 0.643,\n",
       " 0.644,\n",
       " 0.644,\n",
       " 0.646,\n",
       " 0.646,\n",
       " 0.646,\n",
       " 0.646,\n",
       " 0.647,\n",
       " 0.647,\n",
       " 0.647,\n",
       " 0.648,\n",
       " 0.65,\n",
       " 0.65,\n",
       " 0.65,\n",
       " 0.652,\n",
       " 0.652,\n",
       " 0.654,\n",
       " 0.654,\n",
       " 0.654,\n",
       " 0.655,\n",
       " 0.656,\n",
       " 0.656,\n",
       " 0.656,\n",
       " 0.656,\n",
       " 0.657,\n",
       " 0.658,\n",
       " 0.658,\n",
       " 0.659,\n",
       " 0.659,\n",
       " 0.659,\n",
       " 0.659,\n",
       " 0.659,\n",
       " 0.66,\n",
       " 0.661,\n",
       " 0.661,\n",
       " 0.662,\n",
       " 0.662,\n",
       " 0.663,\n",
       " 0.664,\n",
       " 0.664,\n",
       " 0.664,\n",
       " 0.668,\n",
       " 0.669,\n",
       " 0.669,\n",
       " 0.67,\n",
       " 0.67,\n",
       " 0.67,\n",
       " 0.67,\n",
       " 0.67,\n",
       " 0.67,\n",
       " 0.672,\n",
       " 0.672,\n",
       " 0.672,\n",
       " 0.673,\n",
       " 0.673,\n",
       " 0.674,\n",
       " 0.675,\n",
       " 0.675,\n",
       " 0.675,\n",
       " 0.675,\n",
       " 0.675,\n",
       " 0.675,\n",
       " 0.675,\n",
       " 0.675,\n",
       " 0.675,\n",
       " 0.675,\n",
       " 0.675,\n",
       " 0.675,\n",
       " 0.675,\n",
       " 0.676,\n",
       " 0.676,\n",
       " 0.677,\n",
       " 0.678,\n",
       " 0.68,\n",
       " 0.68,\n",
       " 0.681,\n",
       " 0.682,\n",
       " 0.682,\n",
       " 0.682,\n",
       " 0.682,\n",
       " 0.683,\n",
       " 0.683,\n",
       " 0.683,\n",
       " 0.684,\n",
       " 0.684,\n",
       " 0.685,\n",
       " 0.685,\n",
       " 0.685,\n",
       " 0.685,\n",
       " 0.686,\n",
       " 0.686,\n",
       " 0.687,\n",
       " 0.688,\n",
       " 0.689,\n",
       " 0.689,\n",
       " 0.689,\n",
       " 0.69,\n",
       " 0.69,\n",
       " 0.691,\n",
       " 0.691,\n",
       " 0.692,\n",
       " 0.693,\n",
       " 0.694,\n",
       " 0.694,\n",
       " 0.694,\n",
       " 0.694,\n",
       " 0.694,\n",
       " 0.695,\n",
       " 0.695,\n",
       " 0.695,\n",
       " 0.696,\n",
       " 0.696,\n",
       " 0.697,\n",
       " 0.698,\n",
       " 0.699,\n",
       " 0.699,\n",
       " 0.7,\n",
       " 0.7,\n",
       " 0.7,\n",
       " 0.7,\n",
       " 0.7,\n",
       " 0.7,\n",
       " 0.701,\n",
       " 0.701,\n",
       " 0.701,\n",
       " 0.702,\n",
       " 0.702,\n",
       " 0.703,\n",
       " 0.704,\n",
       " 0.704,\n",
       " 0.705,\n",
       " 0.705,\n",
       " 0.706,\n",
       " 0.707,\n",
       " 0.707,\n",
       " 0.707,\n",
       " 0.708,\n",
       " 0.709,\n",
       " 0.71,\n",
       " 0.71,\n",
       " 0.71,\n",
       " 0.711,\n",
       " 0.712,\n",
       " 0.712,\n",
       " 0.713,\n",
       " 0.713,\n",
       " 0.713,\n",
       " 0.714,\n",
       " 0.715,\n",
       " 0.716,\n",
       " 0.718,\n",
       " 0.719,\n",
       " 0.72,\n",
       " 0.72,\n",
       " 0.72,\n",
       " 0.721,\n",
       " 0.722,\n",
       " 0.723,\n",
       " 0.723,\n",
       " 0.723,\n",
       " 0.723,\n",
       " 0.723,\n",
       " 0.725,\n",
       " 0.725,\n",
       " 0.727,\n",
       " 0.727,\n",
       " 0.728,\n",
       " 0.729,\n",
       " 0.729,\n",
       " 0.73,\n",
       " 0.73,\n",
       " 0.73,\n",
       " 0.73,\n",
       " 0.73,\n",
       " 0.731,\n",
       " 0.731,\n",
       " 0.731,\n",
       " 0.731,\n",
       " 0.732,\n",
       " 0.733,\n",
       " 0.733,\n",
       " 0.734,\n",
       " 0.735,\n",
       " 0.735,\n",
       " 0.737,\n",
       " 0.738,\n",
       " 0.738,\n",
       " 0.738,\n",
       " 0.74,\n",
       " 0.74,\n",
       " 0.74,\n",
       " 0.741,\n",
       " 0.741,\n",
       " 0.741,\n",
       " 0.743,\n",
       " 0.746,\n",
       " 0.746,\n",
       " 0.747,\n",
       " 0.748,\n",
       " 0.749,\n",
       " 0.75,\n",
       " 0.75,\n",
       " 0.75,\n",
       " 0.75,\n",
       " 0.75,\n",
       " 0.75,\n",
       " 0.75,\n",
       " 0.752,\n",
       " 0.752,\n",
       " 0.754,\n",
       " 0.756,\n",
       " 0.756,\n",
       " 0.757,\n",
       " 0.759,\n",
       " 0.759,\n",
       " 0.759,\n",
       " 0.76,\n",
       " 0.76,\n",
       " 0.761,\n",
       " 0.762,\n",
       " 0.762,\n",
       " 0.762,\n",
       " 0.762,\n",
       " 0.763,\n",
       " 0.764,\n",
       " 0.764,\n",
       " 0.765,\n",
       " 0.766,\n",
       " 0.768,\n",
       " 0.769,\n",
       " 0.77,\n",
       " 0.771,\n",
       " 0.771,\n",
       " 0.771,\n",
       " 0.772,\n",
       " 0.772,\n",
       " 0.773,\n",
       " 0.774,\n",
       " 0.774,\n",
       " 0.775,\n",
       " 0.777,\n",
       " 0.777,\n",
       " 0.779,\n",
       " 0.78,\n",
       " 0.78,\n",
       " 0.78,\n",
       " 0.781,\n",
       " 0.783,\n",
       " 0.783,\n",
       " 0.785,\n",
       " 0.786,\n",
       " 0.786,\n",
       " 0.786,\n",
       " 0.786,\n",
       " 0.788,\n",
       " 0.788,\n",
       " 0.788,\n",
       " 0.788,\n",
       " 0.788,\n",
       " 0.79,\n",
       " 0.79,\n",
       " 0.79,\n",
       " 0.792,\n",
       " 0.792,\n",
       " 0.792,\n",
       " 0.795,\n",
       " 0.795,\n",
       " 0.795,\n",
       " 0.797,\n",
       " 0.797,\n",
       " 0.798,\n",
       " 0.799,\n",
       " 0.8,\n",
       " 0.801,\n",
       " 0.802,\n",
       " 0.803,\n",
       " 0.804,\n",
       " 0.804,\n",
       " 0.804,\n",
       " 0.806,\n",
       " 0.806,\n",
       " 0.808,\n",
       " 0.808,\n",
       " 0.808,\n",
       " 0.809,\n",
       " 0.81,\n",
       " 0.81,\n",
       " 0.811,\n",
       " 0.813,\n",
       " 0.813,\n",
       " 0.813,\n",
       " 0.813,\n",
       " 0.813,\n",
       " 0.813,\n",
       " 0.813,\n",
       " 0.813,\n",
       " 0.813,\n",
       " 0.813,\n",
       " 0.813,\n",
       " 0.813,\n",
       " 0.813,\n",
       " 0.813,\n",
       " 0.814,\n",
       " 0.814,\n",
       " 0.816,\n",
       " 0.817,\n",
       " 0.817,\n",
       " 0.817,\n",
       " 0.821,\n",
       " 0.821,\n",
       " 0.821,\n",
       " 0.823,\n",
       " 0.823,\n",
       " 0.824,\n",
       " 0.825,\n",
       " 0.825,\n",
       " 0.825,\n",
       " 0.826,\n",
       " 0.827,\n",
       " 0.827,\n",
       " 0.828,\n",
       " 0.828,\n",
       " 0.828,\n",
       " 0.83,\n",
       " 0.83,\n",
       " 0.83,\n",
       " 0.831,\n",
       " 0.831,\n",
       " 0.831,\n",
       " 0.832,\n",
       " 0.832,\n",
       " 0.832,\n",
       " 0.833,\n",
       " 0.833,\n",
       " 0.834,\n",
       " 0.835,\n",
       " 0.835,\n",
       " 0.836,\n",
       " 0.836,\n",
       " 0.837,\n",
       " 0.838,\n",
       " 0.839,\n",
       " 0.839,\n",
       " 0.839,\n",
       " 0.839,\n",
       " 0.84,\n",
       " 0.841,\n",
       " 0.842,\n",
       " 0.842,\n",
       " 0.842,\n",
       " 0.843,\n",
       " 0.843,\n",
       " 0.844,\n",
       " 0.844,\n",
       " 0.844,\n",
       " 0.845,\n",
       " 0.845,\n",
       " 0.845,\n",
       " 0.845,\n",
       " 0.846,\n",
       " 0.846,\n",
       " 0.846,\n",
       " 0.846,\n",
       " 0.847,\n",
       " 0.847,\n",
       " 0.847,\n",
       " 0.847,\n",
       " 0.847,\n",
       " 0.847,\n",
       " 0.848,\n",
       " 0.849,\n",
       " 0.849,\n",
       " 0.85,\n",
       " 0.85,\n",
       " 0.85,\n",
       " 0.851,\n",
       " 0.851,\n",
       " 0.851,\n",
       " 0.851,\n",
       " 0.852,\n",
       " 0.853,\n",
       " 0.853,\n",
       " 0.854,\n",
       " 0.854,\n",
       " 0.854,\n",
       " 0.855,\n",
       " 0.855,\n",
       " 0.855,\n",
       " 0.855,\n",
       " 0.856,\n",
       " 0.857,\n",
       " 0.857,\n",
       " 0.857,\n",
       " 0.857,\n",
       " 0.857,\n",
       " 0.858,\n",
       " 0.859,\n",
       " 0.859,\n",
       " 0.859,\n",
       " 0.859,\n",
       " 0.859,\n",
       " 0.861,\n",
       " 0.862,\n",
       " 0.863,\n",
       " 0.863,\n",
       " 0.863,\n",
       " 0.864,\n",
       " 0.864,\n",
       " 0.864,\n",
       " 0.864,\n",
       " 0.865,\n",
       " 0.865,\n",
       " 0.865,\n",
       " 0.866,\n",
       " 0.867,\n",
       " 0.867,\n",
       " 0.868,\n",
       " 0.869,\n",
       " 0.869,\n",
       " 0.869,\n",
       " 0.869,\n",
       " 0.87,\n",
       " 0.87,\n",
       " 0.871,\n",
       " 0.871,\n",
       " 0.872,\n",
       " 0.872,\n",
       " 0.872,\n",
       " 0.873,\n",
       " 0.874,\n",
       " 0.875,\n",
       " 0.875,\n",
       " 0.875,\n",
       " 0.875,\n",
       " 0.875,\n",
       " 0.875,\n",
       " 0.875,\n",
       " 0.875,\n",
       " 0.875,\n",
       " 0.875,\n",
       " 0.875,\n",
       " 0.875,\n",
       " 0.875,\n",
       " 0.875,\n",
       " 0.875,\n",
       " 0.875,\n",
       " 0.875,\n",
       " 0.875,\n",
       " 0.875,\n",
       " 0.875,\n",
       " 0.875,\n",
       " 0.875,\n",
       " 0.875,\n",
       " 0.875,\n",
       " 0.876,\n",
       " 0.876,\n",
       " 0.877,\n",
       " 0.877,\n",
       " 0.878,\n",
       " 0.878,\n",
       " 0.878,\n",
       " 0.879,\n",
       " 0.879,\n",
       " 0.879,\n",
       " 0.88,\n",
       " 0.88,\n",
       " 0.881,\n",
       " 0.881,\n",
       " 0.882,\n",
       " 0.882,\n",
       " 0.882,\n",
       " 0.882,\n",
       " 0.883,\n",
       " 0.883,\n",
       " 0.883,\n",
       " 0.883,\n",
       " 0.883,\n",
       " 0.883,\n",
       " 0.884,\n",
       " 0.885,\n",
       " 0.885,\n",
       " 0.886,\n",
       " 0.887,\n",
       " 0.887,\n",
       " 0.887,\n",
       " 0.888,\n",
       " 0.888,\n",
       " 0.888,\n",
       " 0.889,\n",
       " 0.889,\n",
       " 0.889,\n",
       " 0.889,\n",
       " 0.889,\n",
       " 0.89,\n",
       " 0.891,\n",
       " 0.892,\n",
       " 0.892,\n",
       " 0.892,\n",
       " 0.893,\n",
       " 0.893,\n",
       " 0.894,\n",
       " 0.895,\n",
       " 0.896,\n",
       " 0.896,\n",
       " 0.897,\n",
       " 0.897,\n",
       " 0.898,\n",
       " 0.898,\n",
       " 0.899,\n",
       " 0.9,\n",
       " 0.9,\n",
       " 0.9,\n",
       " 0.901,\n",
       " 0.901,\n",
       " 0.901,\n",
       " 0.902,\n",
       " 0.903,\n",
       " 0.903,\n",
       " 0.904,\n",
       " 0.904,\n",
       " 0.904,\n",
       " 0.905,\n",
       " 0.905,\n",
       " 0.905,\n",
       " 0.905,\n",
       " 0.906,\n",
       " 0.906,\n",
       " 0.906,\n",
       " 0.906,\n",
       " 0.907,\n",
       " 0.907,\n",
       " 0.908,\n",
       " 0.911,\n",
       " 0.911,\n",
       " 0.912,\n",
       " 0.914,\n",
       " 0.915,\n",
       " 0.915,\n",
       " 0.916,\n",
       " 0.916,\n",
       " 0.917,\n",
       " 0.917,\n",
       " 0.917,\n",
       " 0.917,\n",
       " 0.918,\n",
       " 0.918,\n",
       " 0.918,\n",
       " 0.919,\n",
       " 0.919,\n",
       " 0.919,\n",
       " 0.92,\n",
       " 0.92,\n",
       " 0.922,\n",
       " 0.922,\n",
       " 0.922,\n",
       " 0.922,\n",
       " 0.922,\n",
       " 0.924,\n",
       " 0.925,\n",
       " 0.925,\n",
       " 0.925,\n",
       " 0.925,\n",
       " 0.926,\n",
       " 0.926,\n",
       " 0.926,\n",
       " 0.926,\n",
       " 0.926,\n",
       " 0.926,\n",
       " 0.926,\n",
       " 0.926,\n",
       " 0.926,\n",
       " 0.926,\n",
       " 0.927,\n",
       " 0.927,\n",
       " 0.927,\n",
       " 0.927,\n",
       " 0.928,\n",
       " 0.928,\n",
       " 0.928,\n",
       " 0.928,\n",
       " 0.928,\n",
       " 0.929,\n",
       " 0.93,\n",
       " 0.93,\n",
       " 0.931,\n",
       " 0.931,\n",
       " 0.931,\n",
       " 0.931,\n",
       " 0.931,\n",
       " 0.931,\n",
       " 0.932,\n",
       " 0.932,\n",
       " 0.932,\n",
       " 0.932,\n",
       " 0.933,\n",
       " 0.933,\n",
       " 0.933,\n",
       " 0.934,\n",
       " 0.934,\n",
       " 0.934,\n",
       " 0.934,\n",
       " 0.934,\n",
       " 0.935,\n",
       " 0.935,\n",
       " 0.935,\n",
       " 0.936,\n",
       " 0.936,\n",
       " 0.936,\n",
       " 0.936,\n",
       " 0.938,\n",
       " 0.938,\n",
       " 0.938,\n",
       " 0.938,\n",
       " 0.938,\n",
       " 0.938,\n",
       " 0.938,\n",
       " 0.938,\n",
       " 0.938,\n",
       " 0.938,\n",
       " 0.938,\n",
       " 0.939,\n",
       " 0.939,\n",
       " 0.94,\n",
       " 0.94,\n",
       " 0.942,\n",
       " 0.942,\n",
       " 0.943,\n",
       " 0.943,\n",
       " 0.944,\n",
       " 0.944,\n",
       " 0.944,\n",
       " 0.945,\n",
       " 0.945,\n",
       " 0.946,\n",
       " 0.946,\n",
       " 0.946,\n",
       " 0.946,\n",
       " 0.946,\n",
       " 0.946,\n",
       " 0.946,\n",
       " 0.947,\n",
       " 0.947,\n",
       " 0.948,\n",
       " 0.948,\n",
       " 0.948,\n",
       " 0.949,\n",
       " 0.949,\n",
       " 0.95,\n",
       " 0.95,\n",
       " 0.95,\n",
       " 0.95,\n",
       " 0.95,\n",
       " 0.951,\n",
       " 0.952,\n",
       " 0.952,\n",
       " 0.953,\n",
       " 0.953,\n",
       " 0.953,\n",
       " 0.953,\n",
       " 0.954,\n",
       " 0.955,\n",
       " 0.955,\n",
       " 0.955,\n",
       " 0.955,\n",
       " 0.955,\n",
       " 0.956,\n",
       " 0.957,\n",
       " 0.957,\n",
       " 0.957,\n",
       " 0.958,\n",
       " 0.958,\n",
       " 0.958,\n",
       " 0.958,\n",
       " 0.958,\n",
       " 0.958,\n",
       " 0.96,\n",
       " 0.96,\n",
       " 0.96,\n",
       " 0.96,\n",
       " 0.96,\n",
       " 0.96,\n",
       " 0.961,\n",
       " 0.961,\n",
       " 0.962,\n",
       " 0.962,\n",
       " 0.962,\n",
       " 0.962,\n",
       " 0.962,\n",
       " 0.962,\n",
       " 0.962,\n",
       " 0.963,\n",
       " 0.964,\n",
       " 0.964,\n",
       " 0.964,\n",
       " 0.964,\n",
       " 0.965,\n",
       " 0.965,\n",
       " 0.965,\n",
       " 0.966,\n",
       " 0.966,\n",
       " 0.966,\n",
       " 0.967,\n",
       " 0.967,\n",
       " 0.967,\n",
       " 0.968,\n",
       " 0.968,\n",
       " 0.969,\n",
       " 0.969,\n",
       " 0.969,\n",
       " 0.969,\n",
       " 0.97,\n",
       " 0.971,\n",
       " 0.972,\n",
       " 0.972,\n",
       " 0.973,\n",
       " 0.973,\n",
       " 0.973,\n",
       " 0.974,\n",
       " 0.974,\n",
       " 0.974,\n",
       " 0.974,\n",
       " 0.976,\n",
       " 0.976,\n",
       " 0.976,\n",
       " 0.976,\n",
       " 0.977,\n",
       " 0.977,\n",
       " 0.978,\n",
       " 0.978,\n",
       " 0.978,\n",
       " 0.979,\n",
       " 0.979,\n",
       " ...]"
      ]
     },
     "execution_count": 35,
     "metadata": {},
     "output_type": "execute_result"
    }
   ],
   "source": [
    "import matplotlib.pyplot as plt\n",
    "sorted(Ytest)   # 排序为了方便画图"
   ]
  },
  {
   "cell_type": "code",
   "execution_count": 38,
   "metadata": {},
   "outputs": [
    {
     "data": {
      "image/png": "[encoded data removed]",
      "text/plain": [
       "<Figure size 432x288 with 1 Axes>"
      ]
     },
     "metadata": {
      "needs_background": "light"
     },
     "output_type": "display_data"
    }
   ],
   "source": [
    "plt.plot(range(len(Ytest)),sorted(Ytest),c='blue',label='Date')\n",
    "plt.plot(range(len(yhat)),sorted(yhat),c='pink',label='Predict')\n",
    "plt.legend()\n",
    "plt.show()\n",
    "\n",
    "# 但是图像的开头和结尾处却又着较大的拟合误差"
   ]
  },
  {
   "cell_type": "code",
   "execution_count": 39,
   "metadata": {},
   "outputs": [
    {
     "data": {
      "text/plain": [
       "array([-179.86577271,   -5.69860535,  -15.10281588,  -78.21750079,\n",
       "        -70.19186257])"
      ]
     },
     "execution_count": 39,
     "metadata": {},
     "output_type": "execute_result"
    }
   ],
   "source": [
    "import numpy as np\n",
    "rng = np.random.RandomState(42)\n",
    "X = rng.randn(100, 80)\n",
    "y = rng.randn(100)\n",
    "\n",
    "cross_val_score(LR(), X, y, cv=5, scoring='r2')\n",
    "\n",
    "# R2 为什么会出现负值？"
   ]
  },
  {
   "cell_type": "markdown",
   "metadata": {},
   "source": [
    "当我们的R2显示为负的时候，这证明我们的模型对我们的数据的拟合非常糟糕，模型完全不能使用"
   ]
  },
  {
   "cell_type": "markdown",
   "metadata": {},
   "source": [
    "# 4 多重共线性：岭回归与Lasso\n",
    "---\n",
    "## 4.1 多重共线性\n",
    "\n",
    "由于w的表达式$w=(X^TX)^{-1}X^Ty$，而逆矩阵存在的充分必要条件是特征矩阵不存在多重共线性\n",
    "1. 逆必须存在即，$(X^TX)^{-1}$不能等于零\n",
    "   - 逆矩阵存在的充分必要条件是：矩阵的行列式不能为0\n",
    "2. 行列式不能为0，则矩阵必须满秩\n",
    "3. 满秩，即特征之间不能存在多重共线性 \n",
    "   \n",
    "- **精确相关关系和高度相关关系**并称为\"多重共线性\n",
    "  - 线性回归就无法使用最小二乘法来进行求解，或者求解就会出现偏差。\n",
    "  - 不能存在多重共线性，不代表不能存在相关性——机器学习不要求特征之间必须独立，必须不相关，只要不是高度相关或者精确相关就好\n",
    "\n",
    "\n",
    "## 4.2 岭回归\n",
    "\n",
    "- 不是为了提升模型表现，而是为了修复漏洞\n",
    "\n",
    "### 4.2.1 岭回归解决多重共线性问题\n",
    "\n",
    "岭回归在多元线性回归的损失函数上加上了正则项，表达为系数$w$的L2范式（即系数$w$的平方项）乘以正则化系数$\\alpha$\n",
    "$$\\min_w{||Xw-y||_2^2+\\alpha||w||_2^2}$$\n",
    "\n",
    "$$w=(X^TX+\\alpha*I)^{-1}X^Ty$$\n",
    "\n",
    "正则化系数避免了”精确相关关系“带来的影响，至少最小二乘法在$\\alpha$存在的情况下是一定可以使用了。对于存在”高度相关关系“的矩阵，我们也可以通过调大$\\alpha$，来让 $(X^TX+\\alpha*I)^{-1}$矩阵的行列式变大，从而让逆矩阵变小，以此控制参数向量$w$的偏移。当$\\alpha$越大，模型越不容易受到共线性的影响"
   ]
  },
  {
   "cell_type": "markdown",
   "metadata": {},
   "source": [
    "### 4.2.2 linear_model.Ridge\n",
    "\n",
    "在sklearn中，岭回归由线性模型库中的Ridge类来调用：\n",
    "\n",
    "*class `sklearn.linear_model.Ridge` (alpha=1.0, fit_intercept=True, normalize=False, copy_X=True, max_iter=None,tol=0.001, solver=’auto’, random_state=None)*\n",
    "\n",
    "- 核心参数:正则项的系数$\\alpha$\n",
    "\n",
    "如果一个数据集在岭回归中使用各种正则化参数取值下**模型表现没有明显上升**（比如出现持平或者下降），则说明数据**没有多重共线性**，顶多是特征之间有一些相关性。\n",
    "\n",
    "**建模顺序**\n",
    "- reg = Ridge(alpha=1).fit(Xtrain,Ytrain)\n",
    "- reg.score(Xtest,Ytest)\n"
   ]
  },
  {
   "cell_type": "code",
   "execution_count": 41,
   "metadata": {},
   "outputs": [
    {
     "data": {
      "text/html": [
       "<div>\n",
       "<style scoped>\n",
       "    .dataframe tbody tr th:only-of-type {\n",
       "        vertical-align: middle;\n",
       "    }\n",
       "\n",
       "    .dataframe tbody tr th {\n",
       "        vertical-align: top;\n",
       "    }\n",
       "\n",
       "    .dataframe thead th {\n",
       "        text-align: right;\n",
       "    }\n",
       "</style>\n",
       "<table border=\"1\" class=\"dataframe\">\n",
       "  <thead>\n",
       "    <tr style=\"text-align: right;\">\n",
       "      <th></th>\n",
       "      <th>住户收入中位数</th>\n",
       "      <th>房屋使用年代中位数</th>\n",
       "      <th>平均房间数目</th>\n",
       "      <th>平均卧室数目</th>\n",
       "      <th>街区人口</th>\n",
       "      <th>平均入住率</th>\n",
       "      <th>街区的纬度</th>\n",
       "      <th>街区的经度</th>\n",
       "    </tr>\n",
       "  </thead>\n",
       "  <tbody>\n",
       "    <tr>\n",
       "      <th>0</th>\n",
       "      <td>8.3252</td>\n",
       "      <td>41.0</td>\n",
       "      <td>6.984127</td>\n",
       "      <td>1.023810</td>\n",
       "      <td>322.0</td>\n",
       "      <td>2.555556</td>\n",
       "      <td>37.88</td>\n",
       "      <td>-122.23</td>\n",
       "    </tr>\n",
       "    <tr>\n",
       "      <th>1</th>\n",
       "      <td>8.3014</td>\n",
       "      <td>21.0</td>\n",
       "      <td>6.238137</td>\n",
       "      <td>0.971880</td>\n",
       "      <td>2401.0</td>\n",
       "      <td>2.109842</td>\n",
       "      <td>37.86</td>\n",
       "      <td>-122.22</td>\n",
       "    </tr>\n",
       "    <tr>\n",
       "      <th>2</th>\n",
       "      <td>7.2574</td>\n",
       "      <td>52.0</td>\n",
       "      <td>8.288136</td>\n",
       "      <td>1.073446</td>\n",
       "      <td>496.0</td>\n",
       "      <td>2.802260</td>\n",
       "      <td>37.85</td>\n",
       "      <td>-122.24</td>\n",
       "    </tr>\n",
       "    <tr>\n",
       "      <th>3</th>\n",
       "      <td>5.6431</td>\n",
       "      <td>52.0</td>\n",
       "      <td>5.817352</td>\n",
       "      <td>1.073059</td>\n",
       "      <td>558.0</td>\n",
       "      <td>2.547945</td>\n",
       "      <td>37.85</td>\n",
       "      <td>-122.25</td>\n",
       "    </tr>\n",
       "    <tr>\n",
       "      <th>4</th>\n",
       "      <td>3.8462</td>\n",
       "      <td>52.0</td>\n",
       "      <td>6.281853</td>\n",
       "      <td>1.081081</td>\n",
       "      <td>565.0</td>\n",
       "      <td>2.181467</td>\n",
       "      <td>37.85</td>\n",
       "      <td>-122.25</td>\n",
       "    </tr>\n",
       "  </tbody>\n",
       "</table>\n",
       "</div>"
      ],
      "text/plain": [
       "   住户收入中位数  房屋使用年代中位数    平均房间数目    平均卧室数目    街区人口     平均入住率  街区的纬度   街区的经度\n",
       "0   8.3252       41.0  6.984127  1.023810   322.0  2.555556  37.88 -122.23\n",
       "1   8.3014       21.0  6.238137  0.971880  2401.0  2.109842  37.86 -122.22\n",
       "2   7.2574       52.0  8.288136  1.073446   496.0  2.802260  37.85 -122.24\n",
       "3   5.6431       52.0  5.817352  1.073059   558.0  2.547945  37.85 -122.25\n",
       "4   3.8462       52.0  6.281853  1.081081   565.0  2.181467  37.85 -122.25"
      ]
     },
     "execution_count": 41,
     "metadata": {},
     "output_type": "execute_result"
    }
   ],
   "source": [
    "import numpy as np\n",
    "import pandas as pd\n",
    "from sklearn.linear_model import Ridge, LinearRegression, Lasso\n",
    "from sklearn.model_selection import train_test_split as TTS\n",
    "from sklearn.datasets import fetch_california_housing as fch\n",
    "import matplotlib.pyplot as plt\n",
    "\n",
    "\n",
    "housevalue = fch()\n",
    "X = pd.DataFrame(housevalue.data)\n",
    "y = housevalue.target\n",
    "X.columns = [\"住户收入中位数\",\"房屋使用年代中位数\",\"平均房间数目\"\n",
    "            ,\"平均卧室数目\",\"街区人口\",\"平均入住率\",\"街区的纬度\",\"街区的经度\"]\n",
    "\n",
    "X.head()"
   ]
  },
  {
   "cell_type": "code",
   "execution_count": 42,
   "metadata": {},
   "outputs": [],
   "source": [
    "Xtrain,Xtest,Ytrain,Ytest = TTS(X,y,test_size=0.3,random_state=420)\n",
    "\n",
    "\n",
    "#数据集索引恢复\n",
    "for i in [Xtrain,Xtest]:\n",
    "    i.index = range(i.shape[0])"
   ]
  },
  {
   "cell_type": "code",
   "execution_count": 43,
   "metadata": {},
   "outputs": [
    {
     "data": {
      "text/plain": [
       "0.6043610352312279"
      ]
     },
     "execution_count": 43,
     "metadata": {},
     "output_type": "execute_result"
    }
   ],
   "source": [
    "#————————————————————————————利用岭回归进行建模————————————————————————————\n",
    "reg = Ridge(alpha=1).fit(Xtrain,Ytrain)\n",
    "reg.score(Xtest,Ytest)\n",
    "\n",
    "# 结果没什么提升 这个数据中可以没有共线性的问题"
   ]
  },
  {
   "cell_type": "code",
   "execution_count": 44,
   "metadata": {},
   "outputs": [
    {
     "data": {
      "image/png": "[encoded data removed]",
      "text/plain": [
       "<Figure size 432x288 with 1 Axes>"
      ]
     },
     "metadata": {
      "needs_background": "light"
     },
     "output_type": "display_data"
    }
   ],
   "source": [
    "alpharange = np.arange(1,1001,100)\n",
    "ridge, lr = [], []\n",
    "\n",
    "for alpha in alpharange:\n",
    "    reg = Ridge(alpha=alpha)\n",
    "    linear = LinearRegression()\n",
    "    regs = cross_val_score(reg,X,y,cv=5,scoring='r2').mean()\n",
    "    linears = cross_val_score(linear,X,y,cv=5,scoring = \"r2\").mean()\n",
    "    ridge.append(regs)\n",
    "    lr.append(linears)\n",
    "    \n",
    "plt.plot(alpharange,ridge,color=\"red\",label=\"Ridge\")\n",
    "plt.plot(alpharange,lr,color=\"orange\",label=\"LR\")\n",
    "plt.title(\"Mean\")\n",
    "plt.legend()\n",
    "plt.show()\n"
   ]
  },
  {
   "cell_type": "markdown",
   "metadata": {},
   "source": [
    "轻微的共线性，这种共线性被正则化参数$\\alpha$消除后，模型的效果提升了一点点。在过了控制多重共线性的点后，模型的效果飞速下降，显然是正则化的程度太重，挤占了参数$w$本来的估计空间"
   ]
  },
  {
   "cell_type": "code",
   "execution_count": 45,
   "metadata": {},
   "outputs": [
    {
     "data": {
      "image/png": "[encoded data removed]",
      "text/plain": [
       "<Figure size 432x288 with 1 Axes>"
      ]
     },
     "metadata": {
      "needs_background": "light"
     },
     "output_type": "display_data"
    }
   ],
   "source": [
    "#细化一下学习曲线\n",
    "alpharange = np.arange(1,201,10)\n",
    "\n",
    "ridge, lr = [], []\n",
    "for alpha in alpharange:\n",
    "    reg = Ridge(alpha=alpha)\n",
    "    linear = LinearRegression()\n",
    "    regs = cross_val_score(reg,X,y,cv=5,scoring='r2').mean()\n",
    "    linears = cross_val_score(linear,X,y,cv=5,scoring = \"r2\").mean()\n",
    "    ridge.append(regs)\n",
    "    lr.append(linears)\n",
    "    \n",
    "plt.plot(alpharange,ridge,color=\"red\",label=\"Ridge\")\n",
    "plt.plot(alpharange,lr,color=\"orange\",label=\"LR\")\n",
    "plt.title(\"Mean\")\n",
    "plt.legend()\n",
    "plt.show()"
   ]
  },
  {
   "cell_type": "code",
   "execution_count": 46,
   "metadata": {},
   "outputs": [
    {
     "data": {
      "image/png": "[encoded data removed]",
      "text/plain": [
       "<Figure size 432x288 with 1 Axes>"
      ]
     },
     "metadata": {
      "needs_background": "light"
     },
     "output_type": "display_data"
    }
   ],
   "source": [
    "#模型方差如何变化？\n",
    "alpharange = np.arange(1,1001,100)\n",
    "ridge, lr = [], []\n",
    "\n",
    "for alpha in alpharange:\n",
    "    reg = Ridge(alpha=alpha)\n",
    "    linear = LinearRegression()\n",
    "    varR = cross_val_score(reg,X,y,cv=5,scoring=\"r2\").var()\n",
    "    varLR = cross_val_score(linear,X,y,cv=5,scoring=\"r2\").var()\n",
    "    ridge.append(varR)\n",
    "    lr.append(varLR)\n",
    "    \n",
    "plt.plot(alpharange,ridge,color=\"red\",label=\"Ridge\")\n",
    "plt.plot(alpharange,lr,color=\"orange\",label=\"LR\")\n",
    "plt.title(\"Variance\")\n",
    "plt.legend()\n",
    "plt.show()"
   ]
  },
  {
   "cell_type": "markdown",
   "metadata": {},
   "source": [
    "虽然岭回归和Lasso不是设计来提升模型表现，而是专注于解决多重共线性问题的，但当$\\alpha$在一定范围内变动的时候，消除多重共线性也许能够一定程度上提高模型的泛化能\n",
    "力。\n",
    "\n",
    "\n",
    "下面换用波士顿数据集\n"
   ]
  },
  {
   "cell_type": "code",
   "execution_count": 47,
   "metadata": {},
   "outputs": [
    {
     "name": "stderr",
     "output_type": "stream",
     "text": [
      "c:\\Users\\HP\\Python\\Python310\\lib\\site-packages\\sklearn\\utils\\deprecation.py:87: FutureWarning: Function load_boston is deprecated; `load_boston` is deprecated in 1.0 and will be removed in 1.2.\n",
      "\n",
      "    The Boston housing prices dataset has an ethical problem. You can refer to\n",
      "    the documentation of this function for further details.\n",
      "\n",
      "    The scikit-learn maintainers therefore strongly discourage the use of this\n",
      "    dataset unless the purpose of the code is to study and educate about\n",
      "    ethical issues in data science and machine learning.\n",
      "\n",
      "    In this special case, you can fetch the dataset from the original\n",
      "    source::\n",
      "\n",
      "        import pandas as pd\n",
      "        import numpy as np\n",
      "\n",
      "        data_url = \"http://lib.stat.cmu.edu/datasets/boston\"\n",
      "        raw_df = pd.read_csv(data_url, sep=\"\\s+\", skiprows=22, header=None)\n",
      "        data = np.hstack([raw_df.values[::2, :], raw_df.values[1::2, :2]])\n",
      "        target = raw_df.values[1::2, 2]\n",
      "\n",
      "    Alternative datasets include the California housing dataset (i.e.\n",
      "    :func:`~sklearn.datasets.fetch_california_housing`) and the Ames housing\n",
      "    dataset. You can load the datasets as follows::\n",
      "\n",
      "        from sklearn.datasets import fetch_california_housing\n",
      "        housing = fetch_california_housing()\n",
      "\n",
      "    for the California housing dataset and::\n",
      "\n",
      "        from sklearn.datasets import fetch_openml\n",
      "        housing = fetch_openml(name=\"house_prices\", as_frame=True)\n",
      "\n",
      "    for the Ames housing dataset.\n",
      "  warnings.warn(msg, category=FutureWarning)\n"
     ]
    },
    {
     "data": {
      "image/png": "[encoded data removed]",
      "text/plain": [
       "<Figure size 432x288 with 1 Axes>"
      ]
     },
     "metadata": {
      "needs_background": "light"
     },
     "output_type": "display_data"
    }
   ],
   "source": [
    "from sklearn.datasets import load_boston\n",
    "from sklearn.model_selection import cross_val_score\n",
    "\n",
    "X = load_boston().data\n",
    "y = load_boston().target\n",
    "Xtrain,Xtest,Ytrain,Ytest = TTS(X,y,test_size=0.3,random_state=420)\n",
    "#先查看方差的变化\n",
    "alpharange = np.arange(1,1001,100)\n",
    "ridge, lr = [], []\n",
    "\n",
    "for alpha in alpharange:\n",
    "    reg = Ridge(alpha=alpha)\n",
    "    linear = LinearRegression()\n",
    "    varR = cross_val_score(reg,X,y,cv=5,scoring=\"r2\").var()\n",
    "    varLR = cross_val_score(linear,X,y,cv=5,scoring=\"r2\").var()\n",
    "    ridge.append(varR)\n",
    "    lr.append(varLR)\n",
    "    \n",
    "plt.plot(alpharange,ridge,color=\"red\",label=\"Ridge\")\n",
    "plt.plot(alpharange,lr,color=\"orange\",label=\"LR\")\n",
    "plt.title(\"Variance\")\n",
    "plt.legend()\n",
    "plt.show()\n",
    "\n"
   ]
  },
  {
   "cell_type": "code",
   "execution_count": 48,
   "metadata": {},
   "outputs": [
    {
     "data": {
      "image/png": "[encoded data removed]",
      "text/plain": [
       "<Figure size 432x288 with 1 Axes>"
      ]
     },
     "metadata": {
      "needs_background": "light"
     },
     "output_type": "display_data"
    }
   ],
   "source": [
    "#查看R2的变化\n",
    "\n",
    "alpharange = np.arange(1,1001,100)\n",
    "ridge, lr = [], []\n",
    "for alpha in alpharange:\n",
    "    reg = Ridge(alpha=alpha)\n",
    "    linear = LinearRegression()\n",
    "    regs = cross_val_score(reg,X,y,cv=5,scoring = \"r2\").mean()\n",
    "    linears = cross_val_score(linear,X,y,cv=5,scoring = \"r2\").mean()\n",
    "    ridge.append(regs)\n",
    "    lr.append(linears)\n",
    "plt.plot(alpharange,ridge,color=\"red\",label=\"Ridge\")\n",
    "plt.plot(alpharange,lr,color=\"orange\",label=\"LR\")\n",
    "plt.title(\"Mean\")\n",
    "plt.legend()\n",
    "plt.show()"
   ]
  },
  {
   "cell_type": "code",
   "execution_count": 49,
   "metadata": {},
   "outputs": [
    {
     "data": {
      "image/png": "[encoded data removed]",
      "text/plain": [
       "<Figure size 432x288 with 1 Axes>"
      ]
     },
     "metadata": {
      "needs_background": "light"
     },
     "output_type": "display_data"
    }
   ],
   "source": [
    "#细化学习曲线\n",
    "alpharange = np.arange(100,300,10)\n",
    "ridge, lr = [], []\n",
    "for alpha in alpharange:\n",
    "    reg = Ridge(alpha=alpha)\n",
    "    #linear = LinearRegression()\n",
    "    regs = cross_val_score(reg,X,y,cv=5,scoring = \"r2\").mean()\n",
    "    #linears = cross_val_score(linear,X,y,cv=5,scoring = \"r2\").mean()\n",
    "    ridge.append(regs)\n",
    "    lr.append(linears)\n",
    "plt.plot(alpharange,ridge,color=\"red\",label=\"Ridge\")\n",
    "#plt.plot(alpharange,lr,color=\"orange\",label=\"LR\")\n",
    "plt.title(\"Mean\")\n",
    "plt.legend()\n",
    "plt.show()"
   ]
  },
  {
   "cell_type": "markdown",
   "metadata": {},
   "source": [
    "对于波士顿房价数据集，数据集的方差降低明显，偏差也降低明显，可见使用岭回归还是起到了一定的作用，模型的泛化能力是有可能会上升的。"
   ]
  },
  {
   "cell_type": "markdown",
   "metadata": {},
   "source": [
    "### 4.2.3 选取最佳的正则化参数取值\n",
    "\n",
    "**岭迹图**\n",
    "- 使用岭迹图来判断正则项参数的最佳取值\n",
    "  - 目标是建立正则化参数与系数$w$之间的直接关系\n",
    "- 岭迹图认为，线条交叉越多，则说明特征之间的多重共线性越高。\n",
    "  - 系数较为平稳的喇叭口所对应的$\\alpha$取值作为最佳的正则化参数的取值\n",
    "- 不建议使用 ---> 评价非常的模糊\n",
    "\n",
    "\n",
    "**交叉验证的岭回归**\n",
    "\n",
    "应该使用交叉验证来选择最佳的正则化系数。在sklearn中，我们有带交叉验证的岭回归可以使用\n",
    "\n",
    "*class `sklearn.linear_model.RidgeCV` (alphas=(0.1, 1.0, 10.0), fit_intercept=True, normalize=False, scoring=None,cv=None, gcv_mode=None, store_cv_values=False)*\n",
    "\n",
    "RidgeCV的重要参数，属性和接口：\n",
    "\n",
    "重要参数 | 含义\n",
    "--- |---\n",
    "alphas |需要测试的正则化参数的取值的元祖\n",
    "scoring | 用来进行交叉验证的模型评估指标，默认是 ，可自行调整\n",
    "store_cv_values |是否保存每次交叉验证的结果，默认False\n",
    "cv |交叉验证的模式，默认是None，表示默认进行**留一交叉验证**，可以输入Kfold对象和StratifiedKFold对象来进行交叉验证。注意，仅仅当为None时，每次交叉验证的结果才可以被保存下来\n",
    "**重要属性** |**含义**\n",
    "alpha_ | 查看交叉验证选中的alpha\n",
    "cv_values_ | 调用所有交叉验证的结果，只有当store_cv_values=True的时候才能够调用，因此返回的结构是(n_samples, n_alphas)\n",
    "**重要接口**|  **含义**\n",
    "score | 调用Ridge类不进行交叉验证的情况下返回的R平方"
   ]
  },
  {
   "cell_type": "code",
   "execution_count": 50,
   "metadata": {},
   "outputs": [],
   "source": [
    "import numpy as np\n",
    "import pandas as pd\n",
    "from sklearn.linear_model import RidgeCV, LinearRegression\n",
    "from sklearn.model_selection import train_test_split as TTS\n",
    "from sklearn.datasets import fetch_california_housing as fch\n",
    "import matplotlib.pyplot as plt\n",
    "\n",
    "housevalue = fch()\n",
    "X = pd.DataFrame(housevalue.data)\n",
    "y = housevalue.target\n",
    "X.columns = [\"住户收入中位数\",\"房屋使用年代中位数\",\"平均房间数目\"\n",
    "            ,\"平均卧室数目\",\"街区人口\",\"平均入住率\",\"街区的纬度\",\"街区的经度\"]"
   ]
  },
  {
   "cell_type": "code",
   "execution_count": 53,
   "metadata": {},
   "outputs": [
    {
     "data": {
      "text/plain": [
       "0.6060600528545175"
      ]
     },
     "execution_count": 53,
     "metadata": {},
     "output_type": "execute_result"
    }
   ],
   "source": [
    "Ridge_ = RidgeCV(alphas=np.arange(1,100,10),\n",
    "                #,scoring=\"neg_mean_squared_error\"    #默认R2\n",
    "                store_cv_values=True  \n",
    "                #,cv=5   # 默认留一验证\n",
    "                ).fit(X,y)\n",
    "\n",
    "# 无关交叉验证的岭回归结果\n",
    "Ridge_.score(X,y)"
   ]
  },
  {
   "cell_type": "code",
   "execution_count": 54,
   "metadata": {},
   "outputs": [
    {
     "data": {
      "text/plain": [
       "(20640, 10)"
      ]
     },
     "execution_count": 54,
     "metadata": {},
     "output_type": "execute_result"
    }
   ],
   "source": [
    "#调用所有交叉验证的结果\n",
    "Ridge_.cv_values_.shape   "
   ]
  },
  {
   "cell_type": "code",
   "execution_count": 55,
   "metadata": {},
   "outputs": [
    {
     "data": {
      "text/plain": [
       "array([0.52823795, 0.52816167, 0.52809619, 0.52804067, 0.52799435,\n",
       "       0.52795653, 0.52792657, 0.52790389, 0.52788795, 0.52787827])"
      ]
     },
     "execution_count": 55,
     "metadata": {},
     "output_type": "execute_result"
    }
   ],
   "source": [
    "#进行平均后可以查看每个正则化系数取值下的交叉验证结果\n",
    "Ridge_.cv_values_.mean(axis=0)"
   ]
  },
  {
   "cell_type": "code",
   "execution_count": 57,
   "metadata": {},
   "outputs": [
    {
     "data": {
      "text/plain": [
       "91"
      ]
     },
     "execution_count": 57,
     "metadata": {},
     "output_type": "execute_result"
    }
   ],
   "source": [
    "#查看被选择出来的最佳正则化系数\n",
    "Ridge_.alpha_"
   ]
  },
  {
   "cell_type": "markdown",
   "metadata": {},
   "source": [
    "## 4.3 Lasso\n",
    "### 4.3.1 Lasso与多重共线性\n",
    "除了岭回归之外，最常被人们提到还有模型Lasso。Lasso全称最小绝对收缩和选择算子.和岭回归一样，Lasso是被创造来作用于多重\n",
    "共线性问题的算法，不过Lasso使用的是系数$w$的L1范式（L1范式则是系数 的绝对值）乘以正则化系数$\\alpha$，所以Lasso的损失函数表达式为\n",
    "\n",
    "$$\\min_w{||Xw-y||_2^2+\\alpha||w||_1}$$\n",
    "\n",
    "$$w=(X^TX)^{-1}(X^Ty-\\frac{\\alpha*I}{2})$$\n",
    "\n",
    "- Lasso不是从根本上解决多重共线性问题，而是限制多重共线性带来的影响\n",
    "\n",
    "**岭回归 vs Lasso**\n",
    "\n",
    "岭回归可以解决特征间的精确相关关系导致的最小二乘法无法使用的问题，而Lasso不行\n",
    "\n",
    "**L1和L2正则化的核心差异**\n",
    "两个正则化都会压缩系数$w$的大小，对标签贡献更少的特征的系数会更小，也会更容易被压缩。\n",
    "- L2正则化只会将系数压缩到尽量接近0\n",
    "- 但L1正则化主导稀疏性，因此会将系数压缩到0。\n",
    "\n",
    "### 4.3.2 Lasso的核心作用：特征选择\n",
    "\n",
    "*class `sklearn.linear_model.Lasso` (alpha=1.0, fit_intercept=True, normalize=False, precompute=False,copy_X=True, max_iter=1000, tol=0.0001, warm_start=False, positive=False, random_state=None, selection=’cyclic’)*\n",
    "\n",
    "\n",
    "- 正则化系数$\\alpha$。\n",
    "- 参数positive。当这个参数为\"True\"的时候，是我们要求Lasso回归出的系数必须为正数\n",
    "\n",
    "sklearn中我们的Lasso使用的损失函数是：\n",
    "\n",
    "$$\\min_w{\\frac{1}{2n_{samples}}||Xw-y||_2^2+\\alpha||w||_1}$$"
   ]
  },
  {
   "cell_type": "code",
   "execution_count": 58,
   "metadata": {},
   "outputs": [
    {
     "data": {
      "text/html": [
       "<div>\n",
       "<style scoped>\n",
       "    .dataframe tbody tr th:only-of-type {\n",
       "        vertical-align: middle;\n",
       "    }\n",
       "\n",
       "    .dataframe tbody tr th {\n",
       "        vertical-align: top;\n",
       "    }\n",
       "\n",
       "    .dataframe thead th {\n",
       "        text-align: right;\n",
       "    }\n",
       "</style>\n",
       "<table border=\"1\" class=\"dataframe\">\n",
       "  <thead>\n",
       "    <tr style=\"text-align: right;\">\n",
       "      <th></th>\n",
       "      <th>住户收入中位数</th>\n",
       "      <th>房屋使用年代中位数</th>\n",
       "      <th>平均房间数目</th>\n",
       "      <th>平均卧室数目</th>\n",
       "      <th>街区人口</th>\n",
       "      <th>平均入住率</th>\n",
       "      <th>街区的纬度</th>\n",
       "      <th>街区的经度</th>\n",
       "    </tr>\n",
       "  </thead>\n",
       "  <tbody>\n",
       "    <tr>\n",
       "      <th>0</th>\n",
       "      <td>4.1776</td>\n",
       "      <td>35.0</td>\n",
       "      <td>4.425172</td>\n",
       "      <td>1.030683</td>\n",
       "      <td>5380.0</td>\n",
       "      <td>3.368817</td>\n",
       "      <td>37.48</td>\n",
       "      <td>-122.19</td>\n",
       "    </tr>\n",
       "    <tr>\n",
       "      <th>1</th>\n",
       "      <td>5.3261</td>\n",
       "      <td>38.0</td>\n",
       "      <td>6.267516</td>\n",
       "      <td>1.089172</td>\n",
       "      <td>429.0</td>\n",
       "      <td>2.732484</td>\n",
       "      <td>37.53</td>\n",
       "      <td>-122.30</td>\n",
       "    </tr>\n",
       "    <tr>\n",
       "      <th>2</th>\n",
       "      <td>1.9439</td>\n",
       "      <td>26.0</td>\n",
       "      <td>5.768977</td>\n",
       "      <td>1.141914</td>\n",
       "      <td>891.0</td>\n",
       "      <td>2.940594</td>\n",
       "      <td>36.02</td>\n",
       "      <td>-119.08</td>\n",
       "    </tr>\n",
       "    <tr>\n",
       "      <th>3</th>\n",
       "      <td>2.5000</td>\n",
       "      <td>22.0</td>\n",
       "      <td>4.916000</td>\n",
       "      <td>1.012000</td>\n",
       "      <td>733.0</td>\n",
       "      <td>2.932000</td>\n",
       "      <td>38.57</td>\n",
       "      <td>-121.31</td>\n",
       "    </tr>\n",
       "    <tr>\n",
       "      <th>4</th>\n",
       "      <td>3.8250</td>\n",
       "      <td>34.0</td>\n",
       "      <td>5.036765</td>\n",
       "      <td>1.098039</td>\n",
       "      <td>1134.0</td>\n",
       "      <td>2.779412</td>\n",
       "      <td>33.91</td>\n",
       "      <td>-118.35</td>\n",
       "    </tr>\n",
       "  </tbody>\n",
       "</table>\n",
       "</div>"
      ],
      "text/plain": [
       "   住户收入中位数  房屋使用年代中位数    平均房间数目    平均卧室数目    街区人口     平均入住率  街区的纬度   街区的经度\n",
       "0   4.1776       35.0  4.425172  1.030683  5380.0  3.368817  37.48 -122.19\n",
       "1   5.3261       38.0  6.267516  1.089172   429.0  2.732484  37.53 -122.30\n",
       "2   1.9439       26.0  5.768977  1.141914   891.0  2.940594  36.02 -119.08\n",
       "3   2.5000       22.0  4.916000  1.012000   733.0  2.932000  38.57 -121.31\n",
       "4   3.8250       34.0  5.036765  1.098039  1134.0  2.779412  33.91 -118.35"
      ]
     },
     "execution_count": 58,
     "metadata": {},
     "output_type": "execute_result"
    }
   ],
   "source": [
    "import numpy as np\n",
    "import pandas as pd\n",
    "from sklearn.linear_model import Ridge, LinearRegression, Lasso\n",
    "from sklearn.model_selection import train_test_split as TTS\n",
    "from sklearn.datasets import fetch_california_housing as fch\n",
    "import matplotlib.pyplot as plt\n",
    "\n",
    "housevalue = fch()\n",
    "X = pd.DataFrame(housevalue.data)\n",
    "y = housevalue.target\n",
    "X.columns = [\"住户收入中位数\",\"房屋使用年代中位数\",\"平均房间数目\",\"平均卧室数目\",\"街区人口\",\"平均入住率\",\"街区的纬度\",\"街区的经度\"]\n",
    "\n",
    "\n",
    "Xtrain,Xtest,Ytrain,Ytest = TTS(X,y,test_size=0.3,random_state=420)\n",
    "#恢复索引\n",
    "\n",
    "for i in [Xtrain,Xtest]:\n",
    "    i.index = range(i.shape[0])\n",
    "\n",
    "Xtrain.head()"
   ]
  },
  {
   "cell_type": "code",
   "execution_count": 59,
   "metadata": {},
   "outputs": [
    {
     "data": {
      "text/plain": [
       "[43.735893059684,\n",
       " 1.0211268294493883,\n",
       " -10.780721617317667,\n",
       " 62.64338275363759,\n",
       " 5.216125353348089e-05,\n",
       " -0.3348509646333704,\n",
       " -41.30959378947717,\n",
       " -42.62109536208464]"
      ]
     },
     "execution_count": 59,
     "metadata": {},
     "output_type": "execute_result"
    }
   ],
   "source": [
    "#————————————————————————————线性回归进行拟合————————————————————————————\n",
    "reg = LinearRegression().fit(Xtrain,Ytrain)\n",
    "(reg.coef_*100).tolist()"
   ]
  },
  {
   "cell_type": "code",
   "execution_count": 60,
   "metadata": {},
   "outputs": [
    {
     "data": {
      "text/plain": [
       "[43.73589305968408,\n",
       " 1.0211268294494091,\n",
       " -10.780721617317727,\n",
       " 62.64338275363801,\n",
       " 5.2161253532684156e-05,\n",
       " -0.3348509646333581,\n",
       " -41.309593789477034,\n",
       " -42.6210953620846]"
      ]
     },
     "execution_count": 60,
     "metadata": {},
     "output_type": "execute_result"
    }
   ],
   "source": [
    "#————————————————————————————岭回归进行拟合————————————————————————————\n",
    "Ridge_ = Ridge(alpha=0).fit(Xtrain,Ytrain)\n",
    "(Ridge_.coef_*100).tolist()\n",
    "\n",
    "# alpha=0时，岭回归和线性回归的系数相同"
   ]
  },
  {
   "cell_type": "code",
   "execution_count": 61,
   "metadata": {},
   "outputs": [
    {
     "name": "stderr",
     "output_type": "stream",
     "text": [
      "C:\\Users\\HP\\AppData\\Local\\Temp\\ipykernel_2712\\2586254969.py:2: UserWarning: With alpha=0, this algorithm does not converge well. You are advised to use the LinearRegression estimator\n",
      "  lasso_ = Lasso(alpha=0).fit(Xtrain,Ytrain)\n",
      "c:\\Users\\HP\\Python\\Python310\\lib\\site-packages\\sklearn\\linear_model\\_coordinate_descent.py:648: UserWarning: Coordinate descent with no regularization may lead to unexpected results and is discouraged.\n",
      "  model = cd_fast.enet_coordinate_descent(\n",
      "c:\\Users\\HP\\Python\\Python310\\lib\\site-packages\\sklearn\\linear_model\\_coordinate_descent.py:648: ConvergenceWarning: Objective did not converge. You might want to increase the number of iterations, check the scale of the features or consider increasing regularisation. Duality gap: 3.770e+03, tolerance: 1.917e+00 Linear regression models with null weight for the l1 regularization term are more efficiently fitted using one of the solvers implemented in sklearn.linear_model.Ridge/RidgeCV instead.\n",
      "  model = cd_fast.enet_coordinate_descent(\n"
     ]
    },
    {
     "data": {
      "text/plain": [
       "[43.73589305968403,\n",
       " 1.021126829449405,\n",
       " -10.780721617317669,\n",
       " 62.6433827536378,\n",
       " 5.2161253532672325e-05,\n",
       " -0.33485096463335784,\n",
       " -41.309593789477105,\n",
       " -42.62109536208469]"
      ]
     },
     "execution_count": 61,
     "metadata": {},
     "output_type": "execute_result"
    }
   ],
   "source": [
    "#————————————————————————————Lasso进行拟合————————————————————————————\n",
    "lasso_ = Lasso(alpha=0).fit(Xtrain,Ytrain)\n",
    "(lasso_.coef_*100).tolist()"
   ]
  },
  {
   "cell_type": "markdown",
   "metadata": {},
   "source": [
    "虽然依然对系数进行了计算，但是报出了整整三个红条\n",
    "\n",
    "1. 正则化系数为0，这样算法不可收敛！如果你想让正则化系数为0，请使用线性回归吧\n",
    "2. 没有正则项的坐标下降法可能会导致意外的结果，不鼓励这样做！\n",
    "3. 目标函数没有收敛，你也许想要增加迭代次数，使用一个非常小的alpha来拟合模型可能会造成精确度问题"
   ]
  },
  {
   "cell_type": "code",
   "execution_count": 62,
   "metadata": {},
   "outputs": [
    {
     "data": {
      "text/plain": [
       "[43.73575720621595,\n",
       " 1.021129231812172,\n",
       " -10.780460336251652,\n",
       " 62.64202320775688,\n",
       " 5.217068073238944e-05,\n",
       " -0.33485065170676104,\n",
       " -41.30957143229181,\n",
       " -42.62105388932447]"
      ]
     },
     "execution_count": 62,
     "metadata": {},
     "output_type": "execute_result"
    }
   ],
   "source": [
    "#————————————————————————————岭回归进行拟合 轻微调整alpha————————————————————————————\n",
    "Ridge_ = Ridge(alpha=0.01).fit(Xtrain,Ytrain)\n",
    "(Ridge_.coef_*100).tolist()\n"
   ]
  },
  {
   "cell_type": "code",
   "execution_count": 63,
   "metadata": {},
   "outputs": [
    {
     "data": {
      "text/plain": [
       "[40.10568371834486,\n",
       " 1.093629260786014,\n",
       " -3.7423763610244514,\n",
       " 26.52403783489719,\n",
       " 0.0003525368511503932,\n",
       " -0.32071293948877994,\n",
       " -40.06483047344844,\n",
       " -40.81754399163315]"
      ]
     },
     "execution_count": 63,
     "metadata": {},
     "output_type": "execute_result"
    }
   ],
   "source": [
    "#————————————————————————————Lasso进行拟合 轻微调整alpha————————————————————————————\n",
    "lasso_ = Lasso(alpha=0.01).fit(Xtrain,Ytrain)\n",
    "(lasso_.coef_*100).tolist()\n",
    "\n",
    "# Lasso对系数变化更加明显 可以用于特征选择"
   ]
  },
  {
   "cell_type": "code",
   "execution_count": 64,
   "metadata": {},
   "outputs": [
    {
     "data": {
      "text/plain": [
       "[34.62081517607697,\n",
       " 1.5196170869238699,\n",
       " 0.3968610529210071,\n",
       " 0.9151812510354975,\n",
       " 0.0021739238012248438,\n",
       " -0.3476866014810103,\n",
       " -14.736963474215282,\n",
       " -13.435576102526936]"
      ]
     },
     "execution_count": 64,
     "metadata": {},
     "output_type": "execute_result"
    }
   ],
   "source": [
    "#加大正则项系数，观察模型的系数发生了什么变化\n",
    "Ridge_ = Ridge(alpha=10**4).fit(Xtrain,Ytrain)\n",
    "(Ridge_.coef_*100).tolist()\n",
    "\n",
    "\n",
    "# 岭回归 系数取得再大，也不会等于0，只会趋于零"
   ]
  },
  {
   "cell_type": "code",
   "execution_count": 66,
   "metadata": {},
   "outputs": [
    {
     "data": {
      "text/plain": [
       "[0.0, 0.0, 0.0, -0.0, -0.0, -0.0, -0.0, -0.0]"
      ]
     },
     "execution_count": 66,
     "metadata": {},
     "output_type": "execute_result"
    }
   ],
   "source": [
    "lasso_ = Lasso(alpha=10**2).fit(Xtrain,Ytrain)\n",
    "(lasso_.coef_*100).tolist()\n",
    "\n",
    "# #看来10**2对于Lasso来说是一个过于大的取值\n",
    "# lasso取的太大了，所有系数都压缩到了0"
   ]
  },
  {
   "cell_type": "code",
   "execution_count": 67,
   "metadata": {},
   "outputs": [
    {
     "data": {
      "image/png": "[encoded data removed]",
      "text/plain": [
       "<Figure size 432x288 with 1 Axes>"
      ]
     },
     "metadata": {
      "needs_background": "light"
     },
     "output_type": "display_data"
    }
   ],
   "source": [
    "#将系数进行绘图\n",
    "plt.plot(range(1,9),(reg.coef_*100).tolist(),color=\"red\",label=\"LR\")\n",
    "plt.plot(range(1,9),(Ridge_.coef_*100).tolist(),color=\"orange\",label=\"Ridge\")\n",
    "plt.plot(range(1,9),(lasso_.coef_*100).tolist(),color=\"k\",label=\"Lasso\")\n",
    "plt.plot(range(1,9),[0]*8,color=\"grey\",linestyle=\"--\")\n",
    "plt.xlabel('w') #横坐标是每一个特征所对应的系数\n",
    "plt.legend()\n",
    "plt.show()"
   ]
  },
  {
   "cell_type": "markdown",
   "metadata": {},
   "source": [
    "### 4.3.3 选取最佳的正则化参数取值\n",
    "\n",
    "*class `sklearn.linear_model.LassoCV` (eps=0.001, n_alphas=100, alphas=None, fit_intercept=True,normalize=False, precompute=’auto’, max_iter=1000, tol=0.0001, copy_X=True, cv=’warn’, verbose=False,n_jobs=None, positive=False, random_state=None, selection=’cyclic’)*\n",
    "`\n",
    "\n",
    "参数| 含义\n",
    "---|---\n",
    "eps |正则化路径的长度，默认0.001\n",
    "n_alphas| 正则化路径中 的个数，默认100\n",
    "alphas | 需要测试的正则化参数的取值的元祖，默认None。当不输入的时候，自动使用eps和n_alphas来自动生成带入交叉验证的正则化参数\n",
    "cv | 交叉验证的次数，默认3折交叉验证，将在0.22版本中改为5折交叉验证\n",
    "**属性** |**含义**\n",
    "alpha_ | 调用交叉验证选出来的最佳正则化参数\n",
    "alphas_  | 使用正则化路径的长度和路径中 的个数来自动生成的，用来进行交叉验证的正则化参数\n",
    "mse_path | 返回所以交叉验证的结果细节\n",
    "coef_ | 调用最佳正则化参数下建立的模型的系数"
   ]
  },
  {
   "cell_type": "code",
   "execution_count": 71,
   "metadata": {},
   "outputs": [
    {
     "data": {
      "text/plain": [
       "array([1.00000000e-10, 1.09698580e-10, 1.20337784e-10, 1.32008840e-10,\n",
       "       1.44811823e-10])"
      ]
     },
     "execution_count": 71,
     "metadata": {},
     "output_type": "execute_result"
    }
   ],
   "source": [
    "from sklearn.linear_model import LassoCV\n",
    "\n",
    "#自己建立Lasso进行alpha选择的范围\n",
    "alpharange = np.logspace(-10, -2, 200,base=10)   # 其实是形成10为底的指数函数\n",
    "\n",
    "alpharange[0:5]\n",
    "\n"
   ]
  },
  {
   "cell_type": "code",
   "execution_count": 69,
   "metadata": {},
   "outputs": [
    {
     "data": {
      "text/html": [
       "<div>\n",
       "<style scoped>\n",
       "    .dataframe tbody tr th:only-of-type {\n",
       "        vertical-align: middle;\n",
       "    }\n",
       "\n",
       "    .dataframe tbody tr th {\n",
       "        vertical-align: top;\n",
       "    }\n",
       "\n",
       "    .dataframe thead th {\n",
       "        text-align: right;\n",
       "    }\n",
       "</style>\n",
       "<table border=\"1\" class=\"dataframe\">\n",
       "  <thead>\n",
       "    <tr style=\"text-align: right;\">\n",
       "      <th></th>\n",
       "      <th>住户收入中位数</th>\n",
       "      <th>房屋使用年代中位数</th>\n",
       "      <th>平均房间数目</th>\n",
       "      <th>平均卧室数目</th>\n",
       "      <th>街区人口</th>\n",
       "      <th>平均入住率</th>\n",
       "      <th>街区的纬度</th>\n",
       "      <th>街区的经度</th>\n",
       "    </tr>\n",
       "  </thead>\n",
       "  <tbody>\n",
       "    <tr>\n",
       "      <th>0</th>\n",
       "      <td>4.1776</td>\n",
       "      <td>35.0</td>\n",
       "      <td>4.425172</td>\n",
       "      <td>1.030683</td>\n",
       "      <td>5380.0</td>\n",
       "      <td>3.368817</td>\n",
       "      <td>37.48</td>\n",
       "      <td>-122.19</td>\n",
       "    </tr>\n",
       "    <tr>\n",
       "      <th>1</th>\n",
       "      <td>5.3261</td>\n",
       "      <td>38.0</td>\n",
       "      <td>6.267516</td>\n",
       "      <td>1.089172</td>\n",
       "      <td>429.0</td>\n",
       "      <td>2.732484</td>\n",
       "      <td>37.53</td>\n",
       "      <td>-122.30</td>\n",
       "    </tr>\n",
       "    <tr>\n",
       "      <th>2</th>\n",
       "      <td>1.9439</td>\n",
       "      <td>26.0</td>\n",
       "      <td>5.768977</td>\n",
       "      <td>1.141914</td>\n",
       "      <td>891.0</td>\n",
       "      <td>2.940594</td>\n",
       "      <td>36.02</td>\n",
       "      <td>-119.08</td>\n",
       "    </tr>\n",
       "    <tr>\n",
       "      <th>3</th>\n",
       "      <td>2.5000</td>\n",
       "      <td>22.0</td>\n",
       "      <td>4.916000</td>\n",
       "      <td>1.012000</td>\n",
       "      <td>733.0</td>\n",
       "      <td>2.932000</td>\n",
       "      <td>38.57</td>\n",
       "      <td>-121.31</td>\n",
       "    </tr>\n",
       "    <tr>\n",
       "      <th>4</th>\n",
       "      <td>3.8250</td>\n",
       "      <td>34.0</td>\n",
       "      <td>5.036765</td>\n",
       "      <td>1.098039</td>\n",
       "      <td>1134.0</td>\n",
       "      <td>2.779412</td>\n",
       "      <td>33.91</td>\n",
       "      <td>-118.35</td>\n",
       "    </tr>\n",
       "  </tbody>\n",
       "</table>\n",
       "</div>"
      ],
      "text/plain": [
       "   住户收入中位数  房屋使用年代中位数    平均房间数目    平均卧室数目    街区人口     平均入住率  街区的纬度   街区的经度\n",
       "0   4.1776       35.0  4.425172  1.030683  5380.0  3.368817  37.48 -122.19\n",
       "1   5.3261       38.0  6.267516  1.089172   429.0  2.732484  37.53 -122.30\n",
       "2   1.9439       26.0  5.768977  1.141914   891.0  2.940594  36.02 -119.08\n",
       "3   2.5000       22.0  4.916000  1.012000   733.0  2.932000  38.57 -121.31\n",
       "4   3.8250       34.0  5.036765  1.098039  1134.0  2.779412  33.91 -118.35"
      ]
     },
     "execution_count": 69,
     "metadata": {},
     "output_type": "execute_result"
    }
   ],
   "source": [
    "Xtrain.head()\n"
   ]
  },
  {
   "cell_type": "code",
   "execution_count": 73,
   "metadata": {},
   "outputs": [],
   "source": [
    "lasso_ = LassoCV(alphas=alpharange #自行输入的alpha的取值范围\n",
    "                ,cv=5 #交叉验证的折数\n",
    "                ).fit(Xtrain, Ytrain)"
   ]
  },
  {
   "cell_type": "code",
   "execution_count": 74,
   "metadata": {},
   "outputs": [
    {
     "data": {
      "text/plain": [
       "0.0020729217795953697"
      ]
     },
     "execution_count": 74,
     "metadata": {},
     "output_type": "execute_result"
    }
   ],
   "source": [
    "#查看被选择出来的最佳正则化系数\n",
    "lasso_.alpha_"
   ]
  },
  {
   "cell_type": "code",
   "execution_count": 75,
   "metadata": {},
   "outputs": [
    {
     "data": {
      "text/plain": [
       "array([[0.52454913, 0.49856261, 0.55984312, 0.50526576, 0.55262557],\n",
       "       [0.52361933, 0.49748809, 0.55887637, 0.50429373, 0.55283734],\n",
       "       [0.52281927, 0.49655113, 0.55803797, 0.5034594 , 0.55320522],\n",
       "       [0.52213811, 0.49574741, 0.55731858, 0.50274517, 0.55367515],\n",
       "       [0.52155715, 0.49505688, 0.55669995, 0.50213252, 0.55421553],\n",
       "       [0.52106069, 0.49446226, 0.55616707, 0.50160604, 0.55480104],\n",
       "       [0.5206358 , 0.49394903, 0.55570702, 0.50115266, 0.55541214],\n",
       "       [0.52027135, 0.49350539, 0.55530895, 0.50076146, 0.55603333],\n",
       "       [0.51995825, 0.49312085, 0.5549639 , 0.50042318, 0.55665306],\n",
       "       [0.5196886 , 0.49278705, 0.55466406, 0.50013007, 0.55726225],\n",
       "       [0.51945602, 0.49249647, 0.55440306, 0.49987554, 0.55785451],\n",
       "       [0.51925489, 0.49224316, 0.55417527, 0.49965404, 0.55842496],\n",
       "       [0.51908068, 0.49202169, 0.55397615, 0.49946088, 0.55897049],\n",
       "       [0.51892938, 0.49182782, 0.55380162, 0.49929206, 0.55948886],\n",
       "       [0.51879778, 0.49165759, 0.55364841, 0.49914421, 0.55997905],\n",
       "       [0.51868299, 0.49150788, 0.55351357, 0.49901446, 0.5604405 ],\n",
       "       [0.51858268, 0.49137604, 0.55339469, 0.49890035, 0.56087323],\n",
       "       [0.51849488, 0.49125956, 0.55328972, 0.4987998 , 0.56127784],\n",
       "       [0.5184178 , 0.49115652, 0.55319678, 0.49871101, 0.56165507],\n",
       "       [0.51835002, 0.49106526, 0.55311438, 0.49863248, 0.5620059 ],\n",
       "       [0.51829033, 0.49098418, 0.55304118, 0.49856287, 0.56233145],\n",
       "       [0.51823761, 0.49091208, 0.55297609, 0.49850108, 0.56263308],\n",
       "       [0.51819098, 0.49084785, 0.55291806, 0.49844612, 0.56291204],\n",
       "       [0.51814966, 0.49079058, 0.55286626, 0.49839716, 0.56316966],\n",
       "       [0.51811298, 0.49073937, 0.55281996, 0.49835348, 0.56340721],\n",
       "       [0.51808038, 0.49069355, 0.55277854, 0.49831445, 0.5636261 ],\n",
       "       [0.51805132, 0.49065249, 0.5527414 , 0.49827953, 0.56382754],\n",
       "       [0.5180254 , 0.49061566, 0.55270806, 0.49824828, 0.56401276],\n",
       "       [0.51800224, 0.49058258, 0.55267812, 0.49822015, 0.56418292],\n",
       "       [0.51798152, 0.49055285, 0.55265118, 0.49819493, 0.56433912],\n",
       "       [0.51796296, 0.49052608, 0.55262693, 0.49817225, 0.56448243],\n",
       "       [0.5179463 , 0.49050195, 0.55260507, 0.49815185, 0.56461379],\n",
       "       [0.51793135, 0.49048019, 0.55258536, 0.49813345, 0.5647342 ],\n",
       "       [0.51791791, 0.49046055, 0.55256757, 0.49811687, 0.56484448],\n",
       "       [0.5179058 , 0.49044281, 0.55255149, 0.4981019 , 0.56494544],\n",
       "       [0.5178949 , 0.49042677, 0.55253695, 0.49808838, 0.56503784],\n",
       "       [0.51788506, 0.49041226, 0.55252379, 0.49807615, 0.56512236],\n",
       "       [0.51787619, 0.49039913, 0.55251189, 0.4980651 , 0.56519967],\n",
       "       [0.51786817, 0.49038724, 0.5525011 , 0.49805509, 0.56527034],\n",
       "       [0.51786092, 0.49037646, 0.55249132, 0.49804603, 0.56533494],\n",
       "       [0.51785437, 0.49036669, 0.55248246, 0.49803782, 0.56539397],\n",
       "       [0.51784843, 0.49035783, 0.55247442, 0.49803037, 0.5654479 ],\n",
       "       [0.51784306, 0.49034979, 0.55246712, 0.49802362, 0.56549716],\n",
       "       [0.51783819, 0.49034249, 0.5524605 , 0.49801749, 0.56554215],\n",
       "       [0.51783377, 0.49033586, 0.55245448, 0.49801193, 0.56558322],\n",
       "       [0.51782977, 0.49032984, 0.55244901, 0.49800688, 0.56562073],\n",
       "       [0.51782614, 0.49032437, 0.55244405, 0.49800229, 0.56565496],\n",
       "       [0.51782284, 0.49031939, 0.55243953, 0.49799812, 0.56568621],\n",
       "       [0.51781984, 0.49031487, 0.55243543, 0.49799434, 0.56571472],\n",
       "       [0.51781712, 0.49031076, 0.55243169, 0.49799089, 0.56574074],\n",
       "       [0.51781465, 0.49030702, 0.5524283 , 0.49798776, 0.56576449],\n",
       "       [0.5178124 , 0.49030362, 0.55242521, 0.49798491, 0.56578615],\n",
       "       [0.51781036, 0.49030052, 0.5524224 , 0.49798232, 0.56580591],\n",
       "       [0.5178085 , 0.4902977 , 0.55241984, 0.49797996, 0.56582394],\n",
       "       [0.51780681, 0.49029514, 0.55241751, 0.49797781, 0.56584039],\n",
       "       [0.51780528, 0.4902928 , 0.55241539, 0.49797586, 0.56585539],\n",
       "       [0.51780388, 0.49029068, 0.55241346, 0.49797408, 0.56586907],\n",
       "       [0.51780261, 0.49028874, 0.55241171, 0.49797246, 0.56588155],\n",
       "       [0.51780145, 0.49028698, 0.55241011, 0.49797099, 0.56589293],\n",
       "       [0.51780039, 0.49028538, 0.55240865, 0.49796965, 0.56590331],\n",
       "       [0.51779943, 0.49028392, 0.55240732, 0.49796843, 0.56591277],\n",
       "       [0.51779856, 0.49028258, 0.55240611, 0.49796731, 0.5659214 ],\n",
       "       [0.51779777, 0.49028137, 0.55240501, 0.4979663 , 0.56592927],\n",
       "       [0.51779704, 0.49028027, 0.55240401, 0.49796538, 0.56593645],\n",
       "       [0.51779638, 0.49027926, 0.5524031 , 0.49796454, 0.56594299],\n",
       "       [0.51779578, 0.49027834, 0.55240226, 0.49796377, 0.56594896],\n",
       "       [0.51779523, 0.49027751, 0.55240151, 0.49796307, 0.5659544 ],\n",
       "       [0.51779473, 0.49027675, 0.55240081, 0.49796243, 0.56595936],\n",
       "       [0.51779428, 0.49027605, 0.55240018, 0.49796185, 0.56596388],\n",
       "       [0.51779386, 0.49027542, 0.55239961, 0.49796133, 0.565968  ],\n",
       "       [0.51779349, 0.49027485, 0.55239909, 0.49796085, 0.56597176],\n",
       "       [0.51779314, 0.49027432, 0.55239861, 0.49796041, 0.56597519],\n",
       "       [0.51779283, 0.49027384, 0.55239818, 0.49796001, 0.56597831],\n",
       "       [0.51779254, 0.49027341, 0.55239778, 0.49795964, 0.56598116],\n",
       "       [0.51779228, 0.49027301, 0.55239742, 0.49795931, 0.56598376],\n",
       "       [0.51779205, 0.49027265, 0.55239709, 0.49795901, 0.56598613],\n",
       "       [0.51779183, 0.49027232, 0.55239679, 0.49795873, 0.56598828],\n",
       "       [0.51779163, 0.49027202, 0.55239652, 0.49795848, 0.56599025],\n",
       "       [0.51779146, 0.49027174, 0.55239627, 0.49795825, 0.56599205],\n",
       "       [0.51779129, 0.49027149, 0.55239604, 0.49795804, 0.56599368],\n",
       "       [0.51779114, 0.49027127, 0.55239584, 0.49795785, 0.56599517],\n",
       "       [0.51779101, 0.49027106, 0.55239565, 0.49795768, 0.56599653],\n",
       "       [0.51779088, 0.49027087, 0.55239548, 0.49795752, 0.56599777],\n",
       "       [0.51779077, 0.4902707 , 0.55239532, 0.49795738, 0.5659989 ],\n",
       "       [0.51779067, 0.49027054, 0.55239518, 0.49795725, 0.56599993],\n",
       "       [0.51779057, 0.4902704 , 0.55239505, 0.49795713, 0.56600087],\n",
       "       [0.51779049, 0.49027027, 0.55239493, 0.49795702, 0.56600172],\n",
       "       [0.51779041, 0.49027015, 0.55239482, 0.49795692, 0.5660025 ],\n",
       "       [0.51779034, 0.49027004, 0.55239472, 0.49795683, 0.56600322],\n",
       "       [0.51779027, 0.49026994, 0.55239463, 0.49795675, 0.56600386],\n",
       "       [0.51779022, 0.49026985, 0.55239455, 0.49795667, 0.56600446],\n",
       "       [0.51779016, 0.49026977, 0.55239448, 0.4979566 , 0.56600499],\n",
       "       [0.51779011, 0.49026969, 0.55239441, 0.49795654, 0.56600549],\n",
       "       [0.51779007, 0.49026962, 0.55239435, 0.49795648, 0.56600593],\n",
       "       [0.51779003, 0.49026956, 0.55239429, 0.49795643, 0.56600634],\n",
       "       [0.51778999, 0.49026951, 0.55239424, 0.49795638, 0.56600671],\n",
       "       [0.51778996, 0.49026945, 0.55239419, 0.49795634, 0.56600705],\n",
       "       [0.51778993, 0.49026941, 0.55239415, 0.4979563 , 0.56600736],\n",
       "       [0.5177899 , 0.49026936, 0.55239411, 0.49795626, 0.56600764],\n",
       "       [0.51778987, 0.49026932, 0.55239407, 0.49795623, 0.5660079 ],\n",
       "       [0.51778985, 0.49026929, 0.55239404, 0.4979562 , 0.56600813],\n",
       "       [0.51778983, 0.49026926, 0.55239401, 0.49795617, 0.56600835],\n",
       "       [0.51778981, 0.49026923, 0.55239398, 0.49795615, 0.56600854],\n",
       "       [0.51778979, 0.4902692 , 0.55239396, 0.49795613, 0.56600872],\n",
       "       [0.51778977, 0.49026918, 0.55239394, 0.49795611, 0.56600888],\n",
       "       [0.51778976, 0.49026915, 0.55239392, 0.49795609, 0.56600903],\n",
       "       [0.51778975, 0.49026913, 0.5523939 , 0.49795607, 0.56600916],\n",
       "       [0.51778973, 0.49026911, 0.55239388, 0.49795605, 0.56600929],\n",
       "       [0.51778972, 0.4902691 , 0.55239387, 0.49795604, 0.5660094 ],\n",
       "       [0.51778971, 0.49026908, 0.55239385, 0.49795603, 0.5660095 ],\n",
       "       [0.5177897 , 0.49026907, 0.55239384, 0.49795602, 0.56600959],\n",
       "       [0.5177897 , 0.49026905, 0.55239383, 0.49795601, 0.56600968],\n",
       "       [0.51778969, 0.49026904, 0.55239382, 0.497956  , 0.56600975],\n",
       "       [0.51778968, 0.49026903, 0.55239381, 0.49795599, 0.56600983],\n",
       "       [0.51778967, 0.49026902, 0.5523938 , 0.49795598, 0.56600989],\n",
       "       [0.51778967, 0.49026901, 0.55239379, 0.49795597, 0.56600995],\n",
       "       [0.51778966, 0.490269  , 0.55239378, 0.49795596, 0.56601   ],\n",
       "       [0.51778966, 0.490269  , 0.55239378, 0.49795596, 0.56601005],\n",
       "       [0.51778965, 0.49026899, 0.55239377, 0.49795595, 0.56601009],\n",
       "       [0.51778965, 0.49026898, 0.55239376, 0.49795595, 0.56601013],\n",
       "       [0.51778965, 0.49026898, 0.55239376, 0.49795594, 0.56601017],\n",
       "       [0.51778964, 0.49026897, 0.55239375, 0.49795594, 0.5660102 ],\n",
       "       [0.51778964, 0.49026897, 0.55239375, 0.49795593, 0.56601023],\n",
       "       [0.51778964, 0.49026896, 0.55239375, 0.49795593, 0.56601026],\n",
       "       [0.51778963, 0.49026896, 0.55239374, 0.49795593, 0.56601029],\n",
       "       [0.51778963, 0.49026896, 0.55239374, 0.49795592, 0.56601031],\n",
       "       [0.51778963, 0.49026895, 0.55239374, 0.49795592, 0.56601033],\n",
       "       [0.51778963, 0.49026895, 0.55239373, 0.49795592, 0.56601035],\n",
       "       [0.51778963, 0.49026895, 0.55239373, 0.49795592, 0.56601037],\n",
       "       [0.51778962, 0.49026895, 0.55239373, 0.49795591, 0.56601039],\n",
       "       [0.51778962, 0.49026894, 0.55239373, 0.49795591, 0.5660104 ],\n",
       "       [0.51778962, 0.49026894, 0.55239372, 0.49795591, 0.56601041],\n",
       "       [0.51778962, 0.49026894, 0.55239372, 0.49795591, 0.56601043],\n",
       "       [0.51778962, 0.49026894, 0.55239372, 0.49795591, 0.56601044],\n",
       "       [0.51778962, 0.49026894, 0.55239372, 0.49795591, 0.56601045],\n",
       "       [0.51778962, 0.49026894, 0.55239372, 0.49795591, 0.56601046],\n",
       "       [0.51778962, 0.49026893, 0.55239372, 0.4979559 , 0.56601046],\n",
       "       [0.51778962, 0.49026893, 0.55239372, 0.4979559 , 0.56601047],\n",
       "       [0.51778962, 0.49026893, 0.55239372, 0.4979559 , 0.56601048],\n",
       "       [0.51778961, 0.49026893, 0.55239371, 0.4979559 , 0.56601048],\n",
       "       [0.51778961, 0.49026893, 0.55239371, 0.4979559 , 0.56601049],\n",
       "       [0.51778961, 0.49026893, 0.55239371, 0.4979559 , 0.5660105 ],\n",
       "       [0.51778961, 0.49026893, 0.55239371, 0.4979559 , 0.5660105 ],\n",
       "       [0.51778961, 0.49026893, 0.55239371, 0.4979559 , 0.5660105 ],\n",
       "       [0.51778961, 0.49026893, 0.55239371, 0.4979559 , 0.56601051],\n",
       "       [0.51778961, 0.49026893, 0.55239371, 0.4979559 , 0.56601051],\n",
       "       [0.51778961, 0.49026893, 0.55239371, 0.4979559 , 0.56601052],\n",
       "       [0.51778961, 0.49026893, 0.55239371, 0.4979559 , 0.56601052],\n",
       "       [0.51778961, 0.49026893, 0.55239371, 0.4979559 , 0.56601052],\n",
       "       [0.51778961, 0.49026892, 0.55239371, 0.4979559 , 0.56601052],\n",
       "       [0.51778961, 0.49026892, 0.55239371, 0.4979559 , 0.56601053],\n",
       "       [0.51778961, 0.49026892, 0.55239371, 0.4979559 , 0.56601053],\n",
       "       [0.51778961, 0.49026892, 0.55239371, 0.4979559 , 0.56601053],\n",
       "       [0.51778961, 0.49026892, 0.55239371, 0.4979559 , 0.56601053],\n",
       "       [0.51778961, 0.49026892, 0.55239371, 0.4979559 , 0.56601053],\n",
       "       [0.51778961, 0.49026892, 0.55239371, 0.4979559 , 0.56601054],\n",
       "       [0.51778961, 0.49026892, 0.55239371, 0.4979559 , 0.56601054],\n",
       "       [0.51778961, 0.49026892, 0.55239371, 0.4979559 , 0.56601054],\n",
       "       [0.51778961, 0.49026892, 0.55239371, 0.4979559 , 0.56601054],\n",
       "       [0.51778961, 0.49026892, 0.55239371, 0.4979559 , 0.56601054],\n",
       "       [0.51778961, 0.49026892, 0.55239371, 0.4979559 , 0.56601054],\n",
       "       [0.51778961, 0.49026892, 0.55239371, 0.4979559 , 0.56601054],\n",
       "       [0.51778961, 0.49026892, 0.55239371, 0.49795589, 0.56601054],\n",
       "       [0.51778961, 0.49026892, 0.55239371, 0.49795589, 0.56601054],\n",
       "       [0.51778961, 0.49026892, 0.55239371, 0.49795589, 0.56601054],\n",
       "       [0.51778961, 0.49026892, 0.55239371, 0.49795589, 0.56601054],\n",
       "       [0.51778961, 0.49026892, 0.55239371, 0.49795589, 0.56601054],\n",
       "       [0.51778961, 0.49026892, 0.55239371, 0.49795589, 0.56601055],\n",
       "       [0.51778961, 0.49026892, 0.55239371, 0.49795589, 0.56601055],\n",
       "       [0.51778961, 0.49026892, 0.55239371, 0.49795589, 0.56601055],\n",
       "       [0.51778961, 0.49026892, 0.55239371, 0.49795589, 0.56601055],\n",
       "       [0.51778961, 0.49026892, 0.55239371, 0.49795589, 0.56601055],\n",
       "       [0.51778961, 0.49026892, 0.55239371, 0.49795589, 0.56601055],\n",
       "       [0.51778961, 0.49026892, 0.55239371, 0.49795589, 0.56601055],\n",
       "       [0.51778961, 0.49026892, 0.55239371, 0.49795589, 0.56601055],\n",
       "       [0.51778961, 0.49026892, 0.55239371, 0.49795589, 0.56601055],\n",
       "       [0.51778961, 0.49026892, 0.55239371, 0.49795589, 0.56601055],\n",
       "       [0.51778961, 0.49026892, 0.55239371, 0.49795589, 0.56601055],\n",
       "       [0.51778961, 0.49026892, 0.55239371, 0.49795589, 0.56601055],\n",
       "       [0.51778961, 0.49026892, 0.55239371, 0.49795589, 0.56601055],\n",
       "       [0.51778961, 0.49026892, 0.55239371, 0.49795589, 0.56601055],\n",
       "       [0.51778961, 0.49026892, 0.55239371, 0.49795589, 0.56601055],\n",
       "       [0.51778961, 0.49026892, 0.55239371, 0.49795589, 0.56601055],\n",
       "       [0.51778961, 0.49026892, 0.55239371, 0.49795589, 0.56601055],\n",
       "       [0.51778961, 0.49026892, 0.55239371, 0.49795589, 0.56601055],\n",
       "       [0.51778961, 0.49026892, 0.55239371, 0.49795589, 0.56601055],\n",
       "       [0.51778961, 0.49026892, 0.55239371, 0.49795589, 0.56601055],\n",
       "       [0.51778961, 0.49026892, 0.55239371, 0.49795589, 0.56601055],\n",
       "       [0.51778961, 0.49026892, 0.55239371, 0.49795589, 0.56601055],\n",
       "       [0.51778961, 0.49026892, 0.55239371, 0.49795589, 0.56601055],\n",
       "       [0.51778961, 0.49026892, 0.55239371, 0.49795589, 0.56601055],\n",
       "       [0.51778961, 0.49026892, 0.55239371, 0.49795589, 0.56601055],\n",
       "       [0.51778961, 0.49026892, 0.55239371, 0.49795589, 0.56601055],\n",
       "       [0.51778961, 0.49026892, 0.55239371, 0.49795589, 0.56601055],\n",
       "       [0.51778961, 0.49026892, 0.55239371, 0.49795589, 0.56601055],\n",
       "       [0.51778961, 0.49026892, 0.55239371, 0.49795589, 0.56601055],\n",
       "       [0.51778961, 0.49026892, 0.55239371, 0.49795589, 0.56601055],\n",
       "       [0.51778961, 0.49026892, 0.55239371, 0.49795589, 0.56601055],\n",
       "       [0.51778961, 0.49026892, 0.55239371, 0.49795589, 0.56601055],\n",
       "       [0.51778961, 0.49026892, 0.55239371, 0.49795589, 0.56601055]])"
      ]
     },
     "execution_count": 75,
     "metadata": {},
     "output_type": "execute_result"
    }
   ],
   "source": [
    "#调用所有交叉验证的结果\n",
    "lasso_.mse_path_\n"
   ]
  },
  {
   "cell_type": "code",
   "execution_count": 76,
   "metadata": {},
   "outputs": [
    {
     "data": {
      "text/plain": [
       "(200, 5)"
      ]
     },
     "execution_count": 76,
     "metadata": {},
     "output_type": "execute_result"
    }
   ],
   "source": [
    "lasso_.mse_path_.shape #返回每个alpha下的五折交叉验证结果\n"
   ]
  },
  {
   "cell_type": "code",
   "execution_count": 77,
   "metadata": {},
   "outputs": [
    {
     "data": {
      "text/plain": [
       "array([0.52816924, 0.52742297, 0.5268146 , 0.52632488, 0.52593241,\n",
       "       0.52561942, 0.52537133, 0.5251761 , 0.52502385, 0.52490641,\n",
       "       0.52481712, 0.52475046, 0.52470198, 0.52466795, 0.52464541,\n",
       "       0.52463188, 0.5246254 , 0.52462436, 0.52462744, 0.52463361,\n",
       "       0.52464201, 0.52465199, 0.52466301, 0.52467466, 0.5246866 ,\n",
       "       0.5246986 , 0.52471046, 0.52472203, 0.5247332 , 0.52474392,\n",
       "       0.52475413, 0.52476379, 0.52477291, 0.52478147, 0.52478949,\n",
       "       0.52479697, 0.52480393, 0.52481039, 0.52481639, 0.52482193,\n",
       "       0.52482706, 0.52483179, 0.52483615, 0.52484016, 0.52484385,\n",
       "       0.52484725, 0.52485036, 0.52485322, 0.52485584, 0.52485824,\n",
       "       0.52486044, 0.52486246, 0.5248643 , 0.52486599, 0.52486753,\n",
       "       0.52486895, 0.52487024, 0.52487141, 0.52487249, 0.52487348,\n",
       "       0.52487437, 0.52487519, 0.52487594, 0.52487663, 0.52487725,\n",
       "       0.52487782, 0.52487834, 0.52487882, 0.52487925, 0.52487965,\n",
       "       0.52488001, 0.52488033, 0.52488063, 0.52488091, 0.52488116,\n",
       "       0.52488138, 0.52488159, 0.52488178, 0.52488195, 0.52488211,\n",
       "       0.52488225, 0.52488239, 0.5248825 , 0.52488261, 0.52488271,\n",
       "       0.5248828 , 0.52488289, 0.52488296, 0.52488303, 0.52488309,\n",
       "       0.52488315, 0.5248832 , 0.52488325, 0.52488329, 0.52488333,\n",
       "       0.52488337, 0.5248834 , 0.52488343, 0.52488346, 0.52488348,\n",
       "       0.5248835 , 0.52488352, 0.52488354, 0.52488356, 0.52488357,\n",
       "       0.52488359, 0.5248836 , 0.52488361, 0.52488362, 0.52488363,\n",
       "       0.52488364, 0.52488365, 0.52488366, 0.52488367, 0.52488367,\n",
       "       0.52488368, 0.52488368, 0.52488369, 0.52488369, 0.5248837 ,\n",
       "       0.5248837 , 0.5248837 , 0.52488371, 0.52488371, 0.52488371,\n",
       "       0.52488371, 0.52488371, 0.52488372, 0.52488372, 0.52488372,\n",
       "       0.52488372, 0.52488372, 0.52488372, 0.52488372, 0.52488373,\n",
       "       0.52488373, 0.52488373, 0.52488373, 0.52488373, 0.52488373,\n",
       "       0.52488373, 0.52488373, 0.52488373, 0.52488373, 0.52488373,\n",
       "       0.52488373, 0.52488373, 0.52488373, 0.52488373, 0.52488373,\n",
       "       0.52488373, 0.52488373, 0.52488373, 0.52488373, 0.52488373,\n",
       "       0.52488373, 0.52488373, 0.52488373, 0.52488373, 0.52488373,\n",
       "       0.52488373, 0.52488373, 0.52488374, 0.52488374, 0.52488374,\n",
       "       0.52488374, 0.52488374, 0.52488374, 0.52488374, 0.52488374,\n",
       "       0.52488374, 0.52488374, 0.52488374, 0.52488374, 0.52488374,\n",
       "       0.52488374, 0.52488374, 0.52488374, 0.52488374, 0.52488374,\n",
       "       0.52488374, 0.52488374, 0.52488374, 0.52488374, 0.52488374,\n",
       "       0.52488374, 0.52488374, 0.52488374, 0.52488374, 0.52488374,\n",
       "       0.52488374, 0.52488374, 0.52488374, 0.52488374, 0.52488374,\n",
       "       0.52488374, 0.52488374, 0.52488374, 0.52488374, 0.52488374])"
      ]
     },
     "execution_count": 77,
     "metadata": {},
     "output_type": "execute_result"
    }
   ],
   "source": [
    "lasso_.mse_path_.mean(axis=1) #有注意到在岭回归中我们的轴向是axis=0吗"
   ]
  },
  {
   "cell_type": "code",
   "execution_count": 78,
   "metadata": {},
   "outputs": [
    {
     "data": {
      "text/plain": [
       "array([ 4.29867301e-01,  1.03623683e-02, -9.32648616e-02,  5.51755252e-01,\n",
       "        1.14732262e-06, -3.31941716e-03, -4.10451223e-01, -4.22410330e-01])"
      ]
     },
     "execution_count": 78,
     "metadata": {},
     "output_type": "execute_result"
    }
   ],
   "source": [
    "#最佳正则化系数下获得的模型的系数结果\n",
    "lasso_.coef_\n"
   ]
  },
  {
   "cell_type": "code",
   "execution_count": 79,
   "metadata": {},
   "outputs": [
    {
     "data": {
      "text/plain": [
       "0.6038982670571438"
      ]
     },
     "execution_count": 79,
     "metadata": {},
     "output_type": "execute_result"
    }
   ],
   "source": [
    "lasso_.score(Xtest,Ytest)"
   ]
  },
  {
   "cell_type": "code",
   "execution_count": 80,
   "metadata": {},
   "outputs": [
    {
     "data": {
      "text/plain": [
       "0.0020954551690628535"
      ]
     },
     "execution_count": 80,
     "metadata": {},
     "output_type": "execute_result"
    }
   ],
   "source": [
    "#与线性回归相比如何？\n",
    "reg = LinearRegression().fit(Xtrain,Ytrain)\n",
    "reg.score(Xtest,Ytest)\n",
    "\n",
    "#使用lassoCV自带的正则化路径长度和路径中的alpha个数来自动建立alpha选择的范围\n",
    "ls_ = LassoCV(eps=0.00001\n",
    "                ,n_alphas=300\n",
    "                ,cv=5\n",
    "                ).fit(Xtrain, Ytrain)\n",
    "ls_.alpha_\n"
   ]
  },
  {
   "cell_type": "code",
   "execution_count": 81,
   "metadata": {},
   "outputs": [
    {
     "data": {
      "text/plain": [
       "array([2.94059737e+01, 2.82952253e+01, 2.72264331e+01, 2.61980122e+01,\n",
       "       2.52084378e+01, 2.42562424e+01, 2.33400142e+01, 2.24583946e+01,\n",
       "       2.16100763e+01, 2.07938014e+01, 2.00083596e+01, 1.92525862e+01,\n",
       "       1.85253605e+01, 1.78256042e+01, 1.71522798e+01, 1.65043887e+01,\n",
       "       1.58809704e+01, 1.52811004e+01, 1.47038891e+01, 1.41484809e+01,\n",
       "       1.36140520e+01, 1.30998100e+01, 1.26049924e+01, 1.21288655e+01,\n",
       "       1.16707233e+01, 1.12298864e+01, 1.08057012e+01, 1.03975388e+01,\n",
       "       1.00047937e+01, 9.62688384e+00, 9.26324869e+00, 8.91334908e+00,\n",
       "       8.57666619e+00, 8.25270079e+00, 7.94097249e+00, 7.64101907e+00,\n",
       "       7.35239575e+00, 7.07467457e+00, 6.80744372e+00, 6.55030695e+00,\n",
       "       6.30288297e+00, 6.06480491e+00, 5.83571975e+00, 5.61528779e+00,\n",
       "       5.40318218e+00, 5.19908842e+00, 5.00270386e+00, 4.81373731e+00,\n",
       "       4.63190858e+00, 4.45694804e+00, 4.28859627e+00, 4.12660362e+00,\n",
       "       3.97072991e+00, 3.82074399e+00, 3.67642348e+00, 3.53755437e+00,\n",
       "       3.40393074e+00, 3.27535446e+00, 3.15163488e+00, 3.03258855e+00,\n",
       "       2.91803894e+00, 2.80781620e+00, 2.70175688e+00, 2.59970374e+00,\n",
       "       2.50150543e+00, 2.40701636e+00, 2.31609642e+00, 2.22861078e+00,\n",
       "       2.14442973e+00, 2.06342843e+00, 1.98548679e+00, 1.91048923e+00,\n",
       "       1.83832455e+00, 1.76888573e+00, 1.70206982e+00, 1.63777773e+00,\n",
       "       1.57591415e+00, 1.51638733e+00, 1.45910901e+00, 1.40399425e+00,\n",
       "       1.35096134e+00, 1.29993164e+00, 1.25082947e+00, 1.20358204e+00,\n",
       "       1.15811928e+00, 1.11437377e+00, 1.07228066e+00, 1.03177753e+00,\n",
       "       9.92804320e-01, 9.55303239e-01, 9.19218682e-01, 8.84497142e-01,\n",
       "       8.51087135e-01, 8.18939121e-01, 7.88005430e-01, 7.58240193e-01,\n",
       "       7.29599275e-01, 7.02040207e-01, 6.75522125e-01, 6.50005707e-01,\n",
       "       6.25453118e-01, 6.01827951e-01, 5.79095174e-01, 5.57221080e-01,\n",
       "       5.36173234e-01, 5.15920425e-01, 4.96432623e-01, 4.77680932e-01,\n",
       "       4.59637546e-01, 4.42275711e-01, 4.25569683e-01, 4.09494689e-01,\n",
       "       3.94026894e-01, 3.79143363e-01, 3.64822025e-01, 3.51041645e-01,\n",
       "       3.37781790e-01, 3.25022798e-01, 3.12745750e-01, 3.00932442e-01,\n",
       "       2.89565356e-01, 2.78627638e-01, 2.68103069e-01, 2.57976043e-01,\n",
       "       2.48231544e-01, 2.38855123e-01, 2.29832877e-01, 2.21151426e-01,\n",
       "       2.12797900e-01, 2.04759910e-01, 1.97025538e-01, 1.89583315e-01,\n",
       "       1.82422207e-01, 1.75531594e-01, 1.68901260e-01, 1.62521372e-01,\n",
       "       1.56382472e-01, 1.50475455e-01, 1.44791563e-01, 1.39322368e-01,\n",
       "       1.34059761e-01, 1.28995937e-01, 1.24123389e-01, 1.19434891e-01,\n",
       "       1.14923491e-01, 1.10582499e-01, 1.06405479e-01, 1.02386238e-01,\n",
       "       9.85188143e-02, 9.47974747e-02, 9.12167008e-02, 8.77711831e-02,\n",
       "       8.44558125e-02, 8.12656730e-02, 7.81960343e-02, 7.52423447e-02,\n",
       "       7.24002244e-02, 6.96654592e-02, 6.70339940e-02, 6.45019268e-02,\n",
       "       6.20655031e-02, 5.97211101e-02, 5.74652717e-02, 5.52946427e-02,\n",
       "       5.32060046e-02, 5.11962605e-02, 4.92624301e-02, 4.74016461e-02,\n",
       "       4.56111493e-02, 4.38882847e-02, 4.22304977e-02, 4.06353301e-02,\n",
       "       3.91004165e-02, 3.76234811e-02, 3.62023337e-02, 3.48348672e-02,\n",
       "       3.35190539e-02, 3.22529426e-02, 3.10346560e-02, 2.98623876e-02,\n",
       "       2.87343991e-02, 2.76490180e-02, 2.66046349e-02, 2.55997012e-02,\n",
       "       2.46327267e-02, 2.37022776e-02, 2.28069742e-02, 2.19454891e-02,\n",
       "       2.11165447e-02, 2.03189119e-02, 1.95514080e-02, 1.88128950e-02,\n",
       "       1.81022777e-02, 1.74185025e-02, 1.67605555e-02, 1.61274610e-02,\n",
       "       1.55182803e-02, 1.49321101e-02, 1.43680812e-02, 1.38253574e-02,\n",
       "       1.33031338e-02, 1.28006361e-02, 1.23171192e-02, 1.18518661e-02,\n",
       "       1.14041869e-02, 1.09734179e-02, 1.05589203e-02, 1.01600794e-02,\n",
       "       9.77630394e-03, 9.40702475e-03, 9.05169431e-03, 8.70978573e-03,\n",
       "       8.38079201e-03, 8.06422534e-03, 7.75961630e-03, 7.46651323e-03,\n",
       "       7.18448150e-03, 6.91310292e-03, 6.65197510e-03, 6.40071082e-03,\n",
       "       6.15893752e-03, 5.92629670e-03, 5.70244339e-03, 5.48704566e-03,\n",
       "       5.27978413e-03, 5.08035147e-03, 4.88845195e-03, 4.70380102e-03,\n",
       "       4.52612490e-03, 4.35516012e-03, 4.19065316e-03, 4.03236011e-03,\n",
       "       3.88004625e-03, 3.73348572e-03, 3.59246120e-03, 3.45676358e-03,\n",
       "       3.32619166e-03, 3.20055181e-03, 3.07965774e-03, 2.96333019e-03,\n",
       "       2.85139667e-03, 2.74369120e-03, 2.64005407e-03, 2.54033162e-03,\n",
       "       2.44437597e-03, 2.35204484e-03, 2.26320133e-03, 2.17771369e-03,\n",
       "       2.09545517e-03, 2.01630379e-03, 1.94014218e-03, 1.86685742e-03,\n",
       "       1.79634083e-03, 1.72848786e-03, 1.66319789e-03, 1.60037411e-03,\n",
       "       1.53992337e-03, 1.48175602e-03, 1.42578583e-03, 1.37192979e-03,\n",
       "       1.32010804e-03, 1.27024376e-03, 1.22226299e-03, 1.17609459e-03,\n",
       "       1.13167011e-03, 1.08892367e-03, 1.04779188e-03, 1.00821376e-03,\n",
       "       9.70130622e-04, 9.33485992e-04, 8.98225535e-04, 8.64296967e-04,\n",
       "       8.31649980e-04, 8.00236162e-04, 7.70008936e-04, 7.40923479e-04,\n",
       "       7.12936663e-04, 6.86006990e-04, 6.60094529e-04, 6.35160855e-04,\n",
       "       6.11168999e-04, 5.88083384e-04, 5.65869780e-04, 5.44495247e-04,\n",
       "       5.23928092e-04, 5.04137817e-04, 4.85095079e-04, 4.66771639e-04,\n",
       "       4.49140329e-04, 4.32175004e-04, 4.15850508e-04, 4.00142636e-04,\n",
       "       3.85028095e-04, 3.70484474e-04, 3.56490207e-04, 3.43024545e-04,\n",
       "       3.30067519e-04, 3.17599917e-04, 3.05603253e-04, 2.94059737e-04])"
      ]
     },
     "execution_count": 81,
     "metadata": {},
     "output_type": "execute_result"
    }
   ],
   "source": [
    "ls_.alphas_ #查看所有自动生成的alpha取值\n"
   ]
  },
  {
   "cell_type": "code",
   "execution_count": 82,
   "metadata": {},
   "outputs": [
    {
     "data": {
      "text/plain": [
       "0.6038915423819199"
      ]
     },
     "execution_count": 82,
     "metadata": {},
     "output_type": "execute_result"
    }
   ],
   "source": [
    "ls_.score(Xtest,Ytest)\n"
   ]
  },
  {
   "cell_type": "code",
   "execution_count": 83,
   "metadata": {},
   "outputs": [
    {
     "data": {
      "text/plain": [
       "array([ 4.29785372e-01,  1.03639989e-02, -9.31060823e-02,  5.50940621e-01,\n",
       "        1.15407943e-06, -3.31909776e-03, -4.10423420e-01, -4.22369926e-01])"
      ]
     },
     "execution_count": 83,
     "metadata": {},
     "output_type": "execute_result"
    }
   ],
   "source": [
    "ls_.coef_"
   ]
  },
  {
   "cell_type": "markdown",
   "metadata": {},
   "source": [
    "# 5 非线性问题：多项式回归\n",
    "---\n",
    "## 5.1 “线性”概念\n",
    "\n",
    "### 5.1.1 变量之间的线性关系\n",
    "\n",
    "最常使用的线性是指“变量之间的线性关系（linearrelationship）”，它表示两个变量之间的关系可以展示为一条直线\n",
    "\n",
    "### 5.1.2 数据的线性与非线性\n",
    "\n",
    "当这些特征分别与标签存在线性关系的时候，我们就说这一组数据是线性数据。\n",
    "\n",
    "### 5.1.3 线性模型与非线性模型\n",
    "\n",
    "总结出线性模型的特点：其自变量都是一次项。\n",
    "\n",
    "- random.uniform，从输入的任意两个整数中取出size个随机数"
   ]
  },
  {
   "cell_type": "markdown",
   "metadata": {},
   "source": [
    "1.导入库"
   ]
  },
  {
   "cell_type": "code",
   "execution_count": 1,
   "metadata": {},
   "outputs": [],
   "source": [
    "import numpy as np\n",
    "import matplotlib.pyplot as plt\n",
    "from sklearn.linear_model import LinearRegression\n",
    "from sklearn.tree import DecisionTreeRegressor"
   ]
  },
  {
   "cell_type": "markdown",
   "metadata": {},
   "source": [
    "2.创建数据"
   ]
  },
  {
   "cell_type": "code",
   "execution_count": 2,
   "metadata": {},
   "outputs": [
    {
     "data": {
      "image/png": "[encoded data removed]",
      "text/plain": [
       "<Figure size 432x288 with 1 Axes>"
      ]
     },
     "metadata": {
      "needs_background": "light"
     },
     "output_type": "display_data"
    }
   ],
   "source": [
    "rnd = np.random.RandomState(42) #设置随机数种子\n",
    "X = rnd.uniform(-3, 3, size=100) \n",
    "#random.uniform，从输入的任意两个整数中取出size个随机数\n",
    "\n",
    "#生成y的思路：先使用NumPy中的函数生成一个sin函数图像，然后再人为添加噪音\n",
    "y = np.sin(X) + rnd.normal(size=len(X)) / 3 #random.normal，生成size个服从正态分布的随机数\n",
    "\n",
    "\n",
    "#使用散点图观察建立的数据集是什么样子\n",
    "plt.scatter(X, y,marker='o',c='k',s=20)\n",
    "plt.show()\n"
   ]
  },
  {
   "cell_type": "code",
   "execution_count": 3,
   "metadata": {},
   "outputs": [
    {
     "data": {
      "text/plain": [
       "(100,)"
      ]
     },
     "execution_count": 3,
     "metadata": {},
     "output_type": "execute_result"
    }
   ],
   "source": [
    "#为后续建模做准备：sklearn只接受二维以上数组作为特征矩阵的输入\n",
    "X.shape\n"
   ]
  },
  {
   "cell_type": "code",
   "execution_count": 4,
   "metadata": {},
   "outputs": [],
   "source": [
    "X = X.reshape(-1, 1)"
   ]
  },
  {
   "cell_type": "markdown",
   "metadata": {},
   "source": [
    "3.使用原始数据进行建模"
   ]
  },
  {
   "cell_type": "code",
   "execution_count": 5,
   "metadata": {},
   "outputs": [
    {
     "data": {
      "image/png": "[encoded data removed]",
      "text/plain": [
       "<Figure size 432x288 with 1 Axes>"
      ]
     },
     "metadata": {
      "needs_background": "light"
     },
     "output_type": "display_data"
    }
   ],
   "source": [
    "#使用原始数据进行建模\n",
    "LinearR = LinearRegression().fit(X, y)\n",
    "TreeR = DecisionTreeRegressor(random_state=0).fit(X, y)\n",
    "\n",
    "#放置画布\n",
    "fig, ax1 = plt.subplots(1)\n",
    "#创建测试数据：一系列分布在横坐标上的点\n",
    "line = np.linspace(-3, 3, 1000, endpoint=False).reshape(-1, 1)\n",
    "\n",
    "#将测试数据带入predict接口，获得模型的拟合效果并进行绘制\n",
    "ax1.plot(line, LinearR.predict(line), linewidth=2, color='green',label=\"linear regression\")\n",
    "ax1.plot(line, TreeR.predict(line), linewidth=2, color='pink',label=\"decision tree\")\n",
    "\n",
    "#将原数据上的拟合绘制在图像上\n",
    "ax1.plot(X[:, 0], y, 'o', c='r')\n",
    "\n",
    "#其他图形选项\n",
    "ax1.legend(loc=\"best\")\n",
    "ax1.set_ylabel(\"Regression output\")\n",
    "ax1.set_xlabel(\"Input feature\")\n",
    "ax1.set_title(\"Result before discretization\")\n",
    "\n",
    "plt.tight_layout()\n",
    "plt.show()"
   ]
  },
  {
   "cell_type": "markdown",
   "metadata": {},
   "source": [
    "- 线性回归无法拟合出这条带噪音的正弦曲线的真实面貌\n",
    "- 决策树过拟合了，带入测试数据效果不好\n",
    "\n",
    "线性模型可以用来拟合非线性数据，而非线性模型也可以用来拟合线性数据，更神奇的是，有的算法没有模型也可以处理各类数据，而有的模型可以既可以是线性，也可以是非线性模型.\n",
    "\n",
    "为了让线性回归在类似的数据上变得更加强大，我们可以使用分箱，也就是离散化连续型变量的方法来处理原始数据"
   ]
  },
  {
   "cell_type": "markdown",
   "metadata": {},
   "source": [
    "## 5.2 使用分箱处理非线性问题\n",
    "\n",
    "- `sklearn.preprocessing.KBinsDiscretizer(n_bins=10,encode=\"onehot\")`\n",
    "\n",
    "4.分箱\n",
    "\n",
    "- `sklearn.preprocessing.KBinsDiscretizer(n_bins=10,encode=\"onehot\") `\n",
    "  -  n_bins 分几类\n",
    "  - encode 分类方法 \n",
    "    - onehot 独热编码 返回一列稀疏矩阵\n",
    "    - ordinal 返回一类"
   ]
  },
  {
   "cell_type": "markdown",
   "metadata": {},
   "source": [
    "4.分箱"
   ]
  },
  {
   "cell_type": "code",
   "execution_count": 13,
   "metadata": {},
   "outputs": [],
   "source": [
    "from sklearn.preprocessing import KBinsDiscretizer\n",
    "\n",
    "# 将数据分箱\n",
    "enc = KBinsDiscretizer(n_bins=10,encode='onehot')\n",
    "X_binned = enc.fit_transform(X)\n"
   ]
  },
  {
   "cell_type": "code",
   "execution_count": 14,
   "metadata": {},
   "outputs": [
    {
     "data": {
      "text/plain": [
       "<100x10 sparse matrix of type '<class 'numpy.float64'>'\n",
       "\twith 100 stored elements in Compressed Sparse Row format>"
      ]
     },
     "execution_count": 14,
     "metadata": {},
     "output_type": "execute_result"
    }
   ],
   "source": [
    "X_binned"
   ]
  },
  {
   "cell_type": "code",
   "execution_count": 15,
   "metadata": {},
   "outputs": [
    {
     "data": {
      "text/plain": [
       "(100, 1)"
      ]
     },
     "execution_count": 15,
     "metadata": {},
     "output_type": "execute_result"
    }
   ],
   "source": [
    "X.shape"
   ]
  },
  {
   "cell_type": "code",
   "execution_count": 7,
   "metadata": {},
   "outputs": [
    {
     "data": {
      "text/html": [
       "<div>\n",
       "<style scoped>\n",
       "    .dataframe tbody tr th:only-of-type {\n",
       "        vertical-align: middle;\n",
       "    }\n",
       "\n",
       "    .dataframe tbody tr th {\n",
       "        vertical-align: top;\n",
       "    }\n",
       "\n",
       "    .dataframe thead th {\n",
       "        text-align: right;\n",
       "    }\n",
       "</style>\n",
       "<table border=\"1\" class=\"dataframe\">\n",
       "  <thead>\n",
       "    <tr style=\"text-align: right;\">\n",
       "      <th></th>\n",
       "      <th>0</th>\n",
       "      <th>1</th>\n",
       "      <th>2</th>\n",
       "      <th>3</th>\n",
       "      <th>4</th>\n",
       "      <th>5</th>\n",
       "      <th>6</th>\n",
       "      <th>7</th>\n",
       "      <th>8</th>\n",
       "      <th>9</th>\n",
       "    </tr>\n",
       "  </thead>\n",
       "  <tbody>\n",
       "    <tr>\n",
       "      <th>0</th>\n",
       "      <td>0.0</td>\n",
       "      <td>0.0</td>\n",
       "      <td>0.0</td>\n",
       "      <td>0.0</td>\n",
       "      <td>1.0</td>\n",
       "      <td>0.0</td>\n",
       "      <td>0.0</td>\n",
       "      <td>0.0</td>\n",
       "      <td>0.0</td>\n",
       "      <td>0.0</td>\n",
       "    </tr>\n",
       "    <tr>\n",
       "      <th>1</th>\n",
       "      <td>0.0</td>\n",
       "      <td>0.0</td>\n",
       "      <td>0.0</td>\n",
       "      <td>0.0</td>\n",
       "      <td>0.0</td>\n",
       "      <td>0.0</td>\n",
       "      <td>0.0</td>\n",
       "      <td>0.0</td>\n",
       "      <td>0.0</td>\n",
       "      <td>1.0</td>\n",
       "    </tr>\n",
       "    <tr>\n",
       "      <th>2</th>\n",
       "      <td>0.0</td>\n",
       "      <td>0.0</td>\n",
       "      <td>0.0</td>\n",
       "      <td>0.0</td>\n",
       "      <td>0.0</td>\n",
       "      <td>0.0</td>\n",
       "      <td>0.0</td>\n",
       "      <td>1.0</td>\n",
       "      <td>0.0</td>\n",
       "      <td>0.0</td>\n",
       "    </tr>\n",
       "    <tr>\n",
       "      <th>3</th>\n",
       "      <td>0.0</td>\n",
       "      <td>0.0</td>\n",
       "      <td>0.0</td>\n",
       "      <td>0.0</td>\n",
       "      <td>0.0</td>\n",
       "      <td>0.0</td>\n",
       "      <td>1.0</td>\n",
       "      <td>0.0</td>\n",
       "      <td>0.0</td>\n",
       "      <td>0.0</td>\n",
       "    </tr>\n",
       "    <tr>\n",
       "      <th>4</th>\n",
       "      <td>0.0</td>\n",
       "      <td>0.0</td>\n",
       "      <td>1.0</td>\n",
       "      <td>0.0</td>\n",
       "      <td>0.0</td>\n",
       "      <td>0.0</td>\n",
       "      <td>0.0</td>\n",
       "      <td>0.0</td>\n",
       "      <td>0.0</td>\n",
       "      <td>0.0</td>\n",
       "    </tr>\n",
       "  </tbody>\n",
       "</table>\n",
       "</div>"
      ],
      "text/plain": [
       "     0    1    2    3    4    5    6    7    8    9\n",
       "0  0.0  0.0  0.0  0.0  1.0  0.0  0.0  0.0  0.0  0.0\n",
       "1  0.0  0.0  0.0  0.0  0.0  0.0  0.0  0.0  0.0  1.0\n",
       "2  0.0  0.0  0.0  0.0  0.0  0.0  0.0  1.0  0.0  0.0\n",
       "3  0.0  0.0  0.0  0.0  0.0  0.0  1.0  0.0  0.0  0.0\n",
       "4  0.0  0.0  1.0  0.0  0.0  0.0  0.0  0.0  0.0  0.0"
      ]
     },
     "execution_count": 7,
     "metadata": {},
     "output_type": "execute_result"
    }
   ],
   "source": [
    "#使用pandas打开稀疏矩阵\n",
    "import pandas as pd\n",
    "pd.DataFrame(X_binned.toarray()).head()"
   ]
  },
  {
   "cell_type": "code",
   "execution_count": 11,
   "metadata": {},
   "outputs": [],
   "source": [
    "#我们将使用分箱后的数据来训练模型，在sklearn中，测试集和训练集的结构必须保持一致，否则报错\n",
    "LinearR_ = LinearRegression().fit(X_binned, y)\n"
   ]
  },
  {
   "cell_type": "code",
   "execution_count": 9,
   "metadata": {},
   "outputs": [
    {
     "ename": "ValueError",
     "evalue": "X has 1 features, but LinearRegression is expecting 10 features as input.",
     "output_type": "error",
     "traceback": [
      "\u001b[1;31m---------------------------------------------------------------------------\u001b[0m",
      "\u001b[1;31mValueError\u001b[0m                                Traceback (most recent call last)",
      "\u001b[1;32m~\\AppData\\Local\\Temp\\ipykernel_22072\\487111172.py\u001b[0m in \u001b[0;36m<module>\u001b[1;34m\u001b[0m\n\u001b[1;32m----> 1\u001b[1;33m \u001b[0mLinearR_\u001b[0m\u001b[1;33m.\u001b[0m\u001b[0mpredict\u001b[0m\u001b[1;33m(\u001b[0m\u001b[0mline\u001b[0m\u001b[1;33m)\u001b[0m \u001b[1;31m#line作为测试集\u001b[0m\u001b[1;33m\u001b[0m\u001b[1;33m\u001b[0m\u001b[0m\n\u001b[0m\u001b[0;32m      2\u001b[0m \u001b[1;33m\u001b[0m\u001b[0m\n\u001b[0;32m      3\u001b[0m \u001b[1;33m\u001b[0m\u001b[0m\n\u001b[0;32m      4\u001b[0m \u001b[1;31m# 测试数据和训练数据的形状必须相同\u001b[0m\u001b[1;33m\u001b[0m\u001b[1;33m\u001b[0m\u001b[0m\n",
      "\u001b[1;32mc:\\Users\\HP\\Python\\Python310\\lib\\site-packages\\sklearn\\linear_model\\_base.py\u001b[0m in \u001b[0;36mpredict\u001b[1;34m(self, X)\u001b[0m\n\u001b[0;32m    384\u001b[0m             \u001b[0mReturns\u001b[0m \u001b[0mpredicted\u001b[0m \u001b[0mvalues\u001b[0m\u001b[1;33m.\u001b[0m\u001b[1;33m\u001b[0m\u001b[1;33m\u001b[0m\u001b[0m\n\u001b[0;32m    385\u001b[0m         \"\"\"\n\u001b[1;32m--> 386\u001b[1;33m         \u001b[1;32mreturn\u001b[0m \u001b[0mself\u001b[0m\u001b[1;33m.\u001b[0m\u001b[0m_decision_function\u001b[0m\u001b[1;33m(\u001b[0m\u001b[0mX\u001b[0m\u001b[1;33m)\u001b[0m\u001b[1;33m\u001b[0m\u001b[1;33m\u001b[0m\u001b[0m\n\u001b[0m\u001b[0;32m    387\u001b[0m \u001b[1;33m\u001b[0m\u001b[0m\n\u001b[0;32m    388\u001b[0m     \u001b[1;32mdef\u001b[0m \u001b[0m_set_intercept\u001b[0m\u001b[1;33m(\u001b[0m\u001b[0mself\u001b[0m\u001b[1;33m,\u001b[0m \u001b[0mX_offset\u001b[0m\u001b[1;33m,\u001b[0m \u001b[0my_offset\u001b[0m\u001b[1;33m,\u001b[0m \u001b[0mX_scale\u001b[0m\u001b[1;33m)\u001b[0m\u001b[1;33m:\u001b[0m\u001b[1;33m\u001b[0m\u001b[1;33m\u001b[0m\u001b[0m\n",
      "\u001b[1;32mc:\\Users\\HP\\Python\\Python310\\lib\\site-packages\\sklearn\\linear_model\\_base.py\u001b[0m in \u001b[0;36m_decision_function\u001b[1;34m(self, X)\u001b[0m\n\u001b[0;32m    367\u001b[0m         \u001b[0mcheck_is_fitted\u001b[0m\u001b[1;33m(\u001b[0m\u001b[0mself\u001b[0m\u001b[1;33m)\u001b[0m\u001b[1;33m\u001b[0m\u001b[1;33m\u001b[0m\u001b[0m\n\u001b[0;32m    368\u001b[0m \u001b[1;33m\u001b[0m\u001b[0m\n\u001b[1;32m--> 369\u001b[1;33m         \u001b[0mX\u001b[0m \u001b[1;33m=\u001b[0m \u001b[0mself\u001b[0m\u001b[1;33m.\u001b[0m\u001b[0m_validate_data\u001b[0m\u001b[1;33m(\u001b[0m\u001b[0mX\u001b[0m\u001b[1;33m,\u001b[0m \u001b[0maccept_sparse\u001b[0m\u001b[1;33m=\u001b[0m\u001b[1;33m[\u001b[0m\u001b[1;34m\"csr\"\u001b[0m\u001b[1;33m,\u001b[0m \u001b[1;34m\"csc\"\u001b[0m\u001b[1;33m,\u001b[0m \u001b[1;34m\"coo\"\u001b[0m\u001b[1;33m]\u001b[0m\u001b[1;33m,\u001b[0m \u001b[0mreset\u001b[0m\u001b[1;33m=\u001b[0m\u001b[1;32mFalse\u001b[0m\u001b[1;33m)\u001b[0m\u001b[1;33m\u001b[0m\u001b[1;33m\u001b[0m\u001b[0m\n\u001b[0m\u001b[0;32m    370\u001b[0m         \u001b[1;32mreturn\u001b[0m \u001b[0msafe_sparse_dot\u001b[0m\u001b[1;33m(\u001b[0m\u001b[0mX\u001b[0m\u001b[1;33m,\u001b[0m \u001b[0mself\u001b[0m\u001b[1;33m.\u001b[0m\u001b[0mcoef_\u001b[0m\u001b[1;33m.\u001b[0m\u001b[0mT\u001b[0m\u001b[1;33m,\u001b[0m \u001b[0mdense_output\u001b[0m\u001b[1;33m=\u001b[0m\u001b[1;32mTrue\u001b[0m\u001b[1;33m)\u001b[0m \u001b[1;33m+\u001b[0m \u001b[0mself\u001b[0m\u001b[1;33m.\u001b[0m\u001b[0mintercept_\u001b[0m\u001b[1;33m\u001b[0m\u001b[1;33m\u001b[0m\u001b[0m\n\u001b[0;32m    371\u001b[0m \u001b[1;33m\u001b[0m\u001b[0m\n",
      "\u001b[1;32mc:\\Users\\HP\\Python\\Python310\\lib\\site-packages\\sklearn\\base.py\u001b[0m in \u001b[0;36m_validate_data\u001b[1;34m(self, X, y, reset, validate_separately, **check_params)\u001b[0m\n\u001b[0;32m    598\u001b[0m \u001b[1;33m\u001b[0m\u001b[0m\n\u001b[0;32m    599\u001b[0m         \u001b[1;32mif\u001b[0m \u001b[1;32mnot\u001b[0m \u001b[0mno_val_X\u001b[0m \u001b[1;32mand\u001b[0m \u001b[0mcheck_params\u001b[0m\u001b[1;33m.\u001b[0m\u001b[0mget\u001b[0m\u001b[1;33m(\u001b[0m\u001b[1;34m\"ensure_2d\"\u001b[0m\u001b[1;33m,\u001b[0m \u001b[1;32mTrue\u001b[0m\u001b[1;33m)\u001b[0m\u001b[1;33m:\u001b[0m\u001b[1;33m\u001b[0m\u001b[1;33m\u001b[0m\u001b[0m\n\u001b[1;32m--> 600\u001b[1;33m             \u001b[0mself\u001b[0m\u001b[1;33m.\u001b[0m\u001b[0m_check_n_features\u001b[0m\u001b[1;33m(\u001b[0m\u001b[0mX\u001b[0m\u001b[1;33m,\u001b[0m \u001b[0mreset\u001b[0m\u001b[1;33m=\u001b[0m\u001b[0mreset\u001b[0m\u001b[1;33m)\u001b[0m\u001b[1;33m\u001b[0m\u001b[1;33m\u001b[0m\u001b[0m\n\u001b[0m\u001b[0;32m    601\u001b[0m \u001b[1;33m\u001b[0m\u001b[0m\n\u001b[0;32m    602\u001b[0m         \u001b[1;32mreturn\u001b[0m \u001b[0mout\u001b[0m\u001b[1;33m\u001b[0m\u001b[1;33m\u001b[0m\u001b[0m\n",
      "\u001b[1;32mc:\\Users\\HP\\Python\\Python310\\lib\\site-packages\\sklearn\\base.py\u001b[0m in \u001b[0;36m_check_n_features\u001b[1;34m(self, X, reset)\u001b[0m\n\u001b[0;32m    398\u001b[0m \u001b[1;33m\u001b[0m\u001b[0m\n\u001b[0;32m    399\u001b[0m         \u001b[1;32mif\u001b[0m \u001b[0mn_features\u001b[0m \u001b[1;33m!=\u001b[0m \u001b[0mself\u001b[0m\u001b[1;33m.\u001b[0m\u001b[0mn_features_in_\u001b[0m\u001b[1;33m:\u001b[0m\u001b[1;33m\u001b[0m\u001b[1;33m\u001b[0m\u001b[0m\n\u001b[1;32m--> 400\u001b[1;33m             raise ValueError(\n\u001b[0m\u001b[0;32m    401\u001b[0m                 \u001b[1;34mf\"X has {n_features} features, but {self.__class__.__name__} \"\u001b[0m\u001b[1;33m\u001b[0m\u001b[1;33m\u001b[0m\u001b[0m\n\u001b[0;32m    402\u001b[0m                 \u001b[1;34mf\"is expecting {self.n_features_in_} features as input.\"\u001b[0m\u001b[1;33m\u001b[0m\u001b[1;33m\u001b[0m\u001b[0m\n",
      "\u001b[1;31mValueError\u001b[0m: X has 1 features, but LinearRegression is expecting 10 features as input."
     ]
    }
   ],
   "source": [
    "# =====此处英文测试数据和训练数据的形状不相同会报错=====\n",
    "LinearR_.predict(line) #line作为测试集\n",
    "\n",
    "\n",
    "# 测试数据和训练数据的形状必须相同 后续需要进行分箱"
   ]
  },
  {
   "cell_type": "code",
   "execution_count": null,
   "metadata": {},
   "outputs": [
    {
     "data": {
      "text/plain": [
       "(1000, 1)"
      ]
     },
     "execution_count": 109,
     "metadata": {},
     "output_type": "execute_result"
    }
   ],
   "source": [
    "\n",
    "line.shape #测试"
   ]
  },
  {
   "cell_type": "code",
   "execution_count": null,
   "metadata": {},
   "outputs": [
    {
     "data": {
      "text/plain": [
       "(1000, 10)"
      ]
     },
     "execution_count": 110,
     "metadata": {},
     "output_type": "execute_result"
    }
   ],
   "source": [
    "#因此我们需要创建分箱后的测试集：按照已经建好的分箱模型将line分箱\n",
    "line_binned = enc.transform(line)\n",
    "line_binned.shape #分箱后的数据是无法进行绘图的\n"
   ]
  },
  {
   "cell_type": "code",
   "execution_count": null,
   "metadata": {},
   "outputs": [
    {
     "data": {
      "text/plain": [
       "<1000x10 sparse matrix of type '<class 'numpy.float64'>'\n",
       "\twith 1000 stored elements in Compressed Sparse Row format>"
      ]
     },
     "execution_count": 112,
     "metadata": {},
     "output_type": "execute_result"
    }
   ],
   "source": [
    "line_binned\n"
   ]
  },
  {
   "cell_type": "code",
   "execution_count": null,
   "metadata": {},
   "outputs": [
    {
     "data": {
      "text/plain": [
       "(1000,)"
      ]
     },
     "execution_count": 113,
     "metadata": {},
     "output_type": "execute_result"
    }
   ],
   "source": [
    "LinearR_.predict(line_binned).shape"
   ]
  },
  {
   "cell_type": "markdown",
   "metadata": {},
   "source": [
    "5.使用分箱数据进行建模和绘图"
   ]
  },
  {
   "cell_type": "code",
   "execution_count": null,
   "metadata": {},
   "outputs": [
    {
     "data": {
      "image/png": "[encoded data removed]",
      "text/plain": [
       "<Figure size 720x288 with 2 Axes>"
      ]
     },
     "metadata": {
      "needs_background": "light"
     },
     "output_type": "display_data"
    }
   ],
   "source": [
    "#————————————————————————————合并上面的代码————————————————————————————\n",
    "#准备数据\n",
    "enc = KBinsDiscretizer(n_bins=10,encode=\"onehot\")\n",
    "X_binned = enc.fit_transform(X)\n",
    "line_binned = enc.transform(line)\n",
    "\n",
    "#将两张图像绘制在一起，布置画布\n",
    "fig, (ax1, ax2) = plt.subplots(ncols=2\n",
    ", sharey=True #让两张图共享y轴上的刻度\n",
    ", figsize=(10, 4))\n",
    "\n",
    "\n",
    "#在图1中布置在原始数据上建模的结果\n",
    "ax1.plot(line, LinearR.predict(line), linewidth=2, color='blue',label=\"linear regression\")\n",
    "ax1.plot(line, TreeR.predict(line), linewidth=2, color='pink',label=\"decision tree\")\n",
    "\n",
    "ax1.plot(X[:, 0], y, '.', c='r')\n",
    "ax1.legend(loc=\"best\")\n",
    "ax1.set_ylabel(\"Regression output\")\n",
    "ax1.set_xlabel(\"Input feature\")\n",
    "ax1.set_title(\"Result before discretization\")\n",
    "\n",
    "#使用分箱数据进行建模\n",
    "LinearR_ = LinearRegression().fit(X_binned, y)\n",
    "TreeR_ = DecisionTreeRegressor(random_state=0).fit(X_binned, y)\n",
    "\n",
    "\n",
    "#进行预测，在图2中布置在分箱数据上进行预测的结果\n",
    "ax2.plot(line #横坐标\n",
    "        , LinearR_.predict(line_binned) #分箱后的特征矩阵的结果\n",
    "        , linewidth=2\n",
    "        , color='blue'\n",
    "        , linestyle='-'\n",
    "        , label='linear regression')\n",
    "ax2.plot(line, TreeR_.predict(line_binned), linewidth=2, color='pink',\n",
    "linestyle=':', label='decision tree')\n",
    "\n",
    "#绘制和箱宽一致的竖线\n",
    "ax2.vlines(enc.bin_edges_[0] # x轴\n",
    "            , *plt.gca().get_ylim() #y轴的上限和下限\n",
    "            , linewidth=1\n",
    "            , alpha=.2)\n",
    "#将原始数据分布放置在图像上\n",
    "ax2.plot(X[:, 0], y, '.', c='k')\n",
    "\n",
    "#其他绘图设定\n",
    "ax2.legend(loc=\"best\")\n",
    "ax2.set_xlabel(\"Input feature\")\n",
    "ax2.set_title(\"Result after discretization\")\n",
    "plt.tight_layout()\n",
    "plt.show()"
   ]
  },
  {
   "cell_type": "markdown",
   "metadata": {},
   "source": [
    "与分箱前的结果相比，线性回归明显变得更加灵活，而决策树的过拟合问题也得到了改善。但注意，一般来说我们是不使用分箱来改善决策树的过拟合问题的，因为树模型带有丰富而有效的剪枝功能来防止过拟合"
   ]
  },
  {
   "cell_type": "markdown",
   "metadata": {},
   "source": [
    "6.箱子数如何影响模型的结果"
   ]
  },
  {
   "cell_type": "code",
   "execution_count": null,
   "metadata": {},
   "outputs": [
    {
     "name": "stdout",
     "output_type": "stream",
     "text": [
      "0.9566086751329097\n"
     ]
    },
    {
     "data": {
      "image/png": "[encoded data removed]",
      "text/plain": [
       "<Figure size 360x288 with 1 Axes>"
      ]
     },
     "metadata": {
      "needs_background": "light"
     },
     "output_type": "display_data"
    }
   ],
   "source": [
    "#————————————————————————————分N箱————————————————————————————\n",
    "\n",
    "enc = KBinsDiscretizer(n_bins=20,encode=\"onehot\")\n",
    "X_binned = enc.fit_transform(X)\n",
    "line_binned = enc.transform(line)\n",
    "\n",
    "fig, ax2 = plt.subplots(1,figsize=(5,4))\n",
    "\n",
    "LinearR_ = LinearRegression().fit(X_binned, y)\n",
    "print(LinearR_.score(line_binned,np.sin(line)))\n",
    "TreeR_ = DecisionTreeRegressor(random_state=0).fit(X_binned, y)\n",
    "\n",
    "ax2.plot(line #横坐标\n",
    ", LinearR_.predict(line_binned) #分箱后的特征矩阵的结果\n",
    ", linewidth=2\n",
    ", color='green'\n",
    ", linestyle='-'\n",
    ", label='linear regression')\n",
    "ax2.plot(line, TreeR_.predict(line_binned), linewidth=2, color='red',\n",
    "linestyle=':', label='decision tree')\n",
    "ax2.vlines(enc.bin_edges_[0], *plt.gca().get_ylim(), linewidth=1, alpha=.2)\n",
    "\n",
    "ax2.plot(X[:, 0], y, 'o', c='k')\n",
    "ax2.legend(loc=\"best\")\n",
    "ax2.set_xlabel(\"Input feature\")\n",
    "ax2.set_title(\"Result after discretization\")\n",
    "plt.tight_layout()\n",
    "plt.show()\n",
    "\n",
    "# 分箱数过度容易过拟合"
   ]
  },
  {
   "cell_type": "markdown",
   "metadata": {},
   "source": [
    "7.选取最优的箱数\n",
    "\n",
    "- 绘制学习曲线 ---> 交叉验证"
   ]
  },
  {
   "cell_type": "code",
   "execution_count": null,
   "metadata": {},
   "outputs": [
    {
     "data": {
      "image/png": "[encoded data removed]",
      "text/plain": [
       "<Figure size 432x360 with 1 Axes>"
      ]
     },
     "metadata": {
      "needs_background": "light"
     },
     "output_type": "display_data"
    }
   ],
   "source": [
    "from sklearn.model_selection import cross_val_score as CVS\n",
    "import numpy as np\n",
    "pred,score,var = [], [], []\n",
    "binsrange = [2,5,10,15,20,30]\n",
    "\n",
    "for i in binsrange:\n",
    "    #实例化分箱类————————————————————\n",
    "    enc = KBinsDiscretizer(n_bins=i,encode=\"onehot\")\n",
    "    #转换数据\n",
    "    X_binned = enc.fit_transform(X)\n",
    "    line_binned = enc.transform(line)\n",
    "\n",
    "    #建立模型—————————————————————\n",
    "    LinearR_ = LinearRegression()\n",
    "    \n",
    "    #全数据集上的交叉验证\n",
    "    cvresult = CVS(LinearR_,X_binned,y,cv=5)\n",
    "    score.append(cvresult.mean())\n",
    "    var.append(cvresult.var())\n",
    "    #测试数据集上的打分结果\n",
    "    pred.append(LinearR_.fit(X_binned,y).score(line_binned,np.sin(line)))\n",
    "    #绘制图像\n",
    "    \n",
    "plt.figure(figsize=(6,5))\n",
    "plt.plot(binsrange,pred,c=\"orange\",label=\"test\")\n",
    "plt.plot(binsrange,score,c=\"k\",label=\"full data\")\n",
    "plt.plot(binsrange,score+np.array(var)*0.5,c=\"red\",linestyle=\"--\",label = \"var\")\n",
    "plt.plot(binsrange,score-np.array(var)*0.5,c=\"red\",linestyle=\"--\")\n",
    "plt.legend()\n",
    "plt.show()"
   ]
  },
  {
   "cell_type": "markdown",
   "metadata": {},
   "source": [
    "## 5.3 多项式回归PolynomialFeatures\n",
    "### 5.3.1 多项式对数据做了什么\n",
    "\n",
    "线性模型中的升维工具：多项式变化。这是一种通过增加自变量上的次数，而将数据映射到高维空间的方法，只要我们设定一个自变量上的次数（大于1），就可以相应地获得数据投影在高次方的空间中的结果。\n",
    "\n",
    "*class `sklearn.preprocessing.PolynomialFeatures` (degree=2, interaction_only=False, include_bias=True)*\n",
    "- `degree` 多项式中的次数，默认为2\n",
    "- `interaction_only` 布尔值是否只产生交互项，默认为False\n",
    "- `include_bias` 布尔值，是否产出与截距项相乘的 ，默认True"
   ]
  },
  {
   "cell_type": "code",
   "execution_count": 10,
   "metadata": {},
   "outputs": [
    {
     "data": {
      "text/plain": [
       "array([[1],\n",
       "       [2],\n",
       "       [3]])"
      ]
     },
     "execution_count": 10,
     "metadata": {},
     "output_type": "execute_result"
    }
   ],
   "source": [
    "from sklearn.preprocessing import PolynomialFeatures\n",
    "import numpy as np\n",
    "\n",
    "#如果原始数据是一维的\n",
    "X = np.arange(1,4).reshape(-1,1)\n",
    "X"
   ]
  },
  {
   "cell_type": "code",
   "execution_count": 11,
   "metadata": {},
   "outputs": [
    {
     "data": {
      "text/plain": [
       "(3, 1)"
      ]
     },
     "execution_count": 11,
     "metadata": {},
     "output_type": "execute_result"
    }
   ],
   "source": [
    "X.shape"
   ]
  },
  {
   "cell_type": "code",
   "execution_count": 12,
   "metadata": {},
   "outputs": [
    {
     "data": {
      "text/plain": [
       "array([[1., 1., 1.],\n",
       "       [1., 2., 4.],\n",
       "       [1., 3., 9.]])"
      ]
     },
     "execution_count": 12,
     "metadata": {},
     "output_type": "execute_result"
    }
   ],
   "source": [
    "poly = PolynomialFeatures(degree=2)\n",
    "\n",
    "# 调用transform\n",
    "X_ = poly.fit_transform(X)\n",
    "\n",
    "X_"
   ]
  },
  {
   "cell_type": "code",
   "execution_count": 14,
   "metadata": {},
   "outputs": [
    {
     "data": {
      "text/plain": [
       "(3, 3)"
      ]
     },
     "execution_count": 14,
     "metadata": {},
     "output_type": "execute_result"
    }
   ],
   "source": [
    "X_.shape\n",
    "\n",
    "# 数据升维"
   ]
  },
  {
   "cell_type": "code",
   "execution_count": 15,
   "metadata": {},
   "outputs": [
    {
     "data": {
      "text/plain": [
       "array([[ 1.,  1.,  1.,  1.],\n",
       "       [ 1.,  2.,  4.,  8.],\n",
       "       [ 1.,  3.,  9., 27.]])"
      ]
     },
     "execution_count": 15,
     "metadata": {},
     "output_type": "execute_result"
    }
   ],
   "source": [
    "PolynomialFeatures(degree=3).fit_transform(X)\n"
   ]
  },
  {
   "cell_type": "markdown",
   "metadata": {},
   "source": [
    "升n维就是$x^0,x^1,x^2,...,x^n$"
   ]
  },
  {
   "cell_type": "code",
   "execution_count": 16,
   "metadata": {},
   "outputs": [
    {
     "data": {
      "text/plain": [
       "array([[ 1.,  1.,  1.],\n",
       "       [ 2.,  4.,  8.],\n",
       "       [ 3.,  9., 27.]])"
      ]
     },
     "execution_count": 16,
     "metadata": {},
     "output_type": "execute_result"
    }
   ],
   "source": [
    "# 不带截距项\n",
    "PolynomialFeatures(degree=3,include_bias=False).fit_transform(X)\n"
   ]
  },
  {
   "cell_type": "code",
   "execution_count": 21,
   "metadata": {},
   "outputs": [
    {
     "data": {
      "text/plain": [
       "array([[ 1.,  1.,  1.,  1.],\n",
       "       [ 1.,  2.,  4.,  8.],\n",
       "       [ 1.,  3.,  9., 27.]])"
      ]
     },
     "execution_count": 21,
     "metadata": {},
     "output_type": "execute_result"
    }
   ],
   "source": [
    "#为什么我们会希望不生成与截距相乘的x0呢？\n",
    "#对于多项式回归来说，我们已经为线性回归准备好了x0，但是线性回归并不知道\n",
    "\n",
    "xxx = PolynomialFeatures(degree=3).fit_transform(X)\n",
    "xxx"
   ]
  },
  {
   "cell_type": "code",
   "execution_count": 19,
   "metadata": {},
   "outputs": [
    {
     "data": {
      "text/plain": [
       "array([ 0.49671415, -0.1382643 ,  0.64768854])"
      ]
     },
     "execution_count": 19,
     "metadata": {},
     "output_type": "execute_result"
    }
   ],
   "source": [
    "rnd = np.random.RandomState(42) #设置随机数种子\n",
    "y = rnd.randn(3)\n",
    "y \n"
   ]
  },
  {
   "cell_type": "code",
   "execution_count": 20,
   "metadata": {},
   "outputs": [
    {
     "data": {
      "text/plain": [
       "array([ 3.10168558e-15, -3.51045297e-01, -6.06987134e-01,  2.19575463e-01])"
      ]
     },
     "execution_count": 20,
     "metadata": {},
     "output_type": "execute_result"
    }
   ],
   "source": [
    "LinearRegression().fit(xxx,y).coef_  #生成了多少个系数？\n"
   ]
  },
  {
   "cell_type": "code",
   "execution_count": 22,
   "metadata": {},
   "outputs": [
    {
     "data": {
      "text/plain": [
       "1.2351711202036888"
      ]
     },
     "execution_count": 22,
     "metadata": {},
     "output_type": "execute_result"
    }
   ],
   "source": [
    "#查看截距\n",
    "LinearRegression().fit(xxx,y).intercept_\n"
   ]
  },
  {
   "cell_type": "code",
   "execution_count": 25,
   "metadata": {},
   "outputs": [],
   "source": [
    "#发现问题了吗？线性回归并没有把多项式生成的x0当作是截距项\n",
    "#所以我们可以选择：关闭多项式回归中的include_bias\n",
    "#也可以选择：关闭线性回归中的fit_intercept\n"
   ]
  },
  {
   "cell_type": "code",
   "execution_count": 27,
   "metadata": {},
   "outputs": [
    {
     "data": {
      "text/plain": [
       "array([ 1.00596411,  0.06916756, -0.83619415,  0.25777663])"
      ]
     },
     "execution_count": 27,
     "metadata": {},
     "output_type": "execute_result"
    }
   ],
   "source": [
    "#生成了多少个系数？\n",
    "LinearRegression(fit_intercept=False).fit(xxx,y).coef_"
   ]
  },
  {
   "cell_type": "code",
   "execution_count": 29,
   "metadata": {},
   "outputs": [
    {
     "data": {
      "text/plain": [
       "0.0"
      ]
     },
     "execution_count": 29,
     "metadata": {},
     "output_type": "execute_result"
    }
   ],
   "source": [
    "#查看截距\n",
    "LinearRegression(fit_intercept=False).fit(xxx,y).intercept_\n",
    "\n",
    "# 截距的部分 融合到上面的系数里"
   ]
  },
  {
   "cell_type": "markdown",
   "metadata": {},
   "source": [
    "原始特征矩阵是二维的状况"
   ]
  },
  {
   "cell_type": "code",
   "execution_count": 30,
   "metadata": {},
   "outputs": [
    {
     "data": {
      "text/plain": [
       "array([[0, 1],\n",
       "       [2, 3],\n",
       "       [4, 5]])"
      ]
     },
     "execution_count": 30,
     "metadata": {},
     "output_type": "execute_result"
    }
   ],
   "source": [
    "X = np.arange(6).reshape(3, 2)\n",
    "X"
   ]
  },
  {
   "cell_type": "code",
   "execution_count": 31,
   "metadata": {},
   "outputs": [
    {
     "data": {
      "text/plain": [
       "array([[ 1.,  0.,  1.,  0.,  0.,  1.],\n",
       "       [ 1.,  2.,  3.,  4.,  6.,  9.],\n",
       "       [ 1.,  4.,  5., 16., 20., 25.]])"
      ]
     },
     "execution_count": 31,
     "metadata": {},
     "output_type": "execute_result"
    }
   ],
   "source": [
    "PolynomialFeatures(degree=2).fit_transform(X)"
   ]
  },
  {
   "cell_type": "markdown",
   "metadata": {},
   "source": [
    "上式相当于$x^0,x_1,x_2,x_1^2,x_2^2,x_1x_2$"
   ]
  },
  {
   "cell_type": "markdown",
   "metadata": {},
   "source": [
    "当我们进行多项式转换的时候，**多项式会产出到最高次数为止的所有低高次项**。\n",
    "\n",
    "- sklearn中存在着控制是否要生成平方和立方项的参数interaction_only，默认为False，以减少共线性。"
   ]
  },
  {
   "cell_type": "code",
   "execution_count": 32,
   "metadata": {},
   "outputs": [
    {
     "data": {
      "text/plain": [
       "array([[ 1.,  0.,  1.,  0.,  0.,  1.],\n",
       "       [ 1.,  2.,  3.,  4.,  6.,  9.],\n",
       "       [ 1.,  4.,  5., 16., 20., 25.]])"
      ]
     },
     "execution_count": 32,
     "metadata": {},
     "output_type": "execute_result"
    }
   ],
   "source": [
    "PolynomialFeatures(degree=2).fit_transform(X)\n"
   ]
  },
  {
   "cell_type": "code",
   "execution_count": 33,
   "metadata": {},
   "outputs": [
    {
     "data": {
      "text/plain": [
       "array([[ 1.,  0.,  1.,  0.],\n",
       "       [ 1.,  2.,  3.,  6.],\n",
       "       [ 1.,  4.,  5., 20.]])"
      ]
     },
     "execution_count": 33,
     "metadata": {},
     "output_type": "execute_result"
    }
   ],
   "source": [
    "PolynomialFeatures(degree=2,interaction_only=True).fit_transform(X)\n",
    "#对比之下，当interaction_only为True的时候，只生成交互项\n",
    "\n",
    "# 相对的降低了共线性"
   ]
  },
  {
   "cell_type": "code",
   "execution_count": 34,
   "metadata": {},
   "outputs": [
    {
     "data": {
      "text/plain": [
       "array([[0, 1, 2],\n",
       "       [3, 4, 5],\n",
       "       [6, 7, 8]])"
      ]
     },
     "execution_count": 34,
     "metadata": {},
     "output_type": "execute_result"
    }
   ],
   "source": [
    "#更高维度的原始特征矩阵\n",
    "X = np.arange(9).reshape(3, 3)\n",
    "X\n"
   ]
  },
  {
   "cell_type": "code",
   "execution_count": 35,
   "metadata": {},
   "outputs": [
    {
     "data": {
      "text/plain": [
       "array([[ 1.,  0.,  1.,  2.,  0.,  0.,  0.,  1.,  2.,  4.],\n",
       "       [ 1.,  3.,  4.,  5.,  9., 12., 15., 16., 20., 25.],\n",
       "       [ 1.,  6.,  7.,  8., 36., 42., 48., 49., 56., 64.]])"
      ]
     },
     "execution_count": 35,
     "metadata": {},
     "output_type": "execute_result"
    }
   ],
   "source": [
    "PolynomialFeatures(degree=2).fit_transform(X)\n"
   ]
  },
  {
   "cell_type": "code",
   "execution_count": 37,
   "metadata": {},
   "outputs": [
    {
     "data": {
      "text/plain": [
       "array([[  1.,   0.,   1.,   2.,   0.,   0.,   0.,   1.,   2.,   4.,   0.,\n",
       "          0.,   0.,   0.,   0.,   0.,   1.,   2.,   4.,   8.],\n",
       "       [  1.,   3.,   4.,   5.,   9.,  12.,  15.,  16.,  20.,  25.,  27.,\n",
       "         36.,  45.,  48.,  60.,  75.,  64.,  80., 100., 125.],\n",
       "       [  1.,   6.,   7.,   8.,  36.,  42.,  48.,  49.,  56.,  64., 216.,\n",
       "        252., 288., 294., 336., 384., 343., 392., 448., 512.]])"
      ]
     },
     "execution_count": 37,
     "metadata": {},
     "output_type": "execute_result"
    }
   ],
   "source": [
    "PolynomialFeatures(degree=3).fit_transform(X)\n"
   ]
  },
  {
   "cell_type": "markdown",
   "metadata": {},
   "source": [
    "## 5.3.2 多项式回归处理非线性问题\n",
    "\n",
    "之前我们说过，是希望通过这种将数据投影到高维的方式来帮助我们解决非线性问题"
   ]
  },
  {
   "cell_type": "code",
   "execution_count": 39,
   "metadata": {},
   "outputs": [],
   "source": [
    "from sklearn.preprocessing import PolynomialFeatures as PF\n",
    "from sklearn.linear_model import LinearRegression\n",
    "import numpy as np"
   ]
  },
  {
   "cell_type": "code",
   "execution_count": 42,
   "metadata": {},
   "outputs": [],
   "source": [
    "rnd = np.random.RandomState(42)  # 设置随机种子\n",
    "X = rnd.uniform(-3,3,size=100)\n",
    "y = np.sin(X)+rnd.normal(size=len(X))/3"
   ]
  },
  {
   "cell_type": "code",
   "execution_count": 45,
   "metadata": {},
   "outputs": [
    {
     "data": {
      "text/plain": [
       "array([[-0.75275929],\n",
       "       [ 2.70428584],\n",
       "       [ 1.39196365],\n",
       "       [ 0.59195091],\n",
       "       [-2.06388816],\n",
       "       [-2.06403288],\n",
       "       [-2.65149833],\n",
       "       [ 2.19705687],\n",
       "       [ 0.60669007],\n",
       "       [ 1.24843547],\n",
       "       [-2.87649303],\n",
       "       [ 2.81945911],\n",
       "       [ 1.99465584],\n",
       "       [-1.72596534],\n",
       "       [-1.9090502 ],\n",
       "       [-1.89957294],\n",
       "       [-1.17454654],\n",
       "       [ 0.14853859],\n",
       "       [-0.40832989],\n",
       "       [-1.25262516],\n",
       "       [ 0.67111737],\n",
       "       [-2.16303684],\n",
       "       [-1.24713211],\n",
       "       [-0.80182894],\n",
       "       [-0.26358009],\n",
       "       [ 1.71105577],\n",
       "       [-1.80195731],\n",
       "       [ 0.08540663],\n",
       "       [ 0.55448741],\n",
       "       [-2.72129752],\n",
       "       [ 0.64526911],\n",
       "       [-1.97685526],\n",
       "       [-2.60969044],\n",
       "       [ 2.69331322],\n",
       "       [ 2.7937922 ],\n",
       "       [ 1.85038409],\n",
       "       [-1.17231738],\n",
       "       [-2.41396732],\n",
       "       [ 1.10539816],\n",
       "       [-0.35908504],\n",
       "       [-2.26777059],\n",
       "       [-0.02893854],\n",
       "       [-2.79366887],\n",
       "       [ 2.45592241],\n",
       "       [-1.44732011],\n",
       "       [ 0.97513371],\n",
       "       [-1.12973354],\n",
       "       [ 0.12040813],\n",
       "       [ 0.28026168],\n",
       "       [-1.89087327],\n",
       "       [ 2.81750777],\n",
       "       [ 1.65079694],\n",
       "       [ 2.63699365],\n",
       "       [ 2.3689641 ],\n",
       "       [ 0.58739987],\n",
       "       [ 2.53124541],\n",
       "       [-2.46904499],\n",
       "       [-1.82410283],\n",
       "       [-2.72863627],\n",
       "       [-1.04801802],\n",
       "       [-0.66793626],\n",
       "       [-1.37190581],\n",
       "       [ 1.97242505],\n",
       "       [-0.85948004],\n",
       "       [-1.31439294],\n",
       "       [ 0.2561765 ],\n",
       "       [-2.15445465],\n",
       "       [ 1.81318188],\n",
       "       [-2.55269614],\n",
       "       [ 2.92132162],\n",
       "       [ 1.63346862],\n",
       "       [-1.80770591],\n",
       "       [-2.9668673 ],\n",
       "       [ 1.89276857],\n",
       "       [ 1.24114406],\n",
       "       [ 1.37404301],\n",
       "       [ 1.62762208],\n",
       "       [-2.55573209],\n",
       "       [-0.84920563],\n",
       "       [-2.30478564],\n",
       "       [ 2.17862056],\n",
       "       [ 0.73978876],\n",
       "       [-1.01461185],\n",
       "       [-2.6186499 ],\n",
       "       [-1.13410607],\n",
       "       [-1.04890007],\n",
       "       [ 1.37763707],\n",
       "       [ 0.82534483],\n",
       "       [ 2.32327646],\n",
       "       [-0.16671045],\n",
       "       [-2.28243452],\n",
       "       [ 1.27946872],\n",
       "       [ 1.56471029],\n",
       "       [ 0.36766319],\n",
       "       [ 1.62580308],\n",
       "       [-0.03722642],\n",
       "       [ 0.13639698],\n",
       "       [-0.43475389],\n",
       "       [-2.84748524],\n",
       "       [-2.35265144]])"
      ]
     },
     "execution_count": 45,
     "metadata": {},
     "output_type": "execute_result"
    }
   ],
   "source": [
    "#将X升维，准备好放入sklearn中\n",
    "X = X.reshape(-1,1)\n",
    "X"
   ]
  },
  {
   "cell_type": "code",
   "execution_count": null,
   "metadata": {},
   "outputs": [],
   "source": [
    "#创建测试数据，均匀分布在训练集X的取值范围内的一千个点\n",
    "line = np.linspace(-3, 3, 1000, endpoint=False).reshape(-1, 1)"
   ]
  },
  {
   "cell_type": "code",
   "execution_count": null,
   "metadata": {},
   "outputs": [],
   "source": [
    "#创建测试数据，均匀分布在训练集X的取值范围内的一千个点\n",
    "line = np.linspace(-3, 3, 1000, endpoint=False).reshape(-1, 1)"
   ]
  },
  {
   "cell_type": "code",
   "execution_count": 46,
   "metadata": {},
   "outputs": [
    {
     "data": {
      "text/plain": [
       "0.6800102369793312"
      ]
     },
     "execution_count": 46,
     "metadata": {},
     "output_type": "execute_result"
    }
   ],
   "source": [
    "#————————————————————————————线性回归————————————————————————————\n",
    "#原始特征矩阵的拟合结果\n",
    "LinearR = LinearRegression().fit(X, y)\n",
    "#对训练数据的拟合\n",
    "LinearR.score(X,y)\n",
    "#对测试数据的拟合\n",
    "LinearR.score(line,np.sin(line))"
   ]
  },
  {
   "cell_type": "code",
   "execution_count": 47,
   "metadata": {},
   "outputs": [
    {
     "data": {
      "text/plain": [
       "0.8561679370344799"
      ]
     },
     "execution_count": 47,
     "metadata": {},
     "output_type": "execute_result"
    }
   ],
   "source": [
    "#————————————————————————————多项式回归————————————————————————————\n",
    "d = 5\n",
    "poly = PolynomialFeatures(degree=d)\n",
    "X_ = poly.fit_transform(X)\n",
    "\n",
    "line_ = PolynomialFeatures(degree=d).fit_transform(line)\n",
    "\n",
    "#训练数据的拟合\n",
    "LinearR_ = LinearRegression().fit(X_, y)\n",
    "LinearR_.score(X_,y)\n",
    "\n",
    "# 在训练数据上R2 显著提高\n"
   ]
  },
  {
   "cell_type": "code",
   "execution_count": 48,
   "metadata": {},
   "outputs": [
    {
     "data": {
      "text/plain": [
       "0.9868904451787978"
      ]
     },
     "execution_count": 48,
     "metadata": {},
     "output_type": "execute_result"
    }
   ],
   "source": [
    "#测试数据的拟合\n",
    "LinearR_.score(line_,np.sin(line))\n",
    "\n",
    "# 测试数据上的效果更好"
   ]
  },
  {
   "cell_type": "code",
   "execution_count": 49,
   "metadata": {},
   "outputs": [
    {
     "data": {
      "image/png": "[encoded data removed]",
      "text/plain": [
       "<Figure size 432x288 with 1 Axes>"
      ]
     },
     "metadata": {
      "needs_background": "light"
     },
     "output_type": "display_data"
    }
   ],
   "source": [
    "#————————————————————————————可视化————————————————————————————\n",
    "\n",
    "import matplotlib.pyplot as plt\n",
    "d=5\n",
    "#和上面展示一致的建模流程\n",
    "LinearR = LinearRegression().fit(X, y)\n",
    "X_ = PF(degree=d).fit_transform(X)\n",
    "LinearR_ = LinearRegression().fit(X_, y)\n",
    "\n",
    "line = np.linspace(-3, 3, 1000, endpoint=False).reshape(-1, 1)\n",
    "line_ = PF(degree=d).fit_transform(line)\n",
    "\n",
    "#放置画布\n",
    "fig, ax1 = plt.subplots(1)\n",
    "#将测试数据带入predict接口，获得模型的拟合效果并进行绘制\n",
    "ax1.plot(line, LinearR.predict(line), linewidth=2, color='green',label=\"linear regression\")\n",
    "ax1.plot(line, LinearR_.predict(line_), linewidth=2, color='red',label=\"Polynomial regression\")\n",
    "#将原数据上的拟合绘制在图像上\n",
    "ax1.plot(X[:, 0], y, 'o', c='k')\n",
    "\n",
    "#其他图形选项\n",
    "ax1.legend(loc=\"best\")\n",
    "ax1.set_ylabel(\"Regression output\")\n",
    "ax1.set_xlabel(\"Input feature\")\n",
    "ax1.set_title(\"Linear Regression ordinary vs poly\")\n",
    "plt.tight_layout()\n",
    "plt.show()\n",
    "\n",
    "\n",
    "# 如何选择最佳的维度 ---> 交叉验证 "
   ]
  },
  {
   "cell_type": "markdown",
   "metadata": {},
   "source": [
    "### 5.3.3 多项式回归的可解释性\n",
    "\n",
    "- 重要接口get_feature_names() 调用各个特征的名字\n",
    "  - 接口后面需要跟上括号"
   ]
  },
  {
   "cell_type": "code",
   "execution_count": 52,
   "metadata": {},
   "outputs": [
    {
     "data": {
      "text/plain": [
       "array([[0, 1, 2],\n",
       "       [3, 4, 5],\n",
       "       [6, 7, 8]])"
      ]
     },
     "execution_count": 52,
     "metadata": {},
     "output_type": "execute_result"
    }
   ],
   "source": [
    "import numpy as np\n",
    "from sklearn.preprocessing import PolynomialFeatures\n",
    "from sklearn.linear_model import LinearRegression\n",
    "\n",
    "X = np.arange(9).reshape(3, 3)\n",
    "X\n"
   ]
  },
  {
   "cell_type": "code",
   "execution_count": 53,
   "metadata": {},
   "outputs": [],
   "source": [
    "poly = PolynomialFeatures(degree=5).fit(X)\n"
   ]
  },
  {
   "cell_type": "code",
   "execution_count": 51,
   "metadata": {},
   "outputs": [
    {
     "name": "stderr",
     "output_type": "stream",
     "text": [
      "c:\\Users\\HP\\Python\\Python310\\lib\\site-packages\\sklearn\\utils\\deprecation.py:87: FutureWarning: Function get_feature_names is deprecated; get_feature_names is deprecated in 1.0 and will be removed in 1.2. Please use get_feature_names_out instead.\n",
      "  warnings.warn(msg, category=FutureWarning)\n"
     ]
    },
    {
     "data": {
      "text/plain": [
       "['1',\n",
       " 'x0',\n",
       " 'x1',\n",
       " 'x2',\n",
       " 'x0^2',\n",
       " 'x0 x1',\n",
       " 'x0 x2',\n",
       " 'x1^2',\n",
       " 'x1 x2',\n",
       " 'x2^2',\n",
       " 'x0^3',\n",
       " 'x0^2 x1',\n",
       " 'x0^2 x2',\n",
       " 'x0 x1^2',\n",
       " 'x0 x1 x2',\n",
       " 'x0 x2^2',\n",
       " 'x1^3',\n",
       " 'x1^2 x2',\n",
       " 'x1 x2^2',\n",
       " 'x2^3',\n",
       " 'x0^4',\n",
       " 'x0^3 x1',\n",
       " 'x0^3 x2',\n",
       " 'x0^2 x1^2',\n",
       " 'x0^2 x1 x2',\n",
       " 'x0^2 x2^2',\n",
       " 'x0 x1^3',\n",
       " 'x0 x1^2 x2',\n",
       " 'x0 x1 x2^2',\n",
       " 'x0 x2^3',\n",
       " 'x1^4',\n",
       " 'x1^3 x2',\n",
       " 'x1^2 x2^2',\n",
       " 'x1 x2^3',\n",
       " 'x2^4',\n",
       " 'x0^5',\n",
       " 'x0^4 x1',\n",
       " 'x0^4 x2',\n",
       " 'x0^3 x1^2',\n",
       " 'x0^3 x1 x2',\n",
       " 'x0^3 x2^2',\n",
       " 'x0^2 x1^3',\n",
       " 'x0^2 x1^2 x2',\n",
       " 'x0^2 x1 x2^2',\n",
       " 'x0^2 x2^3',\n",
       " 'x0 x1^4',\n",
       " 'x0 x1^3 x2',\n",
       " 'x0 x1^2 x2^2',\n",
       " 'x0 x1 x2^3',\n",
       " 'x0 x2^4',\n",
       " 'x1^5',\n",
       " 'x1^4 x2',\n",
       " 'x1^3 x2^2',\n",
       " 'x1^2 x2^3',\n",
       " 'x1 x2^4',\n",
       " 'x2^5']"
      ]
     },
     "execution_count": 51,
     "metadata": {},
     "output_type": "execute_result"
    }
   ],
   "source": [
    "#重要接口get_feature_names\n",
    "poly.get_feature_names()"
   ]
  },
  {
   "cell_type": "code",
   "execution_count": 54,
   "metadata": {},
   "outputs": [],
   "source": [
    "#————————————————————————————使用加利福利亚房价数据————————————————————————————\n",
    "from sklearn.datasets import fetch_california_housing as fch\n",
    "import pandas as pd\n",
    "\n",
    "housevalue = fch()\n",
    "X = pd.DataFrame(housevalue.data)\n",
    "y = housevalue.target\n",
    "housevalue.feature_names\n",
    "\n",
    "X.columns = [\"住户收入中位数\",\"房屋使用年代中位数\",\"平均房间数目\",\"平均卧室数目\",\"街区人口\",\"平均入住率\",\"街区的纬度\",\"街区的经度\"]"
   ]
  },
  {
   "cell_type": "code",
   "execution_count": 55,
   "metadata": {},
   "outputs": [
    {
     "name": "stderr",
     "output_type": "stream",
     "text": [
      "c:\\Users\\HP\\Python\\Python310\\lib\\site-packages\\sklearn\\utils\\deprecation.py:87: FutureWarning: Function get_feature_names is deprecated; get_feature_names is deprecated in 1.0 and will be removed in 1.2. Please use get_feature_names_out instead.\n",
      "  warnings.warn(msg, category=FutureWarning)\n"
     ]
    },
    {
     "data": {
      "text/plain": [
       "['1',\n",
       " '住户收入中位数',\n",
       " '房屋使用年代中位数',\n",
       " '平均房间数目',\n",
       " '平均卧室数目',\n",
       " '街区人口',\n",
       " '平均入住率',\n",
       " '街区的纬度',\n",
       " '街区的经度',\n",
       " '住户收入中位数^2',\n",
       " '住户收入中位数 房屋使用年代中位数',\n",
       " '住户收入中位数 平均房间数目',\n",
       " '住户收入中位数 平均卧室数目',\n",
       " '住户收入中位数 街区人口',\n",
       " '住户收入中位数 平均入住率',\n",
       " '住户收入中位数 街区的纬度',\n",
       " '住户收入中位数 街区的经度',\n",
       " '房屋使用年代中位数^2',\n",
       " '房屋使用年代中位数 平均房间数目',\n",
       " '房屋使用年代中位数 平均卧室数目',\n",
       " '房屋使用年代中位数 街区人口',\n",
       " '房屋使用年代中位数 平均入住率',\n",
       " '房屋使用年代中位数 街区的纬度',\n",
       " '房屋使用年代中位数 街区的经度',\n",
       " '平均房间数目^2',\n",
       " '平均房间数目 平均卧室数目',\n",
       " '平均房间数目 街区人口',\n",
       " '平均房间数目 平均入住率',\n",
       " '平均房间数目 街区的纬度',\n",
       " '平均房间数目 街区的经度',\n",
       " '平均卧室数目^2',\n",
       " '平均卧室数目 街区人口',\n",
       " '平均卧室数目 平均入住率',\n",
       " '平均卧室数目 街区的纬度',\n",
       " '平均卧室数目 街区的经度',\n",
       " '街区人口^2',\n",
       " '街区人口 平均入住率',\n",
       " '街区人口 街区的纬度',\n",
       " '街区人口 街区的经度',\n",
       " '平均入住率^2',\n",
       " '平均入住率 街区的纬度',\n",
       " '平均入住率 街区的经度',\n",
       " '街区的纬度^2',\n",
       " '街区的纬度 街区的经度',\n",
       " '街区的经度^2']"
      ]
     },
     "execution_count": 55,
     "metadata": {},
     "output_type": "execute_result"
    }
   ],
   "source": [
    "poly = PolynomialFeatures(degree=2).fit(X,y)\n",
    "poly.get_feature_names(X.columns)  # 写上X的类名"
   ]
  },
  {
   "cell_type": "code",
   "execution_count": 56,
   "metadata": {},
   "outputs": [],
   "source": [
    "X_ = poly.transform(X)\n"
   ]
  },
  {
   "cell_type": "code",
   "execution_count": 57,
   "metadata": {},
   "outputs": [],
   "source": [
    "#在这之后，我们依然可以直接建立模型，然后使用线性回归的coef_属性来查看什么特征对标签的影响最大\n",
    "reg = LinearRegression().fit(X_,y)\n",
    "coef = reg.coef_\n"
   ]
  },
  {
   "cell_type": "code",
   "execution_count": 58,
   "metadata": {},
   "outputs": [
    {
     "name": "stderr",
     "output_type": "stream",
     "text": [
      "c:\\Users\\HP\\Python\\Python310\\lib\\site-packages\\sklearn\\utils\\deprecation.py:87: FutureWarning: Function get_feature_names is deprecated; get_feature_names is deprecated in 1.0 and will be removed in 1.2. Please use get_feature_names_out instead.\n",
      "  warnings.warn(msg, category=FutureWarning)\n"
     ]
    },
    {
     "data": {
      "text/plain": [
       "[('1', 5.919540543535431e-08),\n",
       " ('住户收入中位数', -11.243025193047133),\n",
       " ('房屋使用年代中位数', -0.8488985429774577),\n",
       " ('平均房间数目', 6.441058979309905),\n",
       " ('平均卧室数目', -31.591328783950864),\n",
       " ('街区人口', 0.0004060903437363997),\n",
       " ('平均入住率', 1.0038623386910916),\n",
       " ('街区的纬度', 8.705681884553798),\n",
       " ('街区的经度', 5.880632723618107),\n",
       " ('住户收入中位数^2', -0.031308127167766604),\n",
       " ('住户收入中位数 房屋使用年代中位数', 0.0018599468180089292),\n",
       " ('住户收入中位数 平均房间数目', 0.04330204675617813),\n",
       " ('住户收入中位数 平均卧室数目', -0.18614227805444597),\n",
       " ('住户收入中位数 街区人口', 5.728315446833276e-05),\n",
       " ('住户收入中位数 平均入住率', -0.0025901950898045813),\n",
       " ('住户收入中位数 街区的纬度', -0.15250571255257905),\n",
       " ('住户收入中位数 街区的经度', -0.1442429393710074),\n",
       " ('房屋使用年代中位数^2', 0.00021172533628449324),\n",
       " ('房屋使用年代中位数 平均房间数目', -0.0012621900986623286),\n",
       " ('房屋使用年代中位数 平均卧室数目', 0.010611505610669234),\n",
       " ('房屋使用年代中位数 街区人口', 2.8188529325383913e-06),\n",
       " ('房屋使用年代中位数 平均入住率', -0.0018171694685867486),\n",
       " ('房屋使用年代中位数 街区的纬度', -0.01006903715603962),\n",
       " ('房屋使用年代中位数 街区的经度', -0.00999950167106151),\n",
       " ('平均房间数目^2', 0.007269477297201673),\n",
       " ('平均房间数目 平均卧室数目', -0.06890643403937624),\n",
       " ('平均房间数目 街区人口', -6.823659076177961e-05),\n",
       " ('平均房间数目 平均入住率', 0.026887884151996024),\n",
       " ('平均房间数目 街区的纬度', 0.08750898753013794),\n",
       " ('平均房间数目 街区的经度', 0.08228903388514937),\n",
       " ('平均卧室数目^2', 0.16018094998343121),\n",
       " ('平均卧室数目 街区人口', 0.0005142642707184748),\n",
       " ('平均卧室数目 平均入住率', -0.08719114716574057),\n",
       " ('平均卧室数目 街区的纬度', -0.4370429917305055),\n",
       " ('平均卧室数目 街区的经度', -0.4041505775254418),\n",
       " ('街区人口^2', 2.7377975442277602e-09),\n",
       " ('街区人口 平均入住率', 1.9142676169226283e-05),\n",
       " ('街区人口 街区的纬度', 2.2952978921714218e-05),\n",
       " ('街区人口 街区的经度', 1.4656773312970994e-05),\n",
       " ('平均入住率^2', 8.715609781953472e-05),\n",
       " ('平均入住率 街区的纬度', 0.021334459219532354),\n",
       " ('平均入住率 街区的经度', 0.0162412938291476),\n",
       " ('街区的纬度^2', 0.06188673577349265),\n",
       " ('街区的纬度 街区的经度', 0.10810717324450496),\n",
       " ('街区的经度^2', 0.03990773507988879)]"
      ]
     },
     "execution_count": 58,
     "metadata": {},
     "output_type": "execute_result"
    }
   ],
   "source": [
    "[*zip(poly.get_feature_names(X.columns),reg.coef_)]\n"
   ]
  },
  {
   "cell_type": "code",
   "execution_count": 59,
   "metadata": {},
   "outputs": [],
   "source": [
    "#放到dataframe中进行排序\n",
    "coeff = pd.DataFrame([poly.get_feature_names(X.columns),reg.coef_.tolist()]).T\n"
   ]
  },
  {
   "cell_type": "code",
   "execution_count": 60,
   "metadata": {},
   "outputs": [],
   "source": [
    "coeff.columns = [\"feature\",\"coef\"]\n"
   ]
  },
  {
   "cell_type": "code",
   "execution_count": 61,
   "metadata": {},
   "outputs": [
    {
     "data": {
      "text/html": [
       "<div>\n",
       "<style scoped>\n",
       "    .dataframe tbody tr th:only-of-type {\n",
       "        vertical-align: middle;\n",
       "    }\n",
       "\n",
       "    .dataframe tbody tr th {\n",
       "        vertical-align: top;\n",
       "    }\n",
       "\n",
       "    .dataframe thead th {\n",
       "        text-align: right;\n",
       "    }\n",
       "</style>\n",
       "<table border=\"1\" class=\"dataframe\">\n",
       "  <thead>\n",
       "    <tr style=\"text-align: right;\">\n",
       "      <th></th>\n",
       "      <th>feature</th>\n",
       "      <th>coef</th>\n",
       "    </tr>\n",
       "  </thead>\n",
       "  <tbody>\n",
       "    <tr>\n",
       "      <th>4</th>\n",
       "      <td>平均卧室数目</td>\n",
       "      <td>-31.591329</td>\n",
       "    </tr>\n",
       "    <tr>\n",
       "      <th>1</th>\n",
       "      <td>住户收入中位数</td>\n",
       "      <td>-11.243025</td>\n",
       "    </tr>\n",
       "    <tr>\n",
       "      <th>2</th>\n",
       "      <td>房屋使用年代中位数</td>\n",
       "      <td>-0.848899</td>\n",
       "    </tr>\n",
       "    <tr>\n",
       "      <th>33</th>\n",
       "      <td>平均卧室数目 街区的纬度</td>\n",
       "      <td>-0.437043</td>\n",
       "    </tr>\n",
       "    <tr>\n",
       "      <th>34</th>\n",
       "      <td>平均卧室数目 街区的经度</td>\n",
       "      <td>-0.404151</td>\n",
       "    </tr>\n",
       "    <tr>\n",
       "      <th>12</th>\n",
       "      <td>住户收入中位数 平均卧室数目</td>\n",
       "      <td>-0.186142</td>\n",
       "    </tr>\n",
       "    <tr>\n",
       "      <th>15</th>\n",
       "      <td>住户收入中位数 街区的纬度</td>\n",
       "      <td>-0.152506</td>\n",
       "    </tr>\n",
       "    <tr>\n",
       "      <th>16</th>\n",
       "      <td>住户收入中位数 街区的经度</td>\n",
       "      <td>-0.144243</td>\n",
       "    </tr>\n",
       "    <tr>\n",
       "      <th>32</th>\n",
       "      <td>平均卧室数目 平均入住率</td>\n",
       "      <td>-0.087191</td>\n",
       "    </tr>\n",
       "    <tr>\n",
       "      <th>25</th>\n",
       "      <td>平均房间数目 平均卧室数目</td>\n",
       "      <td>-0.068906</td>\n",
       "    </tr>\n",
       "    <tr>\n",
       "      <th>9</th>\n",
       "      <td>住户收入中位数^2</td>\n",
       "      <td>-0.031308</td>\n",
       "    </tr>\n",
       "    <tr>\n",
       "      <th>22</th>\n",
       "      <td>房屋使用年代中位数 街区的纬度</td>\n",
       "      <td>-0.010069</td>\n",
       "    </tr>\n",
       "    <tr>\n",
       "      <th>23</th>\n",
       "      <td>房屋使用年代中位数 街区的经度</td>\n",
       "      <td>-0.01</td>\n",
       "    </tr>\n",
       "    <tr>\n",
       "      <th>14</th>\n",
       "      <td>住户收入中位数 平均入住率</td>\n",
       "      <td>-0.00259</td>\n",
       "    </tr>\n",
       "    <tr>\n",
       "      <th>21</th>\n",
       "      <td>房屋使用年代中位数 平均入住率</td>\n",
       "      <td>-0.001817</td>\n",
       "    </tr>\n",
       "    <tr>\n",
       "      <th>18</th>\n",
       "      <td>房屋使用年代中位数 平均房间数目</td>\n",
       "      <td>-0.001262</td>\n",
       "    </tr>\n",
       "    <tr>\n",
       "      <th>26</th>\n",
       "      <td>平均房间数目 街区人口</td>\n",
       "      <td>-0.000068</td>\n",
       "    </tr>\n",
       "    <tr>\n",
       "      <th>35</th>\n",
       "      <td>街区人口^2</td>\n",
       "      <td>0.0</td>\n",
       "    </tr>\n",
       "    <tr>\n",
       "      <th>0</th>\n",
       "      <td>1</td>\n",
       "      <td>0.0</td>\n",
       "    </tr>\n",
       "    <tr>\n",
       "      <th>20</th>\n",
       "      <td>房屋使用年代中位数 街区人口</td>\n",
       "      <td>0.000003</td>\n",
       "    </tr>\n",
       "    <tr>\n",
       "      <th>38</th>\n",
       "      <td>街区人口 街区的经度</td>\n",
       "      <td>0.000015</td>\n",
       "    </tr>\n",
       "    <tr>\n",
       "      <th>36</th>\n",
       "      <td>街区人口 平均入住率</td>\n",
       "      <td>0.000019</td>\n",
       "    </tr>\n",
       "    <tr>\n",
       "      <th>37</th>\n",
       "      <td>街区人口 街区的纬度</td>\n",
       "      <td>0.000023</td>\n",
       "    </tr>\n",
       "    <tr>\n",
       "      <th>13</th>\n",
       "      <td>住户收入中位数 街区人口</td>\n",
       "      <td>0.000057</td>\n",
       "    </tr>\n",
       "    <tr>\n",
       "      <th>39</th>\n",
       "      <td>平均入住率^2</td>\n",
       "      <td>0.000087</td>\n",
       "    </tr>\n",
       "    <tr>\n",
       "      <th>17</th>\n",
       "      <td>房屋使用年代中位数^2</td>\n",
       "      <td>0.000212</td>\n",
       "    </tr>\n",
       "    <tr>\n",
       "      <th>5</th>\n",
       "      <td>街区人口</td>\n",
       "      <td>0.000406</td>\n",
       "    </tr>\n",
       "    <tr>\n",
       "      <th>31</th>\n",
       "      <td>平均卧室数目 街区人口</td>\n",
       "      <td>0.000514</td>\n",
       "    </tr>\n",
       "    <tr>\n",
       "      <th>10</th>\n",
       "      <td>住户收入中位数 房屋使用年代中位数</td>\n",
       "      <td>0.00186</td>\n",
       "    </tr>\n",
       "    <tr>\n",
       "      <th>24</th>\n",
       "      <td>平均房间数目^2</td>\n",
       "      <td>0.007269</td>\n",
       "    </tr>\n",
       "    <tr>\n",
       "      <th>19</th>\n",
       "      <td>房屋使用年代中位数 平均卧室数目</td>\n",
       "      <td>0.010612</td>\n",
       "    </tr>\n",
       "    <tr>\n",
       "      <th>41</th>\n",
       "      <td>平均入住率 街区的经度</td>\n",
       "      <td>0.016241</td>\n",
       "    </tr>\n",
       "    <tr>\n",
       "      <th>40</th>\n",
       "      <td>平均入住率 街区的纬度</td>\n",
       "      <td>0.021334</td>\n",
       "    </tr>\n",
       "    <tr>\n",
       "      <th>27</th>\n",
       "      <td>平均房间数目 平均入住率</td>\n",
       "      <td>0.026888</td>\n",
       "    </tr>\n",
       "    <tr>\n",
       "      <th>44</th>\n",
       "      <td>街区的经度^2</td>\n",
       "      <td>0.039908</td>\n",
       "    </tr>\n",
       "    <tr>\n",
       "      <th>11</th>\n",
       "      <td>住户收入中位数 平均房间数目</td>\n",
       "      <td>0.043302</td>\n",
       "    </tr>\n",
       "    <tr>\n",
       "      <th>42</th>\n",
       "      <td>街区的纬度^2</td>\n",
       "      <td>0.061887</td>\n",
       "    </tr>\n",
       "    <tr>\n",
       "      <th>29</th>\n",
       "      <td>平均房间数目 街区的经度</td>\n",
       "      <td>0.082289</td>\n",
       "    </tr>\n",
       "    <tr>\n",
       "      <th>28</th>\n",
       "      <td>平均房间数目 街区的纬度</td>\n",
       "      <td>0.087509</td>\n",
       "    </tr>\n",
       "    <tr>\n",
       "      <th>43</th>\n",
       "      <td>街区的纬度 街区的经度</td>\n",
       "      <td>0.108107</td>\n",
       "    </tr>\n",
       "    <tr>\n",
       "      <th>30</th>\n",
       "      <td>平均卧室数目^2</td>\n",
       "      <td>0.160181</td>\n",
       "    </tr>\n",
       "    <tr>\n",
       "      <th>6</th>\n",
       "      <td>平均入住率</td>\n",
       "      <td>1.003862</td>\n",
       "    </tr>\n",
       "    <tr>\n",
       "      <th>8</th>\n",
       "      <td>街区的经度</td>\n",
       "      <td>5.880633</td>\n",
       "    </tr>\n",
       "    <tr>\n",
       "      <th>3</th>\n",
       "      <td>平均房间数目</td>\n",
       "      <td>6.441059</td>\n",
       "    </tr>\n",
       "    <tr>\n",
       "      <th>7</th>\n",
       "      <td>街区的纬度</td>\n",
       "      <td>8.705682</td>\n",
       "    </tr>\n",
       "  </tbody>\n",
       "</table>\n",
       "</div>"
      ],
      "text/plain": [
       "              feature       coef\n",
       "4              平均卧室数目 -31.591329\n",
       "1             住户收入中位数 -11.243025\n",
       "2           房屋使用年代中位数  -0.848899\n",
       "33       平均卧室数目 街区的纬度  -0.437043\n",
       "34       平均卧室数目 街区的经度  -0.404151\n",
       "12     住户收入中位数 平均卧室数目  -0.186142\n",
       "15      住户收入中位数 街区的纬度  -0.152506\n",
       "16      住户收入中位数 街区的经度  -0.144243\n",
       "32       平均卧室数目 平均入住率  -0.087191\n",
       "25      平均房间数目 平均卧室数目  -0.068906\n",
       "9           住户收入中位数^2  -0.031308\n",
       "22    房屋使用年代中位数 街区的纬度  -0.010069\n",
       "23    房屋使用年代中位数 街区的经度      -0.01\n",
       "14      住户收入中位数 平均入住率   -0.00259\n",
       "21    房屋使用年代中位数 平均入住率  -0.001817\n",
       "18   房屋使用年代中位数 平均房间数目  -0.001262\n",
       "26        平均房间数目 街区人口  -0.000068\n",
       "35             街区人口^2        0.0\n",
       "0                   1        0.0\n",
       "20     房屋使用年代中位数 街区人口   0.000003\n",
       "38         街区人口 街区的经度   0.000015\n",
       "36         街区人口 平均入住率   0.000019\n",
       "37         街区人口 街区的纬度   0.000023\n",
       "13       住户收入中位数 街区人口   0.000057\n",
       "39            平均入住率^2   0.000087\n",
       "17        房屋使用年代中位数^2   0.000212\n",
       "5                街区人口   0.000406\n",
       "31        平均卧室数目 街区人口   0.000514\n",
       "10  住户收入中位数 房屋使用年代中位数    0.00186\n",
       "24           平均房间数目^2   0.007269\n",
       "19   房屋使用年代中位数 平均卧室数目   0.010612\n",
       "41        平均入住率 街区的经度   0.016241\n",
       "40        平均入住率 街区的纬度   0.021334\n",
       "27       平均房间数目 平均入住率   0.026888\n",
       "44            街区的经度^2   0.039908\n",
       "11     住户收入中位数 平均房间数目   0.043302\n",
       "42            街区的纬度^2   0.061887\n",
       "29       平均房间数目 街区的经度   0.082289\n",
       "28       平均房间数目 街区的纬度   0.087509\n",
       "43        街区的纬度 街区的经度   0.108107\n",
       "30           平均卧室数目^2   0.160181\n",
       "6               平均入住率   1.003862\n",
       "8               街区的经度   5.880633\n",
       "3              平均房间数目   6.441059\n",
       "7               街区的纬度   8.705682"
      ]
     },
     "execution_count": 61,
     "metadata": {},
     "output_type": "execute_result"
    }
   ],
   "source": [
    "coeff.sort_values(by=\"coef\")"
   ]
  },
  {
   "cell_type": "code",
   "execution_count": 62,
   "metadata": {},
   "outputs": [],
   "source": [
    "#顺便可以查看一下多项式变化之后，模型的拟合效果如何了\n",
    "poly = PolynomialFeatures(degree=4).fit(X,y)\n",
    "X_ = poly.transform(X)\n"
   ]
  },
  {
   "cell_type": "code",
   "execution_count": 63,
   "metadata": {},
   "outputs": [
    {
     "data": {
      "text/plain": [
       "0.6062326851998052"
      ]
     },
     "execution_count": 63,
     "metadata": {},
     "output_type": "execute_result"
    }
   ],
   "source": [
    "#————————————————————————————线性回归的拟合结果————————————————————————————\n",
    "reg = LinearRegression().fit(X,y)\n",
    "reg.score(X,y)\n"
   ]
  },
  {
   "cell_type": "code",
   "execution_count": 64,
   "metadata": {},
   "outputs": [
    {
     "name": "stdout",
     "output_type": "stream",
     "text": [
      "R2:0.7448217469885605\n",
      "time:1.686171293258667\n"
     ]
    }
   ],
   "source": [
    "from time import time\n",
    "\n",
    "time0 = time()\n",
    "reg_ = LinearRegression().fit(X_,y)\n",
    "print(\"R2:{}\".format(reg_.score(X_,y)))\n",
    "print(\"time:{}\".format(time()-time0))\n"
   ]
  },
  {
   "cell_type": "code",
   "execution_count": 65,
   "metadata": {},
   "outputs": [
    {
     "name": "stdout",
     "output_type": "stream",
     "text": [
      "R2:0.9740048849026242\n",
      "time:20.696861267089844\n"
     ]
    }
   ],
   "source": [
    "#————————————————————————————利用随机森林拟合————————————————————————————\n",
    "#假设使用其他模型？\n",
    "from sklearn.ensemble import RandomForestRegressor as RFR\n",
    "\n",
    "time0 = time()\n",
    "print(\"R2:{}\".format(RFR(n_estimators=100).fit(X,y).score(X,y)))\n",
    "print(\"time:{}\".format(time()-time0))"
   ]
  },
  {
   "cell_type": "markdown",
   "metadata": {},
   "source": [
    "随机森林的效果好，但是速度很慢"
   ]
  },
  {
   "cell_type": "markdown",
   "metadata": {},
   "source": [
    "### 5.3.4 线性还是非线性模型？\n",
    "\n",
    "\n",
    "**狭义线性模型 vs 广义线性模型**\n",
    "狭义线性模型：自变量上不能有高此项，自变量与标签之间不能存在非线性关系。广义线性模型：只要标签与模型拟合出的参数之间的关系是线性的，模型就是线性的。这是说，只要生成的一系列之间没有相乘或者相除的关系，我们就认为模型是线性的。\n",
    "\n",
    "多项式回归通常被认为是非线性模型，但广义上它是一种特殊的线性模型，它能够帮助我们处理非线性数\n",
    "据，是线性回归的一种进化"
   ]
  }
 ],
 "metadata": {
  "kernelspec": {
   "display_name": "Python 3.10.0 64-bit",
   "language": "python",
   "name": "python3"
  },
  "language_info": {
   "codemirror_mode": {
    "name": "ipython",
    "version": 3
   },
   "file_extension": ".py",
   "mimetype": "text/x-python",
   "name": "python",
   "nbconvert_exporter": "python",
   "pygments_lexer": "ipython3",
   "version": "3.10.0"
  },
  "orig_nbformat": 4,
  "vscode": {
   "interpreter": {
    "hash": "3296471c9107718e6db2104fe506aa09d2e74f3fa2347eed57e489ba84541490"
   }
  }
 },
 "nbformat": 4,
 "nbformat_minor": 2
}
